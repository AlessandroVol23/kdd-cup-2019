{
 "cells": [
  {
   "cell_type": "code",
   "execution_count": 1,
   "metadata": {},
   "outputs": [],
   "source": [
    "import pandas as pd\n",
    "import re\n",
    "\n",
    "import matplotlib.pyplot as plt\n",
    "%matplotlib inline\n",
    "\n",
    "import seaborn as sns\n",
    "sns.set(style='white', context='notebook', palette='deep')"
   ]
  },
  {
   "cell_type": "code",
   "execution_count": 2,
   "metadata": {},
   "outputs": [],
   "source": [
    "df_queries = pd.read_csv(\"../data/raw/data_set_phase1/train_queries.csv\")"
   ]
  },
  {
   "cell_type": "code",
   "execution_count": 3,
   "metadata": {},
   "outputs": [],
   "source": [
    "df_queries['req_time'] = pd.to_datetime(df_queries['req_time'])"
   ]
  },
  {
   "cell_type": "code",
   "execution_count": 4,
   "metadata": {},
   "outputs": [
    {
     "data": {
      "text/plain": [
       "<matplotlib.axes._subplots.AxesSubplot at 0x7fee4815b320>"
      ]
     },
     "execution_count": 4,
     "metadata": {},
     "output_type": "execute_result"
    },
    {
     "data": {
      "image/png": "[encoded data removed]",
      "text/plain": [
       "<Figure size 432x288 with 1 Axes>"
      ]
     },
     "metadata": {
      "needs_background": "light"
     },
     "output_type": "display_data"
    }
   ],
   "source": [
    "sns.countplot(df_queries['req_time'].dt.day_name())"
   ]
  },
  {
   "cell_type": "code",
   "execution_count": 5,
   "metadata": {},
   "outputs": [],
   "source": [
    "df_queries['weekend'] = df_queries['req_time'].dt.day_name().apply(lambda x: 1 if x in [\"Friday\", \"Saturday\"] else 0)"
   ]
  },
  {
   "cell_type": "code",
   "execution_count": 6,
   "metadata": {},
   "outputs": [],
   "source": [
    "df_queries['req_date'] = df_queries['req_time'].dt.strftime('%m-%d')"
   ]
  },
  {
   "cell_type": "code",
   "execution_count": 7,
   "metadata": {},
   "outputs": [],
   "source": [
    "df_queries['req_hour'] = df_queries['req_time'].dt.hour\n",
    "df_queries['req_hour_bin'] = df_queries['req_hour'].apply(lambda x: 'night' if x <= 7 else ('day' if x in range(8,18) else 'evening'))"
   ]
  },
  {
   "cell_type": "code",
   "execution_count": 8,
   "metadata": {},
   "outputs": [
    {
     "data": {
      "text/plain": [
       "<matplotlib.axes._subplots.AxesSubplot at 0x7fee46618978>"
      ]
     },
     "execution_count": 8,
     "metadata": {},
     "output_type": "execute_result"
    },
    {
     "data": {
      "image/png": "[encoded data removed]",
      "text/plain": [
       "<Figure size 432x288 with 1 Axes>"
      ]
     },
     "metadata": {
      "needs_background": "light"
     },
     "output_type": "display_data"
    }
   ],
   "source": [
    "sns.countplot(df_queries.req_hour)"
   ]
  },
  {
   "cell_type": "code",
   "execution_count": 9,
   "metadata": {},
   "outputs": [
    {
     "data": {
      "text/plain": [
       "<matplotlib.axes._subplots.AxesSubplot at 0x7fee482ee048>"
      ]
     },
     "execution_count": 9,
     "metadata": {},
     "output_type": "execute_result"
    },
    {
     "data": {
      "image/png": "[encoded data removed]",
      "text/plain": [
       "<Figure size 432x288 with 1 Axes>"
      ]
     },
     "metadata": {
      "needs_background": "light"
     },
     "output_type": "display_data"
    }
   ],
   "source": [
    "sns.countplot(df_queries.req_hour_bin)"
   ]
  },
  {
   "cell_type": "code",
   "execution_count": 10,
   "metadata": {},
   "outputs": [],
   "source": [
    "df_queries = df_queries.drop('req_time', 1)\n",
    "df_queries = df_queries.drop('req_hour', 1)"
   ]
  },
  {
   "cell_type": "code",
   "execution_count": 11,
   "metadata": {},
   "outputs": [
    {
     "data": {
      "text/html": [
       "<div>\n",
       "<style scoped>\n",
       "    .dataframe tbody tr th:only-of-type {\n",
       "        vertical-align: middle;\n",
       "    }\n",
       "\n",
       "    .dataframe tbody tr th {\n",
       "        vertical-align: top;\n",
       "    }\n",
       "\n",
       "    .dataframe thead th {\n",
       "        text-align: right;\n",
       "    }\n",
       "</style>\n",
       "<table border=\"1\" class=\"dataframe\">\n",
       "  <thead>\n",
       "    <tr style=\"text-align: right;\">\n",
       "      <th></th>\n",
       "      <th>sid</th>\n",
       "      <th>pid</th>\n",
       "      <th>o</th>\n",
       "      <th>d</th>\n",
       "      <th>weekend</th>\n",
       "      <th>req_date</th>\n",
       "      <th>req_hour_bin</th>\n",
       "    </tr>\n",
       "  </thead>\n",
       "  <tbody>\n",
       "    <tr>\n",
       "      <th>28130</th>\n",
       "      <td>1878447</td>\n",
       "      <td>NaN</td>\n",
       "      <td>116.47,39.95</td>\n",
       "      <td>116.47,39.95</td>\n",
       "      <td>1</td>\n",
       "      <td>11-03</td>\n",
       "      <td>day</td>\n",
       "    </tr>\n",
       "    <tr>\n",
       "      <th>466621</th>\n",
       "      <td>412619</td>\n",
       "      <td>NaN</td>\n",
       "      <td>116.45,39.87</td>\n",
       "      <td>116.61,40.05</td>\n",
       "      <td>1</td>\n",
       "      <td>10-05</td>\n",
       "      <td>evening</td>\n",
       "    </tr>\n",
       "    <tr>\n",
       "      <th>96985</th>\n",
       "      <td>2679192</td>\n",
       "      <td>136732.0</td>\n",
       "      <td>116.41,39.86</td>\n",
       "      <td>116.32,40.00</td>\n",
       "      <td>0</td>\n",
       "      <td>10-21</td>\n",
       "      <td>night</td>\n",
       "    </tr>\n",
       "    <tr>\n",
       "      <th>373798</th>\n",
       "      <td>2147347</td>\n",
       "      <td>NaN</td>\n",
       "      <td>116.31,39.93</td>\n",
       "      <td>116.30,39.91</td>\n",
       "      <td>1</td>\n",
       "      <td>10-19</td>\n",
       "      <td>day</td>\n",
       "    </tr>\n",
       "    <tr>\n",
       "      <th>158103</th>\n",
       "      <td>942375</td>\n",
       "      <td>123462.0</td>\n",
       "      <td>116.41,39.92</td>\n",
       "      <td>116.32,39.89</td>\n",
       "      <td>0</td>\n",
       "      <td>10-24</td>\n",
       "      <td>day</td>\n",
       "    </tr>\n",
       "    <tr>\n",
       "      <th>3141</th>\n",
       "      <td>1833510</td>\n",
       "      <td>124774.0</td>\n",
       "      <td>116.40,39.84</td>\n",
       "      <td>116.56,39.78</td>\n",
       "      <td>1</td>\n",
       "      <td>11-03</td>\n",
       "      <td>day</td>\n",
       "    </tr>\n",
       "    <tr>\n",
       "      <th>269665</th>\n",
       "      <td>3238761</td>\n",
       "      <td>141980.0</td>\n",
       "      <td>116.41,39.84</td>\n",
       "      <td>116.31,40.04</td>\n",
       "      <td>0</td>\n",
       "      <td>11-07</td>\n",
       "      <td>day</td>\n",
       "    </tr>\n",
       "    <tr>\n",
       "      <th>399753</th>\n",
       "      <td>2613376</td>\n",
       "      <td>131783.0</td>\n",
       "      <td>116.35,39.97</td>\n",
       "      <td>116.35,39.97</td>\n",
       "      <td>0</td>\n",
       "      <td>11-01</td>\n",
       "      <td>day</td>\n",
       "    </tr>\n",
       "    <tr>\n",
       "      <th>54972</th>\n",
       "      <td>1008001</td>\n",
       "      <td>NaN</td>\n",
       "      <td>116.40,40.07</td>\n",
       "      <td>116.43,39.92</td>\n",
       "      <td>0</td>\n",
       "      <td>11-12</td>\n",
       "      <td>day</td>\n",
       "    </tr>\n",
       "    <tr>\n",
       "      <th>144024</th>\n",
       "      <td>3127241</td>\n",
       "      <td>169020.0</td>\n",
       "      <td>116.58,40.09</td>\n",
       "      <td>116.61,40.06</td>\n",
       "      <td>1</td>\n",
       "      <td>10-26</td>\n",
       "      <td>day</td>\n",
       "    </tr>\n",
       "  </tbody>\n",
       "</table>\n",
       "</div>"
      ],
      "text/plain": [
       "            sid       pid             o             d  weekend req_date  \\\n",
       "28130   1878447       NaN  116.47,39.95  116.47,39.95        1    11-03   \n",
       "466621   412619       NaN  116.45,39.87  116.61,40.05        1    10-05   \n",
       "96985   2679192  136732.0  116.41,39.86  116.32,40.00        0    10-21   \n",
       "373798  2147347       NaN  116.31,39.93  116.30,39.91        1    10-19   \n",
       "158103   942375  123462.0  116.41,39.92  116.32,39.89        0    10-24   \n",
       "3141    1833510  124774.0  116.40,39.84  116.56,39.78        1    11-03   \n",
       "269665  3238761  141980.0  116.41,39.84  116.31,40.04        0    11-07   \n",
       "399753  2613376  131783.0  116.35,39.97  116.35,39.97        0    11-01   \n",
       "54972   1008001       NaN  116.40,40.07  116.43,39.92        0    11-12   \n",
       "144024  3127241  169020.0  116.58,40.09  116.61,40.06        1    10-26   \n",
       "\n",
       "       req_hour_bin  \n",
       "28130           day  \n",
       "466621      evening  \n",
       "96985         night  \n",
       "373798          day  \n",
       "158103          day  \n",
       "3141            day  \n",
       "269665          day  \n",
       "399753          day  \n",
       "54972           day  \n",
       "144024          day  "
      ]
     },
     "execution_count": 11,
     "metadata": {},
     "output_type": "execute_result"
    }
   ],
   "source": [
    "df_queries.sample(10)"
   ]
  },
  {
   "cell_type": "code",
   "execution_count": null,
   "metadata": {},
   "outputs": [],
   "source": []
  }
 ],
 "metadata": {
  "kernelspec": {
   "display_name": "Python 3",
   "language": "python",
   "name": "python3"
  },
  "language_info": {
   "codemirror_mode": {
    "name": "ipython",
    "version": 3
   },
   "file_extension": ".py",
   "mimetype": "text/x-python",
   "name": "python",
   "nbconvert_exporter": "python",
   "pygments_lexer": "ipython3",
   "version": "3.7.3"
  }
 },
 "nbformat": 4,
 "nbformat_minor": 2
}
