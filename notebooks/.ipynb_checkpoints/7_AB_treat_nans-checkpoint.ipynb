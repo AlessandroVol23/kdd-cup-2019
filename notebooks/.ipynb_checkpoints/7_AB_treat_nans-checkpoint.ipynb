{
 "cells": [
  {
   "cell_type": "code",
   "execution_count": 12,
   "metadata": {},
   "outputs": [],
   "source": [
    "import pandas as pd\n",
    "import numpy as np"
   ]
  },
  {
   "cell_type": "code",
   "execution_count": 15,
   "metadata": {},
   "outputs": [],
   "source": [
    "dftype = 'all'"
   ]
  },
  {
   "cell_type": "code",
   "execution_count": 16,
   "metadata": {},
   "outputs": [],
   "source": [
    "traindf = pd.read_pickle('../data/processed_'+dftype+'/train_'+dftype+'_first.pickle')\n",
    "testdf = pd.read_pickle('../data/processed_'+dftype+'/test_'+dftype+'_first.pickle')"
   ]
  },
  {
   "cell_type": "code",
   "execution_count": 17,
   "metadata": {},
   "outputs": [],
   "source": [
    "traindf[\"max_temp\"] = pd.to_numeric(traindf[\"max_temp\"])\n",
    "traindf[\"min_temp\"] = pd.to_numeric(traindf[\"min_temp\"])\n",
    "traindf[\"wind\"]     = pd.to_numeric(traindf[\"wind\"])\n",
    "\n",
    "testdf[\"max_temp\"] = pd.to_numeric(testdf[\"max_temp\"])\n",
    "testdf[\"min_temp\"] = pd.to_numeric(testdf[\"min_temp\"])\n",
    "testdf[\"wind\"]     = pd.to_numeric(testdf[\"wind\"])"
   ]
  },
  {
   "cell_type": "code",
   "execution_count": 18,
   "metadata": {},
   "outputs": [
    {
     "ename": "MemoryError",
     "evalue": "",
     "output_type": "error",
     "traceback": [
      "\u001b[0;31m---------------------------------------------------------------------------\u001b[0m",
      "\u001b[0;31mMemoryError\u001b[0m                               Traceback (most recent call last)",
      "\u001b[0;32m<ipython-input-18-7222938d2d28>\u001b[0m in \u001b[0;36m<module>\u001b[0;34m\u001b[0m\n\u001b[0;32m----> 1\u001b[0;31m \u001b[0mtraindf\u001b[0m\u001b[0;34m.\u001b[0m\u001b[0mto_pickle\u001b[0m\u001b[0;34m(\u001b[0m\u001b[0;34m'../data/processed_'\u001b[0m\u001b[0;34m+\u001b[0m\u001b[0mdftype\u001b[0m\u001b[0;34m+\u001b[0m\u001b[0;34m'/train_'\u001b[0m\u001b[0;34m+\u001b[0m\u001b[0mdftype\u001b[0m\u001b[0;34m+\u001b[0m\u001b[0;34m'_first.pickle'\u001b[0m\u001b[0;34m)\u001b[0m\u001b[0;34m\u001b[0m\u001b[0;34m\u001b[0m\u001b[0m\n\u001b[0m\u001b[1;32m      2\u001b[0m \u001b[0mtestdf\u001b[0m\u001b[0;34m.\u001b[0m\u001b[0mto_pickle\u001b[0m\u001b[0;34m(\u001b[0m\u001b[0;34m'../data/processed_'\u001b[0m\u001b[0;34m+\u001b[0m\u001b[0mdftype\u001b[0m\u001b[0;34m+\u001b[0m\u001b[0;34m'/test_'\u001b[0m\u001b[0;34m+\u001b[0m\u001b[0mdftype\u001b[0m\u001b[0;34m+\u001b[0m\u001b[0;34m'_first.pickle'\u001b[0m\u001b[0;34m)\u001b[0m\u001b[0;34m\u001b[0m\u001b[0;34m\u001b[0m\u001b[0m\n",
      "\u001b[0;32m~/anaconda3/lib/python3.7/site-packages/pandas/core/generic.py\u001b[0m in \u001b[0;36mto_pickle\u001b[0;34m(self, path, compression, protocol)\u001b[0m\n\u001b[1;32m   2591\u001b[0m         \u001b[0;32mfrom\u001b[0m \u001b[0mpandas\u001b[0m\u001b[0;34m.\u001b[0m\u001b[0mio\u001b[0m\u001b[0;34m.\u001b[0m\u001b[0mpickle\u001b[0m \u001b[0;32mimport\u001b[0m \u001b[0mto_pickle\u001b[0m\u001b[0;34m\u001b[0m\u001b[0;34m\u001b[0m\u001b[0m\n\u001b[1;32m   2592\u001b[0m         return to_pickle(self, path, compression=compression,\n\u001b[0;32m-> 2593\u001b[0;31m                          protocol=protocol)\n\u001b[0m\u001b[1;32m   2594\u001b[0m \u001b[0;34m\u001b[0m\u001b[0m\n\u001b[1;32m   2595\u001b[0m     \u001b[0;32mdef\u001b[0m \u001b[0mto_clipboard\u001b[0m\u001b[0;34m(\u001b[0m\u001b[0mself\u001b[0m\u001b[0;34m,\u001b[0m \u001b[0mexcel\u001b[0m\u001b[0;34m=\u001b[0m\u001b[0;32mTrue\u001b[0m\u001b[0;34m,\u001b[0m \u001b[0msep\u001b[0m\u001b[0;34m=\u001b[0m\u001b[0;32mNone\u001b[0m\u001b[0;34m,\u001b[0m \u001b[0;34m**\u001b[0m\u001b[0mkwargs\u001b[0m\u001b[0;34m)\u001b[0m\u001b[0;34m:\u001b[0m\u001b[0;34m\u001b[0m\u001b[0;34m\u001b[0m\u001b[0m\n",
      "\u001b[0;32m~/anaconda3/lib/python3.7/site-packages/pandas/io/pickle.py\u001b[0m in \u001b[0;36mto_pickle\u001b[0;34m(obj, path, compression, protocol)\u001b[0m\n\u001b[1;32m     75\u001b[0m         \u001b[0mprotocol\u001b[0m \u001b[0;34m=\u001b[0m \u001b[0mpkl\u001b[0m\u001b[0;34m.\u001b[0m\u001b[0mHIGHEST_PROTOCOL\u001b[0m\u001b[0;34m\u001b[0m\u001b[0;34m\u001b[0m\u001b[0m\n\u001b[1;32m     76\u001b[0m     \u001b[0;32mtry\u001b[0m\u001b[0;34m:\u001b[0m\u001b[0;34m\u001b[0m\u001b[0;34m\u001b[0m\u001b[0m\n\u001b[0;32m---> 77\u001b[0;31m         \u001b[0mf\u001b[0m\u001b[0;34m.\u001b[0m\u001b[0mwrite\u001b[0m\u001b[0;34m(\u001b[0m\u001b[0mpkl\u001b[0m\u001b[0;34m.\u001b[0m\u001b[0mdumps\u001b[0m\u001b[0;34m(\u001b[0m\u001b[0mobj\u001b[0m\u001b[0;34m,\u001b[0m \u001b[0mprotocol\u001b[0m\u001b[0;34m=\u001b[0m\u001b[0mprotocol\u001b[0m\u001b[0;34m)\u001b[0m\u001b[0;34m)\u001b[0m\u001b[0;34m\u001b[0m\u001b[0;34m\u001b[0m\u001b[0m\n\u001b[0m\u001b[1;32m     78\u001b[0m     \u001b[0;32mfinally\u001b[0m\u001b[0;34m:\u001b[0m\u001b[0;34m\u001b[0m\u001b[0;34m\u001b[0m\u001b[0m\n\u001b[1;32m     79\u001b[0m         \u001b[0;32mfor\u001b[0m \u001b[0m_f\u001b[0m \u001b[0;32min\u001b[0m \u001b[0mfh\u001b[0m\u001b[0;34m:\u001b[0m\u001b[0;34m\u001b[0m\u001b[0;34m\u001b[0m\u001b[0m\n",
      "\u001b[0;31mMemoryError\u001b[0m: "
     ]
    }
   ],
   "source": [
    "traindf.to_pickle('../data/processed_'+dftype+'/train_'+dftype+'_first.pickle')\n",
    "testdf.to_pickle('../data/processed_'+dftype+'/test_'+dftype+'_first.pickle')"
   ]
  },
  {
   "cell_type": "code",
   "execution_count": null,
   "metadata": {},
   "outputs": [],
   "source": [
    "traindf = pd.read_pickle('../data/processed_'+dftype+'/train_'+dftype+'_last.pickle')\n",
    "testdf = pd.read_pickle('../data/processed_'+dftype+'/test_'+dftype+'_last.pickle')"
   ]
  },
  {
   "cell_type": "code",
   "execution_count": null,
   "metadata": {},
   "outputs": [],
   "source": [
    "traindf[\"max_temp\"] = pd.to_numeric(traindf[\"max_temp\"])\n",
    "traindf[\"min_temp\"] = pd.to_numeric(traindf[\"min_temp\"])\n",
    "traindf[\"wind\"]     = pd.to_numeric(traindf[\"wind\"])\n",
    "\n",
    "testdf[\"max_temp\"] = pd.to_numeric(testdf[\"max_temp\"])\n",
    "testdf[\"min_temp\"] = pd.to_numeric(testdf[\"min_temp\"])\n",
    "testdf[\"wind\"]     = pd.to_numeric(testdf[\"wind\"])"
   ]
  },
  {
   "cell_type": "code",
   "execution_count": null,
   "metadata": {},
   "outputs": [],
   "source": [
    "traindf.to_pickle('../data/processed_raw/train_raw_last.pickle')\n",
    "testdf.to_pickle('../data/processed_raw/test_raw_last.pickle')"
   ]
  },
  {
   "cell_type": "code",
   "execution_count": null,
   "metadata": {},
   "outputs": [],
   "source": [
    "traindf = pd.read_pickle('../data/processed_'+dftype+'/train_'+dftype+'_row.pickle')\n",
    "testdf = pd.read_pickle('../data/processed_'+dftype+'/test_'+dftype+'_row.pickle')"
   ]
  },
  {
   "cell_type": "code",
   "execution_count": null,
   "metadata": {},
   "outputs": [],
   "source": [
    "traindf[\"max_temp\"] = pd.to_numeric(traindf[\"max_temp\"])\n",
    "traindf[\"min_temp\"] = pd.to_numeric(traindf[\"min_temp\"])\n",
    "traindf[\"wind\"]     = pd.to_numeric(traindf[\"wind\"])\n",
    "\n",
    "testdf[\"max_temp\"] = pd.to_numeric(testdf[\"max_temp\"])\n",
    "testdf[\"min_temp\"] = pd.to_numeric(testdf[\"min_temp\"])\n",
    "testdf[\"wind\"]     = pd.to_numeric(testdf[\"wind\"])"
   ]
  },
  {
   "cell_type": "code",
   "execution_count": null,
   "metadata": {},
   "outputs": [],
   "source": [
    "traindf.to_pickle('../data/processed_raw/train_raw_row.pickle')\n",
    "testdf.to_pickle('../data/processed_raw/test_raw_row.pickle')"
   ]
  },
  {
   "cell_type": "code",
   "execution_count": null,
   "metadata": {},
   "outputs": [],
   "source": []
  }
 ],
 "metadata": {
  "kernelspec": {
   "display_name": "Python 3",
   "language": "python",
   "name": "python3"
  },
  "language_info": {
   "codemirror_mode": {
    "name": "ipython",
    "version": 3
   },
   "file_extension": ".py",
   "mimetype": "text/x-python",
   "name": "python",
   "nbconvert_exporter": "python",
   "pygments_lexer": "ipython3",
   "version": "3.7.3"
  }
 },
 "nbformat": 4,
 "nbformat_minor": 2
}
