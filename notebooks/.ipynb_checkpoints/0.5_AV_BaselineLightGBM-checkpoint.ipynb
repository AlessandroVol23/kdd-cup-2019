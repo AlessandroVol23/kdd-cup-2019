{
 "cells": [
  {
   "cell_type": "code",
   "execution_count": 2,
   "metadata": {},
   "outputs": [
    {
     "ename": "ModuleNotFoundError",
     "evalue": "No module named 'lightgbm'",
     "output_type": "error",
     "traceback": [
      "\u001b[0;31m---------------------------------------------------------------------------\u001b[0m",
      "\u001b[0;31mModuleNotFoundError\u001b[0m                       Traceback (most recent call last)",
      "\u001b[0;32m<ipython-input-2-70e66ee49fcc>\u001b[0m in \u001b[0;36m<module>\u001b[0;34m\u001b[0m\n\u001b[1;32m      1\u001b[0m \u001b[0;32mimport\u001b[0m \u001b[0mpandas\u001b[0m \u001b[0;32mas\u001b[0m \u001b[0mpd\u001b[0m\u001b[0;34m\u001b[0m\u001b[0;34m\u001b[0m\u001b[0m\n\u001b[1;32m      2\u001b[0m \u001b[0;32mimport\u001b[0m \u001b[0mnumpy\u001b[0m \u001b[0;32mas\u001b[0m \u001b[0mnp\u001b[0m\u001b[0;34m\u001b[0m\u001b[0;34m\u001b[0m\u001b[0m\n\u001b[0;32m----> 3\u001b[0;31m \u001b[0;32mimport\u001b[0m \u001b[0mlightgbm\u001b[0m \u001b[0;32mas\u001b[0m \u001b[0mlgb\u001b[0m\u001b[0;34m\u001b[0m\u001b[0;34m\u001b[0m\u001b[0m\n\u001b[0m",
      "\u001b[0;31mModuleNotFoundError\u001b[0m: No module named 'lightgbm'"
     ]
    }
   ],
   "source": [
    "import pandas as pd \n",
    "import numpy as np\n",
    "import lightgbm as lgb\n"
   ]
  },
  {
   "cell_type": "code",
   "execution_count": null,
   "metadata": {},
   "outputs": [],
   "source": [
    "df = pd.read_pickle(\"../data/processed/df_train.pickle\")"
   ]
  },
  {
   "cell_type": "code",
   "execution_count": 10,
   "metadata": {},
   "outputs": [
    {
     "data": {
      "text/html": [
       "<div>\n",
       "<style scoped>\n",
       "    .dataframe tbody tr th:only-of-type {\n",
       "        vertical-align: middle;\n",
       "    }\n",
       "\n",
       "    .dataframe tbody tr th {\n",
       "        vertical-align: top;\n",
       "    }\n",
       "\n",
       "    .dataframe thead th {\n",
       "        text-align: right;\n",
       "    }\n",
       "</style>\n",
       "<table border=\"1\" class=\"dataframe\">\n",
       "  <thead>\n",
       "    <tr style=\"text-align: right;\">\n",
       "      <th></th>\n",
       "      <th>sid</th>\n",
       "      <th>click_time</th>\n",
       "      <th>click_mode</th>\n",
       "      <th>distance_plan</th>\n",
       "      <th>eta</th>\n",
       "      <th>price</th>\n",
       "      <th>transport_mode</th>\n",
       "      <th>plan_time</th>\n",
       "      <th>pid</th>\n",
       "      <th>req_time</th>\n",
       "      <th>o_long</th>\n",
       "      <th>o_lat</th>\n",
       "      <th>d_long</th>\n",
       "      <th>d_lat</th>\n",
       "      <th>distance_query</th>\n",
       "    </tr>\n",
       "  </thead>\n",
       "  <tbody>\n",
       "    <tr>\n",
       "      <th>0</th>\n",
       "      <td>2848914</td>\n",
       "      <td>2018-11-17 18:42:17</td>\n",
       "      <td>1</td>\n",
       "      <td>53156</td>\n",
       "      <td>6456</td>\n",
       "      <td>700.0</td>\n",
       "      <td>1</td>\n",
       "      <td>2018-11-17 12:56:15</td>\n",
       "      <td>101804.0</td>\n",
       "      <td>2018-11-17 12:56:15</td>\n",
       "      <td>116.36</td>\n",
       "      <td>40.07</td>\n",
       "      <td>116.00</td>\n",
       "      <td>40.35</td>\n",
       "      <td>43.656570</td>\n",
       "    </tr>\n",
       "    <tr>\n",
       "      <th>1</th>\n",
       "      <td>2848914</td>\n",
       "      <td>2018-11-17 18:42:17</td>\n",
       "      <td>1</td>\n",
       "      <td>48112</td>\n",
       "      <td>3535</td>\n",
       "      <td>700.0</td>\n",
       "      <td>3</td>\n",
       "      <td>2018-11-17 12:56:15</td>\n",
       "      <td>101804.0</td>\n",
       "      <td>2018-11-17 12:56:15</td>\n",
       "      <td>116.36</td>\n",
       "      <td>40.07</td>\n",
       "      <td>116.00</td>\n",
       "      <td>40.35</td>\n",
       "      <td>43.656570</td>\n",
       "    </tr>\n",
       "    <tr>\n",
       "      <th>2</th>\n",
       "      <td>2848914</td>\n",
       "      <td>2018-11-17 18:42:17</td>\n",
       "      <td>1</td>\n",
       "      <td>48112</td>\n",
       "      <td>3655</td>\n",
       "      <td>16500.0</td>\n",
       "      <td>4</td>\n",
       "      <td>2018-11-17 12:56:15</td>\n",
       "      <td>101804.0</td>\n",
       "      <td>2018-11-17 12:56:15</td>\n",
       "      <td>116.36</td>\n",
       "      <td>40.07</td>\n",
       "      <td>116.00</td>\n",
       "      <td>40.35</td>\n",
       "      <td>43.656570</td>\n",
       "    </tr>\n",
       "    <tr>\n",
       "      <th>3</th>\n",
       "      <td>2848914</td>\n",
       "      <td>2018-11-17 18:42:17</td>\n",
       "      <td>1</td>\n",
       "      <td>51641</td>\n",
       "      <td>8871</td>\n",
       "      <td>1200.0</td>\n",
       "      <td>1</td>\n",
       "      <td>2018-11-17 12:56:15</td>\n",
       "      <td>101804.0</td>\n",
       "      <td>2018-11-17 12:56:15</td>\n",
       "      <td>116.36</td>\n",
       "      <td>40.07</td>\n",
       "      <td>116.00</td>\n",
       "      <td>40.35</td>\n",
       "      <td>43.656570</td>\n",
       "    </tr>\n",
       "    <tr>\n",
       "      <th>4</th>\n",
       "      <td>2629085</td>\n",
       "      <td>2018-10-12 16:28:13</td>\n",
       "      <td>3</td>\n",
       "      <td>13207</td>\n",
       "      <td>2790</td>\n",
       "      <td>400.0</td>\n",
       "      <td>9</td>\n",
       "      <td>2018-10-12 16:27:55</td>\n",
       "      <td>203797.0</td>\n",
       "      <td>2018-10-12 16:27:55</td>\n",
       "      <td>116.35</td>\n",
       "      <td>40.08</td>\n",
       "      <td>116.33</td>\n",
       "      <td>40.03</td>\n",
       "      <td>5.808139</td>\n",
       "    </tr>\n",
       "  </tbody>\n",
       "</table>\n",
       "</div>"
      ],
      "text/plain": [
       "       sid           click_time  click_mode  distance_plan   eta    price  \\\n",
       "0  2848914  2018-11-17 18:42:17           1          53156  6456    700.0   \n",
       "1  2848914  2018-11-17 18:42:17           1          48112  3535    700.0   \n",
       "2  2848914  2018-11-17 18:42:17           1          48112  3655  16500.0   \n",
       "3  2848914  2018-11-17 18:42:17           1          51641  8871   1200.0   \n",
       "4  2629085  2018-10-12 16:28:13           3          13207  2790    400.0   \n",
       "\n",
       "   transport_mode            plan_time       pid             req_time  o_long  \\\n",
       "0               1  2018-11-17 12:56:15  101804.0  2018-11-17 12:56:15  116.36   \n",
       "1               3  2018-11-17 12:56:15  101804.0  2018-11-17 12:56:15  116.36   \n",
       "2               4  2018-11-17 12:56:15  101804.0  2018-11-17 12:56:15  116.36   \n",
       "3               1  2018-11-17 12:56:15  101804.0  2018-11-17 12:56:15  116.36   \n",
       "4               9  2018-10-12 16:27:55  203797.0  2018-10-12 16:27:55  116.35   \n",
       "\n",
       "   o_lat  d_long  d_lat  distance_query  \n",
       "0  40.07  116.00  40.35       43.656570  \n",
       "1  40.07  116.00  40.35       43.656570  \n",
       "2  40.07  116.00  40.35       43.656570  \n",
       "3  40.07  116.00  40.35       43.656570  \n",
       "4  40.08  116.33  40.03        5.808139  "
      ]
     },
     "execution_count": 10,
     "metadata": {},
     "output_type": "execute_result"
    }
   ],
   "source": [
    "df.head()"
   ]
  },
  {
   "cell_type": "code",
   "execution_count": 11,
   "metadata": {},
   "outputs": [],
   "source": [
    "def test_train_split_df(df_r, test_percentage=0.25):\n",
    "    import numpy as np\n",
    "    df = df_r.copy()\n",
    "    \n",
    "    msk = np.random.rand(len(df)) < (1-test_percentage)\n",
    "    \n",
    "    train = df[msk]\n",
    "    test = df[~msk]\n",
    "    \n",
    "    \n",
    "    return train, test\n",
    "    "
   ]
  },
  {
   "cell_type": "code",
   "execution_count": 12,
   "metadata": {},
   "outputs": [],
   "source": [
    "df_X = df[[\"sid\", \"distance_plan\", \"eta\", \"price\", \"distance_query\", \"click_mode\"]]"
   ]
  },
  {
   "cell_type": "code",
   "execution_count": 13,
   "metadata": {},
   "outputs": [],
   "source": [
    "train, test = test_train_split_df(df_X)"
   ]
  },
  {
   "cell_type": "code",
   "execution_count": 14,
   "metadata": {},
   "outputs": [],
   "source": [
    "x_train = train.drop([\"sid\", \"click_mode\"], axis=1).values\n",
    "y_train = train.loc[:,\"click_mode\"].values\n",
    "x_test = test.drop([\"sid\", \"click_mode\"], axis=1).values\n",
    "y_test = test.loc[:,\"click_mode\"].values"
   ]
  },
  {
   "cell_type": "code",
   "execution_count": 15,
   "metadata": {},
   "outputs": [
    {
     "name": "stdout",
     "output_type": "stream",
     "text": [
      "(1575351, 4)\n",
      "(1575351,)\n",
      "(525709, 4)\n",
      "(525709,)\n"
     ]
    }
   ],
   "source": [
    "print(x_train.shape)\n",
    "print(y_train.shape)\n",
    "print(x_test.shape)\n",
    "print(y_test.shape)"
   ]
  },
  {
   "cell_type": "code",
   "execution_count": 16,
   "metadata": {},
   "outputs": [],
   "source": [
    "def lgb_f1_score(y_true, y_pred):\n",
    "    from sklearn.metrics import f1_score\n",
    "    preds = y_pred.reshape(len(np.unique(y_true)), -1)\n",
    "    preds = preds.argmax(axis = 0)\n",
    "    #print(preds.shape)\n",
    "    #print(y_true.shape)\n",
    "    return 'f1', f1_score(y_true, preds,average='weighted'), True"
   ]
  },
  {
   "cell_type": "code",
   "execution_count": 17,
   "metadata": {
    "scrolled": false
   },
   "outputs": [
    {
     "name": "stderr",
     "output_type": "stream",
     "text": [
      "/home/sandro/anaconda3/envs/lbm_mc_bl/lib/python3.7/site-packages/sklearn/metrics/classification.py:1143: UndefinedMetricWarning: F-score is ill-defined and being set to 0.0 in labels with no predicted samples.\n",
      "  'precision', 'predicted', average, warn_for)\n"
     ]
    },
    {
     "name": "stdout",
     "output_type": "stream",
     "text": [
      "Training until validation scores don't improve for 100 rounds.\n",
      "[10]\tvalid_0's f1: 0.357145\n",
      "[20]\tvalid_0's f1: 0.358505\n",
      "[30]\tvalid_0's f1: 0.359643\n",
      "[40]\tvalid_0's f1: 0.360729\n",
      "[50]\tvalid_0's f1: 0.361703\n",
      "[60]\tvalid_0's f1: 0.362679\n",
      "[70]\tvalid_0's f1: 0.363222\n",
      "[80]\tvalid_0's f1: 0.363978\n",
      "[90]\tvalid_0's f1: 0.364272\n",
      "[100]\tvalid_0's f1: 0.364852\n",
      "[110]\tvalid_0's f1: 0.365331\n",
      "[120]\tvalid_0's f1: 0.365769\n",
      "[130]\tvalid_0's f1: 0.366298\n",
      "[140]\tvalid_0's f1: 0.366641\n",
      "[150]\tvalid_0's f1: 0.366974\n",
      "[160]\tvalid_0's f1: 0.367256\n",
      "[170]\tvalid_0's f1: 0.367465\n",
      "[180]\tvalid_0's f1: 0.367737\n",
      "[190]\tvalid_0's f1: 0.367923\n",
      "[200]\tvalid_0's f1: 0.367943\n",
      "[210]\tvalid_0's f1: 0.368094\n",
      "[220]\tvalid_0's f1: 0.368334\n",
      "[230]\tvalid_0's f1: 0.368509\n",
      "[240]\tvalid_0's f1: 0.368746\n",
      "[250]\tvalid_0's f1: 0.368932\n",
      "[260]\tvalid_0's f1: 0.36907\n",
      "[270]\tvalid_0's f1: 0.369231\n",
      "[280]\tvalid_0's f1: 0.36944\n",
      "[290]\tvalid_0's f1: 0.369573\n",
      "[300]\tvalid_0's f1: 0.369798\n",
      "[310]\tvalid_0's f1: 0.370026\n",
      "[320]\tvalid_0's f1: 0.370152\n",
      "[330]\tvalid_0's f1: 0.370285\n",
      "[340]\tvalid_0's f1: 0.370376\n",
      "[350]\tvalid_0's f1: 0.370577\n",
      "[360]\tvalid_0's f1: 0.370685\n",
      "[370]\tvalid_0's f1: 0.37079\n",
      "[380]\tvalid_0's f1: 0.370947\n",
      "[390]\tvalid_0's f1: 0.371123\n",
      "[400]\tvalid_0's f1: 0.371136\n",
      "[410]\tvalid_0's f1: 0.371266\n",
      "[420]\tvalid_0's f1: 0.3714\n",
      "[430]\tvalid_0's f1: 0.371526\n",
      "[440]\tvalid_0's f1: 0.371597\n",
      "[450]\tvalid_0's f1: 0.37163\n",
      "[460]\tvalid_0's f1: 0.371739\n",
      "[470]\tvalid_0's f1: 0.371803\n",
      "[480]\tvalid_0's f1: 0.371884\n",
      "[490]\tvalid_0's f1: 0.37197\n",
      "[500]\tvalid_0's f1: 0.372073\n",
      "[510]\tvalid_0's f1: 0.372137\n",
      "[520]\tvalid_0's f1: 0.372228\n",
      "[530]\tvalid_0's f1: 0.372362\n",
      "[540]\tvalid_0's f1: 0.372401\n",
      "[550]\tvalid_0's f1: 0.372476\n",
      "[560]\tvalid_0's f1: 0.37254\n",
      "[570]\tvalid_0's f1: 0.372591\n",
      "[580]\tvalid_0's f1: 0.372661\n",
      "[590]\tvalid_0's f1: 0.372706\n",
      "[600]\tvalid_0's f1: 0.372821\n",
      "[610]\tvalid_0's f1: 0.372798\n",
      "[620]\tvalid_0's f1: 0.37284\n",
      "[630]\tvalid_0's f1: 0.372878\n",
      "[640]\tvalid_0's f1: 0.372945\n",
      "[650]\tvalid_0's f1: 0.372977\n",
      "[660]\tvalid_0's f1: 0.373077\n",
      "[670]\tvalid_0's f1: 0.373197\n",
      "[680]\tvalid_0's f1: 0.373278\n",
      "[690]\tvalid_0's f1: 0.373309\n",
      "[700]\tvalid_0's f1: 0.373287\n",
      "[710]\tvalid_0's f1: 0.373291\n",
      "[720]\tvalid_0's f1: 0.373382\n",
      "[730]\tvalid_0's f1: 0.373455\n",
      "[740]\tvalid_0's f1: 0.373438\n",
      "[750]\tvalid_0's f1: 0.373537\n",
      "[760]\tvalid_0's f1: 0.373571\n",
      "[770]\tvalid_0's f1: 0.373612\n",
      "[780]\tvalid_0's f1: 0.373646\n",
      "[790]\tvalid_0's f1: 0.373742\n",
      "[800]\tvalid_0's f1: 0.373781\n",
      "[810]\tvalid_0's f1: 0.373831\n",
      "[820]\tvalid_0's f1: 0.373908\n",
      "[830]\tvalid_0's f1: 0.373921\n",
      "[840]\tvalid_0's f1: 0.373972\n",
      "[850]\tvalid_0's f1: 0.374031\n",
      "[860]\tvalid_0's f1: 0.374115\n",
      "[870]\tvalid_0's f1: 0.374239\n",
      "[880]\tvalid_0's f1: 0.374308\n",
      "[890]\tvalid_0's f1: 0.374379\n",
      "[900]\tvalid_0's f1: 0.374426\n",
      "[910]\tvalid_0's f1: 0.374475\n",
      "[920]\tvalid_0's f1: 0.374488\n",
      "[930]\tvalid_0's f1: 0.374516\n",
      "[940]\tvalid_0's f1: 0.374556\n",
      "[950]\tvalid_0's f1: 0.374616\n",
      "[960]\tvalid_0's f1: 0.374577\n",
      "[970]\tvalid_0's f1: 0.374646\n",
      "[980]\tvalid_0's f1: 0.374647\n",
      "[990]\tvalid_0's f1: 0.37469\n",
      "[1000]\tvalid_0's f1: 0.37473\n",
      "[1010]\tvalid_0's f1: 0.374753\n",
      "[1020]\tvalid_0's f1: 0.374762\n",
      "[1030]\tvalid_0's f1: 0.37483\n",
      "[1040]\tvalid_0's f1: 0.37486\n",
      "[1050]\tvalid_0's f1: 0.374891\n",
      "[1060]\tvalid_0's f1: 0.374962\n",
      "[1070]\tvalid_0's f1: 0.374992\n",
      "[1080]\tvalid_0's f1: 0.375043\n",
      "[1090]\tvalid_0's f1: 0.37507\n",
      "[1100]\tvalid_0's f1: 0.375116\n",
      "[1110]\tvalid_0's f1: 0.37516\n",
      "[1120]\tvalid_0's f1: 0.375162\n",
      "[1130]\tvalid_0's f1: 0.375235\n",
      "[1140]\tvalid_0's f1: 0.375241\n",
      "[1150]\tvalid_0's f1: 0.375281\n",
      "[1160]\tvalid_0's f1: 0.375347\n",
      "[1170]\tvalid_0's f1: 0.375369\n",
      "[1180]\tvalid_0's f1: 0.375459\n",
      "[1190]\tvalid_0's f1: 0.375503\n",
      "[1200]\tvalid_0's f1: 0.375541\n",
      "[1210]\tvalid_0's f1: 0.37559\n",
      "[1220]\tvalid_0's f1: 0.375644\n",
      "[1230]\tvalid_0's f1: 0.375642\n",
      "[1240]\tvalid_0's f1: 0.375714\n",
      "[1250]\tvalid_0's f1: 0.375755\n",
      "[1260]\tvalid_0's f1: 0.375789\n",
      "[1270]\tvalid_0's f1: 0.375835\n",
      "[1280]\tvalid_0's f1: 0.375837\n",
      "[1290]\tvalid_0's f1: 0.375899\n",
      "[1300]\tvalid_0's f1: 0.375956\n",
      "[1310]\tvalid_0's f1: 0.376077\n",
      "[1320]\tvalid_0's f1: 0.376094\n",
      "[1330]\tvalid_0's f1: 0.376128\n",
      "[1340]\tvalid_0's f1: 0.376079\n",
      "[1350]\tvalid_0's f1: 0.376125\n",
      "[1360]\tvalid_0's f1: 0.376222\n",
      "[1370]\tvalid_0's f1: 0.376217\n",
      "[1380]\tvalid_0's f1: 0.376288\n",
      "[1390]\tvalid_0's f1: 0.376348\n",
      "[1400]\tvalid_0's f1: 0.376361\n",
      "[1410]\tvalid_0's f1: 0.376372\n",
      "[1420]\tvalid_0's f1: 0.376383\n",
      "[1430]\tvalid_0's f1: 0.376434\n",
      "[1440]\tvalid_0's f1: 0.376457\n",
      "[1450]\tvalid_0's f1: 0.376486\n",
      "[1460]\tvalid_0's f1: 0.37643\n",
      "[1470]\tvalid_0's f1: 0.376532\n",
      "[1480]\tvalid_0's f1: 0.37658\n",
      "[1490]\tvalid_0's f1: 0.376606\n",
      "[1500]\tvalid_0's f1: 0.376579\n",
      "[1510]\tvalid_0's f1: 0.3766\n",
      "[1520]\tvalid_0's f1: 0.376618\n",
      "[1530]\tvalid_0's f1: 0.376631\n",
      "[1540]\tvalid_0's f1: 0.376656\n",
      "[1550]\tvalid_0's f1: 0.37668\n",
      "[1560]\tvalid_0's f1: 0.376738\n",
      "[1570]\tvalid_0's f1: 0.376745\n",
      "[1580]\tvalid_0's f1: 0.376769\n",
      "[1590]\tvalid_0's f1: 0.376774\n",
      "[1600]\tvalid_0's f1: 0.376891\n",
      "[1610]\tvalid_0's f1: 0.376951\n",
      "[1620]\tvalid_0's f1: 0.376963\n",
      "[1630]\tvalid_0's f1: 0.377003\n",
      "[1640]\tvalid_0's f1: 0.376993\n",
      "[1650]\tvalid_0's f1: 0.376994\n",
      "[1660]\tvalid_0's f1: 0.376982\n",
      "[1670]\tvalid_0's f1: 0.377064\n",
      "[1680]\tvalid_0's f1: 0.37708\n",
      "[1690]\tvalid_0's f1: 0.377142\n",
      "[1700]\tvalid_0's f1: 0.377114\n",
      "[1710]\tvalid_0's f1: 0.377187\n",
      "[1720]\tvalid_0's f1: 0.37719\n",
      "[1730]\tvalid_0's f1: 0.377223\n",
      "[1740]\tvalid_0's f1: 0.377227\n",
      "[1750]\tvalid_0's f1: 0.377245\n",
      "[1760]\tvalid_0's f1: 0.37723\n",
      "[1770]\tvalid_0's f1: 0.37731\n",
      "[1780]\tvalid_0's f1: 0.377359\n",
      "[1790]\tvalid_0's f1: 0.377404\n",
      "[1800]\tvalid_0's f1: 0.377392\n",
      "[1810]\tvalid_0's f1: 0.377413\n",
      "[1820]\tvalid_0's f1: 0.37744\n",
      "[1830]\tvalid_0's f1: 0.377464\n",
      "[1840]\tvalid_0's f1: 0.377468\n",
      "[1850]\tvalid_0's f1: 0.377515\n",
      "[1860]\tvalid_0's f1: 0.377546\n",
      "[1870]\tvalid_0's f1: 0.377555\n",
      "[1880]\tvalid_0's f1: 0.37759\n",
      "[1890]\tvalid_0's f1: 0.377644\n",
      "[1900]\tvalid_0's f1: 0.377708\n",
      "[1910]\tvalid_0's f1: 0.377704\n",
      "[1920]\tvalid_0's f1: 0.377744\n",
      "[1930]\tvalid_0's f1: 0.377797\n",
      "[1940]\tvalid_0's f1: 0.377831\n",
      "[1950]\tvalid_0's f1: 0.377889\n",
      "[1960]\tvalid_0's f1: 0.377931\n",
      "[1970]\tvalid_0's f1: 0.377887\n",
      "[1980]\tvalid_0's f1: 0.377896\n",
      "[1990]\tvalid_0's f1: 0.3779\n",
      "[2000]\tvalid_0's f1: 0.377924\n",
      "Did not meet early stopping. Best iteration is:\n",
      "[1996]\tvalid_0's f1: 0.377947\n"
     ]
    },
    {
     "data": {
      "text/plain": [
       "LGBMClassifier(boosting_type='gbdt', class_weight=None, colsample_bytree=0.8,\n",
       "        importance_type='split', learning_rate=0.05, max_depth=-1,\n",
       "        metric='None', min_child_samples=50, min_child_weight=0.001,\n",
       "        min_split_gain=0.0, n_estimators=2000, n_jobs=-1, num_leaves=61,\n",
       "        objective='multiclass', random_state=2019, reg_alpha=0,\n",
       "        reg_lambda=0.01, silent=True, subsample=0.8,\n",
       "        subsample_for_bin=200000, subsample_freq=1)"
      ]
     },
     "execution_count": 17,
     "metadata": {},
     "output_type": "execute_result"
    }
   ],
   "source": [
    "\n",
    "lgb_model = lgb.LGBMClassifier(boosting_type=\"gbdt\",\n",
    "                               num_leaves=61, reg_alpha=0,\n",
    "                               reg_lambda=0.01,max_depth=-1,\n",
    "                               n_estimators=2000, objective='multiclass',\n",
    "                               subsample=0.8, colsample_bytree=0.8, \n",
    "                               subsample_freq=1,min_child_samples = 50,  \n",
    "                               learning_rate=0.05, random_state=2019, metric=\"None\",n_jobs=-1)\n",
    "\n",
    "\n",
    "eval_set = [(x_test, y_test)]\n",
    "\n",
    "\n",
    "lgb_model.fit(x_train, y_train, \n",
    "              eval_set=eval_set, \n",
    "              eval_metric=lgb_f1_score, \n",
    "              verbose=10, \n",
    "              early_stopping_rounds=100)\n",
    "\n"
   ]
  },
  {
   "cell_type": "code",
   "execution_count": 18,
   "metadata": {},
   "outputs": [
    {
     "data": {
      "text/plain": [
       "LGBMClassifier(boosting_type='gbdt', class_weight=None, colsample_bytree=0.8,\n",
       "        importance_type='split', learning_rate=0.05, max_depth=-1,\n",
       "        metric='None', min_child_samples=50, min_child_weight=0.001,\n",
       "        min_split_gain=0.0, n_estimators=2000, n_jobs=-1, num_leaves=61,\n",
       "        objective='multiclass', random_state=2019, reg_alpha=0,\n",
       "        reg_lambda=0.01, silent=True, subsample=0.8,\n",
       "        subsample_for_bin=200000, subsample_freq=1)"
      ]
     },
     "execution_count": 18,
     "metadata": {},
     "output_type": "execute_result"
    }
   ],
   "source": [
    "lgb_model"
   ]
  },
  {
   "cell_type": "code",
   "execution_count": 41,
   "metadata": {},
   "outputs": [
    {
     "name": "stdout",
     "output_type": "stream",
     "text": [
      "Save model...\n",
      "Model was saved at ../models/test_model.pickle\n",
      "Don't forget to add your model in DVC with dvc and git workflow!\n"
     ]
    }
   ],
   "source": [
    "save_model(lgb_model, \"../models/test_model.pickle\")"
   ]
  },
  {
   "cell_type": "code",
   "execution_count": 24,
   "metadata": {},
   "outputs": [
    {
     "name": "stdout",
     "output_type": "stream",
     "text": [
      "The autoreload extension is already loaded. To reload it, use:\n",
      "  %reload_ext autoreload\n"
     ]
    }
   ],
   "source": [
    "%load_ext autoreload\n",
    "%autoreload 2\n",
    "import sys\n",
    "sys.path.append(\"../src/\")\n",
    "\n"
   ]
  },
  {
   "cell_type": "code",
   "execution_count": 36,
   "metadata": {},
   "outputs": [],
   "source": [
    "from models.utils import load_model"
   ]
  },
  {
   "cell_type": "code",
   "execution_count": 42,
   "metadata": {},
   "outputs": [
    {
     "name": "stdout",
     "output_type": "stream",
     "text": [
      "Load model...\n",
      "Model was loaded!\n"
     ]
    }
   ],
   "source": [
    "model = load_model(\"../models/lgbmodel_2k.pickle\")"
   ]
  }
 ],
 "metadata": {
  "kernelspec": {
   "display_name": "Python 3",
   "language": "python",
   "name": "python3"
  },
  "language_info": {
   "codemirror_mode": {
    "name": "ipython",
    "version": 3
   },
   "file_extension": ".py",
   "mimetype": "text/x-python",
   "name": "python",
   "nbconvert_exporter": "python",
   "pygments_lexer": "ipython3",
   "version": "3.7.3"
  }
 },
 "nbformat": 4,
 "nbformat_minor": 2
}
