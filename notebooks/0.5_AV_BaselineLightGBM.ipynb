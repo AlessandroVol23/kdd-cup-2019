{
 "cells": [
  {
   "cell_type": "code",
   "execution_count": 8,
   "metadata": {},
   "outputs": [],
   "source": [
    "import pandas as pd \n",
    "import numpy as np\n",
    "import lightgbm as lgb\n"
   ]
  },
  {
   "cell_type": "code",
   "execution_count": 9,
   "metadata": {},
   "outputs": [],
   "source": [
    "df_train = pd.read_pickle(\"../data/processed/df_train.pickle\")"
   ]
  },
  {
   "cell_type": "code",
   "execution_count": 10,
   "metadata": {},
   "outputs": [],
   "source": [
    "df_test = pd.read_pickle(\"../data/processed/df_test.pickle\")"
   ]
  },
  {
   "cell_type": "code",
   "execution_count": 11,
   "metadata": {},
   "outputs": [
    {
     "data": {
      "text/plain": [
       "(2101060, 15)"
      ]
     },
     "execution_count": 11,
     "metadata": {},
     "output_type": "execute_result"
    }
   ],
   "source": [
    "df_train.shape"
   ]
  },
  {
   "cell_type": "code",
   "execution_count": 12,
   "metadata": {},
   "outputs": [
    {
     "data": {
      "text/plain": [
       "(429803, 13)"
      ]
     },
     "execution_count": 12,
     "metadata": {},
     "output_type": "execute_result"
    }
   ],
   "source": [
    "df_test.shape"
   ]
  },
  {
   "cell_type": "code",
   "execution_count": 13,
   "metadata": {},
   "outputs": [],
   "source": [
    "def test_train_split_df(df_r, test_percentage=0.25):\n",
    "    import numpy as np\n",
    "    df = df_r.copy()\n",
    "    \n",
    "    msk = np.random.rand(len(df)) < (1-test_percentage)\n",
    "    \n",
    "    train = df[msk]\n",
    "    test = df[~msk]\n",
    "    \n",
    "    \n",
    "    return train, test\n",
    "    "
   ]
  },
  {
   "cell_type": "code",
   "execution_count": 14,
   "metadata": {},
   "outputs": [],
   "source": [
    "def build_features(df):\n",
    "    \n",
    "    features_to_extract = [\n",
    "        \"sid\", \"distance_plan\", \"eta\", \"price\", \"distance_query\"\n",
    "    ]\n",
    "    \n",
    "    \n",
    "    if \"click_mode\" in df.columns:\n",
    "        features_to_extract.append(\"click_mode\")\n",
    "        \n",
    "    df_X = df[features_to_extract]\n",
    "    return df_X"
   ]
  },
  {
   "cell_type": "code",
   "execution_count": 15,
   "metadata": {},
   "outputs": [],
   "source": [
    "df_X = build_features(df_train)"
   ]
  },
  {
   "cell_type": "code",
   "execution_count": 16,
   "metadata": {},
   "outputs": [],
   "source": [
    "df_test = build_features(df_test)"
   ]
  },
  {
   "cell_type": "code",
   "execution_count": 17,
   "metadata": {},
   "outputs": [],
   "source": [
    "train, val = test_train_split_df(df_X)"
   ]
  },
  {
   "cell_type": "code",
   "execution_count": 28,
   "metadata": {},
   "outputs": [],
   "source": [
    "x_train = train.drop([\"sid\", \"click_mode\"], axis=1).values\n",
    "y_train = train.loc[:,\"click_mode\"].values\n",
    "\n",
    "x_val = val.drop([\"sid\", \"click_mode\"], axis=1).values\n",
    "y_val = val.loc[:,\"click_mode\"].values\n",
    "\n",
    "x_test = df_test.drop([\"sid\"], axis=1).values"
   ]
  },
  {
   "cell_type": "code",
   "execution_count": 103,
   "metadata": {},
   "outputs": [
    {
     "name": "stdout",
     "output_type": "stream",
     "text": [
      "(1575624, 4)\n",
      "(1575624,)\n",
      "(525436, 4)\n",
      "(525436,)\n"
     ]
    }
   ],
   "source": [
    "print(x_train.shape)\n",
    "print(y_train.shape)\n",
    "print(x_val.shape)\n",
    "print(y_val.shape)"
   ]
  },
  {
   "cell_type": "code",
   "execution_count": 87,
   "metadata": {},
   "outputs": [],
   "source": [
    "def lgb_f1_score(y_true, y_pred):\n",
    "    from sklearn.metrics import f1_score\n",
    "    preds = y_pred.reshape(len(np.unique(y_true)), -1)\n",
    "    preds = preds.argmax(axis = 0)\n",
    "    #print(preds.shape)\n",
    "    #print(y_true.shape)\n",
    "    return 'f1', f1_score(y_true, preds,average='weighted'), True"
   ]
  },
  {
   "cell_type": "code",
   "execution_count": 73,
   "metadata": {
    "scrolled": true
   },
   "outputs": [
    {
     "name": "stderr",
     "output_type": "stream",
     "text": [
      "/home/sandro/anaconda3/envs/lbm_mc_bl/lib/python3.7/site-packages/sklearn/metrics/classification.py:1143: UndefinedMetricWarning: F-score is ill-defined and being set to 0.0 in labels with no predicted samples.\n",
      "  'precision', 'predicted', average, warn_for)\n"
     ]
    },
    {
     "name": "stdout",
     "output_type": "stream",
     "text": [
      "Training until validation scores don't improve for 100 rounds.\n",
      "[10]\tvalid_0's f1: 0.357725\n",
      "[20]\tvalid_0's f1: 0.359514\n",
      "[30]\tvalid_0's f1: 0.360389\n",
      "[40]\tvalid_0's f1: 0.361561\n",
      "[50]\tvalid_0's f1: 0.36237\n",
      "[60]\tvalid_0's f1: 0.36301\n",
      "[70]\tvalid_0's f1: 0.363822\n",
      "[80]\tvalid_0's f1: 0.364456\n",
      "[90]\tvalid_0's f1: 0.365112\n",
      "[100]\tvalid_0's f1: 0.365577\n",
      "[110]\tvalid_0's f1: 0.366026\n",
      "[120]\tvalid_0's f1: 0.366479\n",
      "[130]\tvalid_0's f1: 0.366927\n",
      "[140]\tvalid_0's f1: 0.367217\n",
      "[150]\tvalid_0's f1: 0.367518\n",
      "[160]\tvalid_0's f1: 0.367714\n",
      "[170]\tvalid_0's f1: 0.367942\n",
      "[180]\tvalid_0's f1: 0.368101\n",
      "[190]\tvalid_0's f1: 0.368187\n",
      "[200]\tvalid_0's f1: 0.368428\n",
      "[210]\tvalid_0's f1: 0.368579\n",
      "[220]\tvalid_0's f1: 0.36873\n",
      "[230]\tvalid_0's f1: 0.3688\n",
      "[240]\tvalid_0's f1: 0.369031\n",
      "[250]\tvalid_0's f1: 0.369221\n",
      "[260]\tvalid_0's f1: 0.369361\n",
      "[270]\tvalid_0's f1: 0.369535\n",
      "[280]\tvalid_0's f1: 0.36976\n",
      "[290]\tvalid_0's f1: 0.369863\n",
      "[300]\tvalid_0's f1: 0.370021\n",
      "[310]\tvalid_0's f1: 0.370132\n",
      "[320]\tvalid_0's f1: 0.370222\n",
      "[330]\tvalid_0's f1: 0.370286\n",
      "[340]\tvalid_0's f1: 0.370319\n",
      "[350]\tvalid_0's f1: 0.370463\n",
      "[360]\tvalid_0's f1: 0.370561\n",
      "[370]\tvalid_0's f1: 0.370602\n",
      "[380]\tvalid_0's f1: 0.370778\n",
      "[390]\tvalid_0's f1: 0.370944\n",
      "[400]\tvalid_0's f1: 0.371045\n",
      "[410]\tvalid_0's f1: 0.371122\n",
      "[420]\tvalid_0's f1: 0.371263\n",
      "[430]\tvalid_0's f1: 0.371452\n",
      "[440]\tvalid_0's f1: 0.371603\n",
      "[450]\tvalid_0's f1: 0.371707\n",
      "[460]\tvalid_0's f1: 0.37182\n",
      "[470]\tvalid_0's f1: 0.371915\n",
      "[480]\tvalid_0's f1: 0.371981\n",
      "[490]\tvalid_0's f1: 0.372048\n",
      "[500]\tvalid_0's f1: 0.372149\n",
      "[510]\tvalid_0's f1: 0.372274\n",
      "[520]\tvalid_0's f1: 0.372327\n",
      "[530]\tvalid_0's f1: 0.372378\n",
      "[900]\tvalid_0's f1: 0.374548\n",
      "[910]\tvalid_0's f1: 0.37461\n",
      "[920]\tvalid_0's f1: 0.374585\n",
      "[930]\tvalid_0's f1: 0.374617\n",
      "[940]\tvalid_0's f1: 0.374683\n",
      "[950]\tvalid_0's f1: 0.374654\n",
      "[960]\tvalid_0's f1: 0.374768\n",
      "[970]\tvalid_0's f1: 0.374816\n",
      "[980]\tvalid_0's f1: 0.374795\n",
      "[990]\tvalid_0's f1: 0.374835\n",
      "[1000]\tvalid_0's f1: 0.374905\n",
      "[1010]\tvalid_0's f1: 0.374967\n",
      "[1020]\tvalid_0's f1: 0.374992\n",
      "[1030]\tvalid_0's f1: 0.37499\n",
      "[1040]\tvalid_0's f1: 0.375053\n",
      "[1050]\tvalid_0's f1: 0.37507\n",
      "[1060]\tvalid_0's f1: 0.37509\n",
      "[1070]\tvalid_0's f1: 0.375118\n",
      "[1080]\tvalid_0's f1: 0.375134\n",
      "[1090]\tvalid_0's f1: 0.375135\n",
      "[1100]\tvalid_0's f1: 0.375227\n",
      "[1110]\tvalid_0's f1: 0.375279\n",
      "[1120]\tvalid_0's f1: 0.375315\n",
      "[1130]\tvalid_0's f1: 0.375323\n",
      "[1140]\tvalid_0's f1: 0.375374\n",
      "[1150]\tvalid_0's f1: 0.375436\n",
      "[1160]\tvalid_0's f1: 0.375453\n",
      "[1170]\tvalid_0's f1: 0.375471\n",
      "[1180]\tvalid_0's f1: 0.375558\n",
      "[1190]\tvalid_0's f1: 0.375556\n",
      "[1200]\tvalid_0's f1: 0.375588\n",
      "[1210]\tvalid_0's f1: 0.375623\n",
      "[1220]\tvalid_0's f1: 0.375666\n",
      "[1230]\tvalid_0's f1: 0.375803\n",
      "[1240]\tvalid_0's f1: 0.375819\n",
      "[1250]\tvalid_0's f1: 0.375861\n",
      "[1260]\tvalid_0's f1: 0.375911\n",
      "[1270]\tvalid_0's f1: 0.375959\n",
      "[1280]\tvalid_0's f1: 0.375986\n",
      "[1290]\tvalid_0's f1: 0.375982\n",
      "[1300]\tvalid_0's f1: 0.37606\n",
      "[1310]\tvalid_0's f1: 0.376096\n",
      "[1320]\tvalid_0's f1: 0.376114\n",
      "[1330]\tvalid_0's f1: 0.37616\n",
      "[1340]\tvalid_0's f1: 0.376174\n",
      "[1350]\tvalid_0's f1: 0.376205\n",
      "[1360]\tvalid_0's f1: 0.37624\n",
      "[1370]\tvalid_0's f1: 0.376275\n",
      "[1380]\tvalid_0's f1: 0.376275\n",
      "[1390]\tvalid_0's f1: 0.376324\n",
      "[1400]\tvalid_0's f1: 0.376323\n",
      "[1410]\tvalid_0's f1: 0.376325\n",
      "[1420]\tvalid_0's f1: 0.376359\n",
      "[1430]\tvalid_0's f1: 0.376416\n",
      "[1440]\tvalid_0's f1: 0.376472\n",
      "[1450]\tvalid_0's f1: 0.376479\n",
      "[1460]\tvalid_0's f1: 0.376469\n",
      "[1470]\tvalid_0's f1: 0.376484\n",
      "[1480]\tvalid_0's f1: 0.376599\n",
      "[1490]\tvalid_0's f1: 0.37664\n",
      "[1500]\tvalid_0's f1: 0.376667\n",
      "[1510]\tvalid_0's f1: 0.37665\n",
      "[1520]\tvalid_0's f1: 0.376658\n",
      "[1530]\tvalid_0's f1: 0.376686\n",
      "[1540]\tvalid_0's f1: 0.376651\n",
      "[1550]\tvalid_0's f1: 0.376667\n",
      "[1560]\tvalid_0's f1: 0.376694\n",
      "[1570]\tvalid_0's f1: 0.376727\n",
      "[1580]\tvalid_0's f1: 0.3768\n",
      "[1590]\tvalid_0's f1: 0.376857\n",
      "[1600]\tvalid_0's f1: 0.376817\n",
      "[1610]\tvalid_0's f1: 0.37695\n",
      "[1620]\tvalid_0's f1: 0.376993\n",
      "[1630]\tvalid_0's f1: 0.377011\n",
      "[1640]\tvalid_0's f1: 0.37703\n",
      "[1650]\tvalid_0's f1: 0.377083\n",
      "[1660]\tvalid_0's f1: 0.377053\n",
      "[1670]\tvalid_0's f1: 0.377061\n",
      "[1680]\tvalid_0's f1: 0.377091\n",
      "[1690]\tvalid_0's f1: 0.377124\n",
      "[1700]\tvalid_0's f1: 0.3772\n",
      "[1710]\tvalid_0's f1: 0.377219\n",
      "[1720]\tvalid_0's f1: 0.377184\n",
      "[1730]\tvalid_0's f1: 0.377245\n",
      "[1740]\tvalid_0's f1: 0.377247\n",
      "[1750]\tvalid_0's f1: 0.377343\n",
      "[1760]\tvalid_0's f1: 0.37733\n",
      "[1770]\tvalid_0's f1: 0.377424\n",
      "[1780]\tvalid_0's f1: 0.377388\n",
      "[1790]\tvalid_0's f1: 0.37746\n",
      "[1800]\tvalid_0's f1: 0.37748\n",
      "[1810]\tvalid_0's f1: 0.377519\n",
      "[1820]\tvalid_0's f1: 0.377544\n",
      "[1830]\tvalid_0's f1: 0.377599\n",
      "[1840]\tvalid_0's f1: 0.377661\n",
      "[1850]\tvalid_0's f1: 0.377702\n",
      "[1860]\tvalid_0's f1: 0.377687\n",
      "[1870]\tvalid_0's f1: 0.377717\n",
      "[1880]\tvalid_0's f1: 0.377726\n",
      "[1890]\tvalid_0's f1: 0.377696\n",
      "[1900]\tvalid_0's f1: 0.377682\n",
      "[1910]\tvalid_0's f1: 0.377704\n",
      "[1920]\tvalid_0's f1: 0.377753\n",
      "[1930]\tvalid_0's f1: 0.377761\n",
      "[1940]\tvalid_0's f1: 0.377764\n",
      "[1950]\tvalid_0's f1: 0.377848\n",
      "[1960]\tvalid_0's f1: 0.37792\n",
      "[1970]\tvalid_0's f1: 0.377935\n",
      "[1980]\tvalid_0's f1: 0.377908\n",
      "[1990]\tvalid_0's f1: 0.377903\n",
      "[2000]\tvalid_0's f1: 0.377963\n",
      "Did not meet early stopping. Best iteration is:\n",
      "[2000]\tvalid_0's f1: 0.377963\n"
     ]
    },
    {
     "data": {
      "text/plain": [
       "LGBMClassifier(boosting_type='gbdt', class_weight=None, colsample_bytree=0.8,\n",
       "        importance_type='split', learning_rate=0.05, max_depth=-1,\n",
       "        metric='None', min_child_samples=50, min_child_weight=0.001,\n",
       "        min_split_gain=0.0, n_estimators=2000, n_jobs=-1, num_leaves=61,\n",
       "        objective='multiclass', random_state=2019, reg_alpha=0,\n",
       "        reg_lambda=0.01, silent=True, subsample=0.8,\n",
       "        subsample_for_bin=200000, subsample_freq=1)"
      ]
     },
     "execution_count": 73,
     "metadata": {},
     "output_type": "execute_result"
    }
   ],
   "source": [
    "\n",
    "lgb_model = lgb.LGBMClassifier(boosting_type=\"gbdt\",\n",
    "                               num_leaves=61, reg_alpha=0,\n",
    "                               reg_lambda=0.01,max_depth=-1,\n",
    "                               n_estimators=2000, objective='multiclass',\n",
    "                               subsample=0.8, colsample_bytree=0.8, \n",
    "                               subsample_freq=1,min_child_samples = 50,  \n",
    "                               learning_rate=0.05, random_state=2019, metric=\"None\",n_jobs=-1)\n",
    "\n",
    "\n",
    "eval_set = [(x_val, y_val)]\n",
    "\n",
    "\n",
    "lgb_model.fit(x_train, y_train, \n",
    "              eval_set=eval_set, \n",
    "              eval_metric=lgb_f1_score, \n",
    "              verbose=10, \n",
    "              early_stopping_rounds=100)\n",
    "\n"
   ]
  },
  {
   "cell_type": "code",
   "execution_count": 75,
   "metadata": {},
   "outputs": [],
   "source": [
    "import pickle\n",
    "import os\n",
    "filename = os.path.join(\"..\", \"models\", \"lgbmodel_2k.pickle\")\n",
    "pickle.dump(lgb_model, open(filename, 'wb'))"
   ]
  },
  {
   "cell_type": "code",
   "execution_count": 100,
   "metadata": {},
   "outputs": [
    {
     "data": {
      "text/html": [
       "<div>\n",
       "<style scoped>\n",
       "    .dataframe tbody tr th:only-of-type {\n",
       "        vertical-align: middle;\n",
       "    }\n",
       "\n",
       "    .dataframe tbody tr th {\n",
       "        vertical-align: top;\n",
       "    }\n",
       "\n",
       "    .dataframe thead th {\n",
       "        text-align: right;\n",
       "    }\n",
       "</style>\n",
       "<table border=\"1\" class=\"dataframe\">\n",
       "  <thead>\n",
       "    <tr style=\"text-align: right;\">\n",
       "      <th></th>\n",
       "      <th>sid</th>\n",
       "      <th>distance_plan</th>\n",
       "      <th>eta</th>\n",
       "      <th>price</th>\n",
       "      <th>distance_query</th>\n",
       "    </tr>\n",
       "  </thead>\n",
       "  <tbody>\n",
       "    <tr>\n",
       "      <th>0</th>\n",
       "      <td>1112456</td>\n",
       "      <td>465</td>\n",
       "      <td>418</td>\n",
       "      <td>700.0</td>\n",
       "      <td>0.000000</td>\n",
       "    </tr>\n",
       "    <tr>\n",
       "      <th>1</th>\n",
       "      <td>1112456</td>\n",
       "      <td>465</td>\n",
       "      <td>140</td>\n",
       "      <td>700.0</td>\n",
       "      <td>0.000000</td>\n",
       "    </tr>\n",
       "    <tr>\n",
       "      <th>2</th>\n",
       "      <td>1112456</td>\n",
       "      <td>462</td>\n",
       "      <td>178</td>\n",
       "      <td>700.0</td>\n",
       "      <td>0.000000</td>\n",
       "    </tr>\n",
       "    <tr>\n",
       "      <th>3</th>\n",
       "      <td>1413458</td>\n",
       "      <td>28846</td>\n",
       "      <td>4779</td>\n",
       "      <td>600.0</td>\n",
       "      <td>15.638394</td>\n",
       "    </tr>\n",
       "    <tr>\n",
       "      <th>4</th>\n",
       "      <td>1413458</td>\n",
       "      <td>18743</td>\n",
       "      <td>3098</td>\n",
       "      <td>700.0</td>\n",
       "      <td>15.638394</td>\n",
       "    </tr>\n",
       "  </tbody>\n",
       "</table>\n",
       "</div>"
      ],
      "text/plain": [
       "       sid  distance_plan   eta  price  distance_query\n",
       "0  1112456            465   418  700.0        0.000000\n",
       "1  1112456            465   140  700.0        0.000000\n",
       "2  1112456            462   178  700.0        0.000000\n",
       "3  1413458          28846  4779  600.0       15.638394\n",
       "4  1413458          18743  3098  700.0       15.638394"
      ]
     },
     "execution_count": 100,
     "metadata": {},
     "output_type": "execute_result"
    }
   ],
   "source": [
    "df_test.head()"
   ]
  },
  {
   "cell_type": "code",
   "execution_count": 27,
   "metadata": {},
   "outputs": [
    {
     "ename": "NameError",
     "evalue": "name 'test' is not defined",
     "output_type": "error",
     "traceback": [
      "\u001b[0;31m---------------------------------------------------------------------------\u001b[0m",
      "\u001b[0;31mNameError\u001b[0m                                 Traceback (most recent call last)",
      "\u001b[0;32m<ipython-input-27-b60af3ad1561>\u001b[0m in \u001b[0;36m<module>\u001b[0;34m\u001b[0m\n\u001b[0;32m----> 1\u001b[0;31m \u001b[0mx_test\u001b[0m \u001b[0;34m=\u001b[0m \u001b[0mtest\u001b[0m\u001b[0;34m.\u001b[0m\u001b[0mdrop\u001b[0m\u001b[0;34m(\u001b[0m\u001b[0;34m[\u001b[0m\u001b[0;34m\"sid\"\u001b[0m\u001b[0;34m,\u001b[0m \u001b[0;34m\"click_mode\"\u001b[0m\u001b[0;34m]\u001b[0m\u001b[0;34m,\u001b[0m \u001b[0maxis\u001b[0m\u001b[0;34m=\u001b[0m\u001b[0;36m1\u001b[0m\u001b[0;34m)\u001b[0m\u001b[0;34m.\u001b[0m\u001b[0mvalues\u001b[0m\u001b[0;34m\u001b[0m\u001b[0;34m\u001b[0m\u001b[0m\n\u001b[0m\u001b[1;32m      2\u001b[0m \u001b[0my_test\u001b[0m \u001b[0;34m=\u001b[0m \u001b[0mtest\u001b[0m\u001b[0;34m.\u001b[0m\u001b[0mloc\u001b[0m\u001b[0;34m[\u001b[0m\u001b[0;34m:\u001b[0m\u001b[0;34m,\u001b[0m\u001b[0;34m\"click_mode\"\u001b[0m\u001b[0;34m]\u001b[0m\u001b[0;34m.\u001b[0m\u001b[0mvalues\u001b[0m\u001b[0;34m\u001b[0m\u001b[0;34m\u001b[0m\u001b[0m\n",
      "\u001b[0;31mNameError\u001b[0m: name 'test' is not defined"
     ]
    }
   ],
   "source": [
    "x_test = test.drop([\"sid\", \"click_mode\"], axis=1).values\n",
    "y_test = test.loc[:,\"click_mode\"].values"
   ]
  },
  {
   "cell_type": "code",
   "execution_count": 3,
   "metadata": {},
   "outputs": [],
   "source": [
    "import os\n",
    "import pickle"
   ]
  },
  {
   "cell_type": "code",
   "execution_count": 4,
   "metadata": {},
   "outputs": [],
   "source": [
    "filename = os.path.join(\"..\", \"models\", \"lgbmodel_2k.pickle\")\n",
    "\n",
    "loaded_model = pickle.load(open(filename, 'rb'))"
   ]
  },
  {
   "cell_type": "code",
   "execution_count": 29,
   "metadata": {},
   "outputs": [],
   "source": [
    "y_preds = loaded_model.predict(x_test)"
   ]
  },
  {
   "cell_type": "code",
   "execution_count": 30,
   "metadata": {},
   "outputs": [
    {
     "name": "stdout",
     "output_type": "stream",
     "text": [
      "HI\n"
     ]
    }
   ],
   "source": [
    "print(\"HI\")"
   ]
  },
  {
   "cell_type": "code",
   "execution_count": 32,
   "metadata": {},
   "outputs": [
    {
     "data": {
      "text/html": [
       "<div>\n",
       "<style scoped>\n",
       "    .dataframe tbody tr th:only-of-type {\n",
       "        vertical-align: middle;\n",
       "    }\n",
       "\n",
       "    .dataframe tbody tr th {\n",
       "        vertical-align: top;\n",
       "    }\n",
       "\n",
       "    .dataframe thead th {\n",
       "        text-align: right;\n",
       "    }\n",
       "</style>\n",
       "<table border=\"1\" class=\"dataframe\">\n",
       "  <thead>\n",
       "    <tr style=\"text-align: right;\">\n",
       "      <th></th>\n",
       "      <th>sid</th>\n",
       "      <th>distance_plan</th>\n",
       "      <th>eta</th>\n",
       "      <th>price</th>\n",
       "      <th>distance_query</th>\n",
       "    </tr>\n",
       "  </thead>\n",
       "  <tbody>\n",
       "    <tr>\n",
       "      <th>0</th>\n",
       "      <td>1112456</td>\n",
       "      <td>465</td>\n",
       "      <td>418</td>\n",
       "      <td>700.0</td>\n",
       "      <td>0.000000</td>\n",
       "    </tr>\n",
       "    <tr>\n",
       "      <th>1</th>\n",
       "      <td>1112456</td>\n",
       "      <td>465</td>\n",
       "      <td>140</td>\n",
       "      <td>700.0</td>\n",
       "      <td>0.000000</td>\n",
       "    </tr>\n",
       "    <tr>\n",
       "      <th>2</th>\n",
       "      <td>1112456</td>\n",
       "      <td>462</td>\n",
       "      <td>178</td>\n",
       "      <td>700.0</td>\n",
       "      <td>0.000000</td>\n",
       "    </tr>\n",
       "    <tr>\n",
       "      <th>3</th>\n",
       "      <td>1413458</td>\n",
       "      <td>28846</td>\n",
       "      <td>4779</td>\n",
       "      <td>600.0</td>\n",
       "      <td>15.638394</td>\n",
       "    </tr>\n",
       "    <tr>\n",
       "      <th>4</th>\n",
       "      <td>1413458</td>\n",
       "      <td>18743</td>\n",
       "      <td>3098</td>\n",
       "      <td>700.0</td>\n",
       "      <td>15.638394</td>\n",
       "    </tr>\n",
       "  </tbody>\n",
       "</table>\n",
       "</div>"
      ],
      "text/plain": [
       "       sid  distance_plan   eta  price  distance_query\n",
       "0  1112456            465   418  700.0        0.000000\n",
       "1  1112456            465   140  700.0        0.000000\n",
       "2  1112456            462   178  700.0        0.000000\n",
       "3  1413458          28846  4779  600.0       15.638394\n",
       "4  1413458          18743  3098  700.0       15.638394"
      ]
     },
     "execution_count": 32,
     "metadata": {},
     "output_type": "execute_result"
    }
   ],
   "source": [
    "df_test.head()"
   ]
  },
  {
   "cell_type": "code",
   "execution_count": 39,
   "metadata": {},
   "outputs": [
    {
     "data": {
      "text/plain": [
       "array([1112456, 1112456, 1112456, 1413458, 1413458, 1413458, 1413458,\n",
       "       1413458, 1243160, 1243160])"
      ]
     },
     "execution_count": 39,
     "metadata": {},
     "output_type": "execute_result"
    }
   ],
   "source": [
    "df_test.sid.values[:10]"
   ]
  },
  {
   "cell_type": "code",
   "execution_count": 36,
   "metadata": {},
   "outputs": [
    {
     "data": {
      "text/plain": [
       "(429803,)"
      ]
     },
     "execution_count": 36,
     "metadata": {},
     "output_type": "execute_result"
    }
   ],
   "source": [
    "y_preds"
   ]
  },
  {
   "cell_type": "code",
   "execution_count": 47,
   "metadata": {},
   "outputs": [],
   "source": [
    "a=pd.Series(df_test.sid.values)"
   ]
  },
  {
   "cell_type": "code",
   "execution_count": 48,
   "metadata": {},
   "outputs": [],
   "source": [
    "b=pd.Series(y_preds)"
   ]
  },
  {
   "cell_type": "code",
   "execution_count": 50,
   "metadata": {},
   "outputs": [],
   "source": [
    "submission = pd.DataFrame(data={'sid':a, 'yhat':b})"
   ]
  },
  {
   "cell_type": "code",
   "execution_count": 55,
   "metadata": {},
   "outputs": [
    {
     "name": "stdout",
     "output_type": "stream",
     "text": [
      "1557571666\n"
     ]
    }
   ],
   "source": [
    "import calendar;\n",
    "import time;\n",
    "ts = calendar.timegm(time.gmtime())\n"
   ]
  },
  {
   "cell_type": "code",
   "execution_count": 71,
   "metadata": {},
   "outputs": [],
   "source": [
    "import calendar;\n",
    "import time;\n",
    "ts = calendar.timegm(time.gmtime())\n",
    "\n",
    "submission.to_csv(\"../submissions/sub_\" + str(ts) + \".csv\", index=None, header=None, )"
   ]
  },
  {
   "cell_type": "code",
   "execution_count": 72,
   "metadata": {},
   "outputs": [
    {
     "name": "stdout",
     "output_type": "stream",
     "text": [
      "sub_1557571947.csv\r\n"
     ]
    }
   ],
   "source": [
    "pd.read_csv(\"../sub\")"
   ]
  }
 ],
 "metadata": {
  "kernelspec": {
   "display_name": "Python 3",
   "language": "python",
   "name": "python3"
  },
  "language_info": {
   "codemirror_mode": {
    "name": "ipython",
    "version": 3
   },
   "file_extension": ".py",
   "mimetype": "text/x-python",
   "name": "python",
   "nbconvert_exporter": "python",
   "pygments_lexer": "ipython3",
   "version": "3.7.3"
  }
 },
 "nbformat": 4,
 "nbformat_minor": 2
}
