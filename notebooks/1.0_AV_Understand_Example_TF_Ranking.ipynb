{
 "cells": [
  {
   "cell_type": "markdown",
   "metadata": {},
   "source": [
    "\n",
    "The general recipe is a short list of four main steps:\n",
    "\n",
    "1.   Compose a function to **read** input data and prepare a Tensorflow Dataset;\n",
    "2.   Define a **scoring** function that, given a (set of) query-document feature vector(s), produces a score indicating the query's level of relevance to the document;\n",
    "3.   Create a **loss** function that measures how far off the produced scores from step (2) are from the ground truth; and,\n",
    "4.   Define evaluation **metrics**."
   ]
  },
  {
   "cell_type": "markdown",
   "metadata": {},
   "source": [
    "## Imports"
   ]
  },
  {
   "cell_type": "code",
   "execution_count": 2,
   "metadata": {},
   "outputs": [
    {
     "data": {
      "text/plain": [
       "True"
      ]
     },
     "execution_count": 2,
     "metadata": {},
     "output_type": "execute_result"
    }
   ],
   "source": [
    "import tensorflow as tf\n",
    "import tensorflow_ranking as tfr\n",
    "\n",
    "tf.enable_eager_execution()\n",
    "tf.executing_eagerly()"
   ]
  },
  {
   "cell_type": "markdown",
   "metadata": {},
   "source": [
    "## Constants"
   ]
  },
  {
   "cell_type": "code",
   "execution_count": 3,
   "metadata": {},
   "outputs": [],
   "source": [
    "# Store the paths to files containing training and test instances.\n",
    "# As noted above, we will assume the data is in the LibSVM format\n",
    "# and that the content of each file is sorted by query ID.\n",
    "\n",
    "_TRAIN_DATA_PATH=\"../data/interim/test_10.libsvm\"\n",
    "_TEST_DATA_PATH=\"../data/interim/test_10.libsvm\"\n",
    "\n",
    "# Define a loss function. To find a complete list of available\n",
    "# loss functions or to learn how to add your own custom function\n",
    "# please refer to the tensorflow_ranking.losses module.\n",
    "_LOSS=\"pairwise_logistic_loss\"\n",
    "\n",
    "# In the TF-Ranking framework, a training instance is represented\n",
    "# by a Tensor that contains features from a list of documents\n",
    "# associated with a single query. For simplicity, we fix the shape\n",
    "# of these Tensors to a maximum list size and call it \"list_size,\"\n",
    "# the maximum number of documents per query in the dataset.\n",
    "# In this demo, we take the following approach:\n",
    "#   * If a query has fewer documents, its Tensor will be padded\n",
    "#     appropriately.\n",
    "#   * If a query has more documents, we shuffle its list of\n",
    "#     documents and trim the list down to the prescribed list_size.\n",
    "_LIST_SIZE=5\n",
    "\n",
    "# The total number of features per query-document pair.\n",
    "# We set this number to the number of features in the MSLR-Web30K\n",
    "# dataset.\n",
    "_NUM_FEATURES=4\n",
    "\n",
    "# Parameters to the scoring function.\n",
    "_BATCH_SIZE=32\n",
    "_HIDDEN_LAYER_DIMS=[\"20\", \"10\"]\n",
    "\n",
    "#_OUT_DIR = \"../models/tfranking/\""
   ]
  },
  {
   "cell_type": "markdown",
   "metadata": {},
   "source": [
    "## Function to read in data and form tensorflow dataset"
   ]
  },
  {
   "cell_type": "markdown",
   "metadata": {},
   "source": [
    "Out train and test dataset is in the lib svm format which is normally used for Support Vector Machines. "
   ]
  },
  {
   "cell_type": "code",
   "execution_count": 4,
   "metadata": {},
   "outputs": [
    {
     "name": "stdout",
     "output_type": "stream",
     "text": [
      "0 qid:2629085 1:9 2:13207 3:2790 4:400\n",
      "\n",
      "1 qid:2629085 1:3 2:8175 3:1656 4:700\n",
      "\n",
      "0 qid:2629085 1:4 2:8175 3:1776 4:2700\n",
      "\n",
      "0 qid:2629085 1:10 2:9620 3:2424 4:1600\n",
      "\n",
      "0 qid:2629085 1:6 2:8079 3:2443 4:700\n",
      "\n",
      "0 qid:2629085 1:7 2:13428 3:3777 4:800\n",
      "\n",
      "1 qid:2848914 1:1 2:53156 3:6456 4:700\n",
      "\n",
      "0 qid:2848914 1:3 2:48112 3:3535 4:700\n",
      "\n",
      "0 qid:2848914 1:4 2:48112 3:3655 4:16500\n",
      "\n",
      "1 qid:2848914 1:1 2:51641 3:8871 4:1200\n",
      "\n"
     ]
    }
   ],
   "source": [
    "fo = open(_TRAIN_DATA_PATH)\n",
    "i=0\n",
    "for f in fo:\n",
    "    if i != 10:\n",
    "        print(f)\n",
    "    else:\n",
    "        break\n",
    "    i+=1"
   ]
  },
  {
   "cell_type": "markdown",
   "metadata": {},
   "source": [
    "In this example they first number shows the target\n",
    "\n",
    "1 = Important \n",
    "\n",
    "0 = Not important\n",
    "\n",
    "qid: Describes which lines belong together\n",
    "\n",
    "E.g. query 10 had 6 suggestions for plans and just one is important. Here we would take the suggested transport mode from this plan. "
   ]
  },
  {
   "cell_type": "markdown",
   "metadata": {},
   "source": [
    "### Input Pipeline\n",
    "\n",
    "The first step to construct an input pipeline that reads your dataset and produces a `tensorflow.data.Dataset` object. In this example, we will invoke a LibSVM parser that is included in the `tensorflow_ranking.data` module to generate a `Dataset` from a given file.\n",
    "\n",
    "We parameterize this function by a `path` argument so that the function can be used to read both training and test data files."
   ]
  },
  {
   "cell_type": "markdown",
   "metadata": {},
   "source": [
    " Read tf DataSet\n",
    " \n",
    " Dic for feature"
   ]
  },
  {
   "cell_type": "code",
   "execution_count": 5,
   "metadata": {},
   "outputs": [],
   "source": [
    "def input_fn(path):\n",
    "    train_dataset = tf.data.Dataset.from_generator(\n",
    "      tfr.data.libsvm_generator(path, _NUM_FEATURES, _LIST_SIZE),\n",
    "      output_types=(\n",
    "          {str(k): tf.float32 for k in range(1,_NUM_FEATURES+1)},\n",
    "          tf.float32\n",
    "      ),\n",
    "      output_shapes=(\n",
    "          {str(k): tf.TensorShape([_LIST_SIZE, 1])\n",
    "            for k in range(1,_NUM_FEATURES+1)},\n",
    "          tf.TensorShape([_LIST_SIZE])\n",
    "      )\n",
    "    )\n",
    "\n",
    "    train_dataset = train_dataset.shuffle(1000).repeat().batch(_BATCH_SIZE)\n",
    "    return train_dataset.make_one_shot_iterator().get_next()"
   ]
  },
  {
   "cell_type": "code",
   "execution_count": 6,
   "metadata": {},
   "outputs": [
    {
     "name": "stdout",
     "output_type": "stream",
     "text": [
      "WARNING:tensorflow:From /home/sandro/anaconda3/envs/tf_ranking/lib/python3.7/site-packages/tensorflow/python/data/ops/dataset_ops.py:429: py_func (from tensorflow.python.ops.script_ops) is deprecated and will be removed in a future version.\n",
      "Instructions for updating:\n",
      "tf.py_func is deprecated in TF V2. Instead, use\n",
      "    tf.py_function, which takes a python function which manipulates tf eager\n",
      "    tensors instead of numpy arrays. It's easy to convert a tf eager tensor to\n",
      "    an ndarray (just call tensor.numpy()) but having access to eager tensors\n",
      "    means `tf.py_function`s can use accelerators such as GPUs as well as\n",
      "    being differentiable using a gradient tape.\n",
      "    \n"
     ]
    },
    {
     "data": {
      "text/plain": [
       "<DatasetV1Adapter shapes: ({1: (5, 1), 2: (5, 1), 3: (5, 1), 4: (5, 1)}, (5,)), types: ({1: tf.float32, 2: tf.float32, 3: tf.float32, 4: tf.float32}, tf.float32)>"
      ]
     },
     "execution_count": 6,
     "metadata": {},
     "output_type": "execute_result"
    }
   ],
   "source": [
    "train_dataset = tf.data.Dataset.from_generator(\n",
    "      tfr.data.libsvm_generator(_TRAIN_DATA_PATH, _NUM_FEATURES, _LIST_SIZE),\n",
    "      output_types=(\n",
    "          {str(k): tf.float32 for k in range(1,_NUM_FEATURES+1)},\n",
    "          tf.float32\n",
    "      ),\n",
    "      output_shapes=(\n",
    "          {str(k): tf.TensorShape([_LIST_SIZE, 1])\n",
    "            for k in range(1,_NUM_FEATURES+1)},\n",
    "          tf.TensorShape([_LIST_SIZE])\n",
    "      )\n",
    "    )\n",
    "\n",
    "train_dataset"
   ]
  },
  {
   "cell_type": "code",
   "execution_count": 7,
   "metadata": {},
   "outputs": [
    {
     "name": "stdout",
     "output_type": "stream",
     "text": [
      "WARNING:tensorflow:From /home/sandro/anaconda3/envs/tf_ranking/lib/python3.7/site-packages/tensorflow/python/data/ops/iterator_ops.py:532: colocate_with (from tensorflow.python.framework.ops) is deprecated and will be removed in a future version.\n",
      "Instructions for updating:\n",
      "Colocations handled automatically by placer.\n"
     ]
    }
   ],
   "source": [
    "a=train_dataset.make_one_shot_iterator().get_next()"
   ]
  },
  {
   "cell_type": "code",
   "execution_count": 8,
   "metadata": {},
   "outputs": [
    {
     "data": {
      "text/plain": [
       "{'1': <tf.Tensor: id=28, shape=(5, 1), dtype=float32, numpy=\n",
       " array([[10.],\n",
       "        [ 9.],\n",
       "        [ 6.],\n",
       "        [ 4.],\n",
       "        [ 7.]], dtype=float32)>,\n",
       " '2': <tf.Tensor: id=29, shape=(5, 1), dtype=float32, numpy=\n",
       " array([[ 9620.],\n",
       "        [13207.],\n",
       "        [ 8079.],\n",
       "        [ 8175.],\n",
       "        [13428.]], dtype=float32)>,\n",
       " '3': <tf.Tensor: id=30, shape=(5, 1), dtype=float32, numpy=\n",
       " array([[2424.],\n",
       "        [2790.],\n",
       "        [2443.],\n",
       "        [1776.],\n",
       "        [3777.]], dtype=float32)>,\n",
       " '4': <tf.Tensor: id=31, shape=(5, 1), dtype=float32, numpy=\n",
       " array([[1600.],\n",
       "        [ 400.],\n",
       "        [ 700.],\n",
       "        [2700.],\n",
       "        [ 800.]], dtype=float32)>}"
      ]
     },
     "execution_count": 8,
     "metadata": {},
     "output_type": "execute_result"
    }
   ],
   "source": [
    "a[0]"
   ]
  },
  {
   "cell_type": "markdown",
   "metadata": {},
   "source": [
    "## Estimator Creation"
   ]
  },
  {
   "cell_type": "markdown",
   "metadata": {},
   "source": [
    "\n",
    "Next, we turn to the scoring function which is arguably at the heart of a TF Ranking model. The idea is to compute a relevance score for a (set of) query-document pair(s). The TF-Ranking model will use training data to learn this function.\n",
    "\n",
    "Here we formulate a scoring function using a feed forward network. The function takes the features of a single example (i.e., query-document pair) and produces a relevance score"
   ]
  },
  {
   "cell_type": "code",
   "execution_count": 9,
   "metadata": {},
   "outputs": [],
   "source": [
    "def example_feature_columns():\n",
    "    \"\"\"Returns the example feature columns.\"\"\"\n",
    "    feature_names = [\n",
    "      \"%d\" % (i + 1) for i in range(0, _NUM_FEATURES)\n",
    "    ]\n",
    "    return {\n",
    "      name: tf.feature_column.numeric_column(\n",
    "          name, shape=(1,), default_value=0.0) for name in feature_names\n",
    "    }\n",
    "\n",
    "def make_score_fn(mode):\n",
    "        \"\"\"Returns a scoring function to build `EstimatorSpec`.\"\"\"\n",
    "        \n",
    "        def _score_fn(context_features, group_features, mode, params, config):\n",
    "            \"\"\"Defines the network to score a documents.\"\"\"\n",
    "            del params\n",
    "            del config\n",
    "            # Define input layer.\n",
    "            example_input = [\n",
    "                tf.layers.flatten(group_features[name])\n",
    "                for name in sorted(example_feature_columns())\n",
    "            ]\n",
    "            print(\"MAKE SCORE FUNCTION:\")\n",
    "            print(example_input)\n",
    "            input_layer = tf.concat(example_input, 1)\n",
    "\n",
    "            cur_layer = input_layer\n",
    "            for i, layer_width in enumerate(int(d) for d in _HIDDEN_LAYER_DIMS):\n",
    "                cur_layer = tf.layers.dense(\n",
    "                  cur_layer,\n",
    "                  units=layer_width,\n",
    "                  activation=\"tanh\")\n",
    "\n",
    "            logits = tf.layers.dense(cur_layer, units=1)\n",
    "            return logits\n",
    "        return _score_fn"
   ]
  },
  {
   "cell_type": "code",
   "execution_count": 10,
   "metadata": {},
   "outputs": [],
   "source": [
    "def eval_metric_fns():\n",
    "    \"\"\"Returns a dict from name to metric functions.\n",
    "\n",
    "    This can be customized as follows. Care must be taken when handling padded\n",
    "    lists.\n",
    "\n",
    "    def _auc(labels, predictions, features):\n",
    "    is_label_valid = tf_reshape(tf.greater_equal(labels, 0.), [-1, 1])\n",
    "    clean_labels = tf.boolean_mask(tf.reshape(labels, [-1, 1], is_label_valid)\n",
    "    clean_pred = tf.boolean_maks(tf.reshape(predictions, [-1, 1], is_label_valid)\n",
    "    return tf.metrics.auc(clean_labels, tf.sigmoid(clean_pred), ...)\n",
    "    metric_fns[\"auc\"] = _auc\n",
    "\n",
    "    Returns:\n",
    "    A dict mapping from metric name to a metric function with above signature.\n",
    "    \"\"\"\n",
    "    metric_fns = {}\n",
    "    metric_fns.update({\n",
    "      \"metric/ndcg@%d\" % topn: tfr.metrics.make_ranking_metric_fn(\n",
    "          tfr.metrics.RankingMetricKey.NDCG, topn=topn)\n",
    "      for topn in [1, 3, 5, 10]\n",
    "    })\n",
    "\n",
    "    return metric_fns"
   ]
  },
  {
   "cell_type": "code",
   "execution_count": 11,
   "metadata": {},
   "outputs": [],
   "source": [
    "def get_estimator(hparams, mode):\n",
    "    \"\"\"Create a ranking estimator.\n",
    "\n",
    "    Args:\n",
    "    hparams: (tf.contrib.training.HParams) a hyperparameters object.\n",
    "\n",
    "    Returns:\n",
    "    tf.learn `Estimator`.\n",
    "    \"\"\"\n",
    "    def _train_op_fn(loss):\n",
    "        \"\"\"Defines train op used in ranking head.\"\"\"\n",
    "        return tf.contrib.layers.optimize_loss(\n",
    "            loss=loss,\n",
    "            global_step=tf.train.get_global_step(),\n",
    "            learning_rate=hparams.learning_rate,\n",
    "            optimizer=\"Adagrad\")\n",
    "\n",
    "    ranking_head = tfr.head.create_ranking_head(\n",
    "      loss_fn=tfr.losses.make_loss_fn(_LOSS),\n",
    "      eval_metric_fns=eval_metric_fns(),\n",
    "      train_op_fn=_train_op_fn)\n",
    "\n",
    "    return tf.estimator.Estimator(\n",
    "      model_fn=tfr.model.make_groupwise_ranking_fn(\n",
    "          group_score_fn=make_score_fn(mode),\n",
    "          group_size=1,\n",
    "          transform_fn=None,\n",
    "          ranking_head=ranking_head),\n",
    "        params=hparams)"
   ]
  },
  {
   "cell_type": "code",
   "execution_count": 12,
   "metadata": {},
   "outputs": [
    {
     "name": "stdout",
     "output_type": "stream",
     "text": [
      "INFO:tensorflow:Using default config.\n",
      "WARNING:tensorflow:Using temporary folder as model directory: /tmp/tmplaniofvd\n",
      "INFO:tensorflow:Using config: {'_model_dir': '/tmp/tmplaniofvd', '_tf_random_seed': None, '_save_summary_steps': 100, '_save_checkpoints_steps': None, '_save_checkpoints_secs': 600, '_session_config': allow_soft_placement: true\n",
      "graph_options {\n",
      "  rewrite_options {\n",
      "    meta_optimizer_iterations: ONE\n",
      "  }\n",
      "}\n",
      ", '_keep_checkpoint_max': 5, '_keep_checkpoint_every_n_hours': 10000, '_log_step_count_steps': 100, '_train_distribute': None, '_device_fn': None, '_protocol': None, '_eval_distribute': None, '_experimental_distribute': None, '_service': None, '_cluster_spec': <tensorflow.python.training.server_lib.ClusterSpec object at 0x7f6044364a20>, '_task_type': 'worker', '_task_id': 0, '_global_id_in_cluster': 0, '_master': '', '_evaluation_master': '', '_is_chief': True, '_num_ps_replicas': 0, '_num_worker_replicas': 1}\n"
     ]
    }
   ],
   "source": [
    "hparams = tf.contrib.training.HParams(learning_rate=0.05)\n",
    "ranker = get_estimator(hparams, tf.estimator.ModeKeys.TRAIN)"
   ]
  },
  {
   "cell_type": "code",
   "execution_count": 13,
   "metadata": {
    "scrolled": false
   },
   "outputs": [
    {
     "name": "stdout",
     "output_type": "stream",
     "text": [
      "INFO:tensorflow:Calling model_fn.\n",
      "INFO:tensorflow:Use groupwise dnn v2.\n",
      "WARNING:tensorflow:From /home/sandro/.local/lib/python3.7/site-packages/tensorflow_ranking/python/model.py:102: to_int32 (from tensorflow.python.ops.math_ops) is deprecated and will be removed in a future version.\n",
      "Instructions for updating:\n",
      "Use tf.cast instead.\n",
      "WARNING:tensorflow:From <ipython-input-9-ffe7bc172bfc>:21: flatten (from tensorflow.python.layers.core) is deprecated and will be removed in a future version.\n",
      "Instructions for updating:\n",
      "Use keras.layers.flatten instead.\n",
      "MAKE SCORE FUNCTION:\n",
      "[<tf.Tensor 'groupwise_dnn_v2/group_score/flatten/Reshape:0' shape=(?, 1) dtype=float32>, <tf.Tensor 'groupwise_dnn_v2/group_score/flatten_1/Reshape:0' shape=(?, 1) dtype=float32>, <tf.Tensor 'groupwise_dnn_v2/group_score/flatten_2/Reshape:0' shape=(?, 1) dtype=float32>, <tf.Tensor 'groupwise_dnn_v2/group_score/flatten_3/Reshape:0' shape=(?, 1) dtype=float32>]\n",
      "WARNING:tensorflow:From <ipython-input-9-ffe7bc172bfc>:32: dense (from tensorflow.python.layers.core) is deprecated and will be removed in a future version.\n",
      "Instructions for updating:\n",
      "Use keras.layers.dense instead.\n",
      "WARNING:tensorflow:From /home/sandro/.local/lib/python3.7/site-packages/tensorflow_ranking/python/model.py:268: to_float (from tensorflow.python.ops.math_ops) is deprecated and will be removed in a future version.\n",
      "Instructions for updating:\n",
      "Use tf.cast instead.\n",
      "INFO:tensorflow:Done calling model_fn.\n",
      "INFO:tensorflow:Create CheckpointSaverHook.\n",
      "INFO:tensorflow:Graph was finalized.\n"
     ]
    },
    {
     "name": "stderr",
     "output_type": "stream",
     "text": [
      "/home/sandro/anaconda3/envs/tf_ranking/lib/python3.7/site-packages/tensorflow/python/ops/gradients_impl.py:110: UserWarning: Converting sparse IndexedSlices to a dense Tensor of unknown shape. This may consume a large amount of memory.\n",
      "  \"Converting sparse IndexedSlices to a dense Tensor of unknown shape. \"\n"
     ]
    },
    {
     "name": "stdout",
     "output_type": "stream",
     "text": [
      "INFO:tensorflow:Running local_init_op.\n",
      "INFO:tensorflow:Done running local_init_op.\n",
      "INFO:tensorflow:Saving checkpoints for 0 into /tmp/tmplaniofvd/model.ckpt.\n",
      "INFO:tensorflow:loss = 0.6945124, step = 1\n",
      "INFO:tensorflow:Saving checkpoints for 100 into /tmp/tmplaniofvd/model.ckpt.\n",
      "INFO:tensorflow:Loss for final step: 0.25966698.\n"
     ]
    },
    {
     "data": {
      "text/plain": [
       "<tensorflow_estimator.python.estimator.estimator.Estimator at 0x7f6044364208>"
      ]
     },
     "execution_count": 13,
     "metadata": {},
     "output_type": "execute_result"
    }
   ],
   "source": [
    "ranker.train(input_fn=lambda: input_fn(_TRAIN_DATA_PATH), steps=100)"
   ]
  },
  {
   "cell_type": "code",
   "execution_count": 14,
   "metadata": {
    "scrolled": true
   },
   "outputs": [
    {
     "name": "stdout",
     "output_type": "stream",
     "text": [
      "0 qid:2629085 1:9 2:13207 3:2790 4:400\n",
      "\n",
      "1 qid:2629085 1:3 2:8175 3:1656 4:700\n",
      "\n",
      "0 qid:2629085 1:4 2:8175 3:1776 4:2700\n",
      "\n",
      "0 qid:2629085 1:10 2:9620 3:2424 4:1600\n",
      "\n",
      "0 qid:2629085 1:6 2:8079 3:2443 4:700\n",
      "\n",
      "0 qid:2629085 1:7 2:13428 3:3777 4:800\n",
      "\n",
      "1 qid:2848914 1:1 2:53156 3:6456 4:700\n",
      "\n",
      "0 qid:2848914 1:3 2:48112 3:3535 4:700\n",
      "\n",
      "0 qid:2848914 1:4 2:48112 3:3655 4:16500\n",
      "\n",
      "1 qid:2848914 1:1 2:51641 3:8871 4:1200\n",
      "\n"
     ]
    }
   ],
   "source": [
    "fo = open(_TEST_DATA_PATH)\n",
    "i=0\n",
    "for f in fo:\n",
    "    if i != 10:\n",
    "        print(f)\n",
    "    else:\n",
    "        break\n",
    "    i+=1"
   ]
  },
  {
   "cell_type": "code",
   "execution_count": 15,
   "metadata": {},
   "outputs": [],
   "source": [
    "preds = ranker.predict(input_fn=lambda: input_fn(_TEST_DATA_PATH))"
   ]
  },
  {
   "cell_type": "code",
   "execution_count": 16,
   "metadata": {},
   "outputs": [
    {
     "data": {
      "text/plain": [
       "generator"
      ]
     },
     "execution_count": 16,
     "metadata": {},
     "output_type": "execute_result"
    }
   ],
   "source": [
    "type(preds)"
   ]
  },
  {
   "cell_type": "code",
   "execution_count": 17,
   "metadata": {},
   "outputs": [
    {
     "name": "stdout",
     "output_type": "stream",
     "text": [
      "INFO:tensorflow:Calling model_fn.\n",
      "INFO:tensorflow:Use groupwise dnn v2.\n",
      "MAKE SCORE FUNCTION:\n",
      "[<tf.Tensor 'groupwise_dnn_v2/group_score/flatten/Reshape:0' shape=(?, 1) dtype=float32>, <tf.Tensor 'groupwise_dnn_v2/group_score/flatten_1/Reshape:0' shape=(?, 1) dtype=float32>, <tf.Tensor 'groupwise_dnn_v2/group_score/flatten_2/Reshape:0' shape=(?, 1) dtype=float32>, <tf.Tensor 'groupwise_dnn_v2/group_score/flatten_3/Reshape:0' shape=(?, 1) dtype=float32>]\n",
      "INFO:tensorflow:Done calling model_fn.\n",
      "INFO:tensorflow:Graph was finalized.\n",
      "WARNING:tensorflow:From /home/sandro/anaconda3/envs/tf_ranking/lib/python3.7/site-packages/tensorflow/python/training/saver.py:1266: checkpoint_exists (from tensorflow.python.training.checkpoint_management) is deprecated and will be removed in a future version.\n",
      "Instructions for updating:\n",
      "Use standard file APIs to check for files with this prefix.\n",
      "INFO:tensorflow:Restoring parameters from /tmp/tmplaniofvd/model.ckpt-100\n",
      "INFO:tensorflow:Running local_init_op.\n",
      "INFO:tensorflow:Done running local_init_op.\n"
     ]
    },
    {
     "data": {
      "text/plain": [
       "array([-2.0263803, -2.0263803,  1.2206907, -2.0263803, -2.0263803],\n",
       "      dtype=float32)"
      ]
     },
     "execution_count": 17,
     "metadata": {},
     "output_type": "execute_result"
    }
   ],
   "source": [
    "next(preds)"
   ]
  },
  {
   "cell_type": "markdown",
   "metadata": {},
   "source": [
    "Nimm zu einer query die predictions, höchste pred transport mode "
   ]
  },
  {
   "cell_type": "code",
   "execution_count": 18,
   "metadata": {
    "scrolled": false
   },
   "outputs": [
    {
     "name": "stdout",
     "output_type": "stream",
     "text": [
      "0\n",
      "[4.226252   0.44031858 4.226252   4.226252   0.01470059]\n",
      "1\n",
      "[4.226252   0.44031858 4.226252   4.226252   0.01470059]\n",
      "2\n",
      "[ 1.2206907  1.2206907 -2.0263803 -2.0263803 -2.0263803]\n",
      "3\n",
      "[-2.0263803 -2.0263803  1.2206907 -2.0263803  1.2206907]\n",
      "4\n",
      "[4.226252   0.44031858 4.226252   4.226252   0.01470059]\n",
      "5\n",
      "[-2.0263803  1.2206907 -2.0263803  1.2206907 -2.0263803]\n",
      "6\n",
      "[0.44031858 4.226252   4.226252   4.226252   0.01470059]\n",
      "7\n",
      "[4.226252   4.226252   0.44031858 4.226252   0.01470059]\n",
      "8\n",
      "[-2.0263803  1.2206907 -2.0263803 -2.0263803 -2.0263803]\n",
      "9\n",
      "[-2.0263803  1.2206907  1.2206907 -2.0263803 -2.0263803]\n",
      "10\n",
      "[4.226252   4.226252   4.226252   0.44031858 0.01470059]\n",
      "11\n",
      "[4.226252   4.226252   0.44031858 4.226252   0.01470059]\n",
      "12\n",
      "[ 1.2206907 -2.0263803 -2.0263803 -2.0263803  1.2206907]\n",
      "13\n",
      "[4.226252   4.226252   4.226252   0.44031858 0.01470059]\n",
      "14\n",
      "[ 1.2206907 -2.0263803  1.2206907 -2.0263803 -2.0263803]\n",
      "15\n",
      "[-2.0263803 -2.0263803 -2.0263803  1.2206907 -2.0263803]\n",
      "16\n",
      "[4.226252   0.44031858 4.226252   4.226252   0.01470059]\n",
      "17\n",
      "[4.226252   4.226252   4.226252   0.44031858 0.01470059]\n",
      "18\n",
      "[-2.0263803  1.2206907  1.2206907 -2.0263803 -2.0263803]\n",
      "19\n",
      "[-2.0263803 -2.0263803  1.2206907  1.2206907 -2.0263803]\n"
     ]
    }
   ],
   "source": [
    "count=0\n",
    "for i in preds:\n",
    "    print(count)\n",
    "    print(i)\n",
    "\n",
    "    count+=1\n",
    "    if count == 20:\n",
    "        break"
   ]
  },
  {
   "cell_type": "code",
   "execution_count": 19,
   "metadata": {},
   "outputs": [],
   "source": [
    "import pandas as pd"
   ]
  },
  {
   "cell_type": "code",
   "execution_count": 20,
   "metadata": {},
   "outputs": [],
   "source": [
    "test_X = pd.read_pickle(\"../data/interim/test_10.pickle\")"
   ]
  },
  {
   "cell_type": "code",
   "execution_count": 21,
   "metadata": {},
   "outputs": [
    {
     "data": {
      "text/html": [
       "<div>\n",
       "<style scoped>\n",
       "    .dataframe tbody tr th:only-of-type {\n",
       "        vertical-align: middle;\n",
       "    }\n",
       "\n",
       "    .dataframe tbody tr th {\n",
       "        vertical-align: top;\n",
       "    }\n",
       "\n",
       "    .dataframe thead th {\n",
       "        text-align: right;\n",
       "    }\n",
       "</style>\n",
       "<table border=\"1\" class=\"dataframe\">\n",
       "  <thead>\n",
       "    <tr style=\"text-align: right;\">\n",
       "      <th></th>\n",
       "      <th>sid</th>\n",
       "      <th>click_time</th>\n",
       "      <th>click_mode</th>\n",
       "      <th>distance_plan</th>\n",
       "      <th>eta</th>\n",
       "      <th>price</th>\n",
       "      <th>transport_mode</th>\n",
       "      <th>plan_time</th>\n",
       "      <th>pid</th>\n",
       "      <th>req_time</th>\n",
       "      <th>o_long</th>\n",
       "      <th>o_lat</th>\n",
       "      <th>d_long</th>\n",
       "      <th>d_lat</th>\n",
       "      <th>distance_query</th>\n",
       "      <th>target</th>\n",
       "    </tr>\n",
       "  </thead>\n",
       "  <tbody>\n",
       "    <tr>\n",
       "      <th>4</th>\n",
       "      <td>2629085</td>\n",
       "      <td>2018-10-12 16:28:13</td>\n",
       "      <td>3</td>\n",
       "      <td>13207</td>\n",
       "      <td>2790</td>\n",
       "      <td>400.0</td>\n",
       "      <td>9</td>\n",
       "      <td>2018-10-12 16:27:55</td>\n",
       "      <td>203797.0</td>\n",
       "      <td>2018-10-12 16:27:55</td>\n",
       "      <td>116.35</td>\n",
       "      <td>40.08</td>\n",
       "      <td>116.33</td>\n",
       "      <td>40.03</td>\n",
       "      <td>5.808139</td>\n",
       "      <td>0</td>\n",
       "    </tr>\n",
       "    <tr>\n",
       "      <th>5</th>\n",
       "      <td>2629085</td>\n",
       "      <td>2018-10-12 16:28:13</td>\n",
       "      <td>3</td>\n",
       "      <td>8175</td>\n",
       "      <td>1656</td>\n",
       "      <td>700.0</td>\n",
       "      <td>3</td>\n",
       "      <td>2018-10-12 16:27:55</td>\n",
       "      <td>203797.0</td>\n",
       "      <td>2018-10-12 16:27:55</td>\n",
       "      <td>116.35</td>\n",
       "      <td>40.08</td>\n",
       "      <td>116.33</td>\n",
       "      <td>40.03</td>\n",
       "      <td>5.808139</td>\n",
       "      <td>1</td>\n",
       "    </tr>\n",
       "    <tr>\n",
       "      <th>6</th>\n",
       "      <td>2629085</td>\n",
       "      <td>2018-10-12 16:28:13</td>\n",
       "      <td>3</td>\n",
       "      <td>8175</td>\n",
       "      <td>1776</td>\n",
       "      <td>2700.0</td>\n",
       "      <td>4</td>\n",
       "      <td>2018-10-12 16:27:55</td>\n",
       "      <td>203797.0</td>\n",
       "      <td>2018-10-12 16:27:55</td>\n",
       "      <td>116.35</td>\n",
       "      <td>40.08</td>\n",
       "      <td>116.33</td>\n",
       "      <td>40.03</td>\n",
       "      <td>5.808139</td>\n",
       "      <td>0</td>\n",
       "    </tr>\n",
       "    <tr>\n",
       "      <th>7</th>\n",
       "      <td>2629085</td>\n",
       "      <td>2018-10-12 16:28:13</td>\n",
       "      <td>3</td>\n",
       "      <td>9620</td>\n",
       "      <td>2424</td>\n",
       "      <td>1600.0</td>\n",
       "      <td>10</td>\n",
       "      <td>2018-10-12 16:27:55</td>\n",
       "      <td>203797.0</td>\n",
       "      <td>2018-10-12 16:27:55</td>\n",
       "      <td>116.35</td>\n",
       "      <td>40.08</td>\n",
       "      <td>116.33</td>\n",
       "      <td>40.03</td>\n",
       "      <td>5.808139</td>\n",
       "      <td>0</td>\n",
       "    </tr>\n",
       "    <tr>\n",
       "      <th>8</th>\n",
       "      <td>2629085</td>\n",
       "      <td>2018-10-12 16:28:13</td>\n",
       "      <td>3</td>\n",
       "      <td>8079</td>\n",
       "      <td>2443</td>\n",
       "      <td>700.0</td>\n",
       "      <td>6</td>\n",
       "      <td>2018-10-12 16:27:55</td>\n",
       "      <td>203797.0</td>\n",
       "      <td>2018-10-12 16:27:55</td>\n",
       "      <td>116.35</td>\n",
       "      <td>40.08</td>\n",
       "      <td>116.33</td>\n",
       "      <td>40.03</td>\n",
       "      <td>5.808139</td>\n",
       "      <td>0</td>\n",
       "    </tr>\n",
       "    <tr>\n",
       "      <th>9</th>\n",
       "      <td>2629085</td>\n",
       "      <td>2018-10-12 16:28:13</td>\n",
       "      <td>3</td>\n",
       "      <td>13428</td>\n",
       "      <td>3777</td>\n",
       "      <td>800.0</td>\n",
       "      <td>7</td>\n",
       "      <td>2018-10-12 16:27:55</td>\n",
       "      <td>203797.0</td>\n",
       "      <td>2018-10-12 16:27:55</td>\n",
       "      <td>116.35</td>\n",
       "      <td>40.08</td>\n",
       "      <td>116.33</td>\n",
       "      <td>40.03</td>\n",
       "      <td>5.808139</td>\n",
       "      <td>0</td>\n",
       "    </tr>\n",
       "    <tr>\n",
       "      <th>0</th>\n",
       "      <td>2848914</td>\n",
       "      <td>2018-11-17 18:42:17</td>\n",
       "      <td>1</td>\n",
       "      <td>53156</td>\n",
       "      <td>6456</td>\n",
       "      <td>700.0</td>\n",
       "      <td>1</td>\n",
       "      <td>2018-11-17 12:56:15</td>\n",
       "      <td>101804.0</td>\n",
       "      <td>2018-11-17 12:56:15</td>\n",
       "      <td>116.36</td>\n",
       "      <td>40.07</td>\n",
       "      <td>116.00</td>\n",
       "      <td>40.35</td>\n",
       "      <td>43.656570</td>\n",
       "      <td>1</td>\n",
       "    </tr>\n",
       "    <tr>\n",
       "      <th>1</th>\n",
       "      <td>2848914</td>\n",
       "      <td>2018-11-17 18:42:17</td>\n",
       "      <td>1</td>\n",
       "      <td>48112</td>\n",
       "      <td>3535</td>\n",
       "      <td>700.0</td>\n",
       "      <td>3</td>\n",
       "      <td>2018-11-17 12:56:15</td>\n",
       "      <td>101804.0</td>\n",
       "      <td>2018-11-17 12:56:15</td>\n",
       "      <td>116.36</td>\n",
       "      <td>40.07</td>\n",
       "      <td>116.00</td>\n",
       "      <td>40.35</td>\n",
       "      <td>43.656570</td>\n",
       "      <td>0</td>\n",
       "    </tr>\n",
       "    <tr>\n",
       "      <th>2</th>\n",
       "      <td>2848914</td>\n",
       "      <td>2018-11-17 18:42:17</td>\n",
       "      <td>1</td>\n",
       "      <td>48112</td>\n",
       "      <td>3655</td>\n",
       "      <td>16500.0</td>\n",
       "      <td>4</td>\n",
       "      <td>2018-11-17 12:56:15</td>\n",
       "      <td>101804.0</td>\n",
       "      <td>2018-11-17 12:56:15</td>\n",
       "      <td>116.36</td>\n",
       "      <td>40.07</td>\n",
       "      <td>116.00</td>\n",
       "      <td>40.35</td>\n",
       "      <td>43.656570</td>\n",
       "      <td>0</td>\n",
       "    </tr>\n",
       "    <tr>\n",
       "      <th>3</th>\n",
       "      <td>2848914</td>\n",
       "      <td>2018-11-17 18:42:17</td>\n",
       "      <td>1</td>\n",
       "      <td>51641</td>\n",
       "      <td>8871</td>\n",
       "      <td>1200.0</td>\n",
       "      <td>1</td>\n",
       "      <td>2018-11-17 12:56:15</td>\n",
       "      <td>101804.0</td>\n",
       "      <td>2018-11-17 12:56:15</td>\n",
       "      <td>116.36</td>\n",
       "      <td>40.07</td>\n",
       "      <td>116.00</td>\n",
       "      <td>40.35</td>\n",
       "      <td>43.656570</td>\n",
       "      <td>1</td>\n",
       "    </tr>\n",
       "  </tbody>\n",
       "</table>\n",
       "</div>"
      ],
      "text/plain": [
       "       sid           click_time  click_mode  distance_plan   eta    price  \\\n",
       "4  2629085  2018-10-12 16:28:13           3          13207  2790    400.0   \n",
       "5  2629085  2018-10-12 16:28:13           3           8175  1656    700.0   \n",
       "6  2629085  2018-10-12 16:28:13           3           8175  1776   2700.0   \n",
       "7  2629085  2018-10-12 16:28:13           3           9620  2424   1600.0   \n",
       "8  2629085  2018-10-12 16:28:13           3           8079  2443    700.0   \n",
       "9  2629085  2018-10-12 16:28:13           3          13428  3777    800.0   \n",
       "0  2848914  2018-11-17 18:42:17           1          53156  6456    700.0   \n",
       "1  2848914  2018-11-17 18:42:17           1          48112  3535    700.0   \n",
       "2  2848914  2018-11-17 18:42:17           1          48112  3655  16500.0   \n",
       "3  2848914  2018-11-17 18:42:17           1          51641  8871   1200.0   \n",
       "\n",
       "   transport_mode            plan_time       pid             req_time  o_long  \\\n",
       "4               9  2018-10-12 16:27:55  203797.0  2018-10-12 16:27:55  116.35   \n",
       "5               3  2018-10-12 16:27:55  203797.0  2018-10-12 16:27:55  116.35   \n",
       "6               4  2018-10-12 16:27:55  203797.0  2018-10-12 16:27:55  116.35   \n",
       "7              10  2018-10-12 16:27:55  203797.0  2018-10-12 16:27:55  116.35   \n",
       "8               6  2018-10-12 16:27:55  203797.0  2018-10-12 16:27:55  116.35   \n",
       "9               7  2018-10-12 16:27:55  203797.0  2018-10-12 16:27:55  116.35   \n",
       "0               1  2018-11-17 12:56:15  101804.0  2018-11-17 12:56:15  116.36   \n",
       "1               3  2018-11-17 12:56:15  101804.0  2018-11-17 12:56:15  116.36   \n",
       "2               4  2018-11-17 12:56:15  101804.0  2018-11-17 12:56:15  116.36   \n",
       "3               1  2018-11-17 12:56:15  101804.0  2018-11-17 12:56:15  116.36   \n",
       "\n",
       "   o_lat  d_long  d_lat  distance_query  target  \n",
       "4  40.08  116.33  40.03        5.808139       0  \n",
       "5  40.08  116.33  40.03        5.808139       1  \n",
       "6  40.08  116.33  40.03        5.808139       0  \n",
       "7  40.08  116.33  40.03        5.808139       0  \n",
       "8  40.08  116.33  40.03        5.808139       0  \n",
       "9  40.08  116.33  40.03        5.808139       0  \n",
       "0  40.07  116.00  40.35       43.656570       1  \n",
       "1  40.07  116.00  40.35       43.656570       0  \n",
       "2  40.07  116.00  40.35       43.656570       0  \n",
       "3  40.07  116.00  40.35       43.656570       1  "
      ]
     },
     "execution_count": 21,
     "metadata": {},
     "output_type": "execute_result"
    }
   ],
   "source": [
    "test_X"
   ]
  },
  {
   "cell_type": "code",
   "execution_count": 22,
   "metadata": {},
   "outputs": [],
   "source": [
    "query_10 = pd.read_pickle(\"../data/interim/query.pickle\")"
   ]
  },
  {
   "cell_type": "code",
   "execution_count": 23,
   "metadata": {},
   "outputs": [
    {
     "data": {
      "text/plain": [
       "969006    3260337\n",
       "969003    3260337\n",
       "969008    3260337\n",
       "969007    3260337\n",
       "969005    3260337\n",
       "3033      3260360\n",
       "3035      3260360\n",
       "3034      3260360\n",
       "141189    3260361\n",
       "141185    3260361\n",
       "Name: sid, dtype: int64"
      ]
     },
     "execution_count": 23,
     "metadata": {},
     "output_type": "execute_result"
    }
   ],
   "source": [
    "query_10"
   ]
  },
  {
   "cell_type": "code",
   "execution_count": 24,
   "metadata": {},
   "outputs": [
    {
     "data": {
      "text/html": [
       "<div>\n",
       "<style scoped>\n",
       "    .dataframe tbody tr th:only-of-type {\n",
       "        vertical-align: middle;\n",
       "    }\n",
       "\n",
       "    .dataframe tbody tr th {\n",
       "        vertical-align: top;\n",
       "    }\n",
       "\n",
       "    .dataframe thead th {\n",
       "        text-align: right;\n",
       "    }\n",
       "</style>\n",
       "<table border=\"1\" class=\"dataframe\">\n",
       "  <thead>\n",
       "    <tr style=\"text-align: right;\">\n",
       "      <th></th>\n",
       "      <th>sid</th>\n",
       "      <th>click_time</th>\n",
       "      <th>click_mode</th>\n",
       "      <th>distance_plan</th>\n",
       "      <th>eta</th>\n",
       "      <th>price</th>\n",
       "      <th>transport_mode</th>\n",
       "      <th>plan_time</th>\n",
       "      <th>pid</th>\n",
       "      <th>req_time</th>\n",
       "      <th>o_long</th>\n",
       "      <th>o_lat</th>\n",
       "      <th>d_long</th>\n",
       "      <th>d_lat</th>\n",
       "      <th>distance_query</th>\n",
       "      <th>target</th>\n",
       "    </tr>\n",
       "  </thead>\n",
       "  <tbody>\n",
       "    <tr>\n",
       "      <th>4</th>\n",
       "      <td>2629085</td>\n",
       "      <td>2018-10-12 16:28:13</td>\n",
       "      <td>3</td>\n",
       "      <td>13207</td>\n",
       "      <td>2790</td>\n",
       "      <td>400.0</td>\n",
       "      <td>9</td>\n",
       "      <td>2018-10-12 16:27:55</td>\n",
       "      <td>203797.0</td>\n",
       "      <td>2018-10-12 16:27:55</td>\n",
       "      <td>116.35</td>\n",
       "      <td>40.08</td>\n",
       "      <td>116.33</td>\n",
       "      <td>40.03</td>\n",
       "      <td>5.808139</td>\n",
       "      <td>0</td>\n",
       "    </tr>\n",
       "    <tr>\n",
       "      <th>5</th>\n",
       "      <td>2629085</td>\n",
       "      <td>2018-10-12 16:28:13</td>\n",
       "      <td>3</td>\n",
       "      <td>8175</td>\n",
       "      <td>1656</td>\n",
       "      <td>700.0</td>\n",
       "      <td>3</td>\n",
       "      <td>2018-10-12 16:27:55</td>\n",
       "      <td>203797.0</td>\n",
       "      <td>2018-10-12 16:27:55</td>\n",
       "      <td>116.35</td>\n",
       "      <td>40.08</td>\n",
       "      <td>116.33</td>\n",
       "      <td>40.03</td>\n",
       "      <td>5.808139</td>\n",
       "      <td>1</td>\n",
       "    </tr>\n",
       "    <tr>\n",
       "      <th>6</th>\n",
       "      <td>2629085</td>\n",
       "      <td>2018-10-12 16:28:13</td>\n",
       "      <td>3</td>\n",
       "      <td>8175</td>\n",
       "      <td>1776</td>\n",
       "      <td>2700.0</td>\n",
       "      <td>4</td>\n",
       "      <td>2018-10-12 16:27:55</td>\n",
       "      <td>203797.0</td>\n",
       "      <td>2018-10-12 16:27:55</td>\n",
       "      <td>116.35</td>\n",
       "      <td>40.08</td>\n",
       "      <td>116.33</td>\n",
       "      <td>40.03</td>\n",
       "      <td>5.808139</td>\n",
       "      <td>0</td>\n",
       "    </tr>\n",
       "    <tr>\n",
       "      <th>7</th>\n",
       "      <td>2629085</td>\n",
       "      <td>2018-10-12 16:28:13</td>\n",
       "      <td>3</td>\n",
       "      <td>9620</td>\n",
       "      <td>2424</td>\n",
       "      <td>1600.0</td>\n",
       "      <td>10</td>\n",
       "      <td>2018-10-12 16:27:55</td>\n",
       "      <td>203797.0</td>\n",
       "      <td>2018-10-12 16:27:55</td>\n",
       "      <td>116.35</td>\n",
       "      <td>40.08</td>\n",
       "      <td>116.33</td>\n",
       "      <td>40.03</td>\n",
       "      <td>5.808139</td>\n",
       "      <td>0</td>\n",
       "    </tr>\n",
       "    <tr>\n",
       "      <th>8</th>\n",
       "      <td>2629085</td>\n",
       "      <td>2018-10-12 16:28:13</td>\n",
       "      <td>3</td>\n",
       "      <td>8079</td>\n",
       "      <td>2443</td>\n",
       "      <td>700.0</td>\n",
       "      <td>6</td>\n",
       "      <td>2018-10-12 16:27:55</td>\n",
       "      <td>203797.0</td>\n",
       "      <td>2018-10-12 16:27:55</td>\n",
       "      <td>116.35</td>\n",
       "      <td>40.08</td>\n",
       "      <td>116.33</td>\n",
       "      <td>40.03</td>\n",
       "      <td>5.808139</td>\n",
       "      <td>0</td>\n",
       "    </tr>\n",
       "    <tr>\n",
       "      <th>9</th>\n",
       "      <td>2629085</td>\n",
       "      <td>2018-10-12 16:28:13</td>\n",
       "      <td>3</td>\n",
       "      <td>13428</td>\n",
       "      <td>3777</td>\n",
       "      <td>800.0</td>\n",
       "      <td>7</td>\n",
       "      <td>2018-10-12 16:27:55</td>\n",
       "      <td>203797.0</td>\n",
       "      <td>2018-10-12 16:27:55</td>\n",
       "      <td>116.35</td>\n",
       "      <td>40.08</td>\n",
       "      <td>116.33</td>\n",
       "      <td>40.03</td>\n",
       "      <td>5.808139</td>\n",
       "      <td>0</td>\n",
       "    </tr>\n",
       "    <tr>\n",
       "      <th>0</th>\n",
       "      <td>2848914</td>\n",
       "      <td>2018-11-17 18:42:17</td>\n",
       "      <td>1</td>\n",
       "      <td>53156</td>\n",
       "      <td>6456</td>\n",
       "      <td>700.0</td>\n",
       "      <td>1</td>\n",
       "      <td>2018-11-17 12:56:15</td>\n",
       "      <td>101804.0</td>\n",
       "      <td>2018-11-17 12:56:15</td>\n",
       "      <td>116.36</td>\n",
       "      <td>40.07</td>\n",
       "      <td>116.00</td>\n",
       "      <td>40.35</td>\n",
       "      <td>43.656570</td>\n",
       "      <td>1</td>\n",
       "    </tr>\n",
       "    <tr>\n",
       "      <th>1</th>\n",
       "      <td>2848914</td>\n",
       "      <td>2018-11-17 18:42:17</td>\n",
       "      <td>1</td>\n",
       "      <td>48112</td>\n",
       "      <td>3535</td>\n",
       "      <td>700.0</td>\n",
       "      <td>3</td>\n",
       "      <td>2018-11-17 12:56:15</td>\n",
       "      <td>101804.0</td>\n",
       "      <td>2018-11-17 12:56:15</td>\n",
       "      <td>116.36</td>\n",
       "      <td>40.07</td>\n",
       "      <td>116.00</td>\n",
       "      <td>40.35</td>\n",
       "      <td>43.656570</td>\n",
       "      <td>0</td>\n",
       "    </tr>\n",
       "    <tr>\n",
       "      <th>2</th>\n",
       "      <td>2848914</td>\n",
       "      <td>2018-11-17 18:42:17</td>\n",
       "      <td>1</td>\n",
       "      <td>48112</td>\n",
       "      <td>3655</td>\n",
       "      <td>16500.0</td>\n",
       "      <td>4</td>\n",
       "      <td>2018-11-17 12:56:15</td>\n",
       "      <td>101804.0</td>\n",
       "      <td>2018-11-17 12:56:15</td>\n",
       "      <td>116.36</td>\n",
       "      <td>40.07</td>\n",
       "      <td>116.00</td>\n",
       "      <td>40.35</td>\n",
       "      <td>43.656570</td>\n",
       "      <td>0</td>\n",
       "    </tr>\n",
       "    <tr>\n",
       "      <th>3</th>\n",
       "      <td>2848914</td>\n",
       "      <td>2018-11-17 18:42:17</td>\n",
       "      <td>1</td>\n",
       "      <td>51641</td>\n",
       "      <td>8871</td>\n",
       "      <td>1200.0</td>\n",
       "      <td>1</td>\n",
       "      <td>2018-11-17 12:56:15</td>\n",
       "      <td>101804.0</td>\n",
       "      <td>2018-11-17 12:56:15</td>\n",
       "      <td>116.36</td>\n",
       "      <td>40.07</td>\n",
       "      <td>116.00</td>\n",
       "      <td>40.35</td>\n",
       "      <td>43.656570</td>\n",
       "      <td>1</td>\n",
       "    </tr>\n",
       "  </tbody>\n",
       "</table>\n",
       "</div>"
      ],
      "text/plain": [
       "       sid           click_time  click_mode  distance_plan   eta    price  \\\n",
       "4  2629085  2018-10-12 16:28:13           3          13207  2790    400.0   \n",
       "5  2629085  2018-10-12 16:28:13           3           8175  1656    700.0   \n",
       "6  2629085  2018-10-12 16:28:13           3           8175  1776   2700.0   \n",
       "7  2629085  2018-10-12 16:28:13           3           9620  2424   1600.0   \n",
       "8  2629085  2018-10-12 16:28:13           3           8079  2443    700.0   \n",
       "9  2629085  2018-10-12 16:28:13           3          13428  3777    800.0   \n",
       "0  2848914  2018-11-17 18:42:17           1          53156  6456    700.0   \n",
       "1  2848914  2018-11-17 18:42:17           1          48112  3535    700.0   \n",
       "2  2848914  2018-11-17 18:42:17           1          48112  3655  16500.0   \n",
       "3  2848914  2018-11-17 18:42:17           1          51641  8871   1200.0   \n",
       "\n",
       "   transport_mode            plan_time       pid             req_time  o_long  \\\n",
       "4               9  2018-10-12 16:27:55  203797.0  2018-10-12 16:27:55  116.35   \n",
       "5               3  2018-10-12 16:27:55  203797.0  2018-10-12 16:27:55  116.35   \n",
       "6               4  2018-10-12 16:27:55  203797.0  2018-10-12 16:27:55  116.35   \n",
       "7              10  2018-10-12 16:27:55  203797.0  2018-10-12 16:27:55  116.35   \n",
       "8               6  2018-10-12 16:27:55  203797.0  2018-10-12 16:27:55  116.35   \n",
       "9               7  2018-10-12 16:27:55  203797.0  2018-10-12 16:27:55  116.35   \n",
       "0               1  2018-11-17 12:56:15  101804.0  2018-11-17 12:56:15  116.36   \n",
       "1               3  2018-11-17 12:56:15  101804.0  2018-11-17 12:56:15  116.36   \n",
       "2               4  2018-11-17 12:56:15  101804.0  2018-11-17 12:56:15  116.36   \n",
       "3               1  2018-11-17 12:56:15  101804.0  2018-11-17 12:56:15  116.36   \n",
       "\n",
       "   o_lat  d_long  d_lat  distance_query  target  \n",
       "4  40.08  116.33  40.03        5.808139       0  \n",
       "5  40.08  116.33  40.03        5.808139       1  \n",
       "6  40.08  116.33  40.03        5.808139       0  \n",
       "7  40.08  116.33  40.03        5.808139       0  \n",
       "8  40.08  116.33  40.03        5.808139       0  \n",
       "9  40.08  116.33  40.03        5.808139       0  \n",
       "0  40.07  116.00  40.35       43.656570       1  \n",
       "1  40.07  116.00  40.35       43.656570       0  \n",
       "2  40.07  116.00  40.35       43.656570       0  \n",
       "3  40.07  116.00  40.35       43.656570       1  "
      ]
     },
     "execution_count": 24,
     "metadata": {},
     "output_type": "execute_result"
    }
   ],
   "source": [
    "test_X"
   ]
  },
  {
   "cell_type": "code",
   "execution_count": 25,
   "metadata": {},
   "outputs": [
    {
     "name": "stdout",
     "output_type": "stream",
     "text": [
      "0 qid:2629085 1:9 2:13207 3:2790 4:400\n",
      "\n",
      "1 qid:2629085 1:3 2:8175 3:1656 4:700\n",
      "\n",
      "0 qid:2629085 1:4 2:8175 3:1776 4:2700\n",
      "\n",
      "0 qid:2629085 1:10 2:9620 3:2424 4:1600\n",
      "\n",
      "0 qid:2629085 1:6 2:8079 3:2443 4:700\n",
      "\n",
      "0 qid:2629085 1:7 2:13428 3:3777 4:800\n",
      "\n",
      "1 qid:2848914 1:1 2:53156 3:6456 4:700\n",
      "\n",
      "0 qid:2848914 1:3 2:48112 3:3535 4:700\n",
      "\n",
      "0 qid:2848914 1:4 2:48112 3:3655 4:16500\n",
      "\n",
      "1 qid:2848914 1:1 2:51641 3:8871 4:1200\n",
      "\n"
     ]
    }
   ],
   "source": [
    "fo = open('../data/interim/test_10.libsvm')\n",
    "\n",
    "for i in fo:\n",
    "    print(i)"
   ]
  },
  {
   "cell_type": "code",
   "execution_count": 26,
   "metadata": {},
   "outputs": [],
   "source": [
    "X = pd.read_pickle(\"../data/interim/X_10.pickle\")"
   ]
  },
  {
   "cell_type": "code",
   "execution_count": 27,
   "metadata": {},
   "outputs": [
    {
     "data": {
      "text/html": [
       "<div>\n",
       "<style scoped>\n",
       "    .dataframe tbody tr th:only-of-type {\n",
       "        vertical-align: middle;\n",
       "    }\n",
       "\n",
       "    .dataframe tbody tr th {\n",
       "        vertical-align: top;\n",
       "    }\n",
       "\n",
       "    .dataframe thead th {\n",
       "        text-align: right;\n",
       "    }\n",
       "</style>\n",
       "<table border=\"1\" class=\"dataframe\">\n",
       "  <thead>\n",
       "    <tr style=\"text-align: right;\">\n",
       "      <th></th>\n",
       "      <th>transport_mode</th>\n",
       "      <th>distance_plan</th>\n",
       "      <th>eta</th>\n",
       "      <th>price</th>\n",
       "    </tr>\n",
       "  </thead>\n",
       "  <tbody>\n",
       "    <tr>\n",
       "      <th>4</th>\n",
       "      <td>9</td>\n",
       "      <td>13207</td>\n",
       "      <td>2790</td>\n",
       "      <td>400.0</td>\n",
       "    </tr>\n",
       "    <tr>\n",
       "      <th>5</th>\n",
       "      <td>3</td>\n",
       "      <td>8175</td>\n",
       "      <td>1656</td>\n",
       "      <td>700.0</td>\n",
       "    </tr>\n",
       "    <tr>\n",
       "      <th>6</th>\n",
       "      <td>4</td>\n",
       "      <td>8175</td>\n",
       "      <td>1776</td>\n",
       "      <td>2700.0</td>\n",
       "    </tr>\n",
       "    <tr>\n",
       "      <th>7</th>\n",
       "      <td>10</td>\n",
       "      <td>9620</td>\n",
       "      <td>2424</td>\n",
       "      <td>1600.0</td>\n",
       "    </tr>\n",
       "    <tr>\n",
       "      <th>8</th>\n",
       "      <td>6</td>\n",
       "      <td>8079</td>\n",
       "      <td>2443</td>\n",
       "      <td>700.0</td>\n",
       "    </tr>\n",
       "    <tr>\n",
       "      <th>9</th>\n",
       "      <td>7</td>\n",
       "      <td>13428</td>\n",
       "      <td>3777</td>\n",
       "      <td>800.0</td>\n",
       "    </tr>\n",
       "    <tr>\n",
       "      <th>0</th>\n",
       "      <td>1</td>\n",
       "      <td>53156</td>\n",
       "      <td>6456</td>\n",
       "      <td>700.0</td>\n",
       "    </tr>\n",
       "    <tr>\n",
       "      <th>1</th>\n",
       "      <td>3</td>\n",
       "      <td>48112</td>\n",
       "      <td>3535</td>\n",
       "      <td>700.0</td>\n",
       "    </tr>\n",
       "    <tr>\n",
       "      <th>2</th>\n",
       "      <td>4</td>\n",
       "      <td>48112</td>\n",
       "      <td>3655</td>\n",
       "      <td>16500.0</td>\n",
       "    </tr>\n",
       "    <tr>\n",
       "      <th>3</th>\n",
       "      <td>1</td>\n",
       "      <td>51641</td>\n",
       "      <td>8871</td>\n",
       "      <td>1200.0</td>\n",
       "    </tr>\n",
       "  </tbody>\n",
       "</table>\n",
       "</div>"
      ],
      "text/plain": [
       "   transport_mode  distance_plan   eta    price\n",
       "4               9          13207  2790    400.0\n",
       "5               3           8175  1656    700.0\n",
       "6               4           8175  1776   2700.0\n",
       "7              10           9620  2424   1600.0\n",
       "8               6           8079  2443    700.0\n",
       "9               7          13428  3777    800.0\n",
       "0               1          53156  6456    700.0\n",
       "1               3          48112  3535    700.0\n",
       "2               4          48112  3655  16500.0\n",
       "3               1          51641  8871   1200.0"
      ]
     },
     "execution_count": 27,
     "metadata": {},
     "output_type": "execute_result"
    }
   ],
   "source": [
    "X"
   ]
  },
  {
   "cell_type": "code",
   "execution_count": 28,
   "metadata": {
    "scrolled": true
   },
   "outputs": [
    {
     "data": {
      "text/html": [
       "<div>\n",
       "<style scoped>\n",
       "    .dataframe tbody tr th:only-of-type {\n",
       "        vertical-align: middle;\n",
       "    }\n",
       "\n",
       "    .dataframe tbody tr th {\n",
       "        vertical-align: top;\n",
       "    }\n",
       "\n",
       "    .dataframe thead th {\n",
       "        text-align: right;\n",
       "    }\n",
       "</style>\n",
       "<table border=\"1\" class=\"dataframe\">\n",
       "  <thead>\n",
       "    <tr style=\"text-align: right;\">\n",
       "      <th></th>\n",
       "      <th>sid</th>\n",
       "      <th>transport_mode</th>\n",
       "      <th>distance_plan</th>\n",
       "      <th>eta</th>\n",
       "      <th>price</th>\n",
       "    </tr>\n",
       "  </thead>\n",
       "  <tbody>\n",
       "    <tr>\n",
       "      <th>4</th>\n",
       "      <td>2629085</td>\n",
       "      <td>9</td>\n",
       "      <td>13207</td>\n",
       "      <td>2790</td>\n",
       "      <td>400.0</td>\n",
       "    </tr>\n",
       "    <tr>\n",
       "      <th>5</th>\n",
       "      <td>2629085</td>\n",
       "      <td>3</td>\n",
       "      <td>8175</td>\n",
       "      <td>1656</td>\n",
       "      <td>700.0</td>\n",
       "    </tr>\n",
       "    <tr>\n",
       "      <th>6</th>\n",
       "      <td>2629085</td>\n",
       "      <td>4</td>\n",
       "      <td>8175</td>\n",
       "      <td>1776</td>\n",
       "      <td>2700.0</td>\n",
       "    </tr>\n",
       "    <tr>\n",
       "      <th>7</th>\n",
       "      <td>2629085</td>\n",
       "      <td>10</td>\n",
       "      <td>9620</td>\n",
       "      <td>2424</td>\n",
       "      <td>1600.0</td>\n",
       "    </tr>\n",
       "    <tr>\n",
       "      <th>8</th>\n",
       "      <td>2629085</td>\n",
       "      <td>6</td>\n",
       "      <td>8079</td>\n",
       "      <td>2443</td>\n",
       "      <td>700.0</td>\n",
       "    </tr>\n",
       "    <tr>\n",
       "      <th>9</th>\n",
       "      <td>2629085</td>\n",
       "      <td>7</td>\n",
       "      <td>13428</td>\n",
       "      <td>3777</td>\n",
       "      <td>800.0</td>\n",
       "    </tr>\n",
       "    <tr>\n",
       "      <th>0</th>\n",
       "      <td>2848914</td>\n",
       "      <td>1</td>\n",
       "      <td>53156</td>\n",
       "      <td>6456</td>\n",
       "      <td>700.0</td>\n",
       "    </tr>\n",
       "    <tr>\n",
       "      <th>1</th>\n",
       "      <td>2848914</td>\n",
       "      <td>3</td>\n",
       "      <td>48112</td>\n",
       "      <td>3535</td>\n",
       "      <td>700.0</td>\n",
       "    </tr>\n",
       "    <tr>\n",
       "      <th>2</th>\n",
       "      <td>2848914</td>\n",
       "      <td>4</td>\n",
       "      <td>48112</td>\n",
       "      <td>3655</td>\n",
       "      <td>16500.0</td>\n",
       "    </tr>\n",
       "    <tr>\n",
       "      <th>3</th>\n",
       "      <td>2848914</td>\n",
       "      <td>1</td>\n",
       "      <td>51641</td>\n",
       "      <td>8871</td>\n",
       "      <td>1200.0</td>\n",
       "    </tr>\n",
       "  </tbody>\n",
       "</table>\n",
       "</div>"
      ],
      "text/plain": [
       "       sid  transport_mode  distance_plan   eta    price\n",
       "4  2629085               9          13207  2790    400.0\n",
       "5  2629085               3           8175  1656    700.0\n",
       "6  2629085               4           8175  1776   2700.0\n",
       "7  2629085              10           9620  2424   1600.0\n",
       "8  2629085               6           8079  2443    700.0\n",
       "9  2629085               7          13428  3777    800.0\n",
       "0  2848914               1          53156  6456    700.0\n",
       "1  2848914               3          48112  3535    700.0\n",
       "2  2848914               4          48112  3655  16500.0\n",
       "3  2848914               1          51641  8871   1200.0"
      ]
     },
     "execution_count": 28,
     "metadata": {},
     "output_type": "execute_result"
    }
   ],
   "source": [
    "test_X[[\n",
    "    'sid',\n",
    "    'transport_mode',\n",
    "    'distance_plan',\n",
    "    'eta', \n",
    "    'price'\n",
    "]]"
   ]
  },
  {
   "cell_type": "code",
   "execution_count": 29,
   "metadata": {},
   "outputs": [
    {
     "data": {
      "text/plain": [
       "array([4.226252  , 4.226252  , 4.226252  , 0.44031858, 0.01470059],\n",
       "      dtype=float32)"
      ]
     },
     "execution_count": 29,
     "metadata": {},
     "output_type": "execute_result"
    }
   ],
   "source": [
    "next(preds)"
   ]
  },
  {
   "cell_type": "code",
   "execution_count": 77,
   "metadata": {},
   "outputs": [],
   "source": [
    "preds = ranker.predict(input_fn=lambda: input_fn(_TEST_DATA_PATH), yield_single_examples=True)"
   ]
  },
  {
   "cell_type": "code",
   "execution_count": 78,
   "metadata": {},
   "outputs": [
    {
     "data": {
      "text/plain": [
       "generator"
      ]
     },
     "execution_count": 78,
     "metadata": {},
     "output_type": "execute_result"
    }
   ],
   "source": [
    "type(preds)"
   ]
  },
  {
   "cell_type": "code",
   "execution_count": 79,
   "metadata": {},
   "outputs": [],
   "source": [
    "import itertools\n",
    "preds_10 = itertools.islice(preds, 10) # grab "
   ]
  },
  {
   "cell_type": "code",
   "execution_count": 82,
   "metadata": {},
   "outputs": [
    {
     "data": {
      "text/plain": [
       "array([[0., 0., 0., 0., 0.],\n",
       "       [0., 0., 0., 0., 0.],\n",
       "       [0., 0., 0., 0., 0.],\n",
       "       [0., 0., 0., 0., 0.],\n",
       "       [0., 0., 0., 0., 0.],\n",
       "       [0., 0., 0., 0., 0.],\n",
       "       [0., 0., 0., 0., 0.],\n",
       "       [0., 0., 0., 0., 0.],\n",
       "       [0., 0., 0., 0., 0.],\n",
       "       [0., 0., 0., 0., 0.]])"
      ]
     },
     "execution_count": 82,
     "metadata": {},
     "output_type": "execute_result"
    }
   ],
   "source": [
    "a = np.zeros((10,5))\n",
    "a"
   ]
  },
  {
   "cell_type": "code",
   "execution_count": 84,
   "metadata": {},
   "outputs": [
    {
     "name": "stdout",
     "output_type": "stream",
     "text": [
      "INFO:tensorflow:Calling model_fn.\n",
      "INFO:tensorflow:Use groupwise dnn v2.\n",
      "MAKE SCORE FUNCTION:\n",
      "[<tf.Tensor 'groupwise_dnn_v2/group_score/flatten/Reshape:0' shape=(?, 1) dtype=float32>, <tf.Tensor 'groupwise_dnn_v2/group_score/flatten_1/Reshape:0' shape=(?, 1) dtype=float32>, <tf.Tensor 'groupwise_dnn_v2/group_score/flatten_2/Reshape:0' shape=(?, 1) dtype=float32>, <tf.Tensor 'groupwise_dnn_v2/group_score/flatten_3/Reshape:0' shape=(?, 1) dtype=float32>]\n",
      "INFO:tensorflow:Done calling model_fn.\n",
      "INFO:tensorflow:Graph was finalized.\n",
      "INFO:tensorflow:Restoring parameters from /tmp/tmplaniofvd/model.ckpt-100\n",
      "INFO:tensorflow:Running local_init_op.\n",
      "INFO:tensorflow:Done running local_init_op.\n",
      "0\n",
      "[4.226252   0.44031858 4.226252   4.226252   0.01470059]\n",
      "1\n",
      "[ 1.2206907 -2.0263803 -2.0263803 -2.0263803 -2.0263803]\n",
      "2\n",
      "[ 1.2206907 -2.0263803 -2.0263803  1.2206907 -2.0263803]\n",
      "3\n",
      "[4.226252   4.226252   0.44031858 4.226252   0.01470059]\n",
      "4\n",
      "[4.226252   4.226252   0.44031858 4.226252   0.01470059]\n",
      "5\n",
      "[ 1.2206907  1.2206907 -2.0263803 -2.0263803 -2.0263803]\n",
      "6\n",
      "[0.44031858 4.226252   4.226252   4.226252   0.01470059]\n",
      "7\n",
      "[-2.0263803 -2.0263803  1.2206907 -2.0263803  1.2206907]\n",
      "8\n",
      "[ 1.2206907  1.2206907 -2.0263803 -2.0263803 -2.0263803]\n",
      "9\n",
      "[4.226252   4.226252   0.44031858 4.226252   0.01470059]\n"
     ]
    }
   ],
   "source": [
    "preds = ranker.predict(input_fn=lambda: input_fn(_TEST_DATA_PATH), yield_single_examples=True)\n",
    "import itertools\n",
    "preds_10 = itertools.islice(preds, 10) # grab \n",
    "count=0\n",
    "a = np.zeros((10,5))\n",
    "\n",
    "for i in preds_10:\n",
    "    print(count)\n",
    "    print(i)\n",
    "    a[count]=i\n",
    "    count+=1"
   ]
  },
  {
   "cell_type": "code",
   "execution_count": 93,
   "metadata": {},
   "outputs": [
    {
     "data": {
      "text/plain": [
       "array([ 4.22625208,  1.22069073,  1.22069073,  4.22625208,  4.22625208,\n",
       "        1.22069073,  0.44031858, -2.0263803 ,  1.22069073,  4.22625208])"
      ]
     },
     "execution_count": 93,
     "metadata": {},
     "output_type": "execute_result"
    }
   ],
   "source": [
    "a[:,0]"
   ]
  },
  {
   "cell_type": "code",
   "execution_count": 96,
   "metadata": {},
   "outputs": [],
   "source": [
    "test_X = test_X[[\n",
    "    'sid',\n",
    "    'transport_mode',\n",
    "    'distance_plan',\n",
    "    'eta', \n",
    "    'price'\n",
    "]]"
   ]
  },
  {
   "cell_type": "code",
   "execution_count": 100,
   "metadata": {},
   "outputs": [],
   "source": [
    "test_X = test_X.assign(yhat = a[:,0])"
   ]
  },
  {
   "cell_type": "code",
   "execution_count": 103,
   "metadata": {},
   "outputs": [
    {
     "data": {
      "text/html": [
       "<div>\n",
       "<style scoped>\n",
       "    .dataframe tbody tr th:only-of-type {\n",
       "        vertical-align: middle;\n",
       "    }\n",
       "\n",
       "    .dataframe tbody tr th {\n",
       "        vertical-align: top;\n",
       "    }\n",
       "\n",
       "    .dataframe thead th {\n",
       "        text-align: right;\n",
       "    }\n",
       "</style>\n",
       "<table border=\"1\" class=\"dataframe\">\n",
       "  <thead>\n",
       "    <tr style=\"text-align: right;\">\n",
       "      <th></th>\n",
       "      <th>transport_mode</th>\n",
       "      <th>distance_plan</th>\n",
       "      <th>eta</th>\n",
       "      <th>price</th>\n",
       "      <th>yhat</th>\n",
       "    </tr>\n",
       "    <tr>\n",
       "      <th>sid</th>\n",
       "      <th></th>\n",
       "      <th></th>\n",
       "      <th></th>\n",
       "      <th></th>\n",
       "      <th></th>\n",
       "    </tr>\n",
       "  </thead>\n",
       "  <tbody>\n",
       "    <tr>\n",
       "      <th>2629085</th>\n",
       "      <td>10</td>\n",
       "      <td>13428</td>\n",
       "      <td>3777</td>\n",
       "      <td>2700.0</td>\n",
       "      <td>4.226252</td>\n",
       "    </tr>\n",
       "    <tr>\n",
       "      <th>2848914</th>\n",
       "      <td>4</td>\n",
       "      <td>53156</td>\n",
       "      <td>8871</td>\n",
       "      <td>16500.0</td>\n",
       "      <td>4.226252</td>\n",
       "    </tr>\n",
       "  </tbody>\n",
       "</table>\n",
       "</div>"
      ],
      "text/plain": [
       "         transport_mode  distance_plan   eta    price      yhat\n",
       "sid                                                            \n",
       "2629085              10          13428  3777   2700.0  4.226252\n",
       "2848914               4          53156  8871  16500.0  4.226252"
      ]
     },
     "execution_count": 103,
     "metadata": {},
     "output_type": "execute_result"
    }
   ],
   "source": [
    "test_X.groupby(\"sid\").max()"
   ]
  }
 ],
 "metadata": {
  "kernelspec": {
   "display_name": "Python 3",
   "language": "python",
   "name": "python3"
  },
  "language_info": {
   "codemirror_mode": {
    "name": "ipython",
    "version": 3
   },
   "file_extension": ".py",
   "mimetype": "text/x-python",
   "name": "python",
   "nbconvert_exporter": "python",
   "pygments_lexer": "ipython3",
   "version": "3.7.3"
  }
 },
 "nbformat": 4,
 "nbformat_minor": 2
}
