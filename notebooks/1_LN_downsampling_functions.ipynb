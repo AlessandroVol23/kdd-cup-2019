{
 "cells": [
  {
   "cell_type": "code",
   "execution_count": 63,
   "metadata": {},
   "outputs": [],
   "source": [
    "import numpy as np\n",
    "import pandas as pd\n",
    "\n",
    "\n",
    "# confusion_matrix = array([\n",
    "#    [ 45,  29,  18,  14,   5,  23,   3,  18,   0,  16,   3,   2],\n",
    "#    [ 48, 125,  25,  27,  13,   5,  12,   8,   3,   9,   1,   1],\n",
    "#    [ 29,  19, 410,  16,   7,   3,   3,   4,   1,  35,   7,   0],\n",
    "#    [ 11,  18,  14,   2,   2,  10,   2,  17,   1,   5,   2,   3],\n",
    "#    [  9,  11,   5,   3,   4,   3,   0,  10,   1,   2,   0,   1],\n",
    "#    [ 18,   9,   6,   5,   0, 120,  16,   0,   0,   0,   0,   0],\n",
    "#    [  5,  16,   4,   1,   2,  12,   5,   4,   0,   4,   0,   0],\n",
    "#    [ 28,  27,   4,  26,   5,   1,   1, 185,   1,  18,  22,   3],\n",
    "#    [  1,   4,   1,   3,   2,   0,   0,   2,   0,   0,   0,   0],\n",
    "#    [ 22,   6,  18,   7,   8,   0,   3,  20,   0,  97,   6,   1],\n",
    "#    [  5,   7,   8,  10,   1,   0,   0,  18,   0,   2,  14,   0],\n",
    "#    [  3,   7,   1,  11,   0,   0,   0,   6,   0,   1,   2,   7]],\n",
    "# dtype=int64)\n",
    "\n",
    "train_first = pd.read_pickle(\"../data/processed/processed_all/train_all_first.pickle\")\n",
    "train_last = pd.read_pickle(\"../data/processed/processed_all/train_all_last.pickle\")\n",
    "\n",
    "# click_mode is the chosen mode by user out of all suggested tranport modes\n",
    "click_mode = [1, 2, 3, 4, 5, 6, 7, 8, 9, 10, 11]"
   ]
  },
  {
   "cell_type": "code",
   "execution_count": 64,
   "metadata": {},
   "outputs": [
    {
     "data": {
      "text/html": [
       "<div>\n",
       "<style scoped>\n",
       "    .dataframe tbody tr th:only-of-type {\n",
       "        vertical-align: middle;\n",
       "    }\n",
       "\n",
       "    .dataframe tbody tr th {\n",
       "        vertical-align: top;\n",
       "    }\n",
       "\n",
       "    .dataframe thead th {\n",
       "        text-align: right;\n",
       "    }\n",
       "</style>\n",
       "<table border=\"1\" class=\"dataframe\">\n",
       "  <thead>\n",
       "    <tr style=\"text-align: right;\">\n",
       "      <th></th>\n",
       "      <th>sid</th>\n",
       "      <th>click_time</th>\n",
       "      <th>click_mode</th>\n",
       "      <th>pid</th>\n",
       "      <th>req_time</th>\n",
       "      <th>o_long</th>\n",
       "      <th>o_lat</th>\n",
       "      <th>d_long</th>\n",
       "      <th>d_lat</th>\n",
       "      <th>distance_query</th>\n",
       "      <th>...</th>\n",
       "      <th>req_hour</th>\n",
       "      <th>req_weekend</th>\n",
       "      <th>req_night</th>\n",
       "      <th>req_day</th>\n",
       "      <th>req_evening</th>\n",
       "      <th>is_holiday</th>\n",
       "      <th>max_temp</th>\n",
       "      <th>min_temp</th>\n",
       "      <th>weather</th>\n",
       "      <th>wind</th>\n",
       "    </tr>\n",
       "  </thead>\n",
       "  <tbody>\n",
       "    <tr>\n",
       "      <th>0</th>\n",
       "      <td>2848914.0</td>\n",
       "      <td>2018-11-17 18:42:17</td>\n",
       "      <td>1.0</td>\n",
       "      <td>101804.0</td>\n",
       "      <td>2018-11-17 12:56:15</td>\n",
       "      <td>116.36</td>\n",
       "      <td>40.07</td>\n",
       "      <td>116.00</td>\n",
       "      <td>40.35</td>\n",
       "      <td>0.456070</td>\n",
       "      <td>...</td>\n",
       "      <td>12</td>\n",
       "      <td>1</td>\n",
       "      <td>0</td>\n",
       "      <td>1</td>\n",
       "      <td>0</td>\n",
       "      <td>0</td>\n",
       "      <td>9</td>\n",
       "      <td>-2</td>\n",
       "      <td>dyq</td>\n",
       "      <td>12</td>\n",
       "    </tr>\n",
       "    <tr>\n",
       "      <th>1</th>\n",
       "      <td>2848913.0</td>\n",
       "      <td>2018-11-17 22:25:29</td>\n",
       "      <td>2.0</td>\n",
       "      <td>101804.0</td>\n",
       "      <td>2018-11-17 22:25:16</td>\n",
       "      <td>116.41</td>\n",
       "      <td>39.92</td>\n",
       "      <td>116.39</td>\n",
       "      <td>39.99</td>\n",
       "      <td>0.072801</td>\n",
       "      <td>...</td>\n",
       "      <td>22</td>\n",
       "      <td>1</td>\n",
       "      <td>0</td>\n",
       "      <td>0</td>\n",
       "      <td>1</td>\n",
       "      <td>0</td>\n",
       "      <td>9</td>\n",
       "      <td>-2</td>\n",
       "      <td>dyq</td>\n",
       "      <td>12</td>\n",
       "    </tr>\n",
       "    <tr>\n",
       "      <th>2</th>\n",
       "      <td>2542469.0</td>\n",
       "      <td>2018-11-19 10:30:57</td>\n",
       "      <td>2.0</td>\n",
       "      <td>101804.0</td>\n",
       "      <td>2018-11-19 10:30:50</td>\n",
       "      <td>116.61</td>\n",
       "      <td>40.05</td>\n",
       "      <td>116.41</td>\n",
       "      <td>39.92</td>\n",
       "      <td>0.238537</td>\n",
       "      <td>...</td>\n",
       "      <td>10</td>\n",
       "      <td>0</td>\n",
       "      <td>0</td>\n",
       "      <td>1</td>\n",
       "      <td>0</td>\n",
       "      <td>0</td>\n",
       "      <td>10</td>\n",
       "      <td>-2</td>\n",
       "      <td>qdy</td>\n",
       "      <td>12</td>\n",
       "    </tr>\n",
       "    <tr>\n",
       "      <th>3</th>\n",
       "      <td>381188.0</td>\n",
       "      <td>2018-10-05 12:37:07</td>\n",
       "      <td>2.0</td>\n",
       "      <td>101804.0</td>\n",
       "      <td>2018-10-05 12:37:05</td>\n",
       "      <td>116.42</td>\n",
       "      <td>39.88</td>\n",
       "      <td>116.58</td>\n",
       "      <td>40.08</td>\n",
       "      <td>0.256125</td>\n",
       "      <td>...</td>\n",
       "      <td>12</td>\n",
       "      <td>1</td>\n",
       "      <td>0</td>\n",
       "      <td>1</td>\n",
       "      <td>0</td>\n",
       "      <td>1</td>\n",
       "      <td>24</td>\n",
       "      <td>14</td>\n",
       "      <td>dy</td>\n",
       "      <td>12</td>\n",
       "    </tr>\n",
       "    <tr>\n",
       "      <th>4</th>\n",
       "      <td>1601376.0</td>\n",
       "      <td>2018-10-03 13:32:30</td>\n",
       "      <td>1.0</td>\n",
       "      <td>101804.0</td>\n",
       "      <td>2018-10-03 13:27:35</td>\n",
       "      <td>116.37</td>\n",
       "      <td>39.95</td>\n",
       "      <td>116.39</td>\n",
       "      <td>39.89</td>\n",
       "      <td>0.063246</td>\n",
       "      <td>...</td>\n",
       "      <td>13</td>\n",
       "      <td>0</td>\n",
       "      <td>0</td>\n",
       "      <td>1</td>\n",
       "      <td>0</td>\n",
       "      <td>1</td>\n",
       "      <td>25</td>\n",
       "      <td>10</td>\n",
       "      <td>q</td>\n",
       "      <td>12</td>\n",
       "    </tr>\n",
       "  </tbody>\n",
       "</table>\n",
       "<p>5 rows × 125 columns</p>\n",
       "</div>"
      ],
      "text/plain": [
       "         sid           click_time  click_mode       pid             req_time  \\\n",
       "0  2848914.0  2018-11-17 18:42:17         1.0  101804.0  2018-11-17 12:56:15   \n",
       "1  2848913.0  2018-11-17 22:25:29         2.0  101804.0  2018-11-17 22:25:16   \n",
       "2  2542469.0  2018-11-19 10:30:57         2.0  101804.0  2018-11-19 10:30:50   \n",
       "3   381188.0  2018-10-05 12:37:07         2.0  101804.0  2018-10-05 12:37:05   \n",
       "4  1601376.0  2018-10-03 13:32:30         1.0  101804.0  2018-10-03 13:27:35   \n",
       "\n",
       "   o_long  o_lat  d_long  d_lat  distance_query  ...  req_hour  req_weekend  \\\n",
       "0  116.36  40.07  116.00  40.35        0.456070  ...        12            1   \n",
       "1  116.41  39.92  116.39  39.99        0.072801  ...        22            1   \n",
       "2  116.61  40.05  116.41  39.92        0.238537  ...        10            0   \n",
       "3  116.42  39.88  116.58  40.08        0.256125  ...        12            1   \n",
       "4  116.37  39.95  116.39  39.89        0.063246  ...        13            0   \n",
       "\n",
       "   req_night  req_day  req_evening  is_holiday  max_temp  min_temp  weather  \\\n",
       "0          0        1            0           0         9        -2      dyq   \n",
       "1          0        0            1           0         9        -2      dyq   \n",
       "2          0        1            0           0        10        -2      qdy   \n",
       "3          0        1            0           1        24        14       dy   \n",
       "4          0        1            0           1        25        10        q   \n",
       "\n",
       "   wind  \n",
       "0    12  \n",
       "1    12  \n",
       "2    12  \n",
       "3    12  \n",
       "4    12  \n",
       "\n",
       "[5 rows x 125 columns]"
      ]
     },
     "execution_count": 64,
     "metadata": {},
     "output_type": "execute_result"
    }
   ],
   "source": [
    "train_first.head()"
   ]
  },
  {
   "cell_type": "code",
   "execution_count": 65,
   "metadata": {},
   "outputs": [],
   "source": [
    "# Counts quantity of mode in list\n",
    "def click_mode_count(mode):\n",
    "    target_count = train_first.click_mode.value_counts()\n",
    "    return target_count[mode]"
   ]
  },
  {
   "cell_type": "code",
   "execution_count": 66,
   "metadata": {
    "scrolled": true
   },
   "outputs": [
    {
     "name": "stdout",
     "output_type": "stream",
     "text": [
      "Click Mode 1: 70369\n",
      "Click Mode 2: 136491\n",
      "Click Mode 3: 24626\n",
      "Click Mode 4: 12606\n",
      "Click Mode 5: 47480\n",
      "Click Mode 6: 11863\n",
      "Click Mode 7: 78209\n",
      "Click Mode 8: 1857\n",
      "Click Mode 9: 48864\n",
      "Click Mode 10: 14882\n",
      "Click Mode 11: 6089\n"
     ]
    }
   ],
   "source": [
    "# Example Count each click_mode\n",
    "for mode in click_mode:\n",
    "    result = click_mode_count(mode)\n",
    "    print(f'Click Mode {mode}:', result)"
   ]
  },
  {
   "cell_type": "code",
   "execution_count": 67,
   "metadata": {},
   "outputs": [],
   "source": [
    "# Returns excerpt of list by mode \n",
    "def divide_mode(mode):\n",
    "    return train_first[train_first['click_mode'] == mode]"
   ]
  },
  {
   "cell_type": "code",
   "execution_count": 68,
   "metadata": {},
   "outputs": [
    {
     "data": {
      "text/plain": [
       "136491"
      ]
     },
     "execution_count": 68,
     "metadata": {},
     "output_type": "execute_result"
    }
   ],
   "source": [
    "# Example excerpt of list by click_mode 2\n",
    "df_modelist = divide_mode(2)\n",
    "df_modelist.click_mode.count()"
   ]
  },
  {
   "cell_type": "code",
   "execution_count": 69,
   "metadata": {},
   "outputs": [
    {
     "data": {
      "text/html": [
       "<div>\n",
       "<style scoped>\n",
       "    .dataframe tbody tr th:only-of-type {\n",
       "        vertical-align: middle;\n",
       "    }\n",
       "\n",
       "    .dataframe tbody tr th {\n",
       "        vertical-align: top;\n",
       "    }\n",
       "\n",
       "    .dataframe thead th {\n",
       "        text-align: right;\n",
       "    }\n",
       "</style>\n",
       "<table border=\"1\" class=\"dataframe\">\n",
       "  <thead>\n",
       "    <tr style=\"text-align: right;\">\n",
       "      <th></th>\n",
       "      <th>sid</th>\n",
       "      <th>click_time</th>\n",
       "      <th>click_mode</th>\n",
       "      <th>pid</th>\n",
       "      <th>req_time</th>\n",
       "      <th>o_long</th>\n",
       "      <th>o_lat</th>\n",
       "      <th>d_long</th>\n",
       "      <th>d_lat</th>\n",
       "      <th>distance_query</th>\n",
       "      <th>...</th>\n",
       "      <th>req_hour</th>\n",
       "      <th>req_weekend</th>\n",
       "      <th>req_night</th>\n",
       "      <th>req_day</th>\n",
       "      <th>req_evening</th>\n",
       "      <th>is_holiday</th>\n",
       "      <th>max_temp</th>\n",
       "      <th>min_temp</th>\n",
       "      <th>weather</th>\n",
       "      <th>wind</th>\n",
       "    </tr>\n",
       "  </thead>\n",
       "  <tbody>\n",
       "    <tr>\n",
       "      <th>1</th>\n",
       "      <td>2848913.0</td>\n",
       "      <td>2018-11-17 22:25:29</td>\n",
       "      <td>2.0</td>\n",
       "      <td>101804.0</td>\n",
       "      <td>2018-11-17 22:25:16</td>\n",
       "      <td>116.41</td>\n",
       "      <td>39.92</td>\n",
       "      <td>116.39</td>\n",
       "      <td>39.99</td>\n",
       "      <td>0.072801</td>\n",
       "      <td>...</td>\n",
       "      <td>22</td>\n",
       "      <td>1</td>\n",
       "      <td>0</td>\n",
       "      <td>0</td>\n",
       "      <td>1</td>\n",
       "      <td>0</td>\n",
       "      <td>9</td>\n",
       "      <td>-2</td>\n",
       "      <td>dyq</td>\n",
       "      <td>12</td>\n",
       "    </tr>\n",
       "    <tr>\n",
       "      <th>2</th>\n",
       "      <td>2542469.0</td>\n",
       "      <td>2018-11-19 10:30:57</td>\n",
       "      <td>2.0</td>\n",
       "      <td>101804.0</td>\n",
       "      <td>2018-11-19 10:30:50</td>\n",
       "      <td>116.61</td>\n",
       "      <td>40.05</td>\n",
       "      <td>116.41</td>\n",
       "      <td>39.92</td>\n",
       "      <td>0.238537</td>\n",
       "      <td>...</td>\n",
       "      <td>10</td>\n",
       "      <td>0</td>\n",
       "      <td>0</td>\n",
       "      <td>1</td>\n",
       "      <td>0</td>\n",
       "      <td>0</td>\n",
       "      <td>10</td>\n",
       "      <td>-2</td>\n",
       "      <td>qdy</td>\n",
       "      <td>12</td>\n",
       "    </tr>\n",
       "    <tr>\n",
       "      <th>3</th>\n",
       "      <td>381188.0</td>\n",
       "      <td>2018-10-05 12:37:07</td>\n",
       "      <td>2.0</td>\n",
       "      <td>101804.0</td>\n",
       "      <td>2018-10-05 12:37:05</td>\n",
       "      <td>116.42</td>\n",
       "      <td>39.88</td>\n",
       "      <td>116.58</td>\n",
       "      <td>40.08</td>\n",
       "      <td>0.256125</td>\n",
       "      <td>...</td>\n",
       "      <td>12</td>\n",
       "      <td>1</td>\n",
       "      <td>0</td>\n",
       "      <td>1</td>\n",
       "      <td>0</td>\n",
       "      <td>1</td>\n",
       "      <td>24</td>\n",
       "      <td>14</td>\n",
       "      <td>dy</td>\n",
       "      <td>12</td>\n",
       "    </tr>\n",
       "    <tr>\n",
       "      <th>6</th>\n",
       "      <td>3064093.0</td>\n",
       "      <td>2018-11-16 13:31:34</td>\n",
       "      <td>2.0</td>\n",
       "      <td>101804.0</td>\n",
       "      <td>2018-11-16 13:30:59</td>\n",
       "      <td>116.41</td>\n",
       "      <td>39.92</td>\n",
       "      <td>116.39</td>\n",
       "      <td>39.91</td>\n",
       "      <td>0.022361</td>\n",
       "      <td>...</td>\n",
       "      <td>13</td>\n",
       "      <td>1</td>\n",
       "      <td>0</td>\n",
       "      <td>1</td>\n",
       "      <td>0</td>\n",
       "      <td>0</td>\n",
       "      <td>8</td>\n",
       "      <td>-1</td>\n",
       "      <td>q</td>\n",
       "      <td>12</td>\n",
       "    </tr>\n",
       "    <tr>\n",
       "      <th>7</th>\n",
       "      <td>381189.0</td>\n",
       "      <td>2018-10-05 12:41:08</td>\n",
       "      <td>2.0</td>\n",
       "      <td>101804.0</td>\n",
       "      <td>2018-10-05 12:41:07</td>\n",
       "      <td>116.42</td>\n",
       "      <td>39.88</td>\n",
       "      <td>116.58</td>\n",
       "      <td>40.08</td>\n",
       "      <td>0.256125</td>\n",
       "      <td>...</td>\n",
       "      <td>12</td>\n",
       "      <td>1</td>\n",
       "      <td>0</td>\n",
       "      <td>1</td>\n",
       "      <td>0</td>\n",
       "      <td>1</td>\n",
       "      <td>24</td>\n",
       "      <td>14</td>\n",
       "      <td>dy</td>\n",
       "      <td>12</td>\n",
       "    </tr>\n",
       "  </tbody>\n",
       "</table>\n",
       "<p>5 rows × 125 columns</p>\n",
       "</div>"
      ],
      "text/plain": [
       "         sid           click_time  click_mode       pid             req_time  \\\n",
       "1  2848913.0  2018-11-17 22:25:29         2.0  101804.0  2018-11-17 22:25:16   \n",
       "2  2542469.0  2018-11-19 10:30:57         2.0  101804.0  2018-11-19 10:30:50   \n",
       "3   381188.0  2018-10-05 12:37:07         2.0  101804.0  2018-10-05 12:37:05   \n",
       "6  3064093.0  2018-11-16 13:31:34         2.0  101804.0  2018-11-16 13:30:59   \n",
       "7   381189.0  2018-10-05 12:41:08         2.0  101804.0  2018-10-05 12:41:07   \n",
       "\n",
       "   o_long  o_lat  d_long  d_lat  distance_query  ...  req_hour  req_weekend  \\\n",
       "1  116.41  39.92  116.39  39.99        0.072801  ...        22            1   \n",
       "2  116.61  40.05  116.41  39.92        0.238537  ...        10            0   \n",
       "3  116.42  39.88  116.58  40.08        0.256125  ...        12            1   \n",
       "6  116.41  39.92  116.39  39.91        0.022361  ...        13            1   \n",
       "7  116.42  39.88  116.58  40.08        0.256125  ...        12            1   \n",
       "\n",
       "   req_night  req_day  req_evening  is_holiday  max_temp  min_temp  weather  \\\n",
       "1          0        0            1           0         9        -2      dyq   \n",
       "2          0        1            0           0        10        -2      qdy   \n",
       "3          0        1            0           1        24        14       dy   \n",
       "6          0        1            0           0         8        -1        q   \n",
       "7          0        1            0           1        24        14       dy   \n",
       "\n",
       "   wind  \n",
       "1    12  \n",
       "2    12  \n",
       "3    12  \n",
       "6    12  \n",
       "7    12  \n",
       "\n",
       "[5 rows x 125 columns]"
      ]
     },
     "execution_count": 69,
     "metadata": {},
     "output_type": "execute_result"
    }
   ],
   "source": [
    "df_modelist.head()"
   ]
  },
  {
   "cell_type": "code",
   "execution_count": 70,
   "metadata": {},
   "outputs": [],
   "source": [
    "# Random downsampling to 50%\n",
    "# .sample() random items of given length\n",
    "# Returns list of downsampled mode \n",
    "\n",
    "def down_half(mode):\n",
    "    quantity = click_mode_count(mode)\n",
    "    print('Quantity: ', quantity)\n",
    "    half = quantity//2\n",
    "    print('Half: ', half)\n",
    "    df_modelist = divide_mode(mode)\n",
    "    \n",
    "    df_mode_half = df_modelist.sample(half)\n",
    "    return df_mode_half"
   ]
  },
  {
   "cell_type": "code",
   "execution_count": 71,
   "metadata": {},
   "outputs": [
    {
     "name": "stdout",
     "output_type": "stream",
     "text": [
      "Quantity:  136491\n",
      "Half:  68245\n"
     ]
    },
    {
     "data": {
      "text/plain": [
       "68245"
      ]
     },
     "execution_count": 71,
     "metadata": {},
     "output_type": "execute_result"
    }
   ],
   "source": [
    "# Example downsampling click_mode 2 to half\n",
    "df_mode2_half = down_half(2)\n",
    "df_mode2_half.click_mode.count()"
   ]
  },
  {
   "cell_type": "code",
   "execution_count": 72,
   "metadata": {},
   "outputs": [],
   "source": [
    "# Random downsampling to quantity of another click_mode\n",
    "# .sample() random items of given length\n",
    "# Returns list of downsampled mode \n",
    "\n",
    "def down_othermode(mode, target_mode):\n",
    "    new_quantity = click_mode_count(target_mode)\n",
    "    df_modelist = divide_mode(mode)\n",
    "    \n",
    "    df_mode_target = df_modelist.sample(new_quantity)\n",
    "    return df_mode_target"
   ]
  },
  {
   "cell_type": "code",
   "execution_count": 21,
   "metadata": {},
   "outputs": [
    {
     "data": {
      "text/plain": [
       "1857"
      ]
     },
     "execution_count": 21,
     "metadata": {},
     "output_type": "execute_result"
    }
   ],
   "source": [
    "# Example downsampling click_mode 2 to minority click_mode 8\n",
    "df_mode2_mode8 = down_othermode(2, 8)\n",
    "df_mode2_mode8.click_mode.count()"
   ]
  },
  {
   "cell_type": "code",
   "execution_count": 22,
   "metadata": {},
   "outputs": [
    {
     "data": {
      "text/html": [
       "<div>\n",
       "<style scoped>\n",
       "    .dataframe tbody tr th:only-of-type {\n",
       "        vertical-align: middle;\n",
       "    }\n",
       "\n",
       "    .dataframe tbody tr th {\n",
       "        vertical-align: top;\n",
       "    }\n",
       "\n",
       "    .dataframe thead th {\n",
       "        text-align: right;\n",
       "    }\n",
       "</style>\n",
       "<table border=\"1\" class=\"dataframe\">\n",
       "  <thead>\n",
       "    <tr style=\"text-align: right;\">\n",
       "      <th></th>\n",
       "      <th>sid</th>\n",
       "      <th>click_time</th>\n",
       "      <th>pid</th>\n",
       "      <th>req_time</th>\n",
       "      <th>o_long</th>\n",
       "      <th>o_lat</th>\n",
       "      <th>d_long</th>\n",
       "      <th>d_lat</th>\n",
       "      <th>distance_query</th>\n",
       "      <th>p0</th>\n",
       "      <th>...</th>\n",
       "      <th>req_hour</th>\n",
       "      <th>req_weekend</th>\n",
       "      <th>req_night</th>\n",
       "      <th>req_day</th>\n",
       "      <th>req_evening</th>\n",
       "      <th>is_holiday</th>\n",
       "      <th>max_temp</th>\n",
       "      <th>min_temp</th>\n",
       "      <th>weather</th>\n",
       "      <th>wind</th>\n",
       "    </tr>\n",
       "    <tr>\n",
       "      <th>click_mode</th>\n",
       "      <th></th>\n",
       "      <th></th>\n",
       "      <th></th>\n",
       "      <th></th>\n",
       "      <th></th>\n",
       "      <th></th>\n",
       "      <th></th>\n",
       "      <th></th>\n",
       "      <th></th>\n",
       "      <th></th>\n",
       "      <th></th>\n",
       "      <th></th>\n",
       "      <th></th>\n",
       "      <th></th>\n",
       "      <th></th>\n",
       "      <th></th>\n",
       "      <th></th>\n",
       "      <th></th>\n",
       "      <th></th>\n",
       "      <th></th>\n",
       "      <th></th>\n",
       "    </tr>\n",
       "  </thead>\n",
       "  <tbody>\n",
       "    <tr>\n",
       "      <th>2.0</th>\n",
       "      <td>1857</td>\n",
       "      <td>1857</td>\n",
       "      <td>1324</td>\n",
       "      <td>1857</td>\n",
       "      <td>1857</td>\n",
       "      <td>1857</td>\n",
       "      <td>1857</td>\n",
       "      <td>1857</td>\n",
       "      <td>1857</td>\n",
       "      <td>1324</td>\n",
       "      <td>...</td>\n",
       "      <td>1857</td>\n",
       "      <td>1857</td>\n",
       "      <td>1857</td>\n",
       "      <td>1857</td>\n",
       "      <td>1857</td>\n",
       "      <td>1857</td>\n",
       "      <td>1857</td>\n",
       "      <td>1857</td>\n",
       "      <td>1857</td>\n",
       "      <td>1857</td>\n",
       "    </tr>\n",
       "  </tbody>\n",
       "</table>\n",
       "<p>1 rows × 124 columns</p>\n",
       "</div>"
      ],
      "text/plain": [
       "             sid  click_time   pid  req_time  o_long  o_lat  d_long  d_lat  \\\n",
       "click_mode                                                                   \n",
       "2.0         1857        1857  1324      1857    1857   1857    1857   1857   \n",
       "\n",
       "            distance_query    p0  ...  req_hour  req_weekend  req_night  \\\n",
       "click_mode                        ...                                     \n",
       "2.0                   1857  1324  ...      1857         1857       1857   \n",
       "\n",
       "            req_day  req_evening  is_holiday  max_temp  min_temp  weather  \\\n",
       "click_mode                                                                  \n",
       "2.0            1857         1857        1857      1857      1857     1857   \n",
       "\n",
       "            wind  \n",
       "click_mode        \n",
       "2.0         1857  \n",
       "\n",
       "[1 rows x 124 columns]"
      ]
     },
     "execution_count": 22,
     "metadata": {},
     "output_type": "execute_result"
    }
   ],
   "source": [
    "df_mode2_mode8.groupby('click_mode').count()"
   ]
  },
  {
   "cell_type": "code",
   "execution_count": 73,
   "metadata": {},
   "outputs": [],
   "source": [
    "# Random downsampling to input percentage\n",
    "# .sample() random items of given length\n",
    "# Returns list of downsampled mode \n",
    "\n",
    "def down_percent(mode, percentage):\n",
    "    perc = percentage*0.01\n",
    "    quantity = click_mode_count(mode) \n",
    "    new_quantity = int(quantity*perc)\n",
    "    df_modelist = divide_mode(mode)\n",
    "    \n",
    "    df_mode_perc = df_modelist.sample(new_quantity)\n",
    "    return df_mode_perc"
   ]
  },
  {
   "cell_type": "code",
   "execution_count": 74,
   "metadata": {},
   "outputs": [
    {
     "data": {
      "text/plain": [
       "40947"
      ]
     },
     "execution_count": 74,
     "metadata": {},
     "output_type": "execute_result"
    }
   ],
   "source": [
    "# Example downsampling click_mode 2 to 30% (input)\n",
    "df_mode2_30 = down_percent(2, 30)\n",
    "df_mode2_30.click_mode.count()"
   ]
  },
  {
   "cell_type": "code",
   "execution_count": 75,
   "metadata": {},
   "outputs": [],
   "source": [
    "# Returns list without downsampled click_mode\n",
    "def list_without_down_mode(down_mode):\n",
    "    list_restmodes = []\n",
    "    excerpt_mode = down_mode-1\n",
    "    \n",
    "    for mode in click_mode [:excerpt_mode]:\n",
    "        click_mode_list = divide_mode(mode)\n",
    "        list_restmodes.append(click_mode_list) \n",
    "    \n",
    "    for mode in click_mode [(excerpt_mode+1):]:\n",
    "        click_mode_list = divide_mode(mode)\n",
    "        list_restmodes.append(click_mode_list) \n",
    "    \n",
    "    df_restmodes = pd.concat(list_restmodes)\n",
    "    return df_restmodes"
   ]
  },
  {
   "cell_type": "code",
   "execution_count": 76,
   "metadata": {},
   "outputs": [
    {
     "data": {
      "text/plain": [
       "7.0     78209\n",
       "1.0     70369\n",
       "9.0     48864\n",
       "5.0     47480\n",
       "3.0     24626\n",
       "10.0    14882\n",
       "4.0     12606\n",
       "6.0     11863\n",
       "11.0     6089\n",
       "8.0      1857\n",
       "Name: click_mode, dtype: int64"
      ]
     },
     "execution_count": 76,
     "metadata": {},
     "output_type": "execute_result"
    }
   ],
   "source": [
    "# Example list without downsampled click_mode 2\n",
    "liste_restmodes = list_without_down_mode(2)\n",
    "liste_restmodes.click_mode.value_counts()"
   ]
  },
  {
   "cell_type": "code",
   "execution_count": 77,
   "metadata": {},
   "outputs": [
    {
     "name": "stdout",
     "output_type": "stream",
     "text": [
      "Quantity:  136491\n",
      "Half:  68245\n"
     ]
    },
    {
     "data": {
      "text/plain": [
       "7.0     78209\n",
       "1.0     70369\n",
       "2.0     68245\n",
       "9.0     48864\n",
       "5.0     47480\n",
       "3.0     24626\n",
       "10.0    14882\n",
       "4.0     12606\n",
       "6.0     11863\n",
       "11.0     6089\n",
       "8.0      1857\n",
       "Name: click_mode, dtype: int64"
      ]
     },
     "execution_count": 77,
     "metadata": {},
     "output_type": "execute_result"
    }
   ],
   "source": [
    "# Returns list including downsampled click_mode\n",
    "# Example downsample click_mode 2 to 50%\n",
    "\n",
    "df_train_first_downsampled = pd.concat([down_half(2), list_without_down_mode(2)], axis=0)\n",
    "df_train_first_downsampled.click_mode.value_counts()"
   ]
  },
  {
   "cell_type": "code",
   "execution_count": 30,
   "metadata": {},
   "outputs": [],
   "source": [
    "df_train_first_downsampled.to_pickle('../data/interim/df_train_downsampled_2.pickle')"
   ]
  },
  {
   "cell_type": "code",
   "execution_count": 61,
   "metadata": {},
   "outputs": [],
   "source": [
    "def plot_count_mode(df):\n",
    "    import matplotlib.pyplot as plt\n",
    "    fig, ax = plt.subplots(figsize=(20,10))\n",
    "    x = df.click_mode.unique()\n",
    "    x.sort()\n",
    "    y = df.groupby('click_mode').count()['sid']\n",
    "    ax.bar(x, y);\n",
    "    ax.set_xticklabels(x, fontsize=16);\n",
    "    ax.set_xticks(x);\n",
    "    ax.set_yticklabels(range(0,90000,10000), fontsize=16);\n",
    "    rects = ax.patches\n",
    "\n",
    "    # Make some labels.\n",
    "    labels = y\n",
    "\n",
    "    for rect, label in zip(rects, labels):\n",
    "        height = rect.get_height()\n",
    "        ax.text(rect.get_x() + rect.get_width() / 2, height + 5, '{:.2f}'.format(label),\n",
    "                ha='center', va='bottom', fontsize=16)\n",
    "\n",
    "    ax.set_title(\"Downsampled data\", fontsize=16);"
   ]
  },
  {
   "cell_type": "code",
   "execution_count": 78,
   "metadata": {},
   "outputs": [
    {
     "data": {
      "image/png": "[encoded data removed]",
      "text/plain": [
       "<Figure size 1440x720 with 1 Axes>"
      ]
     },
     "metadata": {
      "needs_background": "light"
     },
     "output_type": "display_data"
    }
   ],
   "source": [
    "plot_count_mode(df_train_first_downsampled)"
   ]
  },
  {
   "cell_type": "code",
   "execution_count": 59,
   "metadata": {},
   "outputs": [
    {
     "data": {
      "text/plain": [
       "7.0     78209\n",
       "1.0     70369\n",
       "9.0     48864\n",
       "5.0     47480\n",
       "2.0     40947\n",
       "3.0     24626\n",
       "10.0    14882\n",
       "4.0     12606\n",
       "6.0     11863\n",
       "11.0     6089\n",
       "8.0      1857\n",
       "Name: click_mode, dtype: int64"
      ]
     },
     "execution_count": 59,
     "metadata": {},
     "output_type": "execute_result"
    }
   ],
   "source": [
    "# Returns list including downsampled click_mode\n",
    "# Example downsample click_mode 2 to 30%\n",
    "\n",
    "df_train_first_downsampled = pd.concat([down_percent(2, 30), list_without_down_mode(2)], axis=0)\n",
    "df_train_first_downsampled.click_mode.value_counts()"
   ]
  }
 ],
 "metadata": {
  "kernelspec": {
   "display_name": "Python 3",
   "language": "python",
   "name": "python3"
  },
  "language_info": {
   "codemirror_mode": {
    "name": "ipython",
    "version": 3
   },
   "file_extension": ".py",
   "mimetype": "text/x-python",
   "name": "python",
   "nbconvert_exporter": "python",
   "pygments_lexer": "ipython3",
   "version": "3.7.3"
  }
 },
 "nbformat": 4,
 "nbformat_minor": 2
}
