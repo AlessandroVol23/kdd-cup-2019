{
 "cells": [
  {
   "cell_type": "code",
   "execution_count": 15,
   "metadata": {},
   "outputs": [],
   "source": [
    "import pandas as pd"
   ]
  },
  {
   "cell_type": "code",
   "execution_count": 16,
   "metadata": {},
   "outputs": [],
   "source": [
    "df_train= pd.read_pickle('../data/processed/ranking/train_all_row.pickle')"
   ]
  },
  {
   "cell_type": "code",
   "execution_count": 17,
   "metadata": {},
   "outputs": [
    {
     "data": {
      "text/html": [
       "<div>\n",
       "<style scoped>\n",
       "    .dataframe tbody tr th:only-of-type {\n",
       "        vertical-align: middle;\n",
       "    }\n",
       "\n",
       "    .dataframe tbody tr th {\n",
       "        vertical-align: top;\n",
       "    }\n",
       "\n",
       "    .dataframe thead th {\n",
       "        text-align: right;\n",
       "    }\n",
       "</style>\n",
       "<table border=\"1\" class=\"dataframe\">\n",
       "  <thead>\n",
       "    <tr style=\"text-align: right;\">\n",
       "      <th></th>\n",
       "      <th>sid</th>\n",
       "      <th>click_time</th>\n",
       "      <th>click_mode</th>\n",
       "      <th>distance_plan</th>\n",
       "      <th>eta</th>\n",
       "      <th>price</th>\n",
       "      <th>transport_mode</th>\n",
       "      <th>plan_time_x</th>\n",
       "      <th>pid</th>\n",
       "      <th>req_time</th>\n",
       "      <th>...</th>\n",
       "      <th>max_temp</th>\n",
       "      <th>min_temp</th>\n",
       "      <th>weather</th>\n",
       "      <th>wind</th>\n",
       "      <th>weather_dy</th>\n",
       "      <th>weather_dyq</th>\n",
       "      <th>weather_q</th>\n",
       "      <th>weather_qdy</th>\n",
       "      <th>weather_xq</th>\n",
       "      <th>weather_xydy</th>\n",
       "    </tr>\n",
       "  </thead>\n",
       "  <tbody>\n",
       "    <tr>\n",
       "      <th>0</th>\n",
       "      <td>753082</td>\n",
       "      <td>2018-10-01 00:00:11</td>\n",
       "      <td>5</td>\n",
       "      <td>923</td>\n",
       "      <td>279</td>\n",
       "      <td>700.0</td>\n",
       "      <td>6</td>\n",
       "      <td>2018-10-01 00:00:10</td>\n",
       "      <td>101467.0</td>\n",
       "      <td>2018-10-01 00:00:10</td>\n",
       "      <td>...</td>\n",
       "      <td>24</td>\n",
       "      <td>12</td>\n",
       "      <td>q</td>\n",
       "      <td>45</td>\n",
       "      <td>0</td>\n",
       "      <td>0</td>\n",
       "      <td>1</td>\n",
       "      <td>0</td>\n",
       "      <td>0</td>\n",
       "      <td>0</td>\n",
       "    </tr>\n",
       "    <tr>\n",
       "      <th>1</th>\n",
       "      <td>753082</td>\n",
       "      <td>2018-10-01 00:00:11</td>\n",
       "      <td>5</td>\n",
       "      <td>1285</td>\n",
       "      <td>1088</td>\n",
       "      <td>200.0</td>\n",
       "      <td>1</td>\n",
       "      <td>2018-10-01 00:00:10</td>\n",
       "      <td>101467.0</td>\n",
       "      <td>2018-10-01 00:00:10</td>\n",
       "      <td>...</td>\n",
       "      <td>24</td>\n",
       "      <td>12</td>\n",
       "      <td>q</td>\n",
       "      <td>45</td>\n",
       "      <td>0</td>\n",
       "      <td>0</td>\n",
       "      <td>1</td>\n",
       "      <td>0</td>\n",
       "      <td>0</td>\n",
       "      <td>0</td>\n",
       "    </tr>\n",
       "    <tr>\n",
       "      <th>2</th>\n",
       "      <td>753082</td>\n",
       "      <td>2018-10-01 00:00:11</td>\n",
       "      <td>5</td>\n",
       "      <td>916</td>\n",
       "      <td>188</td>\n",
       "      <td>700.0</td>\n",
       "      <td>3</td>\n",
       "      <td>2018-10-01 00:00:10</td>\n",
       "      <td>101467.0</td>\n",
       "      <td>2018-10-01 00:00:10</td>\n",
       "      <td>...</td>\n",
       "      <td>24</td>\n",
       "      <td>12</td>\n",
       "      <td>q</td>\n",
       "      <td>45</td>\n",
       "      <td>0</td>\n",
       "      <td>0</td>\n",
       "      <td>1</td>\n",
       "      <td>0</td>\n",
       "      <td>0</td>\n",
       "      <td>0</td>\n",
       "    </tr>\n",
       "    <tr>\n",
       "      <th>3</th>\n",
       "      <td>753082</td>\n",
       "      <td>2018-10-01 00:00:11</td>\n",
       "      <td>5</td>\n",
       "      <td>923</td>\n",
       "      <td>859</td>\n",
       "      <td>700.0</td>\n",
       "      <td>5</td>\n",
       "      <td>2018-10-01 00:00:10</td>\n",
       "      <td>101467.0</td>\n",
       "      <td>2018-10-01 00:00:10</td>\n",
       "      <td>...</td>\n",
       "      <td>24</td>\n",
       "      <td>12</td>\n",
       "      <td>q</td>\n",
       "      <td>45</td>\n",
       "      <td>0</td>\n",
       "      <td>0</td>\n",
       "      <td>1</td>\n",
       "      <td>0</td>\n",
       "      <td>0</td>\n",
       "      <td>0</td>\n",
       "    </tr>\n",
       "    <tr>\n",
       "      <th>4</th>\n",
       "      <td>756507</td>\n",
       "      <td>2018-10-01 00:00:27</td>\n",
       "      <td>9</td>\n",
       "      <td>35469</td>\n",
       "      <td>2453</td>\n",
       "      <td>700.0</td>\n",
       "      <td>3</td>\n",
       "      <td>2018-10-01 00:00:11</td>\n",
       "      <td>171074.0</td>\n",
       "      <td>2018-10-01 00:00:11</td>\n",
       "      <td>...</td>\n",
       "      <td>24</td>\n",
       "      <td>12</td>\n",
       "      <td>q</td>\n",
       "      <td>45</td>\n",
       "      <td>0</td>\n",
       "      <td>0</td>\n",
       "      <td>1</td>\n",
       "      <td>0</td>\n",
       "      <td>0</td>\n",
       "      <td>0</td>\n",
       "    </tr>\n",
       "  </tbody>\n",
       "</table>\n",
       "<p>5 rows × 98 columns</p>\n",
       "</div>"
      ],
      "text/plain": [
       "      sid           click_time  click_mode  distance_plan   eta  price  \\\n",
       "0  753082  2018-10-01 00:00:11           5            923   279  700.0   \n",
       "1  753082  2018-10-01 00:00:11           5           1285  1088  200.0   \n",
       "2  753082  2018-10-01 00:00:11           5            916   188  700.0   \n",
       "3  753082  2018-10-01 00:00:11           5            923   859  700.0   \n",
       "4  756507  2018-10-01 00:00:27           9          35469  2453  700.0   \n",
       "\n",
       "   transport_mode          plan_time_x       pid            req_time  ...  \\\n",
       "0               6  2018-10-01 00:00:10  101467.0 2018-10-01 00:00:10  ...   \n",
       "1               1  2018-10-01 00:00:10  101467.0 2018-10-01 00:00:10  ...   \n",
       "2               3  2018-10-01 00:00:10  101467.0 2018-10-01 00:00:10  ...   \n",
       "3               5  2018-10-01 00:00:10  101467.0 2018-10-01 00:00:10  ...   \n",
       "4               3  2018-10-01 00:00:11  171074.0 2018-10-01 00:00:11  ...   \n",
       "\n",
       "   max_temp  min_temp  weather  wind  weather_dy  weather_dyq  weather_q  \\\n",
       "0        24        12        q    45           0            0          1   \n",
       "1        24        12        q    45           0            0          1   \n",
       "2        24        12        q    45           0            0          1   \n",
       "3        24        12        q    45           0            0          1   \n",
       "4        24        12        q    45           0            0          1   \n",
       "\n",
       "  weather_qdy  weather_xq  weather_xydy  \n",
       "0           0           0             0  \n",
       "1           0           0             0  \n",
       "2           0           0             0  \n",
       "3           0           0             0  \n",
       "4           0           0             0  \n",
       "\n",
       "[5 rows x 98 columns]"
      ]
     },
     "execution_count": 17,
     "metadata": {},
     "output_type": "execute_result"
    }
   ],
   "source": [
    "df_train.head()"
   ]
  },
  {
   "cell_type": "code",
   "execution_count": 18,
   "metadata": {},
   "outputs": [
    {
     "data": {
      "text/plain": [
       "(1680848, 98)"
      ]
     },
     "execution_count": 18,
     "metadata": {},
     "output_type": "execute_result"
    }
   ],
   "source": [
    "df_train.shape"
   ]
  },
  {
   "cell_type": "code",
   "execution_count": 19,
   "metadata": {},
   "outputs": [],
   "source": [
    "df_train.sort_values('sid', inplace=True)"
   ]
  },
  {
   "cell_type": "code",
   "execution_count": 20,
   "metadata": {},
   "outputs": [
    {
     "data": {
      "text/plain": [
       "array([10, 21, 25, 34, 35, 36, 44, 68, 69, 79])"
      ]
     },
     "execution_count": 20,
     "metadata": {},
     "output_type": "execute_result"
    }
   ],
   "source": [
    "df_train.sid.unique()[:10]"
   ]
  },
  {
   "cell_type": "code",
   "execution_count": 22,
   "metadata": {},
   "outputs": [
    {
     "data": {
      "text/plain": [
       "362655"
      ]
     },
     "execution_count": 22,
     "metadata": {},
     "output_type": "execute_result"
    }
   ],
   "source": [
    "df_train.sid.nunique()"
   ]
  },
  {
   "cell_type": "code",
   "execution_count": 21,
   "metadata": {},
   "outputs": [],
   "source": [
    "df_train[df_train.sid.isin(df_train.sid.unique()[:10])].to_pickle('../data/processed/ranking/train_all_row_sample_50.pickle')"
   ]
  },
  {
   "cell_type": "code",
   "execution_count": 23,
   "metadata": {},
   "outputs": [],
   "source": [
    "df_train[df_train.sid.isin(df_train.sid.unique()[:100000])].to_pickle('../data/processed/ranking/train_all_row_sample_100k.pickle')"
   ]
  },
  {
   "cell_type": "code",
   "execution_count": 24,
   "metadata": {},
   "outputs": [],
   "source": [
    "df_train[df_train.sid.isin(df_train.sid.unique()[:1000])].to_pickle('../data/processed/ranking/train_all_row_sample_1k.pickle')"
   ]
  }
 ],
 "metadata": {
  "kernelspec": {
   "display_name": "Python 3",
   "language": "python",
   "name": "python3"
  },
  "language_info": {
   "codemirror_mode": {
    "name": "ipython",
    "version": 3
   },
   "file_extension": ".py",
   "mimetype": "text/x-python",
   "name": "python",
   "nbconvert_exporter": "python",
   "pygments_lexer": "ipython3",
   "version": "3.7.3"
  }
 },
 "nbformat": 4,
 "nbformat_minor": 2
}
