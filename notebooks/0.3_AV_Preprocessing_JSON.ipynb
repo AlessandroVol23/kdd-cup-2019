{
 "cells": [
  {
   "cell_type": "code",
   "execution_count": 2,
   "metadata": {},
   "outputs": [],
   "source": [
    "import pandas as pd\n",
    "import numpy as np\n",
    "from pandas.io.json import json_normalize"
   ]
  },
  {
   "cell_type": "code",
   "execution_count": 3,
   "metadata": {},
   "outputs": [],
   "source": [
    "df = pd.read_csv(\"../data/raw/data_set_phase1/train_plans.csv\")"
   ]
  },
  {
   "cell_type": "code",
   "execution_count": 4,
   "metadata": {},
   "outputs": [
    {
     "data": {
      "text/plain": [
       "(491054, 3)"
      ]
     },
     "execution_count": 4,
     "metadata": {},
     "output_type": "execute_result"
    }
   ],
   "source": [
    "df.shape"
   ]
  },
  {
   "cell_type": "code",
   "execution_count": 5,
   "metadata": {},
   "outputs": [],
   "source": [
    "df.plans = df.apply(lambda x:\n",
    "                    json.loads('{\"plans\":' + x.plans + ',\"sid\":\"' + str(x.sid) + '\"' + ',\"plan_time\":' + \n",
    "                               '\"' + str(x.plan_time) + '\"}'), axis=1)"
   ]
  },
  {
   "cell_type": "code",
   "execution_count": 6,
   "metadata": {},
   "outputs": [],
   "source": [
    "df_unstacked = json_normalize(df.plans.values, 'plans', ['sid', 'plan_time'])"
   ]
  },
  {
   "cell_type": "code",
   "execution_count": 8,
   "metadata": {},
   "outputs": [
    {
     "data": {
      "text/html": [
       "<div>\n",
       "<style scoped>\n",
       "    .dataframe tbody tr th:only-of-type {\n",
       "        vertical-align: middle;\n",
       "    }\n",
       "\n",
       "    .dataframe tbody tr th {\n",
       "        vertical-align: top;\n",
       "    }\n",
       "\n",
       "    .dataframe thead th {\n",
       "        text-align: right;\n",
       "    }\n",
       "</style>\n",
       "<table border=\"1\" class=\"dataframe\">\n",
       "  <thead>\n",
       "    <tr style=\"text-align: right;\">\n",
       "      <th></th>\n",
       "      <th>distance</th>\n",
       "      <th>eta</th>\n",
       "      <th>price</th>\n",
       "      <th>transport_mode</th>\n",
       "      <th>sid</th>\n",
       "      <th>plan_time</th>\n",
       "    </tr>\n",
       "  </thead>\n",
       "  <tbody>\n",
       "    <tr>\n",
       "      <th>0</th>\n",
       "      <td>32303</td>\n",
       "      <td>5087</td>\n",
       "      <td>600</td>\n",
       "      <td>9</td>\n",
       "      <td>1709112</td>\n",
       "      <td>2018-11-04 11:45:04</td>\n",
       "    </tr>\n",
       "    <tr>\n",
       "      <th>1</th>\n",
       "      <td>33678</td>\n",
       "      <td>3149</td>\n",
       "      <td></td>\n",
       "      <td>3</td>\n",
       "      <td>1709112</td>\n",
       "      <td>2018-11-04 11:45:04</td>\n",
       "    </tr>\n",
       "    <tr>\n",
       "      <th>2</th>\n",
       "      <td>33678</td>\n",
       "      <td>3269</td>\n",
       "      <td>10000</td>\n",
       "      <td>4</td>\n",
       "      <td>1709112</td>\n",
       "      <td>2018-11-04 11:45:04</td>\n",
       "    </tr>\n",
       "    <tr>\n",
       "      <th>3</th>\n",
       "      <td>32099</td>\n",
       "      <td>5996</td>\n",
       "      <td>600</td>\n",
       "      <td>2</td>\n",
       "      <td>1709112</td>\n",
       "      <td>2018-11-04 11:45:04</td>\n",
       "    </tr>\n",
       "    <tr>\n",
       "      <th>4</th>\n",
       "      <td>30446</td>\n",
       "      <td>6494</td>\n",
       "      <td>900</td>\n",
       "      <td>1</td>\n",
       "      <td>1709112</td>\n",
       "      <td>2018-11-04 11:45:04</td>\n",
       "    </tr>\n",
       "  </tbody>\n",
       "</table>\n",
       "</div>"
      ],
      "text/plain": [
       "   distance   eta  price  transport_mode      sid            plan_time\n",
       "0     32303  5087    600               9  1709112  2018-11-04 11:45:04\n",
       "1     33678  3149                      3  1709112  2018-11-04 11:45:04\n",
       "2     33678  3269  10000               4  1709112  2018-11-04 11:45:04\n",
       "3     32099  5996    600               2  1709112  2018-11-04 11:45:04\n",
       "4     30446  6494    900               1  1709112  2018-11-04 11:45:04"
      ]
     },
     "execution_count": 8,
     "metadata": {},
     "output_type": "execute_result"
    }
   ],
   "source": [
    "df_unstacked.head()"
   ]
  },
  {
   "cell_type": "code",
   "execution_count": 9,
   "metadata": {},
   "outputs": [
    {
     "data": {
      "text/plain": [
       "(2276822, 6)"
      ]
     },
     "execution_count": 9,
     "metadata": {},
     "output_type": "execute_result"
    }
   ],
   "source": [
    "df_unstacked.shape"
   ]
  }
 ],
 "metadata": {
  "kernelspec": {
   "display_name": "Python 3",
   "language": "python",
   "name": "python3"
  },
  "language_info": {
   "codemirror_mode": {
    "name": "ipython",
    "version": 3
   },
   "file_extension": ".py",
   "mimetype": "text/x-python",
   "name": "python",
   "nbconvert_exporter": "python",
   "pygments_lexer": "ipython3",
   "version": "3.6.6"
  }
 },
 "nbformat": 4,
 "nbformat_minor": 2
}
