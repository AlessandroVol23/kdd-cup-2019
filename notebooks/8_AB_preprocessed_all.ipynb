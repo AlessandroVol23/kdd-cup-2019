{
 "cells": [
  {
   "cell_type": "code",
   "execution_count": 1,
   "metadata": {},
   "outputs": [],
   "source": [
    "import pandas as pd\n",
    "import numpy as np"
   ]
  },
  {
   "cell_type": "code",
   "execution_count": 18,
   "metadata": {},
   "outputs": [],
   "source": [
    "feattype = 'all'\n",
    "coltype = 'first'\n",
    "train = pd.read_pickle('../data/processed_'+feattype+'/train_'+feattype+'_'+coltype+'.pickle')\n",
    "test = pd.read_pickle('../data/processed_'+feattype+'/test_'+feattype+'_'+coltype+'.pickle')"
   ]
  },
  {
   "cell_type": "code",
   "execution_count": 2,
   "metadata": {},
   "outputs": [],
   "source": [
    "ext = pd.read_pickle('../data/external_features//train_external.pickle')\n",
    "text = pd.read_pickle('../data/external_features//test_external.pickle')\n",
    "allext = ext.append(text)\n",
    "#traindf1 = pd.read_pickle('../data/processed_'+feattype+'/train_'+feattype+'_row.pickle')\n",
    "#querydf = pd.read_csv('../data/raw/data_set_phase1/train_queries.csv')\n",
    "#plandf = pd.read_csv('../data/raw/data_set_phase1/train_plans.csv')\n"
   ]
  },
  {
   "cell_type": "code",
   "execution_count": 3,
   "metadata": {},
   "outputs": [],
   "source": [
    "feattype = 'raw'\n",
    "trainr = pd.read_pickle('../data/processed_'+feattype+'/train_'+feattype+'_first.pickle')\n",
    "testr = pd.read_pickle('../data/processed_'+feattype+'/test_'+feattype+'_first.pickle')"
   ]
  },
  {
   "cell_type": "code",
   "execution_count": 10,
   "metadata": {},
   "outputs": [
    {
     "data": {
      "text/plain": [
       "False"
      ]
     },
     "execution_count": 10,
     "metadata": {},
     "output_type": "execute_result"
    }
   ],
   "source": [
    "'pid_y' in trainr"
   ]
  },
  {
   "cell_type": "code",
   "execution_count": 4,
   "metadata": {},
   "outputs": [],
   "source": [
    "newdf = pd.merge(trainr, allext, on='sid', how='inner')"
   ]
  },
  {
   "cell_type": "code",
   "execution_count": 5,
   "metadata": {},
   "outputs": [
    {
     "data": {
      "text/plain": [
       "(400000, 197)"
      ]
     },
     "execution_count": 5,
     "metadata": {},
     "output_type": "execute_result"
    }
   ],
   "source": [
    "newdf.shape"
   ]
  },
  {
   "cell_type": "code",
   "execution_count": 13,
   "metadata": {},
   "outputs": [
    {
     "data": {
      "text/plain": [
       "((400000, 195), (100000, 195), (400000, 21), (100000, 21), (400000, 177))"
      ]
     },
     "execution_count": 13,
     "metadata": {},
     "output_type": "execute_result"
    }
   ],
   "source": [
    "train.shape, test.shape, ext.shape, text.shape, trainr.shape"
   ]
  },
  {
   "cell_type": "code",
   "execution_count": 19,
   "metadata": {},
   "outputs": [],
   "source": [
    "train = train.drop('weather', axis=1)\n",
    "test = test.drop('weather', axis=1)"
   ]
  },
  {
   "cell_type": "code",
   "execution_count": 16,
   "metadata": {},
   "outputs": [
    {
     "data": {
      "text/plain": [
       "sid                         2.84892e+06\n",
       "click_time          2018-11-17 08:08:25\n",
       "click_mode                            1\n",
       "pid                              101804\n",
       "req_time            2018-11-17 08:07:52\n",
       "o_long                           116.41\n",
       "o_lat                             39.92\n",
       "d_long                              116\n",
       "d_lat                             40.35\n",
       "distance_query                 0.594138\n",
       "weekday                               5\n",
       "hour                                  8\n",
       "PID_MainComp_0                  1.81596\n",
       "PID_MainComp_1                -0.526837\n",
       "PID_MainComp_2                 -0.76378\n",
       "PID_MainComp_3                0.0478339\n",
       "PID_MainComp_4                  1.43977\n",
       "PID_MainComp_5                0.0620011\n",
       "PID_MainComp_6                 0.143547\n",
       "PID_MainComp_7                -0.289589\n",
       "PID_MainComp_8                0.0546204\n",
       "PID_MainComp_9                 0.091801\n",
       "PID_MainComp_10              -0.0872864\n",
       "PID_MainComp_11               -0.860515\n",
       "PID_MainComp_12                0.570766\n",
       "PID_MainComp_13               -0.304735\n",
       "PID_MainComp_14              -0.0918013\n",
       "PID_MainComp_15                0.279651\n",
       "PID_MainComp_16               -0.175971\n",
       "PID_MainComp_17                0.929617\n",
       "                           ...         \n",
       "dist_8                                0\n",
       "price_8                               0\n",
       "eta_8                                 0\n",
       "dist_9                                0\n",
       "price_9                               0\n",
       "eta_9                                 0\n",
       "dist_10                               0\n",
       "price_10                              0\n",
       "eta_10                                0\n",
       "dist_11                               0\n",
       "price_11                              0\n",
       "eta_11                                0\n",
       "Response                              1\n",
       "dist_nearest_sub                    0.1\n",
       "req_date                          11-17\n",
       "req_hour                              8\n",
       "req_weekend                           1\n",
       "req_night                             0\n",
       "req_day                               1\n",
       "req_evening                           0\n",
       "is_holiday                            0\n",
       "max_temp                              9\n",
       "min_temp                             -2\n",
       "wind                                 12\n",
       "weather_dy                            0\n",
       "weather_dyq                           1\n",
       "weather_q                             0\n",
       "weather_qdy                           0\n",
       "weather_xq                            0\n",
       "weather_xydy                          0\n",
       "Name: 10, Length: 194, dtype: object"
      ]
     },
     "execution_count": 16,
     "metadata": {},
     "output_type": "execute_result"
    }
   ],
   "source": [
    "train.iloc[10]"
   ]
  },
  {
   "cell_type": "code",
   "execution_count": 7,
   "metadata": {},
   "outputs": [],
   "source": [
    "nandf = newdf[newdf.isna().any(axis=1)]"
   ]
  },
  {
   "cell_type": "code",
   "execution_count": 8,
   "metadata": {},
   "outputs": [
    {
     "name": "stdout",
     "output_type": "stream",
     "text": [
      "sid                 False\n",
      "click_time           True\n",
      "click_mode          False\n",
      "pid_x               False\n",
      "req_time_x          False\n",
      "o_long              False\n",
      "o_lat               False\n",
      "d_long              False\n",
      "d_lat               False\n",
      "distance_query      False\n",
      "weekday             False\n",
      "hour                False\n",
      "PID_MainComp_0      False\n",
      "PID_MainComp_1      False\n",
      "PID_MainComp_2      False\n",
      "PID_MainComp_3      False\n",
      "PID_MainComp_4      False\n",
      "PID_MainComp_5      False\n",
      "PID_MainComp_6      False\n",
      "PID_MainComp_7      False\n",
      "PID_MainComp_8      False\n",
      "PID_MainComp_9      False\n",
      "PID_MainComp_10     False\n",
      "PID_MainComp_11     False\n",
      "PID_MainComp_12     False\n",
      "PID_MainComp_13     False\n",
      "PID_MainComp_14     False\n",
      "PID_MainComp_15     False\n",
      "PID_MainComp_16     False\n",
      "PID_MainComp_17     False\n",
      "                    ...  \n",
      "dist_9              False\n",
      "price_9             False\n",
      "eta_9               False\n",
      "dist_10             False\n",
      "price_10            False\n",
      "eta_10              False\n",
      "dist_11             False\n",
      "price_11            False\n",
      "eta_11              False\n",
      "Response            False\n",
      "pid_y                True\n",
      "req_time_y          False\n",
      "dist_nearest_sub    False\n",
      "req_date            False\n",
      "req_hour            False\n",
      "req_weekend         False\n",
      "req_night           False\n",
      "req_day             False\n",
      "req_evening         False\n",
      "is_holiday          False\n",
      "max_temp            False\n",
      "min_temp            False\n",
      "weather             False\n",
      "wind                False\n",
      "weather_dy          False\n",
      "weather_dyq         False\n",
      "weather_q           False\n",
      "weather_qdy         False\n",
      "weather_xq          False\n",
      "weather_xydy        False\n",
      "Length: 197, dtype: bool\n"
     ]
    }
   ],
   "source": [
    "print(nandf.isna().any(axis=0))"
   ]
  },
  {
   "cell_type": "code",
   "execution_count": 20,
   "metadata": {},
   "outputs": [],
   "source": [
    "train.to_pickle('../data/processed_all/train_all_last.pickle')\n",
    "test.to_pickle('../data/processed_all/test_all_last.pickle')"
   ]
  },
  {
   "cell_type": "raw",
   "metadata": {},
   "source": []
  },
  {
   "cell_type": "code",
   "execution_count": null,
   "metadata": {},
   "outputs": [],
   "source": []
  }
 ],
 "metadata": {
  "kernelspec": {
   "display_name": "Python 3",
   "language": "python",
   "name": "python3"
  },
  "language_info": {
   "codemirror_mode": {
    "name": "ipython",
    "version": 3
   },
   "file_extension": ".py",
   "mimetype": "text/x-python",
   "name": "python",
   "nbconvert_exporter": "python",
   "pygments_lexer": "ipython3",
   "version": "3.7.3"
  }
 },
 "nbformat": 4,
 "nbformat_minor": 2
}
