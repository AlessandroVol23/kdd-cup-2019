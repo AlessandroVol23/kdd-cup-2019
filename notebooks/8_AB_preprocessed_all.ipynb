{
 "cells": [
  {
   "cell_type": "code",
   "execution_count": 1,
   "metadata": {},
   "outputs": [],
   "source": [
    "import pandas as pd\n",
    "import numpy as np"
   ]
  },
  {
   "cell_type": "code",
   "execution_count": 2,
   "metadata": {},
   "outputs": [],
   "source": [
    "feattype = 'raw'\n",
    "coltype = 'first'\n",
    "train = pd.read_pickle('../data/processed_'+feattype+'/train_'+feattype+'_'+coltype+'.pickle')\n",
    "test = pd.read_pickle('../data/processed_'+feattype+'/test_'+feattype+'_'+coltype+'.pickle')"
   ]
  },
  {
   "cell_type": "code",
   "execution_count": 2,
   "metadata": {},
   "outputs": [],
   "source": [
    "ext = pd.read_pickle('../data/external_features//train_external.pickle')\n",
    "text = pd.read_pickle('../data/external_features//test_external.pickle')\n",
    "allext = ext.append(text)\n",
    "#traindf1 = pd.read_pickle('../data/processed_'+feattype+'/train_'+feattype+'_row.pickle')\n",
    "#querydf = pd.read_csv('../data/raw/data_set_phase1/train_queries.csv')\n",
    "#plandf = pd.read_csv('../data/raw/data_set_phase1/train_plans.csv')\n"
   ]
  },
  {
   "cell_type": "code",
   "execution_count": 3,
   "metadata": {},
   "outputs": [
    {
     "data": {
      "text/plain": [
       "(400000, 177)"
      ]
     },
     "execution_count": 3,
     "metadata": {},
     "output_type": "execute_result"
    }
   ],
   "source": [
    "train.shape"
   ]
  },
  {
   "cell_type": "code",
   "execution_count": 6,
   "metadata": {},
   "outputs": [
    {
     "data": {
      "text/plain": [
       "sid                             415664\n",
       "click_time         2018-10-05 10:04:49\n",
       "click_mode                           2\n",
       "pid                                 -1\n",
       "req_time           2018-10-05 10:04:46\n",
       "o_long                          116.31\n",
       "o_lat                            40.03\n",
       "d_long                          116.37\n",
       "d_lat                            39.86\n",
       "distance_query                0.180278\n",
       "weekday                              4\n",
       "hour                                10\n",
       "PID_MainComp_0                 5.15078\n",
       "PID_MainComp_1              -0.0309079\n",
       "PID_MainComp_2               -0.132038\n",
       "PID_MainComp_3              -0.0347558\n",
       "PID_MainComp_4               0.0112912\n",
       "PID_MainComp_5                0.325687\n",
       "PID_MainComp_6                -0.60347\n",
       "PID_MainComp_7               -0.571777\n",
       "PID_MainComp_8               -0.678642\n",
       "PID_MainComp_9               -0.670281\n",
       "PID_MainComp_10              -0.186577\n",
       "PID_MainComp_11              -0.162506\n",
       "PID_MainComp_12              -0.200601\n",
       "PID_MainComp_13               0.115991\n",
       "PID_MainComp_14              -0.389405\n",
       "PID_MainComp_15              -0.243086\n",
       "PID_MainComp_16              -0.611087\n",
       "PID_MainComp_17               0.112213\n",
       "                          ...         \n",
       "price_2                            500\n",
       "eta_2                             3149\n",
       "dist_3                               1\n",
       "price_3                            700\n",
       "eta_3                                1\n",
       "dist_4                               1\n",
       "price_4                           8400\n",
       "eta_4                              240\n",
       "dist_5                               0\n",
       "price_5                              0\n",
       "eta_5                                0\n",
       "dist_6                               0\n",
       "price_6                              0\n",
       "eta_6                                0\n",
       "dist_7                               0\n",
       "price_7                              0\n",
       "eta_7                                0\n",
       "dist_8                               0\n",
       "price_8                              0\n",
       "eta_8                                0\n",
       "dist_9                               0\n",
       "price_9                              0\n",
       "eta_9                                0\n",
       "dist_10                              0\n",
       "price_10                             0\n",
       "eta_10                               0\n",
       "dist_11                              0\n",
       "price_11                             0\n",
       "eta_11                               0\n",
       "Response                             2\n",
       "Name: 141, Length: 177, dtype: object"
      ]
     },
     "execution_count": 6,
     "metadata": {},
     "output_type": "execute_result"
    }
   ],
   "source": [
    "train[train[\"pid\"] == -1].iloc[4]"
   ]
  },
  {
   "cell_type": "code",
   "execution_count": 13,
   "metadata": {},
   "outputs": [
    {
     "data": {
      "text/plain": [
       "((400000, 195), (100000, 195), (400000, 21), (100000, 21), (400000, 177))"
      ]
     },
     "execution_count": 13,
     "metadata": {},
     "output_type": "execute_result"
    }
   ],
   "source": [
    "train.shape, test.shape, ext.shape, text.shape, trainr.shape"
   ]
  },
  {
   "cell_type": "code",
   "execution_count": 4,
   "metadata": {},
   "outputs": [
    {
     "data": {
      "text/plain": [
       "{'sid': 2629085,\n",
       " 'click_time': '2018-10-12 16:28:13',\n",
       " 'click_mode': 3,\n",
       " 'distance_plan': 9546,\n",
       " 'eta': 4553,\n",
       " 'price': 400.0,\n",
       " 'transport_mode': 1,\n",
       " 'plan_time_x': '2018-10-12 16:27:55',\n",
       " 'pid': 203797.0,\n",
       " 'req_time': Timestamp('2018-10-12 16:27:55'),\n",
       " 'o_long': 116.35,\n",
       " 'o_lat': 40.08,\n",
       " 'd_long': 116.33,\n",
       " 'd_lat': 40.03,\n",
       " 'distance_query': 0.05385164807134093,\n",
       " 'weekday': 4,\n",
       " 'hour': 16,\n",
       " 'plan_time_y': '2018-10-12 16:27:55',\n",
       " 'PID_MainComp_0': 1.704739783115594,\n",
       " 'PID_MainComp_1': -0.4177136334797418,\n",
       " 'PID_MainComp_2': -1.1324949263837258,\n",
       " 'PID_MainComp_3': -0.6521039627208052,\n",
       " 'PID_MainComp_4': -0.4392447761906962,\n",
       " 'PID_MainComp_5': -0.9398386527111019,\n",
       " 'PID_MainComp_6': -0.08353287941948112,\n",
       " 'PID_MainComp_7': 1.042147253660637,\n",
       " 'PID_MainComp_8': -0.5090381406784733,\n",
       " 'PID_MainComp_9': -0.45492200427524376,\n",
       " 'PID_MainComp_10': 0.13182880673274722,\n",
       " 'PID_MainComp_11': -0.025284097312881275,\n",
       " 'PID_MainComp_12': -0.48044921816239083,\n",
       " 'PID_MainComp_13': -0.3669746493846503,\n",
       " 'PID_MainComp_14': 0.37631184998858536,\n",
       " 'PID_MainComp_15': -0.01323105153731238,\n",
       " 'PID_MainComp_16': -0.10958363696731972,\n",
       " 'PID_MainComp_17': -0.061550376574308854,\n",
       " 'PID_MainComp_18': -0.04555605657739085,\n",
       " 'PID_MainComp_19': -0.2256312600476293,\n",
       " 'mode_0_available': 0.0,\n",
       " 'mode_1_available': 1.0,\n",
       " 'mode_2_available': 0.0,\n",
       " 'mode_3_available': 1.0,\n",
       " 'mode_4_available': 1.0,\n",
       " 'mode_5_available': 0.0,\n",
       " 'mode_6_available': 1.0,\n",
       " 'mode_7_available': 1.0,\n",
       " 'mode_8_available': 0.0,\n",
       " 'mode_9_available': 1.0,\n",
       " 'mode_10_available': 1.0,\n",
       " 'mode_11_available': 0.0,\n",
       " 'max_dist': 13428.0,\n",
       " 'min_dist': 8079.0,\n",
       " 'mean_dist': 10032.857142857143,\n",
       " 'std_dist': 2162.3559524985985,\n",
       " 'max_price': 2700.0,\n",
       " 'min_price': 0.0,\n",
       " 'mean_price': 842.8571428571429,\n",
       " 'std_price': 913.1689608283936,\n",
       " 'max_eta': 4553.0,\n",
       " 'min_eta': 1656.0,\n",
       " 'mean_eta': 2774.1428571428573,\n",
       " 'std_eta': 974.613099582368,\n",
       " 'max_dist_mode': 7.0,\n",
       " 'min_dist_mode': 6.0,\n",
       " 'max_price_mode': 4.0,\n",
       " 'min_price_mode': 3.0,\n",
       " 'max_eta_mode': 1.0,\n",
       " 'min_eta_mode': 3.0,\n",
       " 'first_mode': 9.0,\n",
       " 'TFIDF_clustered_0': 0.36643169674841547,\n",
       " 'TFIDF_clustered_1': -0.09575165870866476,\n",
       " 'TFIDF_clustered_2': -0.1756973874478401,\n",
       " 'TFIDF_clustered_3': 0.11467357594610644,\n",
       " 'TFIDF_clustered_4': 0.22356555329693553,\n",
       " 'TFIDF_clustered_5': 0.20905113586342647,\n",
       " 'TFIDF_clustered_6': 0.04537623427844637,\n",
       " 'TFIDF_clustered_7': -0.07655660613362131,\n",
       " 'TFIDF_clustered_8': -0.19672417406243325,\n",
       " 'TFIDF_clustered_9': 0.0889023135185413,\n",
       " 'Response': 3}"
      ]
     },
     "execution_count": 4,
     "metadata": {},
     "output_type": "execute_result"
    }
   ],
   "source": [
    "dict(train.iloc[10])"
   ]
  },
  {
   "cell_type": "code",
   "execution_count": 7,
   "metadata": {},
   "outputs": [],
   "source": [
    "nandf = newdf[newdf.isna().any(axis=1)]"
   ]
  },
  {
   "cell_type": "code",
   "execution_count": 8,
   "metadata": {},
   "outputs": [
    {
     "name": "stdout",
     "output_type": "stream",
     "text": [
      "sid                 False\n",
      "click_time           True\n",
      "click_mode          False\n",
      "pid_x               False\n",
      "req_time_x          False\n",
      "o_long              False\n",
      "o_lat               False\n",
      "d_long              False\n",
      "d_lat               False\n",
      "distance_query      False\n",
      "weekday             False\n",
      "hour                False\n",
      "PID_MainComp_0      False\n",
      "PID_MainComp_1      False\n",
      "PID_MainComp_2      False\n",
      "PID_MainComp_3      False\n",
      "PID_MainComp_4      False\n",
      "PID_MainComp_5      False\n",
      "PID_MainComp_6      False\n",
      "PID_MainComp_7      False\n",
      "PID_MainComp_8      False\n",
      "PID_MainComp_9      False\n",
      "PID_MainComp_10     False\n",
      "PID_MainComp_11     False\n",
      "PID_MainComp_12     False\n",
      "PID_MainComp_13     False\n",
      "PID_MainComp_14     False\n",
      "PID_MainComp_15     False\n",
      "PID_MainComp_16     False\n",
      "PID_MainComp_17     False\n",
      "                    ...  \n",
      "dist_9              False\n",
      "price_9             False\n",
      "eta_9               False\n",
      "dist_10             False\n",
      "price_10            False\n",
      "eta_10              False\n",
      "dist_11             False\n",
      "price_11            False\n",
      "eta_11              False\n",
      "Response            False\n",
      "pid_y                True\n",
      "req_time_y          False\n",
      "dist_nearest_sub    False\n",
      "req_date            False\n",
      "req_hour            False\n",
      "req_weekend         False\n",
      "req_night           False\n",
      "req_day             False\n",
      "req_evening         False\n",
      "is_holiday          False\n",
      "max_temp            False\n",
      "min_temp            False\n",
      "weather             False\n",
      "wind                False\n",
      "weather_dy          False\n",
      "weather_dyq         False\n",
      "weather_q           False\n",
      "weather_qdy         False\n",
      "weather_xq          False\n",
      "weather_xydy        False\n",
      "Length: 197, dtype: bool\n"
     ]
    }
   ],
   "source": [
    "print(nandf.isna().any(axis=0))"
   ]
  },
  {
   "cell_type": "code",
   "execution_count": 20,
   "metadata": {},
   "outputs": [],
   "source": [
    "train.to_pickle('../data/processed_all/train_all_last.pickle')\n",
    "test.to_pickle('../data/processed_all/test_all_last.pickle')"
   ]
  },
  {
   "cell_type": "raw",
   "metadata": {},
   "source": []
  },
  {
   "cell_type": "code",
   "execution_count": null,
   "metadata": {},
   "outputs": [],
   "source": []
  }
 ],
 "metadata": {
  "kernelspec": {
   "display_name": "Python 3",
   "language": "python",
   "name": "python3"
  },
  "language_info": {
   "codemirror_mode": {
    "name": "ipython",
    "version": 3
   },
   "file_extension": ".py",
   "mimetype": "text/x-python",
   "name": "python",
   "nbconvert_exporter": "python",
   "pygments_lexer": "ipython3",
   "version": "3.7.3"
  }
 },
 "nbformat": 4,
 "nbformat_minor": 2
}
