{
 "cells": [
  {
   "cell_type": "code",
   "execution_count": 2,
   "metadata": {},
   "outputs": [],
   "source": [
    "import pandas as pd\n",
    "import re\n",
    "\n",
    "import matplotlib.pyplot as plt\n",
    "%matplotlib inline\n",
    "\n",
    "import seaborn as sns\n",
    "sns.set(style='white', context='notebook', palette='deep')"
   ]
  },
  {
   "cell_type": "code",
   "execution_count": 3,
   "metadata": {},
   "outputs": [],
   "source": [
    "df_queries = pd.read_csv(\"../data/raw/data_set_phase1/train_queries.csv\")"
   ]
  },
  {
   "cell_type": "code",
   "execution_count": 4,
   "metadata": {},
   "outputs": [],
   "source": [
    "df_queries['req_time'] = pd.to_datetime(df_queries['req_time'])"
   ]
  },
  {
   "cell_type": "code",
   "execution_count": 5,
   "metadata": {},
   "outputs": [
    {
     "data": {
      "text/plain": [
       "<matplotlib.axes._subplots.AxesSubplot at 0x7f3748c48240>"
      ]
     },
     "execution_count": 5,
     "metadata": {},
     "output_type": "execute_result"
    },
    {
     "data": {
      "image/png": "[encoded data removed]",
      "text/plain": [
       "<Figure size 432x288 with 1 Axes>"
      ]
     },
     "metadata": {},
     "output_type": "display_data"
    }
   ],
   "source": [
    "sns.countplot(df_queries['req_time'].dt.day_name())"
   ]
  },
  {
   "cell_type": "code",
   "execution_count": 6,
   "metadata": {},
   "outputs": [],
   "source": [
    "df_queries['weekend'] = df_queries['req_time'].dt.day_name().apply(lambda x: 1 if x in [\"Friday\", \"Saturday\"] else 0)"
   ]
  },
  {
   "cell_type": "code",
   "execution_count": 7,
   "metadata": {},
   "outputs": [],
   "source": [
    "df_queries['req_date'] = df_queries['req_time'].dt.strftime('%m-%d')"
   ]
  },
  {
   "cell_type": "code",
   "execution_count": 8,
   "metadata": {},
   "outputs": [],
   "source": [
    "df_queries['req_hour'] = df_queries['req_time'].dt.hour\n",
    "df_queries['req_hour_bin'] = df_queries['req_hour'].apply(lambda x: 'night' if x <= 7 else ('day' if x in range(8,18) else 'evening'))"
   ]
  },
  {
   "cell_type": "code",
   "execution_count": 8,
   "metadata": {},
   "outputs": [
    {
     "data": {
      "text/plain": [
       "<matplotlib.axes._subplots.AxesSubplot at 0x7fee46618978>"
      ]
     },
     "execution_count": 8,
     "metadata": {},
     "output_type": "execute_result"
    },
    {
     "data": {
      "image/png": "[encoded data removed]",
      "text/plain": [
       "<Figure size 432x288 with 1 Axes>"
      ]
     },
     "metadata": {
      "needs_background": "light"
     },
     "output_type": "display_data"
    }
   ],
   "source": [
    "sns.countplot(df_queries.req_hour)"
   ]
  },
  {
   "cell_type": "code",
   "execution_count": 9,
   "metadata": {},
   "outputs": [
    {
     "data": {
      "text/plain": [
       "<matplotlib.axes._subplots.AxesSubplot at 0x7fee482ee048>"
      ]
     },
     "execution_count": 9,
     "metadata": {},
     "output_type": "execute_result"
    },
    {
     "data": {
      "image/png": "[encoded data removed]",
      "text/plain": [
       "<Figure size 432x288 with 1 Axes>"
      ]
     },
     "metadata": {
      "needs_background": "light"
     },
     "output_type": "display_data"
    }
   ],
   "source": [
    "sns.countplot(df_queries.req_hour_bin)"
   ]
  },
  {
   "cell_type": "code",
   "execution_count": 9,
   "metadata": {},
   "outputs": [
    {
     "data": {
      "text/html": [
       "<div>\n",
       "<style scoped>\n",
       "    .dataframe tbody tr th:only-of-type {\n",
       "        vertical-align: middle;\n",
       "    }\n",
       "\n",
       "    .dataframe tbody tr th {\n",
       "        vertical-align: top;\n",
       "    }\n",
       "\n",
       "    .dataframe thead th {\n",
       "        text-align: right;\n",
       "    }\n",
       "</style>\n",
       "<table border=\"1\" class=\"dataframe\">\n",
       "  <thead>\n",
       "    <tr style=\"text-align: right;\">\n",
       "      <th></th>\n",
       "      <th>sid</th>\n",
       "      <th>pid</th>\n",
       "      <th>req_time</th>\n",
       "      <th>o</th>\n",
       "      <th>d</th>\n",
       "      <th>weekend</th>\n",
       "      <th>req_date</th>\n",
       "      <th>req_hour</th>\n",
       "      <th>req_hour_bin</th>\n",
       "    </tr>\n",
       "  </thead>\n",
       "  <tbody>\n",
       "    <tr>\n",
       "      <th>386601</th>\n",
       "      <td>2555012</td>\n",
       "      <td>126051.0</td>\n",
       "      <td>2018-11-19 22:33:47</td>\n",
       "      <td>116.32,39.79</td>\n",
       "      <td>116.61,40.12</td>\n",
       "      <td>0</td>\n",
       "      <td>11-19</td>\n",
       "      <td>22</td>\n",
       "      <td>evening</td>\n",
       "    </tr>\n",
       "    <tr>\n",
       "      <th>498477</th>\n",
       "      <td>808625</td>\n",
       "      <td>176254.0</td>\n",
       "      <td>2018-10-29 22:59:27</td>\n",
       "      <td>116.20,39.90</td>\n",
       "      <td>116.50,39.79</td>\n",
       "      <td>0</td>\n",
       "      <td>10-29</td>\n",
       "      <td>22</td>\n",
       "      <td>evening</td>\n",
       "    </tr>\n",
       "    <tr>\n",
       "      <th>405117</th>\n",
       "      <td>2311357</td>\n",
       "      <td>NaN</td>\n",
       "      <td>2018-10-25 07:12:38</td>\n",
       "      <td>116.33,39.72</td>\n",
       "      <td>116.41,39.91</td>\n",
       "      <td>0</td>\n",
       "      <td>10-25</td>\n",
       "      <td>7</td>\n",
       "      <td>night</td>\n",
       "    </tr>\n",
       "    <tr>\n",
       "      <th>464815</th>\n",
       "      <td>136033</td>\n",
       "      <td>194728.0</td>\n",
       "      <td>2018-10-08 12:57:52</td>\n",
       "      <td>116.39,39.98</td>\n",
       "      <td>116.26,39.99</td>\n",
       "      <td>0</td>\n",
       "      <td>10-08</td>\n",
       "      <td>12</td>\n",
       "      <td>day</td>\n",
       "    </tr>\n",
       "    <tr>\n",
       "      <th>146889</th>\n",
       "      <td>1696808</td>\n",
       "      <td>NaN</td>\n",
       "      <td>2018-10-23 11:37:49</td>\n",
       "      <td>116.55,39.91</td>\n",
       "      <td>116.55,39.92</td>\n",
       "      <td>0</td>\n",
       "      <td>10-23</td>\n",
       "      <td>11</td>\n",
       "      <td>day</td>\n",
       "    </tr>\n",
       "    <tr>\n",
       "      <th>80994</th>\n",
       "      <td>523263</td>\n",
       "      <td>112198.0</td>\n",
       "      <td>2018-11-23 23:26:11</td>\n",
       "      <td>116.31,40.03</td>\n",
       "      <td>116.41,40.04</td>\n",
       "      <td>1</td>\n",
       "      <td>11-23</td>\n",
       "      <td>23</td>\n",
       "      <td>evening</td>\n",
       "    </tr>\n",
       "    <tr>\n",
       "      <th>161621</th>\n",
       "      <td>2895913</td>\n",
       "      <td>NaN</td>\n",
       "      <td>2018-10-06 13:59:19</td>\n",
       "      <td>116.43,39.94</td>\n",
       "      <td>116.31,40.07</td>\n",
       "      <td>1</td>\n",
       "      <td>10-06</td>\n",
       "      <td>13</td>\n",
       "      <td>day</td>\n",
       "    </tr>\n",
       "    <tr>\n",
       "      <th>191649</th>\n",
       "      <td>409136</td>\n",
       "      <td>202643.0</td>\n",
       "      <td>2018-10-05 01:35:42</td>\n",
       "      <td>116.20,39.85</td>\n",
       "      <td>116.41,39.91</td>\n",
       "      <td>1</td>\n",
       "      <td>10-05</td>\n",
       "      <td>1</td>\n",
       "      <td>night</td>\n",
       "    </tr>\n",
       "    <tr>\n",
       "      <th>259462</th>\n",
       "      <td>152732</td>\n",
       "      <td>NaN</td>\n",
       "      <td>2018-10-20 08:06:04</td>\n",
       "      <td>116.37,39.90</td>\n",
       "      <td>116.33,39.99</td>\n",
       "      <td>1</td>\n",
       "      <td>10-20</td>\n",
       "      <td>8</td>\n",
       "      <td>day</td>\n",
       "    </tr>\n",
       "    <tr>\n",
       "      <th>66580</th>\n",
       "      <td>2012795</td>\n",
       "      <td>204347.0</td>\n",
       "      <td>2018-10-14 08:03:12</td>\n",
       "      <td>116.44,39.80</td>\n",
       "      <td>116.42,39.90</td>\n",
       "      <td>0</td>\n",
       "      <td>10-14</td>\n",
       "      <td>8</td>\n",
       "      <td>day</td>\n",
       "    </tr>\n",
       "  </tbody>\n",
       "</table>\n",
       "</div>"
      ],
      "text/plain": [
       "            sid       pid            req_time             o             d  \\\n",
       "386601  2555012  126051.0 2018-11-19 22:33:47  116.32,39.79  116.61,40.12   \n",
       "498477   808625  176254.0 2018-10-29 22:59:27  116.20,39.90  116.50,39.79   \n",
       "405117  2311357       NaN 2018-10-25 07:12:38  116.33,39.72  116.41,39.91   \n",
       "464815   136033  194728.0 2018-10-08 12:57:52  116.39,39.98  116.26,39.99   \n",
       "146889  1696808       NaN 2018-10-23 11:37:49  116.55,39.91  116.55,39.92   \n",
       "80994    523263  112198.0 2018-11-23 23:26:11  116.31,40.03  116.41,40.04   \n",
       "161621  2895913       NaN 2018-10-06 13:59:19  116.43,39.94  116.31,40.07   \n",
       "191649   409136  202643.0 2018-10-05 01:35:42  116.20,39.85  116.41,39.91   \n",
       "259462   152732       NaN 2018-10-20 08:06:04  116.37,39.90  116.33,39.99   \n",
       "66580   2012795  204347.0 2018-10-14 08:03:12  116.44,39.80  116.42,39.90   \n",
       "\n",
       "        weekend req_date  req_hour req_hour_bin  \n",
       "386601        0    11-19        22      evening  \n",
       "498477        0    10-29        22      evening  \n",
       "405117        0    10-25         7        night  \n",
       "464815        0    10-08        12          day  \n",
       "146889        0    10-23        11          day  \n",
       "80994         1    11-23        23      evening  \n",
       "161621        1    10-06        13          day  \n",
       "191649        1    10-05         1        night  \n",
       "259462        1    10-20         8          day  \n",
       "66580         0    10-14         8          day  "
      ]
     },
     "execution_count": 9,
     "metadata": {},
     "output_type": "execute_result"
    }
   ],
   "source": [
    "df_queries.sample(10)"
   ]
  },
  {
   "cell_type": "code",
   "execution_count": 12,
   "metadata": {},
   "outputs": [],
   "source": [
    "df_queries[['req_month','req_day']] = df_queries.req_date.str.split(\"-\",expand=True,).astype(int)"
   ]
  },
  {
   "cell_type": "code",
   "execution_count": 15,
   "metadata": {},
   "outputs": [],
   "source": [
    "df_queries = df_queries.drop('req_date', axis=1)"
   ]
  },
  {
   "cell_type": "code",
   "execution_count": 16,
   "metadata": {},
   "outputs": [
    {
     "data": {
      "text/html": [
       "<div>\n",
       "<style scoped>\n",
       "    .dataframe tbody tr th:only-of-type {\n",
       "        vertical-align: middle;\n",
       "    }\n",
       "\n",
       "    .dataframe tbody tr th {\n",
       "        vertical-align: top;\n",
       "    }\n",
       "\n",
       "    .dataframe thead th {\n",
       "        text-align: right;\n",
       "    }\n",
       "</style>\n",
       "<table border=\"1\" class=\"dataframe\">\n",
       "  <thead>\n",
       "    <tr style=\"text-align: right;\">\n",
       "      <th></th>\n",
       "      <th>sid</th>\n",
       "      <th>pid</th>\n",
       "      <th>req_time</th>\n",
       "      <th>o</th>\n",
       "      <th>d</th>\n",
       "      <th>weekend</th>\n",
       "      <th>req_hour</th>\n",
       "      <th>req_hour_bin</th>\n",
       "      <th>req_month</th>\n",
       "      <th>req_day</th>\n",
       "    </tr>\n",
       "  </thead>\n",
       "  <tbody>\n",
       "    <tr>\n",
       "      <th>428815</th>\n",
       "      <td>2565498</td>\n",
       "      <td>NaN</td>\n",
       "      <td>2018-11-19 18:26:11</td>\n",
       "      <td>116.41,40.00</td>\n",
       "      <td>116.42,39.90</td>\n",
       "      <td>0</td>\n",
       "      <td>18</td>\n",
       "      <td>evening</td>\n",
       "      <td>11</td>\n",
       "      <td>19</td>\n",
       "    </tr>\n",
       "    <tr>\n",
       "      <th>295061</th>\n",
       "      <td>2805061</td>\n",
       "      <td>146293.0</td>\n",
       "      <td>2018-10-30 04:22:30</td>\n",
       "      <td>116.42,39.85</td>\n",
       "      <td>116.37,39.91</td>\n",
       "      <td>0</td>\n",
       "      <td>4</td>\n",
       "      <td>night</td>\n",
       "      <td>10</td>\n",
       "      <td>30</td>\n",
       "    </tr>\n",
       "    <tr>\n",
       "      <th>219457</th>\n",
       "      <td>168025</td>\n",
       "      <td>NaN</td>\n",
       "      <td>2018-10-20 00:00:47</td>\n",
       "      <td>116.30,39.96</td>\n",
       "      <td>116.65,39.89</td>\n",
       "      <td>1</td>\n",
       "      <td>0</td>\n",
       "      <td>night</td>\n",
       "      <td>10</td>\n",
       "      <td>20</td>\n",
       "    </tr>\n",
       "    <tr>\n",
       "      <th>245522</th>\n",
       "      <td>1807911</td>\n",
       "      <td>204013.0</td>\n",
       "      <td>2018-11-29 14:46:47</td>\n",
       "      <td>116.39,39.89</td>\n",
       "      <td>116.35,39.97</td>\n",
       "      <td>0</td>\n",
       "      <td>14</td>\n",
       "      <td>day</td>\n",
       "      <td>11</td>\n",
       "      <td>29</td>\n",
       "    </tr>\n",
       "    <tr>\n",
       "      <th>111093</th>\n",
       "      <td>552244</td>\n",
       "      <td>NaN</td>\n",
       "      <td>2018-11-23 21:26:18</td>\n",
       "      <td>116.42,39.94</td>\n",
       "      <td>116.39,39.91</td>\n",
       "      <td>1</td>\n",
       "      <td>21</td>\n",
       "      <td>evening</td>\n",
       "      <td>11</td>\n",
       "      <td>23</td>\n",
       "    </tr>\n",
       "    <tr>\n",
       "      <th>92693</th>\n",
       "      <td>855401</td>\n",
       "      <td>NaN</td>\n",
       "      <td>2018-11-26 18:39:23</td>\n",
       "      <td>116.31,39.97</td>\n",
       "      <td>116.30,39.97</td>\n",
       "      <td>0</td>\n",
       "      <td>18</td>\n",
       "      <td>evening</td>\n",
       "      <td>11</td>\n",
       "      <td>26</td>\n",
       "    </tr>\n",
       "    <tr>\n",
       "      <th>165883</th>\n",
       "      <td>379984</td>\n",
       "      <td>100011.0</td>\n",
       "      <td>2018-10-05 10:33:58</td>\n",
       "      <td>116.39,39.91</td>\n",
       "      <td>116.39,39.90</td>\n",
       "      <td>1</td>\n",
       "      <td>10</td>\n",
       "      <td>day</td>\n",
       "      <td>10</td>\n",
       "      <td>5</td>\n",
       "    </tr>\n",
       "    <tr>\n",
       "      <th>178755</th>\n",
       "      <td>3169937</td>\n",
       "      <td>140647.0</td>\n",
       "      <td>2018-11-21 11:46:54</td>\n",
       "      <td>116.37,39.86</td>\n",
       "      <td>116.36,39.88</td>\n",
       "      <td>0</td>\n",
       "      <td>11</td>\n",
       "      <td>day</td>\n",
       "      <td>11</td>\n",
       "      <td>21</td>\n",
       "    </tr>\n",
       "    <tr>\n",
       "      <th>169138</th>\n",
       "      <td>1101367</td>\n",
       "      <td>NaN</td>\n",
       "      <td>2018-11-08 15:33:12</td>\n",
       "      <td>116.30,40.09</td>\n",
       "      <td>116.33,40.08</td>\n",
       "      <td>0</td>\n",
       "      <td>15</td>\n",
       "      <td>day</td>\n",
       "      <td>11</td>\n",
       "      <td>8</td>\n",
       "    </tr>\n",
       "    <tr>\n",
       "      <th>451577</th>\n",
       "      <td>1874131</td>\n",
       "      <td>194929.0</td>\n",
       "      <td>2018-11-03 10:09:15</td>\n",
       "      <td>116.40,39.94</td>\n",
       "      <td>116.40,39.94</td>\n",
       "      <td>1</td>\n",
       "      <td>10</td>\n",
       "      <td>day</td>\n",
       "      <td>11</td>\n",
       "      <td>3</td>\n",
       "    </tr>\n",
       "  </tbody>\n",
       "</table>\n",
       "</div>"
      ],
      "text/plain": [
       "            sid       pid            req_time             o             d  \\\n",
       "428815  2565498       NaN 2018-11-19 18:26:11  116.41,40.00  116.42,39.90   \n",
       "295061  2805061  146293.0 2018-10-30 04:22:30  116.42,39.85  116.37,39.91   \n",
       "219457   168025       NaN 2018-10-20 00:00:47  116.30,39.96  116.65,39.89   \n",
       "245522  1807911  204013.0 2018-11-29 14:46:47  116.39,39.89  116.35,39.97   \n",
       "111093   552244       NaN 2018-11-23 21:26:18  116.42,39.94  116.39,39.91   \n",
       "92693    855401       NaN 2018-11-26 18:39:23  116.31,39.97  116.30,39.97   \n",
       "165883   379984  100011.0 2018-10-05 10:33:58  116.39,39.91  116.39,39.90   \n",
       "178755  3169937  140647.0 2018-11-21 11:46:54  116.37,39.86  116.36,39.88   \n",
       "169138  1101367       NaN 2018-11-08 15:33:12  116.30,40.09  116.33,40.08   \n",
       "451577  1874131  194929.0 2018-11-03 10:09:15  116.40,39.94  116.40,39.94   \n",
       "\n",
       "        weekend  req_hour req_hour_bin  req_month  req_day  \n",
       "428815        0        18      evening         11       19  \n",
       "295061        0         4        night         10       30  \n",
       "219457        1         0        night         10       20  \n",
       "245522        0        14          day         11       29  \n",
       "111093        1        21      evening         11       23  \n",
       "92693         0        18      evening         11       26  \n",
       "165883        1        10          day         10        5  \n",
       "178755        0        11          day         11       21  \n",
       "169138        0        15          day         11        8  \n",
       "451577        1        10          day         11        3  "
      ]
     },
     "execution_count": 16,
     "metadata": {},
     "output_type": "execute_result"
    }
   ],
   "source": [
    "df_queries.sample(10)"
   ]
  },
  {
   "cell_type": "code",
   "execution_count": null,
   "metadata": {},
   "outputs": [],
   "source": []
  }
 ],
 "metadata": {
  "kernelspec": {
   "display_name": "Python 3",
   "language": "python",
   "name": "python3"
  },
  "language_info": {
   "codemirror_mode": {
    "name": "ipython",
    "version": 3
   },
   "file_extension": ".py",
   "mimetype": "text/x-python",
   "name": "python",
   "nbconvert_exporter": "python",
   "pygments_lexer": "ipython3",
   "version": "3.7.3"
  }
 },
 "nbformat": 4,
 "nbformat_minor": 2
}
