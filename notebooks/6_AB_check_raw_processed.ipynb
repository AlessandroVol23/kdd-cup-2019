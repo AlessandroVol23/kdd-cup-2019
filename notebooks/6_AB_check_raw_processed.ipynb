{
 "cells": [
  {
   "cell_type": "code",
   "execution_count": 1,
   "metadata": {},
   "outputs": [],
   "source": [
    "import pandas as pd"
   ]
  },
  {
   "cell_type": "code",
   "execution_count": 21,
   "metadata": {},
   "outputs": [],
   "source": [
    "traindf = pd.read_pickle('../data/processed_raw/train_raw_first.pickle')\n",
    "testdf = pd.read_pickle('../data/processed_raw/test_raw_first.pickle')"
   ]
  },
  {
   "cell_type": "code",
   "execution_count": 22,
   "metadata": {},
   "outputs": [
    {
     "data": {
      "text/plain": [
       "((500000, 114), (94358, 112))"
      ]
     },
     "execution_count": 22,
     "metadata": {},
     "output_type": "execute_result"
    }
   ],
   "source": [
    "traindf.shape, testdf.shape"
   ]
  },
  {
   "cell_type": "code",
   "execution_count": 23,
   "metadata": {},
   "outputs": [],
   "source": [
    "traincols = traindf.columns.tolist()\n",
    "testcols = testdf.columns.tolist()"
   ]
  },
  {
   "cell_type": "code",
   "execution_count": 24,
   "metadata": {},
   "outputs": [
    {
     "data": {
      "text/plain": [
       "{'click_mode', 'click_time'}"
      ]
     },
     "execution_count": 24,
     "metadata": {},
     "output_type": "execute_result"
    }
   ],
   "source": [
    "set(traincols) - set(testcols)"
   ]
  },
  {
   "cell_type": "code",
   "execution_count": 26,
   "metadata": {},
   "outputs": [
    {
     "data": {
      "text/plain": [
       "['sid',\n",
       " 'click_time',\n",
       " 'click_mode',\n",
       " 'pid',\n",
       " 'req_time',\n",
       " 'o_long',\n",
       " 'o_lat',\n",
       " 'd_long',\n",
       " 'd_lat',\n",
       " 'distance_query',\n",
       " 'p0',\n",
       " 'p1',\n",
       " 'p2',\n",
       " 'p3',\n",
       " 'p4',\n",
       " 'p5',\n",
       " 'p6',\n",
       " 'p7',\n",
       " 'p8',\n",
       " 'p9',\n",
       " 'p10',\n",
       " 'p11',\n",
       " 'p12',\n",
       " 'p13',\n",
       " 'p14',\n",
       " 'p15',\n",
       " 'p16',\n",
       " 'p17',\n",
       " 'p18',\n",
       " 'p19',\n",
       " 'p20',\n",
       " 'p21',\n",
       " 'p22',\n",
       " 'p23',\n",
       " 'p24',\n",
       " 'p25',\n",
       " 'p26',\n",
       " 'p27',\n",
       " 'p28',\n",
       " 'p29',\n",
       " 'p30',\n",
       " 'p31',\n",
       " 'p32',\n",
       " 'p33',\n",
       " 'p34',\n",
       " 'p35',\n",
       " 'p36',\n",
       " 'p37',\n",
       " 'p38',\n",
       " 'p39',\n",
       " 'p40',\n",
       " 'p41',\n",
       " 'p42',\n",
       " 'p43',\n",
       " 'p44',\n",
       " 'p45',\n",
       " 'p46',\n",
       " 'p47',\n",
       " 'p48',\n",
       " 'p49',\n",
       " 'p50',\n",
       " 'p51',\n",
       " 'p52',\n",
       " 'p53',\n",
       " 'p54',\n",
       " 'p55',\n",
       " 'p56',\n",
       " 'p57',\n",
       " 'p58',\n",
       " 'p59',\n",
       " 'p60',\n",
       " 'p61',\n",
       " 'p62',\n",
       " 'p63',\n",
       " 'p64',\n",
       " 'p65',\n",
       " 'plan_time',\n",
       " 'plans',\n",
       " 'dist_0',\n",
       " 'price_0',\n",
       " 'eta_0',\n",
       " 'dist_1',\n",
       " 'price_1',\n",
       " 'eta_1',\n",
       " 'dist_2',\n",
       " 'price_2',\n",
       " 'eta_2',\n",
       " 'dist_3',\n",
       " 'price_3',\n",
       " 'eta_3',\n",
       " 'dist_4',\n",
       " 'price_4',\n",
       " 'eta_4',\n",
       " 'dist_5',\n",
       " 'price_5',\n",
       " 'eta_5',\n",
       " 'dist_6',\n",
       " 'price_6',\n",
       " 'eta_6',\n",
       " 'dist_7',\n",
       " 'price_7',\n",
       " 'eta_7',\n",
       " 'dist_8',\n",
       " 'price_8',\n",
       " 'eta_8',\n",
       " 'dist_9',\n",
       " 'price_9',\n",
       " 'eta_9',\n",
       " 'dist_10',\n",
       " 'price_10',\n",
       " 'eta_10',\n",
       " 'dist_11',\n",
       " 'price_11',\n",
       " 'eta_11']"
      ]
     },
     "execution_count": 26,
     "metadata": {},
     "output_type": "execute_result"
    }
   ],
   "source": [
    "traincols"
   ]
  },
  {
   "cell_type": "code",
   "execution_count": 30,
   "metadata": {},
   "outputs": [],
   "source": [
    "newdf = testdf.drop('plans', axis=1)"
   ]
  },
  {
   "cell_type": "code",
   "execution_count": 31,
   "metadata": {},
   "outputs": [
    {
     "data": {
      "text/plain": [
       "(94358, 111)"
      ]
     },
     "execution_count": 31,
     "metadata": {},
     "output_type": "execute_result"
    }
   ],
   "source": [
    "newdf.shape"
   ]
  },
  {
   "cell_type": "code",
   "execution_count": 32,
   "metadata": {},
   "outputs": [],
   "source": [
    "newdf.to_pickle('../data/processed_raw/test_raw_first.pickle')"
   ]
  },
  {
   "cell_type": "code",
   "execution_count": null,
   "metadata": {},
   "outputs": [],
   "source": []
  }
 ],
 "metadata": {
  "kernelspec": {
   "display_name": "Python 3",
   "language": "python",
   "name": "python3"
  },
  "language_info": {
   "codemirror_mode": {
    "name": "ipython",
    "version": 3
   },
   "file_extension": ".py",
   "mimetype": "text/x-python",
   "name": "python",
   "nbconvert_exporter": "python",
   "pygments_lexer": "ipython3",
   "version": "3.7.3"
  }
 },
 "nbformat": 4,
 "nbformat_minor": 2
}
