{
 "cells": [
  {
   "cell_type": "code",
   "execution_count": 2,
   "metadata": {},
   "outputs": [],
   "source": [
    "import pandas as pd"
   ]
  },
  {
   "cell_type": "code",
   "execution_count": 4,
   "metadata": {},
   "outputs": [],
   "source": [
    "feattype = 'raw'\n",
    "traindf = pd.read_pickle('../data/processed_'+feattype+'/train_'+feattype+'_last.pickle')\n",
    "testdf = pd.read_pickle('../data/processed_'+feattype+'/test_'+feattype+'_last.pickle')\n",
    "traindf1 = pd.read_pickle('../data/processed_'+feattype+'/train_'+feattype+'_row.pickle')\n",
    "testdf1 = pd.read_pickle('../data/processed_'+feattype+'/test_'+feattype+'_row.pickle')"
   ]
  },
  {
   "cell_type": "code",
   "execution_count": 21,
   "metadata": {},
   "outputs": [],
   "source": [
    "traindf = pd.read_pickle('../data/processed_raw/train_raw_row.pickle')\n",
    "testdf = pd.read_pickle('../data/processed_raw/test_raw_row.pickle')"
   ]
  },
  {
   "cell_type": "code",
   "execution_count": 5,
   "metadata": {},
   "outputs": [
    {
     "data": {
      "text/plain": [
       "((500000, 113), (94358, 111), (2101060, 15), (429803, 13))"
      ]
     },
     "execution_count": 5,
     "metadata": {},
     "output_type": "execute_result"
    }
   ],
   "source": [
    "traindf.shape, testdf.shape, traindf1.shape, testdf1.shape"
   ]
  },
  {
   "cell_type": "code",
   "execution_count": 23,
   "metadata": {},
   "outputs": [
    {
     "data": {
      "text/html": [
       "<div>\n",
       "<style scoped>\n",
       "    .dataframe tbody tr th:only-of-type {\n",
       "        vertical-align: middle;\n",
       "    }\n",
       "\n",
       "    .dataframe tbody tr th {\n",
       "        vertical-align: top;\n",
       "    }\n",
       "\n",
       "    .dataframe thead th {\n",
       "        text-align: right;\n",
       "    }\n",
       "</style>\n",
       "<table border=\"1\" class=\"dataframe\">\n",
       "  <thead>\n",
       "    <tr style=\"text-align: right;\">\n",
       "      <th></th>\n",
       "      <th>sid</th>\n",
       "      <th>click_time</th>\n",
       "      <th>click_mode</th>\n",
       "      <th>distance_plan</th>\n",
       "      <th>eta</th>\n",
       "      <th>price</th>\n",
       "      <th>transport_mode</th>\n",
       "      <th>plan_time</th>\n",
       "      <th>pid</th>\n",
       "      <th>req_time</th>\n",
       "      <th>o_long</th>\n",
       "      <th>o_lat</th>\n",
       "      <th>d_long</th>\n",
       "      <th>d_lat</th>\n",
       "      <th>distance_query</th>\n",
       "    </tr>\n",
       "  </thead>\n",
       "  <tbody>\n",
       "    <tr>\n",
       "      <th>2101055</th>\n",
       "      <td>1666846</td>\n",
       "      <td>2018-10-23 15:25:20</td>\n",
       "      <td>4</td>\n",
       "      <td>4209</td>\n",
       "      <td>878</td>\n",
       "      <td></td>\n",
       "      <td>3</td>\n",
       "      <td>2018-10-23 15:25:13</td>\n",
       "      <td>NaN</td>\n",
       "      <td>2018-10-23 15:25:13</td>\n",
       "      <td>116.3</td>\n",
       "      <td>39.98</td>\n",
       "      <td>116.32</td>\n",
       "      <td>39.96</td>\n",
       "      <td>0.028284</td>\n",
       "    </tr>\n",
       "    <tr>\n",
       "      <th>2101056</th>\n",
       "      <td>1666846</td>\n",
       "      <td>2018-10-23 15:25:20</td>\n",
       "      <td>4</td>\n",
       "      <td>4025</td>\n",
       "      <td>1216</td>\n",
       "      <td></td>\n",
       "      <td>6</td>\n",
       "      <td>2018-10-23 15:25:13</td>\n",
       "      <td>NaN</td>\n",
       "      <td>2018-10-23 15:25:13</td>\n",
       "      <td>116.3</td>\n",
       "      <td>39.98</td>\n",
       "      <td>116.32</td>\n",
       "      <td>39.96</td>\n",
       "      <td>0.028284</td>\n",
       "    </tr>\n",
       "    <tr>\n",
       "      <th>2101057</th>\n",
       "      <td>1666846</td>\n",
       "      <td>2018-10-23 15:25:20</td>\n",
       "      <td>4</td>\n",
       "      <td>4331</td>\n",
       "      <td>2226</td>\n",
       "      <td>200</td>\n",
       "      <td>1</td>\n",
       "      <td>2018-10-23 15:25:13</td>\n",
       "      <td>NaN</td>\n",
       "      <td>2018-10-23 15:25:13</td>\n",
       "      <td>116.3</td>\n",
       "      <td>39.98</td>\n",
       "      <td>116.32</td>\n",
       "      <td>39.96</td>\n",
       "      <td>0.028284</td>\n",
       "    </tr>\n",
       "    <tr>\n",
       "      <th>2101058</th>\n",
       "      <td>1666846</td>\n",
       "      <td>2018-10-23 15:25:20</td>\n",
       "      <td>4</td>\n",
       "      <td>4858</td>\n",
       "      <td>2342</td>\n",
       "      <td>200</td>\n",
       "      <td>1</td>\n",
       "      <td>2018-10-23 15:25:13</td>\n",
       "      <td>NaN</td>\n",
       "      <td>2018-10-23 15:25:13</td>\n",
       "      <td>116.3</td>\n",
       "      <td>39.98</td>\n",
       "      <td>116.32</td>\n",
       "      <td>39.96</td>\n",
       "      <td>0.028284</td>\n",
       "    </tr>\n",
       "    <tr>\n",
       "      <th>2101059</th>\n",
       "      <td>1666846</td>\n",
       "      <td>2018-10-23 15:25:20</td>\n",
       "      <td>4</td>\n",
       "      <td>3933</td>\n",
       "      <td>3547</td>\n",
       "      <td></td>\n",
       "      <td>5</td>\n",
       "      <td>2018-10-23 15:25:13</td>\n",
       "      <td>NaN</td>\n",
       "      <td>2018-10-23 15:25:13</td>\n",
       "      <td>116.3</td>\n",
       "      <td>39.98</td>\n",
       "      <td>116.32</td>\n",
       "      <td>39.96</td>\n",
       "      <td>0.028284</td>\n",
       "    </tr>\n",
       "  </tbody>\n",
       "</table>\n",
       "</div>"
      ],
      "text/plain": [
       "             sid           click_time  click_mode  distance_plan   eta price  \\\n",
       "2101055  1666846  2018-10-23 15:25:20           4           4209   878         \n",
       "2101056  1666846  2018-10-23 15:25:20           4           4025  1216         \n",
       "2101057  1666846  2018-10-23 15:25:20           4           4331  2226   200   \n",
       "2101058  1666846  2018-10-23 15:25:20           4           4858  2342   200   \n",
       "2101059  1666846  2018-10-23 15:25:20           4           3933  3547         \n",
       "\n",
       "         transport_mode            plan_time  pid            req_time  o_long  \\\n",
       "2101055               3  2018-10-23 15:25:13  NaN 2018-10-23 15:25:13   116.3   \n",
       "2101056               6  2018-10-23 15:25:13  NaN 2018-10-23 15:25:13   116.3   \n",
       "2101057               1  2018-10-23 15:25:13  NaN 2018-10-23 15:25:13   116.3   \n",
       "2101058               1  2018-10-23 15:25:13  NaN 2018-10-23 15:25:13   116.3   \n",
       "2101059               5  2018-10-23 15:25:13  NaN 2018-10-23 15:25:13   116.3   \n",
       "\n",
       "         o_lat  d_long  d_lat  distance_query  \n",
       "2101055  39.98  116.32  39.96        0.028284  \n",
       "2101056  39.98  116.32  39.96        0.028284  \n",
       "2101057  39.98  116.32  39.96        0.028284  \n",
       "2101058  39.98  116.32  39.96        0.028284  \n",
       "2101059  39.98  116.32  39.96        0.028284  "
      ]
     },
     "execution_count": 23,
     "metadata": {},
     "output_type": "execute_result"
    }
   ],
   "source": [
    "traindf.tail(5)"
   ]
  },
  {
   "cell_type": "code",
   "execution_count": 6,
   "metadata": {},
   "outputs": [],
   "source": [
    "traincols = traindf.columns.tolist()\n",
    "testcols = testdf.columns.tolist()\n",
    "traincols1 = traindf1.columns.tolist()\n",
    "testcols1 = testdf1.columns.tolist()"
   ]
  },
  {
   "cell_type": "code",
   "execution_count": 7,
   "metadata": {},
   "outputs": [
    {
     "data": {
      "text/plain": [
       "{'click_mode', 'click_time'}"
      ]
     },
     "execution_count": 7,
     "metadata": {},
     "output_type": "execute_result"
    }
   ],
   "source": [
    "set(traincols) - set(testcols)"
   ]
  },
  {
   "cell_type": "code",
   "execution_count": 8,
   "metadata": {},
   "outputs": [
    {
     "data": {
      "text/plain": [
       "{'dist_0',\n",
       " 'dist_1',\n",
       " 'dist_10',\n",
       " 'dist_11',\n",
       " 'dist_2',\n",
       " 'dist_3',\n",
       " 'dist_4',\n",
       " 'dist_5',\n",
       " 'dist_6',\n",
       " 'dist_7',\n",
       " 'dist_8',\n",
       " 'dist_9',\n",
       " 'eta_0',\n",
       " 'eta_1',\n",
       " 'eta_10',\n",
       " 'eta_11',\n",
       " 'eta_2',\n",
       " 'eta_3',\n",
       " 'eta_4',\n",
       " 'eta_5',\n",
       " 'eta_6',\n",
       " 'eta_7',\n",
       " 'eta_8',\n",
       " 'eta_9',\n",
       " 'p0',\n",
       " 'p1',\n",
       " 'p10',\n",
       " 'p11',\n",
       " 'p12',\n",
       " 'p13',\n",
       " 'p14',\n",
       " 'p15',\n",
       " 'p16',\n",
       " 'p17',\n",
       " 'p18',\n",
       " 'p19',\n",
       " 'p2',\n",
       " 'p20',\n",
       " 'p21',\n",
       " 'p22',\n",
       " 'p23',\n",
       " 'p24',\n",
       " 'p25',\n",
       " 'p26',\n",
       " 'p27',\n",
       " 'p28',\n",
       " 'p29',\n",
       " 'p3',\n",
       " 'p30',\n",
       " 'p31',\n",
       " 'p32',\n",
       " 'p33',\n",
       " 'p34',\n",
       " 'p35',\n",
       " 'p36',\n",
       " 'p37',\n",
       " 'p38',\n",
       " 'p39',\n",
       " 'p4',\n",
       " 'p40',\n",
       " 'p41',\n",
       " 'p42',\n",
       " 'p43',\n",
       " 'p44',\n",
       " 'p45',\n",
       " 'p46',\n",
       " 'p47',\n",
       " 'p48',\n",
       " 'p49',\n",
       " 'p5',\n",
       " 'p50',\n",
       " 'p51',\n",
       " 'p52',\n",
       " 'p53',\n",
       " 'p54',\n",
       " 'p55',\n",
       " 'p56',\n",
       " 'p57',\n",
       " 'p58',\n",
       " 'p59',\n",
       " 'p6',\n",
       " 'p60',\n",
       " 'p61',\n",
       " 'p62',\n",
       " 'p63',\n",
       " 'p64',\n",
       " 'p65',\n",
       " 'p7',\n",
       " 'p8',\n",
       " 'p9',\n",
       " 'price_0',\n",
       " 'price_1',\n",
       " 'price_10',\n",
       " 'price_11',\n",
       " 'price_2',\n",
       " 'price_3',\n",
       " 'price_4',\n",
       " 'price_5',\n",
       " 'price_6',\n",
       " 'price_7',\n",
       " 'price_8',\n",
       " 'price_9'}"
      ]
     },
     "execution_count": 8,
     "metadata": {},
     "output_type": "execute_result"
    }
   ],
   "source": [
    "set(traincols) - set(traincols1)"
   ]
  },
  {
   "cell_type": "code",
   "execution_count": 26,
   "metadata": {},
   "outputs": [
    {
     "data": {
      "text/plain": [
       "['sid',\n",
       " 'click_time',\n",
       " 'click_mode',\n",
       " 'pid',\n",
       " 'req_time',\n",
       " 'o_long',\n",
       " 'o_lat',\n",
       " 'd_long',\n",
       " 'd_lat',\n",
       " 'distance_query',\n",
       " 'p0',\n",
       " 'p1',\n",
       " 'p2',\n",
       " 'p3',\n",
       " 'p4',\n",
       " 'p5',\n",
       " 'p6',\n",
       " 'p7',\n",
       " 'p8',\n",
       " 'p9',\n",
       " 'p10',\n",
       " 'p11',\n",
       " 'p12',\n",
       " 'p13',\n",
       " 'p14',\n",
       " 'p15',\n",
       " 'p16',\n",
       " 'p17',\n",
       " 'p18',\n",
       " 'p19',\n",
       " 'p20',\n",
       " 'p21',\n",
       " 'p22',\n",
       " 'p23',\n",
       " 'p24',\n",
       " 'p25',\n",
       " 'p26',\n",
       " 'p27',\n",
       " 'p28',\n",
       " 'p29',\n",
       " 'p30',\n",
       " 'p31',\n",
       " 'p32',\n",
       " 'p33',\n",
       " 'p34',\n",
       " 'p35',\n",
       " 'p36',\n",
       " 'p37',\n",
       " 'p38',\n",
       " 'p39',\n",
       " 'p40',\n",
       " 'p41',\n",
       " 'p42',\n",
       " 'p43',\n",
       " 'p44',\n",
       " 'p45',\n",
       " 'p46',\n",
       " 'p47',\n",
       " 'p48',\n",
       " 'p49',\n",
       " 'p50',\n",
       " 'p51',\n",
       " 'p52',\n",
       " 'p53',\n",
       " 'p54',\n",
       " 'p55',\n",
       " 'p56',\n",
       " 'p57',\n",
       " 'p58',\n",
       " 'p59',\n",
       " 'p60',\n",
       " 'p61',\n",
       " 'p62',\n",
       " 'p63',\n",
       " 'p64',\n",
       " 'p65',\n",
       " 'plan_time',\n",
       " 'plans',\n",
       " 'dist_0',\n",
       " 'price_0',\n",
       " 'eta_0',\n",
       " 'dist_1',\n",
       " 'price_1',\n",
       " 'eta_1',\n",
       " 'dist_2',\n",
       " 'price_2',\n",
       " 'eta_2',\n",
       " 'dist_3',\n",
       " 'price_3',\n",
       " 'eta_3',\n",
       " 'dist_4',\n",
       " 'price_4',\n",
       " 'eta_4',\n",
       " 'dist_5',\n",
       " 'price_5',\n",
       " 'eta_5',\n",
       " 'dist_6',\n",
       " 'price_6',\n",
       " 'eta_6',\n",
       " 'dist_7',\n",
       " 'price_7',\n",
       " 'eta_7',\n",
       " 'dist_8',\n",
       " 'price_8',\n",
       " 'eta_8',\n",
       " 'dist_9',\n",
       " 'price_9',\n",
       " 'eta_9',\n",
       " 'dist_10',\n",
       " 'price_10',\n",
       " 'eta_10',\n",
       " 'dist_11',\n",
       " 'price_11',\n",
       " 'eta_11']"
      ]
     },
     "execution_count": 26,
     "metadata": {},
     "output_type": "execute_result"
    }
   ],
   "source": [
    "traincols"
   ]
  },
  {
   "cell_type": "code",
   "execution_count": 12,
   "metadata": {},
   "outputs": [],
   "source": [
    "type = 'row'\n",
    "traindf = pd.read_pickle('../data/processed_all/train_all_'+type+'.pickle')\n",
    "testdf = pd.read_pickle('../data/processed_all/test_all_'+type+'.pickle')"
   ]
  },
  {
   "cell_type": "code",
   "execution_count": 13,
   "metadata": {},
   "outputs": [
    {
     "data": {
      "text/plain": [
       "((2101060, 27), (429803, 25))"
      ]
     },
     "execution_count": 13,
     "metadata": {},
     "output_type": "execute_result"
    }
   ],
   "source": [
    "traindf.shape, testdf.shape"
   ]
  },
  {
   "cell_type": "code",
   "execution_count": 11,
   "metadata": {},
   "outputs": [
    {
     "data": {
      "text/plain": [
       "['sid',\n",
       " 'click_time',\n",
       " 'click_mode',\n",
       " 'pid',\n",
       " 'req_time',\n",
       " 'o_long',\n",
       " 'o_lat',\n",
       " 'd_long',\n",
       " 'd_lat',\n",
       " 'distance_query',\n",
       " 'p0',\n",
       " 'p1',\n",
       " 'p2',\n",
       " 'p3',\n",
       " 'p4',\n",
       " 'p5',\n",
       " 'p6',\n",
       " 'p7',\n",
       " 'p8',\n",
       " 'p9',\n",
       " 'p10',\n",
       " 'p11',\n",
       " 'p12',\n",
       " 'p13',\n",
       " 'p14',\n",
       " 'p15',\n",
       " 'p16',\n",
       " 'p17',\n",
       " 'p18',\n",
       " 'p19',\n",
       " 'p20',\n",
       " 'p21',\n",
       " 'p22',\n",
       " 'p23',\n",
       " 'p24',\n",
       " 'p25',\n",
       " 'p26',\n",
       " 'p27',\n",
       " 'p28',\n",
       " 'p29',\n",
       " 'p30',\n",
       " 'p31',\n",
       " 'p32',\n",
       " 'p33',\n",
       " 'p34',\n",
       " 'p35',\n",
       " 'p36',\n",
       " 'p37',\n",
       " 'p38',\n",
       " 'p39',\n",
       " 'p40',\n",
       " 'p41',\n",
       " 'p42',\n",
       " 'p43',\n",
       " 'p44',\n",
       " 'p45',\n",
       " 'p46',\n",
       " 'p47',\n",
       " 'p48',\n",
       " 'p49',\n",
       " 'p50',\n",
       " 'p51',\n",
       " 'p52',\n",
       " 'p53',\n",
       " 'p54',\n",
       " 'p55',\n",
       " 'p56',\n",
       " 'p57',\n",
       " 'p58',\n",
       " 'p59',\n",
       " 'p60',\n",
       " 'p61',\n",
       " 'p62',\n",
       " 'p63',\n",
       " 'p64',\n",
       " 'p65',\n",
       " 'plan_time',\n",
       " 'dist_0',\n",
       " 'price_0',\n",
       " 'eta_0',\n",
       " 'dist_1',\n",
       " 'price_1',\n",
       " 'eta_1',\n",
       " 'dist_2',\n",
       " 'price_2',\n",
       " 'eta_2',\n",
       " 'dist_3',\n",
       " 'price_3',\n",
       " 'eta_3',\n",
       " 'dist_4',\n",
       " 'price_4',\n",
       " 'eta_4',\n",
       " 'dist_5',\n",
       " 'price_5',\n",
       " 'eta_5',\n",
       " 'dist_6',\n",
       " 'price_6',\n",
       " 'eta_6',\n",
       " 'dist_7',\n",
       " 'price_7',\n",
       " 'eta_7',\n",
       " 'dist_8',\n",
       " 'price_8',\n",
       " 'eta_8',\n",
       " 'dist_9',\n",
       " 'price_9',\n",
       " 'eta_9',\n",
       " 'dist_10',\n",
       " 'price_10',\n",
       " 'eta_10',\n",
       " 'dist_11',\n",
       " 'price_11',\n",
       " 'eta_11',\n",
       " 'dist_nearest_sub',\n",
       " 'req_date',\n",
       " 'req_hour',\n",
       " 'req_weekend',\n",
       " 'req_night',\n",
       " 'req_day',\n",
       " 'req_evening',\n",
       " 'is_holiday',\n",
       " 'max_temp',\n",
       " 'min_temp',\n",
       " 'weather',\n",
       " 'wind']"
      ]
     },
     "execution_count": 11,
     "metadata": {},
     "output_type": "execute_result"
    }
   ],
   "source": [
    "traindf.columns.to_list()"
   ]
  },
  {
   "cell_type": "code",
   "execution_count": 9,
   "metadata": {},
   "outputs": [
    {
     "name": "stdout",
     "output_type": "stream",
     "text": [
      "(2101060, 15)\n"
     ]
    }
   ],
   "source": [
    "df_profiles = pd.read_csv('../data/raw/data_set_phase1/profiles.csv')\n",
    "print(traindf1.shape)\n",
    "traindf1 = pd.merge(traindf1, df_profiles, how='outer')"
   ]
  },
  {
   "cell_type": "code",
   "execution_count": 10,
   "metadata": {},
   "outputs": [
    {
     "name": "stdout",
     "output_type": "stream",
     "text": [
      "(2101060, 81)\n"
     ]
    }
   ],
   "source": [
    "traindf1 = traindf1[pd.notnull(traindf1['o_long'])]\n",
    "print(traindf1.shape)"
   ]
  },
  {
   "cell_type": "code",
   "execution_count": 11,
   "metadata": {},
   "outputs": [],
   "source": [
    "testdf1 = pd.merge(testdf1, df_profiles, how='outer')"
   ]
  },
  {
   "cell_type": "code",
   "execution_count": 12,
   "metadata": {},
   "outputs": [
    {
     "name": "stdout",
     "output_type": "stream",
     "text": [
      "(429803, 79)\n"
     ]
    }
   ],
   "source": [
    "testdf1 = testdf1[pd.notnull(testdf1['o_long'])]\n",
    "print(testdf1.shape)"
   ]
  },
  {
   "cell_type": "code",
   "execution_count": 17,
   "metadata": {},
   "outputs": [],
   "source": [
    "traindf1.to_pickle('../data/processed_all/train_all_row.pickle')"
   ]
  },
  {
   "cell_type": "code",
   "execution_count": 16,
   "metadata": {},
   "outputs": [],
   "source": [
    "testdf1.to_pickle('../data/processed_all/test_all_row.pickle')"
   ]
  },
  {
   "cell_type": "code",
   "execution_count": null,
   "metadata": {},
   "outputs": [],
   "source": []
  }
 ],
 "metadata": {
  "kernelspec": {
   "display_name": "Python 3",
   "language": "python",
   "name": "python3"
  },
  "language_info": {
   "codemirror_mode": {
    "name": "ipython",
    "version": 3
   },
   "file_extension": ".py",
   "mimetype": "text/x-python",
   "name": "python",
   "nbconvert_exporter": "python",
   "pygments_lexer": "ipython3",
   "version": "3.7.3"
  }
 },
 "nbformat": 4,
 "nbformat_minor": 2
}
