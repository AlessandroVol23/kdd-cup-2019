{
 "cells": [
  {
   "cell_type": "code",
   "execution_count": 2,
   "metadata": {},
   "outputs": [],
   "source": [
    "import pandas as pd"
   ]
  },
  {
   "cell_type": "code",
   "execution_count": 12,
   "metadata": {},
   "outputs": [],
   "source": [
    "feattype = 'all'\n",
    "traindf = pd.read_pickle('../data/processed_'+feattype+'/train_'+feattype+'_last.pickle')\n",
    "traindf2 = pd.read_pickle('../data/processed_'+feattype+'/train_'+feattype+'_first.pickle')\n",
    "traindf1 = pd.read_pickle('../data/processed_'+feattype+'/train_'+feattype+'_row.pickle')"
   ]
  },
  {
   "cell_type": "code",
   "execution_count": 4,
   "metadata": {},
   "outputs": [
    {
     "data": {
      "text/plain": [
       "((500000, 131), (2101060, 99))"
      ]
     },
     "execution_count": 4,
     "metadata": {},
     "output_type": "execute_result"
    }
   ],
   "source": [
    "traindf.shape, traindf1.shape"
   ]
  },
  {
   "cell_type": "code",
   "execution_count": 5,
   "metadata": {},
   "outputs": [
    {
     "data": {
      "text/html": [
       "<div>\n",
       "<style scoped>\n",
       "    .dataframe tbody tr th:only-of-type {\n",
       "        vertical-align: middle;\n",
       "    }\n",
       "\n",
       "    .dataframe tbody tr th {\n",
       "        vertical-align: top;\n",
       "    }\n",
       "\n",
       "    .dataframe thead th {\n",
       "        text-align: right;\n",
       "    }\n",
       "</style>\n",
       "<table border=\"1\" class=\"dataframe\">\n",
       "  <thead>\n",
       "    <tr style=\"text-align: right;\">\n",
       "      <th></th>\n",
       "      <th>sid</th>\n",
       "      <th>click_time</th>\n",
       "      <th>click_mode</th>\n",
       "      <th>pid</th>\n",
       "      <th>req_time</th>\n",
       "      <th>o_long</th>\n",
       "      <th>o_lat</th>\n",
       "      <th>d_long</th>\n",
       "      <th>d_lat</th>\n",
       "      <th>distance_query</th>\n",
       "      <th>...</th>\n",
       "      <th>max_temp</th>\n",
       "      <th>min_temp</th>\n",
       "      <th>weather</th>\n",
       "      <th>wind</th>\n",
       "      <th>dy</th>\n",
       "      <th>dyq</th>\n",
       "      <th>q</th>\n",
       "      <th>qdy</th>\n",
       "      <th>xq</th>\n",
       "      <th>xydy</th>\n",
       "    </tr>\n",
       "  </thead>\n",
       "  <tbody>\n",
       "    <tr>\n",
       "      <th>499995</th>\n",
       "      <td>2574321.0</td>\n",
       "      <td>NaN</td>\n",
       "      <td>0.0</td>\n",
       "      <td>146418.0</td>\n",
       "      <td>2018-11-01 01:18:29</td>\n",
       "      <td>116.34</td>\n",
       "      <td>39.98</td>\n",
       "      <td>116.49</td>\n",
       "      <td>40.01</td>\n",
       "      <td>0.152971</td>\n",
       "      <td>...</td>\n",
       "      <td>17</td>\n",
       "      <td>3</td>\n",
       "      <td>q</td>\n",
       "      <td>12</td>\n",
       "      <td>0</td>\n",
       "      <td>0</td>\n",
       "      <td>1</td>\n",
       "      <td>0</td>\n",
       "      <td>0</td>\n",
       "      <td>0</td>\n",
       "    </tr>\n",
       "    <tr>\n",
       "      <th>499996</th>\n",
       "      <td>2256650.0</td>\n",
       "      <td>NaN</td>\n",
       "      <td>0.0</td>\n",
       "      <td>128778.0</td>\n",
       "      <td>2018-10-13 11:31:39</td>\n",
       "      <td>116.37</td>\n",
       "      <td>39.91</td>\n",
       "      <td>116.27</td>\n",
       "      <td>39.97</td>\n",
       "      <td>0.116619</td>\n",
       "      <td>...</td>\n",
       "      <td>20</td>\n",
       "      <td>8</td>\n",
       "      <td>dy</td>\n",
       "      <td>12</td>\n",
       "      <td>1</td>\n",
       "      <td>0</td>\n",
       "      <td>0</td>\n",
       "      <td>0</td>\n",
       "      <td>0</td>\n",
       "      <td>0</td>\n",
       "    </tr>\n",
       "    <tr>\n",
       "      <th>499997</th>\n",
       "      <td>3283826.0</td>\n",
       "      <td>NaN</td>\n",
       "      <td>0.0</td>\n",
       "      <td>180856.0</td>\n",
       "      <td>2018-11-25 15:54:12</td>\n",
       "      <td>116.30</td>\n",
       "      <td>39.97</td>\n",
       "      <td>116.32</td>\n",
       "      <td>39.98</td>\n",
       "      <td>0.022361</td>\n",
       "      <td>...</td>\n",
       "      <td>10</td>\n",
       "      <td>-3</td>\n",
       "      <td>q</td>\n",
       "      <td>1</td>\n",
       "      <td>0</td>\n",
       "      <td>0</td>\n",
       "      <td>1</td>\n",
       "      <td>0</td>\n",
       "      <td>0</td>\n",
       "      <td>0</td>\n",
       "    </tr>\n",
       "    <tr>\n",
       "      <th>499998</th>\n",
       "      <td>3239400.0</td>\n",
       "      <td>NaN</td>\n",
       "      <td>0.0</td>\n",
       "      <td>156918.0</td>\n",
       "      <td>2018-11-07 13:00:20</td>\n",
       "      <td>116.37</td>\n",
       "      <td>39.86</td>\n",
       "      <td>116.24</td>\n",
       "      <td>39.93</td>\n",
       "      <td>0.147648</td>\n",
       "      <td>...</td>\n",
       "      <td>13</td>\n",
       "      <td>3</td>\n",
       "      <td>dy</td>\n",
       "      <td>12</td>\n",
       "      <td>1</td>\n",
       "      <td>0</td>\n",
       "      <td>0</td>\n",
       "      <td>0</td>\n",
       "      <td>0</td>\n",
       "      <td>0</td>\n",
       "    </tr>\n",
       "    <tr>\n",
       "      <th>499999</th>\n",
       "      <td>3238259.0</td>\n",
       "      <td>NaN</td>\n",
       "      <td>0.0</td>\n",
       "      <td>209690.0</td>\n",
       "      <td>2018-11-07 07:48:43</td>\n",
       "      <td>116.37</td>\n",
       "      <td>39.86</td>\n",
       "      <td>116.60</td>\n",
       "      <td>40.08</td>\n",
       "      <td>0.318277</td>\n",
       "      <td>...</td>\n",
       "      <td>13</td>\n",
       "      <td>3</td>\n",
       "      <td>dy</td>\n",
       "      <td>12</td>\n",
       "      <td>1</td>\n",
       "      <td>0</td>\n",
       "      <td>0</td>\n",
       "      <td>0</td>\n",
       "      <td>0</td>\n",
       "      <td>0</td>\n",
       "    </tr>\n",
       "  </tbody>\n",
       "</table>\n",
       "<p>5 rows × 131 columns</p>\n",
       "</div>"
      ],
      "text/plain": [
       "              sid click_time  click_mode       pid            req_time  \\\n",
       "499995  2574321.0        NaN         0.0  146418.0 2018-11-01 01:18:29   \n",
       "499996  2256650.0        NaN         0.0  128778.0 2018-10-13 11:31:39   \n",
       "499997  3283826.0        NaN         0.0  180856.0 2018-11-25 15:54:12   \n",
       "499998  3239400.0        NaN         0.0  156918.0 2018-11-07 13:00:20   \n",
       "499999  3238259.0        NaN         0.0  209690.0 2018-11-07 07:48:43   \n",
       "\n",
       "        o_long  o_lat  d_long  d_lat  distance_query  ...  max_temp  min_temp  \\\n",
       "499995  116.34  39.98  116.49  40.01        0.152971  ...        17         3   \n",
       "499996  116.37  39.91  116.27  39.97        0.116619  ...        20         8   \n",
       "499997  116.30  39.97  116.32  39.98        0.022361  ...        10        -3   \n",
       "499998  116.37  39.86  116.24  39.93        0.147648  ...        13         3   \n",
       "499999  116.37  39.86  116.60  40.08        0.318277  ...        13         3   \n",
       "\n",
       "        weather  wind  dy  dyq  q  qdy  xq  xydy  \n",
       "499995        q    12   0    0  1    0   0     0  \n",
       "499996       dy    12   1    0  0    0   0     0  \n",
       "499997        q     1   0    0  1    0   0     0  \n",
       "499998       dy    12   1    0  0    0   0     0  \n",
       "499999       dy    12   1    0  0    0   0     0  \n",
       "\n",
       "[5 rows x 131 columns]"
      ]
     },
     "execution_count": 5,
     "metadata": {},
     "output_type": "execute_result"
    }
   ],
   "source": [
    "traindf.tail(5)"
   ]
  },
  {
   "cell_type": "code",
   "execution_count": 15,
   "metadata": {},
   "outputs": [
    {
     "data": {
      "text/plain": [
       "['sid',\n",
       " 'click_time',\n",
       " 'click_mode',\n",
       " 'pid',\n",
       " 'req_time',\n",
       " 'o_long',\n",
       " 'o_lat',\n",
       " 'd_long',\n",
       " 'd_lat',\n",
       " 'distance_query',\n",
       " 'p0',\n",
       " 'p1',\n",
       " 'p2',\n",
       " 'p3',\n",
       " 'p4',\n",
       " 'p5',\n",
       " 'p6',\n",
       " 'p7',\n",
       " 'p8',\n",
       " 'p9',\n",
       " 'p10',\n",
       " 'p11',\n",
       " 'p12',\n",
       " 'p13',\n",
       " 'p14',\n",
       " 'p15',\n",
       " 'p16',\n",
       " 'p17',\n",
       " 'p18',\n",
       " 'p19',\n",
       " 'p20',\n",
       " 'p21',\n",
       " 'p22',\n",
       " 'p23',\n",
       " 'p24',\n",
       " 'p25',\n",
       " 'p26',\n",
       " 'p27',\n",
       " 'p28',\n",
       " 'p29',\n",
       " 'p30',\n",
       " 'p31',\n",
       " 'p32',\n",
       " 'p33',\n",
       " 'p34',\n",
       " 'p35',\n",
       " 'p36',\n",
       " 'p37',\n",
       " 'p38',\n",
       " 'p39',\n",
       " 'p40',\n",
       " 'p41',\n",
       " 'p42',\n",
       " 'p43',\n",
       " 'p44',\n",
       " 'p45',\n",
       " 'p46',\n",
       " 'p47',\n",
       " 'p48',\n",
       " 'p49',\n",
       " 'p50',\n",
       " 'p51',\n",
       " 'p52',\n",
       " 'p53',\n",
       " 'p54',\n",
       " 'p55',\n",
       " 'p56',\n",
       " 'p57',\n",
       " 'p58',\n",
       " 'p59',\n",
       " 'p60',\n",
       " 'p61',\n",
       " 'p62',\n",
       " 'p63',\n",
       " 'p64',\n",
       " 'p65',\n",
       " 'plan_time',\n",
       " 'dist_0',\n",
       " 'price_0',\n",
       " 'eta_0',\n",
       " 'dist_1',\n",
       " 'price_1',\n",
       " 'eta_1',\n",
       " 'dist_2',\n",
       " 'price_2',\n",
       " 'eta_2',\n",
       " 'dist_3',\n",
       " 'price_3',\n",
       " 'eta_3',\n",
       " 'dist_4',\n",
       " 'price_4',\n",
       " 'eta_4',\n",
       " 'dist_5',\n",
       " 'price_5',\n",
       " 'eta_5',\n",
       " 'dist_6',\n",
       " 'price_6',\n",
       " 'eta_6',\n",
       " 'dist_7',\n",
       " 'price_7',\n",
       " 'eta_7',\n",
       " 'dist_8',\n",
       " 'price_8',\n",
       " 'eta_8',\n",
       " 'dist_9',\n",
       " 'price_9',\n",
       " 'eta_9',\n",
       " 'dist_10',\n",
       " 'price_10',\n",
       " 'eta_10',\n",
       " 'dist_11',\n",
       " 'price_11',\n",
       " 'eta_11',\n",
       " 'dist_nearest_sub',\n",
       " 'req_date',\n",
       " 'req_hour',\n",
       " 'req_weekend',\n",
       " 'req_night',\n",
       " 'req_day',\n",
       " 'req_evening',\n",
       " 'is_holiday',\n",
       " 'max_temp',\n",
       " 'min_temp',\n",
       " 'weather',\n",
       " 'wind',\n",
       " 'dy',\n",
       " 'dyq',\n",
       " 'q',\n",
       " 'qdy',\n",
       " 'xq',\n",
       " 'xydy']"
      ]
     },
     "execution_count": 15,
     "metadata": {},
     "output_type": "execute_result"
    }
   ],
   "source": [
    "list(traindf.columns)"
   ]
  },
  {
   "cell_type": "code",
   "execution_count": 16,
   "metadata": {},
   "outputs": [],
   "source": [
    "traindf = traindf.drop('click_time', axis=1)\n",
    "traindf1 = traindf1.drop('click_time', axis=1)\n",
    "traindf2 = traindf2.drop('click_time', axis=1)\n",
    "\n",
    "traindf = traindf.drop('weather', axis=1)\n",
    "traindf1 = traindf1.drop('weather', axis=1)\n",
    "traindf2 = traindf2.drop('weather', axis=1)"
   ]
  },
  {
   "cell_type": "code",
   "execution_count": 11,
   "metadata": {},
   "outputs": [
    {
     "data": {
      "text/plain": [
       "182922      q\n",
       "161192      q\n",
       "466413    dyq\n",
       "136064     dy\n",
       "72005     dyq\n",
       "387264      q\n",
       "454056      q\n",
       "198517      q\n",
       "451795      q\n",
       "223966    qdy\n",
       "153153      q\n",
       "57596       q\n",
       "271961      q\n",
       "291198      q\n",
       "14932       q\n",
       "131880     dy\n",
       "178980     dy\n",
       "58530     qdy\n",
       "83921      dy\n",
       "148504    dyq\n",
       "Name: weather, dtype: object"
      ]
     },
     "execution_count": 11,
     "metadata": {},
     "output_type": "execute_result"
    }
   ],
   "source": [
    "traindf.weather.sample(20)"
   ]
  },
  {
   "cell_type": "code",
   "execution_count": 4,
   "metadata": {},
   "outputs": [],
   "source": [
    "traincols = traindf.columns.tolist()\n",
    "testcols = testdf.columns.tolist()\n",
    "traincols1 = traindf1.columns.tolist()\n",
    "testcols1 = testdf1.columns.tolist()"
   ]
  },
  {
   "cell_type": "code",
   "execution_count": 7,
   "metadata": {},
   "outputs": [
    {
     "data": {
      "text/plain": [
       "{'click_mode', 'click_time'}"
      ]
     },
     "execution_count": 7,
     "metadata": {},
     "output_type": "execute_result"
    }
   ],
   "source": [
    "set(traincols) - set(testcols)"
   ]
  },
  {
   "cell_type": "code",
   "execution_count": 9,
   "metadata": {},
   "outputs": [
    {
     "data": {
      "text/plain": [
       "{'distance_plan', 'eta', 'price', 'transport_mode'}"
      ]
     },
     "execution_count": 9,
     "metadata": {},
     "output_type": "execute_result"
    }
   ],
   "source": [
    "set(traincols1) - set(traincols)"
   ]
  },
  {
   "cell_type": "code",
   "execution_count": 5,
   "metadata": {},
   "outputs": [
    {
     "data": {
      "text/plain": [
       "['sid',\n",
       " 'click_time',\n",
       " 'click_mode',\n",
       " 'pid',\n",
       " 'req_time',\n",
       " 'o_long',\n",
       " 'o_lat',\n",
       " 'd_long',\n",
       " 'd_lat',\n",
       " 'distance_query',\n",
       " 'p0',\n",
       " 'p1',\n",
       " 'p2',\n",
       " 'p3',\n",
       " 'p4',\n",
       " 'p5',\n",
       " 'p6',\n",
       " 'p7',\n",
       " 'p8',\n",
       " 'p9',\n",
       " 'p10',\n",
       " 'p11',\n",
       " 'p12',\n",
       " 'p13',\n",
       " 'p14',\n",
       " 'p15',\n",
       " 'p16',\n",
       " 'p17',\n",
       " 'p18',\n",
       " 'p19',\n",
       " 'p20',\n",
       " 'p21',\n",
       " 'p22',\n",
       " 'p23',\n",
       " 'p24',\n",
       " 'p25',\n",
       " 'p26',\n",
       " 'p27',\n",
       " 'p28',\n",
       " 'p29',\n",
       " 'p30',\n",
       " 'p31',\n",
       " 'p32',\n",
       " 'p33',\n",
       " 'p34',\n",
       " 'p35',\n",
       " 'p36',\n",
       " 'p37',\n",
       " 'p38',\n",
       " 'p39',\n",
       " 'p40',\n",
       " 'p41',\n",
       " 'p42',\n",
       " 'p43',\n",
       " 'p44',\n",
       " 'p45',\n",
       " 'p46',\n",
       " 'p47',\n",
       " 'p48',\n",
       " 'p49',\n",
       " 'p50',\n",
       " 'p51',\n",
       " 'p52',\n",
       " 'p53',\n",
       " 'p54',\n",
       " 'p55',\n",
       " 'p56',\n",
       " 'p57',\n",
       " 'p58',\n",
       " 'p59',\n",
       " 'p60',\n",
       " 'p61',\n",
       " 'p62',\n",
       " 'p63',\n",
       " 'p64',\n",
       " 'p65',\n",
       " 'plan_time',\n",
       " 'dist_0',\n",
       " 'price_0',\n",
       " 'eta_0',\n",
       " 'dist_1',\n",
       " 'price_1',\n",
       " 'eta_1',\n",
       " 'dist_2',\n",
       " 'price_2',\n",
       " 'eta_2',\n",
       " 'dist_3',\n",
       " 'price_3',\n",
       " 'eta_3',\n",
       " 'dist_4',\n",
       " 'price_4',\n",
       " 'eta_4',\n",
       " 'dist_5',\n",
       " 'price_5',\n",
       " 'eta_5',\n",
       " 'dist_6',\n",
       " 'price_6',\n",
       " 'eta_6',\n",
       " 'dist_7',\n",
       " 'price_7',\n",
       " 'eta_7',\n",
       " 'dist_8',\n",
       " 'price_8',\n",
       " 'eta_8',\n",
       " 'dist_9',\n",
       " 'price_9',\n",
       " 'eta_9',\n",
       " 'dist_10',\n",
       " 'price_10',\n",
       " 'eta_10',\n",
       " 'dist_11',\n",
       " 'price_11',\n",
       " 'eta_11',\n",
       " 'dist_nearest_sub',\n",
       " 'req_date',\n",
       " 'req_hour',\n",
       " 'req_weekend',\n",
       " 'req_night',\n",
       " 'req_day',\n",
       " 'req_evening',\n",
       " 'is_holiday',\n",
       " 'max_temp',\n",
       " 'min_temp',\n",
       " 'weather',\n",
       " 'wind']"
      ]
     },
     "execution_count": 5,
     "metadata": {},
     "output_type": "execute_result"
    }
   ],
   "source": [
    "traincols"
   ]
  },
  {
   "cell_type": "code",
   "execution_count": 12,
   "metadata": {},
   "outputs": [],
   "source": [
    "type = 'row'\n",
    "traindf = pd.read_pickle('../data/processed_all/train_all_'+type+'.pickle')\n",
    "testdf = pd.read_pickle('../data/processed_all/test_all_'+type+'.pickle')"
   ]
  },
  {
   "cell_type": "code",
   "execution_count": 13,
   "metadata": {},
   "outputs": [
    {
     "data": {
      "text/plain": [
       "((2101060, 27), (429803, 25))"
      ]
     },
     "execution_count": 13,
     "metadata": {},
     "output_type": "execute_result"
    }
   ],
   "source": [
    "traindf.shape, testdf.shape"
   ]
  },
  {
   "cell_type": "code",
   "execution_count": 11,
   "metadata": {},
   "outputs": [
    {
     "data": {
      "text/plain": [
       "['sid',\n",
       " 'click_time',\n",
       " 'click_mode',\n",
       " 'pid',\n",
       " 'req_time',\n",
       " 'o_long',\n",
       " 'o_lat',\n",
       " 'd_long',\n",
       " 'd_lat',\n",
       " 'distance_query',\n",
       " 'p0',\n",
       " 'p1',\n",
       " 'p2',\n",
       " 'p3',\n",
       " 'p4',\n",
       " 'p5',\n",
       " 'p6',\n",
       " 'p7',\n",
       " 'p8',\n",
       " 'p9',\n",
       " 'p10',\n",
       " 'p11',\n",
       " 'p12',\n",
       " 'p13',\n",
       " 'p14',\n",
       " 'p15',\n",
       " 'p16',\n",
       " 'p17',\n",
       " 'p18',\n",
       " 'p19',\n",
       " 'p20',\n",
       " 'p21',\n",
       " 'p22',\n",
       " 'p23',\n",
       " 'p24',\n",
       " 'p25',\n",
       " 'p26',\n",
       " 'p27',\n",
       " 'p28',\n",
       " 'p29',\n",
       " 'p30',\n",
       " 'p31',\n",
       " 'p32',\n",
       " 'p33',\n",
       " 'p34',\n",
       " 'p35',\n",
       " 'p36',\n",
       " 'p37',\n",
       " 'p38',\n",
       " 'p39',\n",
       " 'p40',\n",
       " 'p41',\n",
       " 'p42',\n",
       " 'p43',\n",
       " 'p44',\n",
       " 'p45',\n",
       " 'p46',\n",
       " 'p47',\n",
       " 'p48',\n",
       " 'p49',\n",
       " 'p50',\n",
       " 'p51',\n",
       " 'p52',\n",
       " 'p53',\n",
       " 'p54',\n",
       " 'p55',\n",
       " 'p56',\n",
       " 'p57',\n",
       " 'p58',\n",
       " 'p59',\n",
       " 'p60',\n",
       " 'p61',\n",
       " 'p62',\n",
       " 'p63',\n",
       " 'p64',\n",
       " 'p65',\n",
       " 'plan_time',\n",
       " 'dist_0',\n",
       " 'price_0',\n",
       " 'eta_0',\n",
       " 'dist_1',\n",
       " 'price_1',\n",
       " 'eta_1',\n",
       " 'dist_2',\n",
       " 'price_2',\n",
       " 'eta_2',\n",
       " 'dist_3',\n",
       " 'price_3',\n",
       " 'eta_3',\n",
       " 'dist_4',\n",
       " 'price_4',\n",
       " 'eta_4',\n",
       " 'dist_5',\n",
       " 'price_5',\n",
       " 'eta_5',\n",
       " 'dist_6',\n",
       " 'price_6',\n",
       " 'eta_6',\n",
       " 'dist_7',\n",
       " 'price_7',\n",
       " 'eta_7',\n",
       " 'dist_8',\n",
       " 'price_8',\n",
       " 'eta_8',\n",
       " 'dist_9',\n",
       " 'price_9',\n",
       " 'eta_9',\n",
       " 'dist_10',\n",
       " 'price_10',\n",
       " 'eta_10',\n",
       " 'dist_11',\n",
       " 'price_11',\n",
       " 'eta_11',\n",
       " 'dist_nearest_sub',\n",
       " 'req_date',\n",
       " 'req_hour',\n",
       " 'req_weekend',\n",
       " 'req_night',\n",
       " 'req_day',\n",
       " 'req_evening',\n",
       " 'is_holiday',\n",
       " 'max_temp',\n",
       " 'min_temp',\n",
       " 'weather',\n",
       " 'wind']"
      ]
     },
     "execution_count": 11,
     "metadata": {},
     "output_type": "execute_result"
    }
   ],
   "source": [
    "traindf.columns.to_list()"
   ]
  },
  {
   "cell_type": "code",
   "execution_count": 9,
   "metadata": {},
   "outputs": [
    {
     "name": "stdout",
     "output_type": "stream",
     "text": [
      "(2101060, 15)\n"
     ]
    }
   ],
   "source": [
    "df_profiles = pd.read_csv('../data/raw/data_set_phase1/profiles.csv')\n",
    "print(traindf1.shape)\n",
    "traindf1 = pd.merge(traindf1, df_profiles, how='outer')"
   ]
  },
  {
   "cell_type": "code",
   "execution_count": 10,
   "metadata": {},
   "outputs": [
    {
     "name": "stdout",
     "output_type": "stream",
     "text": [
      "(2101060, 81)\n"
     ]
    }
   ],
   "source": [
    "traindf1 = traindf1[pd.notnull(traindf1['o_long'])]\n",
    "print(traindf1.shape)"
   ]
  },
  {
   "cell_type": "code",
   "execution_count": 11,
   "metadata": {},
   "outputs": [],
   "source": [
    "testdf1 = pd.merge(testdf1, df_profiles, how='outer')"
   ]
  },
  {
   "cell_type": "code",
   "execution_count": 12,
   "metadata": {},
   "outputs": [
    {
     "name": "stdout",
     "output_type": "stream",
     "text": [
      "(429803, 79)\n"
     ]
    }
   ],
   "source": [
    "testdf1 = testdf1[pd.notnull(testdf1['o_long'])]\n",
    "print(testdf1.shape)"
   ]
  },
  {
   "cell_type": "code",
   "execution_count": 18,
   "metadata": {},
   "outputs": [],
   "source": [
    "traindf.to_pickle('../data/processed_all/train_all_last.pickle')"
   ]
  },
  {
   "cell_type": "code",
   "execution_count": 21,
   "metadata": {},
   "outputs": [],
   "source": [
    "traindf1.to_pickle('../data/processed_all/train_all_first.pickle')"
   ]
  },
  {
   "cell_type": "code",
   "execution_count": 22,
   "metadata": {},
   "outputs": [],
   "source": [
    "traindf2.to_pickle('../data/processed_all/train_all_row.pickle')"
   ]
  },
  {
   "cell_type": "code",
   "execution_count": 16,
   "metadata": {},
   "outputs": [],
   "source": [
    "testdf1.to_pickle('../data/processed_all/test_all_row.pickle')"
   ]
  },
  {
   "cell_type": "code",
   "execution_count": 18,
   "metadata": {},
   "outputs": [],
   "source": [
    "traincols = traindf.columns.tolist()\n",
    "testcols = testdf.columns.tolist()\n",
    "traincols1 = traindf1.columns.tolist()\n",
    "testcols1 = testdf1.columns.tolist()"
   ]
  },
  {
   "cell_type": "code",
   "execution_count": 22,
   "metadata": {},
   "outputs": [
    {
     "data": {
      "text/plain": [
       "36"
      ]
     },
     "execution_count": 22,
     "metadata": {},
     "output_type": "execute_result"
    }
   ],
   "source": [
    "len(set(traincols) - set(traincols1))"
   ]
  },
  {
   "cell_type": "code",
   "execution_count": null,
   "metadata": {},
   "outputs": [],
   "source": []
  }
 ],
 "metadata": {
  "kernelspec": {
   "display_name": "Python 3",
   "language": "python",
   "name": "python3"
  },
  "language_info": {
   "codemirror_mode": {
    "name": "ipython",
    "version": 3
   },
   "file_extension": ".py",
   "mimetype": "text/x-python",
   "name": "python",
   "nbconvert_exporter": "python",
   "pygments_lexer": "ipython3",
   "version": "3.7.3"
  }
 },
 "nbformat": 4,
 "nbformat_minor": 2
}
