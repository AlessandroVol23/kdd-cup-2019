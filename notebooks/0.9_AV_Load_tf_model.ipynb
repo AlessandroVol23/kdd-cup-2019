{
 "cells": [
  {
   "cell_type": "code",
   "execution_count": 12,
   "metadata": {},
   "outputs": [],
   "source": [
    "\n",
    "import tensorflow as tf\n",
    "from tensorflow import keras\n",
    "import tensorflow_ranking as tfr"
   ]
  },
  {
   "cell_type": "code",
   "execution_count": 13,
   "metadata": {},
   "outputs": [],
   "source": [
    "def get_eval_metric_fns():\n",
    "  \"\"\"Returns a dict from name to metric functions.\"\"\"\n",
    "  metric_fns = {}\n",
    "  metric_fns.update({\n",
    "      \"metric/%s\" % name: tfr.metrics.make_ranking_metric_fn(name) for name in [\n",
    "          tfr.metrics.RankingMetricKey.ARP,\n",
    "          tfr.metrics.RankingMetricKey.ORDERED_PAIR_ACCURACY,\n",
    "      ]\n",
    "  })\n",
    "  metric_fns.update({\n",
    "      \"metric/ndcg@%d\" % topn: tfr.metrics.make_ranking_metric_fn(\n",
    "          tfr.metrics.RankingMetricKey.NDCG, topn=topn)\n",
    "      for topn in [1, 3, 5, 10]\n",
    "  })\n",
    "  return metric_fns"
   ]
  },
  {
   "cell_type": "code",
   "execution_count": 14,
   "metadata": {},
   "outputs": [],
   "source": [
    "def make_score_fn():\n",
    "  \"\"\"Returns a groupwise score fn to build `EstimatorSpec`.\"\"\"\n",
    "\n",
    "  def _score_fn(unused_context_features, group_features, mode, unused_params,\n",
    "                unused_config):\n",
    "    \"\"\"Defines the network to score a group of documents.\"\"\"\n",
    "    with tf.compat.v1.name_scope(\"input_layer\"):\n",
    "      group_input = [\n",
    "          tf.compat.v1.layers.flatten(group_features[name])\n",
    "          for name in sorted(example_feature_columns())\n",
    "      ]\n",
    "      input_layer = tf.concat(group_input, 1)\n",
    "      tf.compat.v1.summary.scalar(\"input_sparsity\",\n",
    "                                  tf.nn.zero_fraction(input_layer))\n",
    "      tf.compat.v1.summary.scalar(\"input_max\",\n",
    "                                  tf.reduce_max(input_tensor=input_layer))\n",
    "      tf.compat.v1.summary.scalar(\"input_min\",\n",
    "                                  tf.reduce_min(input_tensor=input_layer))\n",
    "\n",
    "    is_training = (mode == tf.estimator.ModeKeys.TRAIN)\n",
    "    cur_layer = tf.compat.v1.layers.batch_normalization(\n",
    "        input_layer, training=is_training)\n",
    "    for i, layer_width in enumerate(int(d) for d in FLAGS.hidden_layer_dims):\n",
    "      cur_layer = tf.compat.v1.layers.dense(cur_layer, units=layer_width)\n",
    "      cur_layer = tf.compat.v1.layers.batch_normalization(\n",
    "          cur_layer, training=is_training)\n",
    "      cur_layer = tf.nn.relu(cur_layer)\n",
    "      tf.compat.v1.summary.scalar(\"fully_connected_{}_sparsity\".format(i),\n",
    "                                  tf.nn.zero_fraction(cur_layer))\n",
    "    cur_layer = tf.compat.v1.layers.dropout(\n",
    "        cur_layer, rate=FLAGS.dropout_rate, training=is_training)\n",
    "    logits = tf.compat.v1.layers.dense(cur_layer, units=FLAGS.group_size)\n",
    "    return logits\n",
    "\n",
    "  return _score_fn"
   ]
  },
  {
   "cell_type": "code",
   "execution_count": 15,
   "metadata": {},
   "outputs": [],
   "source": [
    "def _train_op_fn(loss):\n",
    "    \"\"\"Defines train op used in ranking head.\"\"\"\n",
    "    return tf.contrib.layers.optimize_loss(\n",
    "        loss=loss,\n",
    "        global_step=tf.compat.v1.train.get_global_step(),\n",
    "        learning_rate=FLAGS.learning_rate,\n",
    "        optimizer=\"Adagrad\")"
   ]
  },
  {
   "cell_type": "code",
   "execution_count": 16,
   "metadata": {},
   "outputs": [
    {
     "name": "stdout",
     "output_type": "stream",
     "text": [
      "INFO:tensorflow:Using config: {'_model_dir': '/tmp/tmp_out/', '_tf_random_seed': None, '_save_summary_steps': 100, '_save_checkpoints_steps': 1000, '_save_checkpoints_secs': None, '_session_config': allow_soft_placement: true\n",
      "graph_options {\n",
      "  rewrite_options {\n",
      "    meta_optimizer_iterations: ONE\n",
      "  }\n",
      "}\n",
      ", '_keep_checkpoint_max': 5, '_keep_checkpoint_every_n_hours': 10000, '_log_step_count_steps': 100, '_train_distribute': None, '_device_fn': None, '_protocol': None, '_eval_distribute': None, '_experimental_distribute': None, '_service': None, '_cluster_spec': <tensorflow.python.training.server_lib.ClusterSpec object at 0x7f7442a6ff60>, '_task_type': 'worker', '_task_id': 0, '_global_id_in_cluster': 0, '_master': '', '_evaluation_master': '', '_is_chief': True, '_num_ps_replicas': 0, '_num_worker_replicas': 1}\n",
      "WARNING:tensorflow:Estimator's model_fn (<function make_groupwise_ranking_fn.<locals>._model_fn at 0x7f74420962f0>) includes params argument, but params are not passed to Estimator.\n"
     ]
    }
   ],
   "source": [
    "ranking_head = tfr.head.create_ranking_head(\n",
    "      loss_fn=tfr.losses.make_loss_fn(\"pairwise_logistic_loss\"),\n",
    "      eval_metric_fns=get_eval_metric_fns(),\n",
    "      train_op_fn=_train_op_fn)\n",
    "\n",
    "estimator = tf.estimator.Estimator(\n",
    "  model_fn=tfr.model.make_groupwise_ranking_fn(\n",
    "      group_score_fn=make_score_fn(),\n",
    "      group_size=1,\n",
    "      transform_fn=None,\n",
    "      ranking_head=ranking_head),\n",
    "  config=tf.estimator.RunConfig(\n",
    "      \"/tmp/tmp_out/\", save_checkpoints_steps=1000))"
   ]
  },
  {
   "cell_type": "code",
   "execution_count": null,
   "metadata": {},
   "outputs": [],
   "source": [
    "estimator.lo"
   ]
  },
  {
   "cell_type": "code",
   "execution_count": 23,
   "metadata": {},
   "outputs": [],
   "source": [
    "model = tfr.model.make_groupwise_ranking_fn(\n",
    "      group_score_fn=make_score_fn(),\n",
    "      group_size=1,\n",
    "      transform_fn=None,\n",
    "      ranking_head=ranking_head)"
   ]
  },
  {
   "cell_type": "code",
   "execution_count": 29,
   "metadata": {},
   "outputs": [
    {
     "data": {
      "text/plain": [
       "tensorflow_estimator.python.estimator.estimator.Estimator"
      ]
     },
     "execution_count": 29,
     "metadata": {},
     "output_type": "execute_result"
    }
   ],
   "source": [
    "type(estimator.get)"
   ]
  },
  {
   "cell_type": "code",
   "execution_count": 32,
   "metadata": {},
   "outputs": [
    {
     "ename": "TypeError",
     "evalue": "predict() missing 1 required positional argument: 'input_fn'",
     "output_type": "error",
     "traceback": [
      "\u001b[0;31m---------------------------------------------------------------------------\u001b[0m",
      "\u001b[0;31mTypeError\u001b[0m                                 Traceback (most recent call last)",
      "\u001b[0;32m<ipython-input-32-f47ccf4d2d29>\u001b[0m in \u001b[0;36m<module>\u001b[0;34m\u001b[0m\n\u001b[0;32m----> 1\u001b[0;31m \u001b[0mestimator\u001b[0m\u001b[0;34m.\u001b[0m\u001b[0mpredict\u001b[0m\u001b[0;34m(\u001b[0m\u001b[0;34m)\u001b[0m\u001b[0;34m\u001b[0m\u001b[0;34m\u001b[0m\u001b[0m\n\u001b[0m",
      "\u001b[0;31mTypeError\u001b[0m: predict() missing 1 required positional argument: 'input_fn'"
     ]
    }
   ],
   "source": [
    "estimator.predict(input_fn=)"
   ]
  }
 ],
 "metadata": {
  "kernelspec": {
   "display_name": "Python 3",
   "language": "python",
   "name": "python3"
  },
  "language_info": {
   "codemirror_mode": {
    "name": "ipython",
    "version": 3
   },
   "file_extension": ".py",
   "mimetype": "text/x-python",
   "name": "python",
   "nbconvert_exporter": "python",
   "pygments_lexer": "ipython3",
   "version": "3.7.3"
  }
 },
 "nbformat": 4,
 "nbformat_minor": 2
}
