{
 "cells": [
  {
   "cell_type": "markdown",
   "metadata": {},
   "source": [
    "# Issue #4: understand data"
   ]
  },
  {
   "cell_type": "code",
   "execution_count": 1,
   "metadata": {},
   "outputs": [],
   "source": [
    "import pandas as pd\n",
    "import re\n",
    "\n",
    "import matplotlib.pyplot as plt\n",
    "%matplotlib inline\n",
    "\n",
    "import seaborn as sns\n",
    "sns.set(style='white', context='notebook', palette='deep')"
   ]
  },
  {
   "cell_type": "markdown",
   "metadata": {},
   "source": [
    "### Profiles DF"
   ]
  },
  {
   "cell_type": "code",
   "execution_count": null,
   "metadata": {},
   "outputs": [],
   "source": [
    "df_profiles = pd.read_csv(\"../data/raw/data_set_phase1/profiles.csv\")"
   ]
  },
  {
   "cell_type": "markdown",
   "metadata": {},
   "source": [
    "There are no null values"
   ]
  },
  {
   "cell_type": "code",
   "execution_count": 44,
   "metadata": {},
   "outputs": [
    {
     "data": {
      "text/plain": [
       "0"
      ]
     },
     "execution_count": 44,
     "metadata": {},
     "output_type": "execute_result"
    }
   ],
   "source": [
    "df_profiles.isnull().sum().sum()"
   ]
  },
  {
   "cell_type": "code",
   "execution_count": 4,
   "metadata": {},
   "outputs": [
    {
     "data": {
      "text/html": [
       "<div>\n",
       "<style scoped>\n",
       "    .dataframe tbody tr th:only-of-type {\n",
       "        vertical-align: middle;\n",
       "    }\n",
       "\n",
       "    .dataframe tbody tr th {\n",
       "        vertical-align: top;\n",
       "    }\n",
       "\n",
       "    .dataframe thead th {\n",
       "        text-align: right;\n",
       "    }\n",
       "</style>\n",
       "<table border=\"1\" class=\"dataframe\">\n",
       "  <thead>\n",
       "    <tr style=\"text-align: right;\">\n",
       "      <th></th>\n",
       "      <th>pid</th>\n",
       "      <th>p0</th>\n",
       "      <th>p1</th>\n",
       "      <th>p2</th>\n",
       "      <th>p3</th>\n",
       "      <th>p4</th>\n",
       "      <th>p5</th>\n",
       "      <th>p6</th>\n",
       "      <th>p7</th>\n",
       "      <th>p8</th>\n",
       "      <th>...</th>\n",
       "      <th>p56</th>\n",
       "      <th>p57</th>\n",
       "      <th>p58</th>\n",
       "      <th>p59</th>\n",
       "      <th>p60</th>\n",
       "      <th>p61</th>\n",
       "      <th>p62</th>\n",
       "      <th>p63</th>\n",
       "      <th>p64</th>\n",
       "      <th>p65</th>\n",
       "    </tr>\n",
       "  </thead>\n",
       "  <tbody>\n",
       "    <tr>\n",
       "      <th>51901</th>\n",
       "      <td>118235</td>\n",
       "      <td>0.0</td>\n",
       "      <td>0.0</td>\n",
       "      <td>0.0</td>\n",
       "      <td>1.0</td>\n",
       "      <td>0.0</td>\n",
       "      <td>0.0</td>\n",
       "      <td>0.0</td>\n",
       "      <td>1.0</td>\n",
       "      <td>0.0</td>\n",
       "      <td>...</td>\n",
       "      <td>0.0</td>\n",
       "      <td>0.0</td>\n",
       "      <td>0.0</td>\n",
       "      <td>0.0</td>\n",
       "      <td>0.0</td>\n",
       "      <td>0.0</td>\n",
       "      <td>1.0</td>\n",
       "      <td>0.0</td>\n",
       "      <td>0.0</td>\n",
       "      <td>0.0</td>\n",
       "    </tr>\n",
       "    <tr>\n",
       "      <th>51381</th>\n",
       "      <td>192160</td>\n",
       "      <td>0.0</td>\n",
       "      <td>0.0</td>\n",
       "      <td>0.0</td>\n",
       "      <td>1.0</td>\n",
       "      <td>0.0</td>\n",
       "      <td>0.0</td>\n",
       "      <td>0.0</td>\n",
       "      <td>0.0</td>\n",
       "      <td>1.0</td>\n",
       "      <td>...</td>\n",
       "      <td>1.0</td>\n",
       "      <td>0.0</td>\n",
       "      <td>0.0</td>\n",
       "      <td>0.0</td>\n",
       "      <td>1.0</td>\n",
       "      <td>0.0</td>\n",
       "      <td>0.0</td>\n",
       "      <td>0.0</td>\n",
       "      <td>0.0</td>\n",
       "      <td>0.0</td>\n",
       "    </tr>\n",
       "    <tr>\n",
       "      <th>38535</th>\n",
       "      <td>185129</td>\n",
       "      <td>0.0</td>\n",
       "      <td>0.0</td>\n",
       "      <td>0.0</td>\n",
       "      <td>0.0</td>\n",
       "      <td>1.0</td>\n",
       "      <td>0.0</td>\n",
       "      <td>0.0</td>\n",
       "      <td>1.0</td>\n",
       "      <td>0.0</td>\n",
       "      <td>...</td>\n",
       "      <td>0.0</td>\n",
       "      <td>0.0</td>\n",
       "      <td>0.0</td>\n",
       "      <td>0.0</td>\n",
       "      <td>0.0</td>\n",
       "      <td>1.0</td>\n",
       "      <td>0.0</td>\n",
       "      <td>0.0</td>\n",
       "      <td>0.0</td>\n",
       "      <td>0.0</td>\n",
       "    </tr>\n",
       "    <tr>\n",
       "      <th>30656</th>\n",
       "      <td>194628</td>\n",
       "      <td>1.0</td>\n",
       "      <td>0.0</td>\n",
       "      <td>0.0</td>\n",
       "      <td>0.0</td>\n",
       "      <td>0.0</td>\n",
       "      <td>0.0</td>\n",
       "      <td>0.0</td>\n",
       "      <td>1.0</td>\n",
       "      <td>0.0</td>\n",
       "      <td>...</td>\n",
       "      <td>0.0</td>\n",
       "      <td>0.0</td>\n",
       "      <td>0.0</td>\n",
       "      <td>0.0</td>\n",
       "      <td>0.0</td>\n",
       "      <td>0.0</td>\n",
       "      <td>0.0</td>\n",
       "      <td>0.0</td>\n",
       "      <td>0.0</td>\n",
       "      <td>0.0</td>\n",
       "    </tr>\n",
       "    <tr>\n",
       "      <th>45135</th>\n",
       "      <td>190926</td>\n",
       "      <td>0.0</td>\n",
       "      <td>0.0</td>\n",
       "      <td>0.0</td>\n",
       "      <td>1.0</td>\n",
       "      <td>0.0</td>\n",
       "      <td>0.0</td>\n",
       "      <td>0.0</td>\n",
       "      <td>1.0</td>\n",
       "      <td>0.0</td>\n",
       "      <td>...</td>\n",
       "      <td>0.0</td>\n",
       "      <td>0.0</td>\n",
       "      <td>0.0</td>\n",
       "      <td>0.0</td>\n",
       "      <td>0.0</td>\n",
       "      <td>0.0</td>\n",
       "      <td>1.0</td>\n",
       "      <td>0.0</td>\n",
       "      <td>0.0</td>\n",
       "      <td>0.0</td>\n",
       "    </tr>\n",
       "  </tbody>\n",
       "</table>\n",
       "<p>5 rows × 67 columns</p>\n",
       "</div>"
      ],
      "text/plain": [
       "          pid   p0   p1   p2   p3   p4   p5   p6   p7   p8  ...  p56  p57  \\\n",
       "51901  118235  0.0  0.0  0.0  1.0  0.0  0.0  0.0  1.0  0.0  ...  0.0  0.0   \n",
       "51381  192160  0.0  0.0  0.0  1.0  0.0  0.0  0.0  0.0  1.0  ...  1.0  0.0   \n",
       "38535  185129  0.0  0.0  0.0  0.0  1.0  0.0  0.0  1.0  0.0  ...  0.0  0.0   \n",
       "30656  194628  1.0  0.0  0.0  0.0  0.0  0.0  0.0  1.0  0.0  ...  0.0  0.0   \n",
       "45135  190926  0.0  0.0  0.0  1.0  0.0  0.0  0.0  1.0  0.0  ...  0.0  0.0   \n",
       "\n",
       "       p58  p59  p60  p61  p62  p63  p64  p65  \n",
       "51901  0.0  0.0  0.0  0.0  1.0  0.0  0.0  0.0  \n",
       "51381  0.0  0.0  1.0  0.0  0.0  0.0  0.0  0.0  \n",
       "38535  0.0  0.0  0.0  1.0  0.0  0.0  0.0  0.0  \n",
       "30656  0.0  0.0  0.0  0.0  0.0  0.0  0.0  0.0  \n",
       "45135  0.0  0.0  0.0  0.0  1.0  0.0  0.0  0.0  \n",
       "\n",
       "[5 rows x 67 columns]"
      ]
     },
     "execution_count": 4,
     "metadata": {},
     "output_type": "execute_result"
    }
   ],
   "source": [
    "df_profiles.sample(5)"
   ]
  },
  {
   "cell_type": "code",
   "execution_count": 5,
   "metadata": {},
   "outputs": [
    {
     "data": {
      "text/plain": [
       "(63090, 67)"
      ]
     },
     "execution_count": 5,
     "metadata": {},
     "output_type": "execute_result"
    }
   ],
   "source": [
    "df_profiles.shape"
   ]
  },
  {
   "cell_type": "markdown",
   "metadata": {},
   "source": [
    "63k profiles "
   ]
  },
  {
   "cell_type": "markdown",
   "metadata": {},
   "source": [
    "### Queries DF"
   ]
  },
  {
   "cell_type": "code",
   "execution_count": 2,
   "metadata": {},
   "outputs": [],
   "source": [
    "df_queries = pd.read_csv(\"../data/raw/data_set_phase1/train_queries.csv\")"
   ]
  },
  {
   "cell_type": "code",
   "execution_count": 6,
   "metadata": {},
   "outputs": [
    {
     "data": {
      "text/plain": [
       "(500000, 5)"
      ]
     },
     "execution_count": 6,
     "metadata": {},
     "output_type": "execute_result"
    }
   ],
   "source": [
    "df_queries.shape"
   ]
  },
  {
   "cell_type": "code",
   "execution_count": 45,
   "metadata": {},
   "outputs": [
    {
     "data": {
      "text/plain": [
       "sid              0\n",
       "pid         163979\n",
       "req_time         0\n",
       "ox               0\n",
       "oy               0\n",
       "dx               0\n",
       "dy               0\n",
       "dtype: int64"
      ]
     },
     "execution_count": 45,
     "metadata": {},
     "output_type": "execute_result"
    }
   ],
   "source": [
    "# 163k queries are done by anonymous users\n",
    "df_queries.isnull().sum()"
   ]
  },
  {
   "cell_type": "code",
   "execution_count": 6,
   "metadata": {},
   "outputs": [
    {
     "data": {
      "text/html": [
       "<div>\n",
       "<style scoped>\n",
       "    .dataframe tbody tr th:only-of-type {\n",
       "        vertical-align: middle;\n",
       "    }\n",
       "\n",
       "    .dataframe tbody tr th {\n",
       "        vertical-align: top;\n",
       "    }\n",
       "\n",
       "    .dataframe thead th {\n",
       "        text-align: right;\n",
       "    }\n",
       "</style>\n",
       "<table border=\"1\" class=\"dataframe\">\n",
       "  <thead>\n",
       "    <tr style=\"text-align: right;\">\n",
       "      <th></th>\n",
       "      <th>sid</th>\n",
       "      <th>pid</th>\n",
       "      <th>req_time</th>\n",
       "      <th>o</th>\n",
       "      <th>d</th>\n",
       "    </tr>\n",
       "  </thead>\n",
       "  <tbody>\n",
       "    <tr>\n",
       "      <th>185894</th>\n",
       "      <td>2246095</td>\n",
       "      <td>170760.0</td>\n",
       "      <td>2018-10-13 17:56:32</td>\n",
       "      <td>116.45,39.83</td>\n",
       "      <td>116.45,39.87</td>\n",
       "    </tr>\n",
       "    <tr>\n",
       "      <th>113821</th>\n",
       "      <td>1667349</td>\n",
       "      <td>195309.0</td>\n",
       "      <td>2018-10-23 13:56:40</td>\n",
       "      <td>116.35,39.91</td>\n",
       "      <td>116.40,39.85</td>\n",
       "    </tr>\n",
       "    <tr>\n",
       "      <th>14032</th>\n",
       "      <td>5055</td>\n",
       "      <td>NaN</td>\n",
       "      <td>2018-11-10 08:37:45</td>\n",
       "      <td>116.37,39.94</td>\n",
       "      <td>116.00,40.35</td>\n",
       "    </tr>\n",
       "    <tr>\n",
       "      <th>383005</th>\n",
       "      <td>1028360</td>\n",
       "      <td>NaN</td>\n",
       "      <td>2018-11-27 20:05:19</td>\n",
       "      <td>116.36,39.87</td>\n",
       "      <td>116.61,40.07</td>\n",
       "    </tr>\n",
       "    <tr>\n",
       "      <th>215254</th>\n",
       "      <td>2325682</td>\n",
       "      <td>160622.0</td>\n",
       "      <td>2018-10-25 13:08:04</td>\n",
       "      <td>116.59,40.12</td>\n",
       "      <td>116.43,40.07</td>\n",
       "    </tr>\n",
       "  </tbody>\n",
       "</table>\n",
       "</div>"
      ],
      "text/plain": [
       "            sid       pid             req_time             o             d\n",
       "185894  2246095  170760.0  2018-10-13 17:56:32  116.45,39.83  116.45,39.87\n",
       "113821  1667349  195309.0  2018-10-23 13:56:40  116.35,39.91  116.40,39.85\n",
       "14032      5055       NaN  2018-11-10 08:37:45  116.37,39.94  116.00,40.35\n",
       "383005  1028360       NaN  2018-11-27 20:05:19  116.36,39.87  116.61,40.07\n",
       "215254  2325682  160622.0  2018-10-25 13:08:04  116.59,40.12  116.43,40.07"
      ]
     },
     "execution_count": 6,
     "metadata": {},
     "output_type": "execute_result"
    }
   ],
   "source": [
    "df_queries.sample(5)"
   ]
  },
  {
   "cell_type": "code",
   "execution_count": 7,
   "metadata": {},
   "outputs": [
    {
     "data": {
      "text/plain": [
       "(500000, 5)"
      ]
     },
     "execution_count": 7,
     "metadata": {},
     "output_type": "execute_result"
    }
   ],
   "source": [
    "df_queries.shape"
   ]
  },
  {
   "cell_type": "code",
   "execution_count": 8,
   "metadata": {},
   "outputs": [
    {
     "data": {
      "text/plain": [
       "sid           int64\n",
       "pid         float64\n",
       "req_time     object\n",
       "o            object\n",
       "d            object\n",
       "dtype: object"
      ]
     },
     "execution_count": 8,
     "metadata": {},
     "output_type": "execute_result"
    }
   ],
   "source": [
    "df_queries.dtypes"
   ]
  },
  {
   "cell_type": "code",
   "execution_count": 9,
   "metadata": {},
   "outputs": [
    {
     "data": {
      "text/html": [
       "<div>\n",
       "<style scoped>\n",
       "    .dataframe tbody tr th:only-of-type {\n",
       "        vertical-align: middle;\n",
       "    }\n",
       "\n",
       "    .dataframe tbody tr th {\n",
       "        vertical-align: top;\n",
       "    }\n",
       "\n",
       "    .dataframe thead th {\n",
       "        text-align: right;\n",
       "    }\n",
       "</style>\n",
       "<table border=\"1\" class=\"dataframe\">\n",
       "  <thead>\n",
       "    <tr style=\"text-align: right;\">\n",
       "      <th></th>\n",
       "      <th>sid</th>\n",
       "      <th>pid</th>\n",
       "    </tr>\n",
       "  </thead>\n",
       "  <tbody>\n",
       "    <tr>\n",
       "      <th>count</th>\n",
       "      <td>5.000000e+05</td>\n",
       "      <td>336021.000000</td>\n",
       "    </tr>\n",
       "    <tr>\n",
       "      <th>mean</th>\n",
       "      <td>1.762560e+06</td>\n",
       "      <td>158240.721684</td>\n",
       "    </tr>\n",
       "    <tr>\n",
       "      <th>std</th>\n",
       "      <td>1.015331e+06</td>\n",
       "      <td>33720.115235</td>\n",
       "    </tr>\n",
       "    <tr>\n",
       "      <th>min</th>\n",
       "      <td>2.000000e+00</td>\n",
       "      <td>100000.000000</td>\n",
       "    </tr>\n",
       "    <tr>\n",
       "      <th>25%</th>\n",
       "      <td>8.122398e+05</td>\n",
       "      <td>127774.000000</td>\n",
       "    </tr>\n",
       "    <tr>\n",
       "      <th>50%</th>\n",
       "      <td>1.848410e+06</td>\n",
       "      <td>161617.000000</td>\n",
       "    </tr>\n",
       "    <tr>\n",
       "      <th>75%</th>\n",
       "      <td>2.662461e+06</td>\n",
       "      <td>187360.000000</td>\n",
       "    </tr>\n",
       "    <tr>\n",
       "      <th>max</th>\n",
       "      <td>3.396588e+06</td>\n",
       "      <td>216977.000000</td>\n",
       "    </tr>\n",
       "  </tbody>\n",
       "</table>\n",
       "</div>"
      ],
      "text/plain": [
       "                sid            pid\n",
       "count  5.000000e+05  336021.000000\n",
       "mean   1.762560e+06  158240.721684\n",
       "std    1.015331e+06   33720.115235\n",
       "min    2.000000e+00  100000.000000\n",
       "25%    8.122398e+05  127774.000000\n",
       "50%    1.848410e+06  161617.000000\n",
       "75%    2.662461e+06  187360.000000\n",
       "max    3.396588e+06  216977.000000"
      ]
     },
     "execution_count": 9,
     "metadata": {},
     "output_type": "execute_result"
    }
   ],
   "source": [
    "df_queries.describe()"
   ]
  },
  {
   "cell_type": "markdown",
   "metadata": {},
   "source": [
    "req_time, o and d are considered objets. Let's turn them into floats"
   ]
  },
  {
   "cell_type": "code",
   "execution_count": 3,
   "metadata": {},
   "outputs": [],
   "source": [
    "df_queries[['ox','oy']] = df_queries.o.str.split(\",\",expand=True,).astype(float)\n",
    "df_queries[['dx','dy']] = df_queries.d.str.split(\",\",expand=True,).astype(float)\n",
    "df_queries = df_queries.drop('o', 1)\n",
    "df_queries = df_queries.drop('d', 1)"
   ]
  },
  {
   "cell_type": "code",
   "execution_count": 11,
   "metadata": {},
   "outputs": [
    {
     "data": {
      "text/html": [
       "<div>\n",
       "<style scoped>\n",
       "    .dataframe tbody tr th:only-of-type {\n",
       "        vertical-align: middle;\n",
       "    }\n",
       "\n",
       "    .dataframe tbody tr th {\n",
       "        vertical-align: top;\n",
       "    }\n",
       "\n",
       "    .dataframe thead th {\n",
       "        text-align: right;\n",
       "    }\n",
       "</style>\n",
       "<table border=\"1\" class=\"dataframe\">\n",
       "  <thead>\n",
       "    <tr style=\"text-align: right;\">\n",
       "      <th></th>\n",
       "      <th>sid</th>\n",
       "      <th>pid</th>\n",
       "      <th>req_time</th>\n",
       "      <th>ox</th>\n",
       "      <th>oy</th>\n",
       "      <th>dx</th>\n",
       "      <th>dy</th>\n",
       "    </tr>\n",
       "  </thead>\n",
       "  <tbody>\n",
       "    <tr>\n",
       "      <th>13833</th>\n",
       "      <td>753082</td>\n",
       "      <td>101467.0</td>\n",
       "      <td>2018-10-01 00:00:10</td>\n",
       "      <td>116.34</td>\n",
       "      <td>39.90</td>\n",
       "      <td>116.34</td>\n",
       "      <td>39.90</td>\n",
       "    </tr>\n",
       "    <tr>\n",
       "      <th>397272</th>\n",
       "      <td>756507</td>\n",
       "      <td>171074.0</td>\n",
       "      <td>2018-10-01 00:00:11</td>\n",
       "      <td>116.58</td>\n",
       "      <td>39.92</td>\n",
       "      <td>116.27</td>\n",
       "      <td>40.00</td>\n",
       "    </tr>\n",
       "    <tr>\n",
       "      <th>193575</th>\n",
       "      <td>739221</td>\n",
       "      <td>141511.0</td>\n",
       "      <td>2018-10-01 00:00:22</td>\n",
       "      <td>116.50</td>\n",
       "      <td>40.03</td>\n",
       "      <td>116.42</td>\n",
       "      <td>39.84</td>\n",
       "    </tr>\n",
       "    <tr>\n",
       "      <th>153511</th>\n",
       "      <td>776916</td>\n",
       "      <td>142228.0</td>\n",
       "      <td>2018-10-01 00:00:46</td>\n",
       "      <td>116.51</td>\n",
       "      <td>39.87</td>\n",
       "      <td>116.39</td>\n",
       "      <td>39.91</td>\n",
       "    </tr>\n",
       "    <tr>\n",
       "      <th>469812</th>\n",
       "      <td>762813</td>\n",
       "      <td>106323.0</td>\n",
       "      <td>2018-10-01 00:00:47</td>\n",
       "      <td>116.35</td>\n",
       "      <td>39.98</td>\n",
       "      <td>116.35</td>\n",
       "      <td>39.98</td>\n",
       "    </tr>\n",
       "    <tr>\n",
       "      <th>356571</th>\n",
       "      <td>767905</td>\n",
       "      <td>108389.0</td>\n",
       "      <td>2018-10-01 00:00:50</td>\n",
       "      <td>116.43</td>\n",
       "      <td>39.97</td>\n",
       "      <td>116.39</td>\n",
       "      <td>39.91</td>\n",
       "    </tr>\n",
       "    <tr>\n",
       "      <th>275749</th>\n",
       "      <td>734837</td>\n",
       "      <td>102535.0</td>\n",
       "      <td>2018-10-01 00:00:55</td>\n",
       "      <td>116.57</td>\n",
       "      <td>40.01</td>\n",
       "      <td>116.39</td>\n",
       "      <td>39.91</td>\n",
       "    </tr>\n",
       "    <tr>\n",
       "      <th>279000</th>\n",
       "      <td>735700</td>\n",
       "      <td>207027.0</td>\n",
       "      <td>2018-10-01 00:01:47</td>\n",
       "      <td>116.25</td>\n",
       "      <td>39.92</td>\n",
       "      <td>116.00</td>\n",
       "      <td>40.35</td>\n",
       "    </tr>\n",
       "    <tr>\n",
       "      <th>354178</th>\n",
       "      <td>782126</td>\n",
       "      <td>NaN</td>\n",
       "      <td>2018-10-01 00:02:04</td>\n",
       "      <td>116.33</td>\n",
       "      <td>39.92</td>\n",
       "      <td>116.43</td>\n",
       "      <td>39.94</td>\n",
       "    </tr>\n",
       "    <tr>\n",
       "      <th>341136</th>\n",
       "      <td>773765</td>\n",
       "      <td>172900.0</td>\n",
       "      <td>2018-10-01 00:02:23</td>\n",
       "      <td>116.26</td>\n",
       "      <td>39.89</td>\n",
       "      <td>116.39</td>\n",
       "      <td>39.90</td>\n",
       "    </tr>\n",
       "    <tr>\n",
       "      <th>354</th>\n",
       "      <td>756028</td>\n",
       "      <td>192310.0</td>\n",
       "      <td>2018-10-01 00:02:57</td>\n",
       "      <td>116.59</td>\n",
       "      <td>40.08</td>\n",
       "      <td>116.47</td>\n",
       "      <td>39.93</td>\n",
       "    </tr>\n",
       "    <tr>\n",
       "      <th>103801</th>\n",
       "      <td>739814</td>\n",
       "      <td>180300.0</td>\n",
       "      <td>2018-10-01 00:03:04</td>\n",
       "      <td>116.37</td>\n",
       "      <td>39.89</td>\n",
       "      <td>116.39</td>\n",
       "      <td>39.79</td>\n",
       "    </tr>\n",
       "    <tr>\n",
       "      <th>439317</th>\n",
       "      <td>748870</td>\n",
       "      <td>141919.0</td>\n",
       "      <td>2018-10-01 00:03:36</td>\n",
       "      <td>116.03</td>\n",
       "      <td>39.77</td>\n",
       "      <td>116.44</td>\n",
       "      <td>39.93</td>\n",
       "    </tr>\n",
       "    <tr>\n",
       "      <th>102364</th>\n",
       "      <td>757156</td>\n",
       "      <td>NaN</td>\n",
       "      <td>2018-10-01 00:03:37</td>\n",
       "      <td>116.42</td>\n",
       "      <td>39.85</td>\n",
       "      <td>116.47</td>\n",
       "      <td>39.90</td>\n",
       "    </tr>\n",
       "    <tr>\n",
       "      <th>269669</th>\n",
       "      <td>751300</td>\n",
       "      <td>NaN</td>\n",
       "      <td>2018-10-01 00:03:41</td>\n",
       "      <td>116.34</td>\n",
       "      <td>39.98</td>\n",
       "      <td>116.39</td>\n",
       "      <td>39.91</td>\n",
       "    </tr>\n",
       "    <tr>\n",
       "      <th>311274</th>\n",
       "      <td>776790</td>\n",
       "      <td>NaN</td>\n",
       "      <td>2018-10-01 00:04:06</td>\n",
       "      <td>116.54</td>\n",
       "      <td>40.08</td>\n",
       "      <td>116.54</td>\n",
       "      <td>40.08</td>\n",
       "    </tr>\n",
       "    <tr>\n",
       "      <th>39791</th>\n",
       "      <td>769961</td>\n",
       "      <td>198462.0</td>\n",
       "      <td>2018-10-01 00:04:07</td>\n",
       "      <td>116.31</td>\n",
       "      <td>39.89</td>\n",
       "      <td>116.37</td>\n",
       "      <td>39.86</td>\n",
       "    </tr>\n",
       "    <tr>\n",
       "      <th>131928</th>\n",
       "      <td>744494</td>\n",
       "      <td>130307.0</td>\n",
       "      <td>2018-10-01 00:04:35</td>\n",
       "      <td>116.23</td>\n",
       "      <td>40.21</td>\n",
       "      <td>116.40</td>\n",
       "      <td>39.88</td>\n",
       "    </tr>\n",
       "    <tr>\n",
       "      <th>285678</th>\n",
       "      <td>723719</td>\n",
       "      <td>NaN</td>\n",
       "      <td>2018-10-01 00:04:35</td>\n",
       "      <td>116.27</td>\n",
       "      <td>40.16</td>\n",
       "      <td>116.61</td>\n",
       "      <td>40.07</td>\n",
       "    </tr>\n",
       "    <tr>\n",
       "      <th>474679</th>\n",
       "      <td>743080</td>\n",
       "      <td>176012.0</td>\n",
       "      <td>2018-10-01 00:05:34</td>\n",
       "      <td>116.32</td>\n",
       "      <td>39.73</td>\n",
       "      <td>116.38</td>\n",
       "      <td>40.00</td>\n",
       "    </tr>\n",
       "    <tr>\n",
       "      <th>52470</th>\n",
       "      <td>724369</td>\n",
       "      <td>160040.0</td>\n",
       "      <td>2018-10-01 00:05:59</td>\n",
       "      <td>116.56</td>\n",
       "      <td>40.10</td>\n",
       "      <td>116.38</td>\n",
       "      <td>39.84</td>\n",
       "    </tr>\n",
       "    <tr>\n",
       "      <th>322150</th>\n",
       "      <td>771205</td>\n",
       "      <td>181683.0</td>\n",
       "      <td>2018-10-01 00:06:18</td>\n",
       "      <td>116.66</td>\n",
       "      <td>39.93</td>\n",
       "      <td>116.42</td>\n",
       "      <td>39.98</td>\n",
       "    </tr>\n",
       "    <tr>\n",
       "      <th>126903</th>\n",
       "      <td>743051</td>\n",
       "      <td>126394.0</td>\n",
       "      <td>2018-10-01 00:06:26</td>\n",
       "      <td>116.44</td>\n",
       "      <td>39.88</td>\n",
       "      <td>116.39</td>\n",
       "      <td>39.90</td>\n",
       "    </tr>\n",
       "    <tr>\n",
       "      <th>360131</th>\n",
       "      <td>780009</td>\n",
       "      <td>158290.0</td>\n",
       "      <td>2018-10-01 00:06:36</td>\n",
       "      <td>116.45</td>\n",
       "      <td>39.94</td>\n",
       "      <td>116.45</td>\n",
       "      <td>39.93</td>\n",
       "    </tr>\n",
       "    <tr>\n",
       "      <th>477490</th>\n",
       "      <td>766981</td>\n",
       "      <td>NaN</td>\n",
       "      <td>2018-10-01 00:06:53</td>\n",
       "      <td>116.31</td>\n",
       "      <td>40.09</td>\n",
       "      <td>116.60</td>\n",
       "      <td>40.08</td>\n",
       "    </tr>\n",
       "    <tr>\n",
       "      <th>117283</th>\n",
       "      <td>771578</td>\n",
       "      <td>134873.0</td>\n",
       "      <td>2018-10-01 00:07:00</td>\n",
       "      <td>116.28</td>\n",
       "      <td>40.03</td>\n",
       "      <td>116.32</td>\n",
       "      <td>39.89</td>\n",
       "    </tr>\n",
       "    <tr>\n",
       "      <th>155292</th>\n",
       "      <td>731678</td>\n",
       "      <td>NaN</td>\n",
       "      <td>2018-10-01 00:07:02</td>\n",
       "      <td>116.18</td>\n",
       "      <td>39.73</td>\n",
       "      <td>116.34</td>\n",
       "      <td>39.82</td>\n",
       "    </tr>\n",
       "    <tr>\n",
       "      <th>380137</th>\n",
       "      <td>773420</td>\n",
       "      <td>NaN</td>\n",
       "      <td>2018-10-01 00:07:49</td>\n",
       "      <td>116.56</td>\n",
       "      <td>39.92</td>\n",
       "      <td>115.99</td>\n",
       "      <td>40.35</td>\n",
       "    </tr>\n",
       "    <tr>\n",
       "      <th>389060</th>\n",
       "      <td>746936</td>\n",
       "      <td>127399.0</td>\n",
       "      <td>2018-10-01 00:08:03</td>\n",
       "      <td>116.26</td>\n",
       "      <td>40.05</td>\n",
       "      <td>116.39</td>\n",
       "      <td>39.90</td>\n",
       "    </tr>\n",
       "    <tr>\n",
       "      <th>432052</th>\n",
       "      <td>752149</td>\n",
       "      <td>123303.0</td>\n",
       "      <td>2018-10-01 00:08:58</td>\n",
       "      <td>116.32</td>\n",
       "      <td>40.06</td>\n",
       "      <td>116.39</td>\n",
       "      <td>39.91</td>\n",
       "    </tr>\n",
       "    <tr>\n",
       "      <th>...</th>\n",
       "      <td>...</td>\n",
       "      <td>...</td>\n",
       "      <td>...</td>\n",
       "      <td>...</td>\n",
       "      <td>...</td>\n",
       "      <td>...</td>\n",
       "      <td>...</td>\n",
       "    </tr>\n",
       "    <tr>\n",
       "      <th>452295</th>\n",
       "      <td>2428505</td>\n",
       "      <td>NaN</td>\n",
       "      <td>2018-11-30 23:45:43</td>\n",
       "      <td>116.46</td>\n",
       "      <td>39.92</td>\n",
       "      <td>116.41</td>\n",
       "      <td>39.96</td>\n",
       "    </tr>\n",
       "    <tr>\n",
       "      <th>263596</th>\n",
       "      <td>2473888</td>\n",
       "      <td>203167.0</td>\n",
       "      <td>2018-11-30 23:45:52</td>\n",
       "      <td>116.33</td>\n",
       "      <td>39.89</td>\n",
       "      <td>116.20</td>\n",
       "      <td>39.83</td>\n",
       "    </tr>\n",
       "    <tr>\n",
       "      <th>74387</th>\n",
       "      <td>2469502</td>\n",
       "      <td>NaN</td>\n",
       "      <td>2018-11-30 23:46:05</td>\n",
       "      <td>116.43</td>\n",
       "      <td>39.90</td>\n",
       "      <td>116.41</td>\n",
       "      <td>39.90</td>\n",
       "    </tr>\n",
       "    <tr>\n",
       "      <th>237692</th>\n",
       "      <td>2439999</td>\n",
       "      <td>129567.0</td>\n",
       "      <td>2018-11-30 23:46:14</td>\n",
       "      <td>116.40</td>\n",
       "      <td>39.91</td>\n",
       "      <td>116.28</td>\n",
       "      <td>40.15</td>\n",
       "    </tr>\n",
       "    <tr>\n",
       "      <th>99387</th>\n",
       "      <td>2473531</td>\n",
       "      <td>NaN</td>\n",
       "      <td>2018-11-30 23:46:34</td>\n",
       "      <td>116.28</td>\n",
       "      <td>39.83</td>\n",
       "      <td>116.33</td>\n",
       "      <td>39.85</td>\n",
       "    </tr>\n",
       "    <tr>\n",
       "      <th>40844</th>\n",
       "      <td>2456703</td>\n",
       "      <td>154006.0</td>\n",
       "      <td>2018-11-30 23:47:58</td>\n",
       "      <td>116.39</td>\n",
       "      <td>39.97</td>\n",
       "      <td>116.50</td>\n",
       "      <td>39.98</td>\n",
       "    </tr>\n",
       "    <tr>\n",
       "      <th>271623</th>\n",
       "      <td>2443785</td>\n",
       "      <td>NaN</td>\n",
       "      <td>2018-11-30 23:50:35</td>\n",
       "      <td>116.46</td>\n",
       "      <td>40.00</td>\n",
       "      <td>116.32</td>\n",
       "      <td>40.00</td>\n",
       "    </tr>\n",
       "    <tr>\n",
       "      <th>8834</th>\n",
       "      <td>2438961</td>\n",
       "      <td>NaN</td>\n",
       "      <td>2018-11-30 23:51:17</td>\n",
       "      <td>116.29</td>\n",
       "      <td>40.14</td>\n",
       "      <td>116.49</td>\n",
       "      <td>39.98</td>\n",
       "    </tr>\n",
       "    <tr>\n",
       "      <th>135663</th>\n",
       "      <td>2449122</td>\n",
       "      <td>126694.0</td>\n",
       "      <td>2018-11-30 23:52:09</td>\n",
       "      <td>116.16</td>\n",
       "      <td>39.76</td>\n",
       "      <td>116.16</td>\n",
       "      <td>39.76</td>\n",
       "    </tr>\n",
       "    <tr>\n",
       "      <th>463898</th>\n",
       "      <td>2445995</td>\n",
       "      <td>202427.0</td>\n",
       "      <td>2018-11-30 23:52:34</td>\n",
       "      <td>116.14</td>\n",
       "      <td>40.25</td>\n",
       "      <td>116.28</td>\n",
       "      <td>40.10</td>\n",
       "    </tr>\n",
       "    <tr>\n",
       "      <th>189304</th>\n",
       "      <td>2437440</td>\n",
       "      <td>159340.0</td>\n",
       "      <td>2018-11-30 23:53:30</td>\n",
       "      <td>116.47</td>\n",
       "      <td>39.91</td>\n",
       "      <td>116.41</td>\n",
       "      <td>39.91</td>\n",
       "    </tr>\n",
       "    <tr>\n",
       "      <th>1159</th>\n",
       "      <td>2427689</td>\n",
       "      <td>109311.0</td>\n",
       "      <td>2018-11-30 23:53:31</td>\n",
       "      <td>116.31</td>\n",
       "      <td>39.94</td>\n",
       "      <td>116.36</td>\n",
       "      <td>39.89</td>\n",
       "    </tr>\n",
       "    <tr>\n",
       "      <th>226698</th>\n",
       "      <td>2450422</td>\n",
       "      <td>211214.0</td>\n",
       "      <td>2018-11-30 23:54:18</td>\n",
       "      <td>116.53</td>\n",
       "      <td>39.78</td>\n",
       "      <td>116.37</td>\n",
       "      <td>39.86</td>\n",
       "    </tr>\n",
       "    <tr>\n",
       "      <th>495476</th>\n",
       "      <td>2465027</td>\n",
       "      <td>NaN</td>\n",
       "      <td>2018-11-30 23:54:25</td>\n",
       "      <td>116.47</td>\n",
       "      <td>39.88</td>\n",
       "      <td>116.37</td>\n",
       "      <td>39.86</td>\n",
       "    </tr>\n",
       "    <tr>\n",
       "      <th>12960</th>\n",
       "      <td>2431063</td>\n",
       "      <td>203718.0</td>\n",
       "      <td>2018-11-30 23:55:05</td>\n",
       "      <td>116.64</td>\n",
       "      <td>39.90</td>\n",
       "      <td>116.43</td>\n",
       "      <td>39.92</td>\n",
       "    </tr>\n",
       "    <tr>\n",
       "      <th>213593</th>\n",
       "      <td>2427692</td>\n",
       "      <td>109311.0</td>\n",
       "      <td>2018-11-30 23:55:15</td>\n",
       "      <td>116.31</td>\n",
       "      <td>39.94</td>\n",
       "      <td>116.30</td>\n",
       "      <td>39.94</td>\n",
       "    </tr>\n",
       "    <tr>\n",
       "      <th>252960</th>\n",
       "      <td>2459373</td>\n",
       "      <td>NaN</td>\n",
       "      <td>2018-11-30 23:55:21</td>\n",
       "      <td>116.51</td>\n",
       "      <td>39.89</td>\n",
       "      <td>116.65</td>\n",
       "      <td>40.13</td>\n",
       "    </tr>\n",
       "    <tr>\n",
       "      <th>72257</th>\n",
       "      <td>2471134</td>\n",
       "      <td>206313.0</td>\n",
       "      <td>2018-11-30 23:55:22</td>\n",
       "      <td>116.44</td>\n",
       "      <td>39.92</td>\n",
       "      <td>116.43</td>\n",
       "      <td>39.98</td>\n",
       "    </tr>\n",
       "    <tr>\n",
       "      <th>417152</th>\n",
       "      <td>2427225</td>\n",
       "      <td>120344.0</td>\n",
       "      <td>2018-11-30 23:55:56</td>\n",
       "      <td>116.21</td>\n",
       "      <td>40.06</td>\n",
       "      <td>116.47</td>\n",
       "      <td>39.91</td>\n",
       "    </tr>\n",
       "    <tr>\n",
       "      <th>310585</th>\n",
       "      <td>2446716</td>\n",
       "      <td>207242.0</td>\n",
       "      <td>2018-11-30 23:56:20</td>\n",
       "      <td>116.34</td>\n",
       "      <td>39.92</td>\n",
       "      <td>116.31</td>\n",
       "      <td>39.91</td>\n",
       "    </tr>\n",
       "    <tr>\n",
       "      <th>277177</th>\n",
       "      <td>2454292</td>\n",
       "      <td>NaN</td>\n",
       "      <td>2018-11-30 23:57:13</td>\n",
       "      <td>116.30</td>\n",
       "      <td>40.04</td>\n",
       "      <td>116.37</td>\n",
       "      <td>39.91</td>\n",
       "    </tr>\n",
       "    <tr>\n",
       "      <th>277531</th>\n",
       "      <td>2459161</td>\n",
       "      <td>112983.0</td>\n",
       "      <td>2018-11-30 23:57:29</td>\n",
       "      <td>116.46</td>\n",
       "      <td>39.84</td>\n",
       "      <td>116.61</td>\n",
       "      <td>40.07</td>\n",
       "    </tr>\n",
       "    <tr>\n",
       "      <th>97311</th>\n",
       "      <td>2442116</td>\n",
       "      <td>NaN</td>\n",
       "      <td>2018-11-30 23:57:50</td>\n",
       "      <td>116.08</td>\n",
       "      <td>39.68</td>\n",
       "      <td>116.09</td>\n",
       "      <td>39.66</td>\n",
       "    </tr>\n",
       "    <tr>\n",
       "      <th>230108</th>\n",
       "      <td>2436699</td>\n",
       "      <td>203732.0</td>\n",
       "      <td>2018-11-30 23:57:51</td>\n",
       "      <td>116.59</td>\n",
       "      <td>39.91</td>\n",
       "      <td>116.54</td>\n",
       "      <td>39.88</td>\n",
       "    </tr>\n",
       "    <tr>\n",
       "      <th>330612</th>\n",
       "      <td>2449642</td>\n",
       "      <td>169607.0</td>\n",
       "      <td>2018-11-30 23:58:04</td>\n",
       "      <td>116.30</td>\n",
       "      <td>40.11</td>\n",
       "      <td>116.11</td>\n",
       "      <td>40.09</td>\n",
       "    </tr>\n",
       "    <tr>\n",
       "      <th>56656</th>\n",
       "      <td>2471152</td>\n",
       "      <td>108678.0</td>\n",
       "      <td>2018-11-30 23:58:07</td>\n",
       "      <td>116.46</td>\n",
       "      <td>39.89</td>\n",
       "      <td>116.47</td>\n",
       "      <td>39.96</td>\n",
       "    </tr>\n",
       "    <tr>\n",
       "      <th>200965</th>\n",
       "      <td>2446240</td>\n",
       "      <td>157196.0</td>\n",
       "      <td>2018-11-30 23:58:45</td>\n",
       "      <td>116.30</td>\n",
       "      <td>39.94</td>\n",
       "      <td>116.61</td>\n",
       "      <td>40.05</td>\n",
       "    </tr>\n",
       "    <tr>\n",
       "      <th>491195</th>\n",
       "      <td>2452228</td>\n",
       "      <td>NaN</td>\n",
       "      <td>2018-11-30 23:59:11</td>\n",
       "      <td>116.61</td>\n",
       "      <td>39.92</td>\n",
       "      <td>116.68</td>\n",
       "      <td>39.93</td>\n",
       "    </tr>\n",
       "    <tr>\n",
       "      <th>262279</th>\n",
       "      <td>2436054</td>\n",
       "      <td>158949.0</td>\n",
       "      <td>2018-11-30 23:59:16</td>\n",
       "      <td>116.55</td>\n",
       "      <td>40.00</td>\n",
       "      <td>116.47</td>\n",
       "      <td>39.93</td>\n",
       "    </tr>\n",
       "    <tr>\n",
       "      <th>373295</th>\n",
       "      <td>2454528</td>\n",
       "      <td>NaN</td>\n",
       "      <td>2018-11-30 23:59:17</td>\n",
       "      <td>116.30</td>\n",
       "      <td>40.04</td>\n",
       "      <td>116.37</td>\n",
       "      <td>39.91</td>\n",
       "    </tr>\n",
       "  </tbody>\n",
       "</table>\n",
       "<p>500000 rows × 7 columns</p>\n",
       "</div>"
      ],
      "text/plain": [
       "            sid       pid             req_time      ox     oy      dx     dy\n",
       "13833    753082  101467.0  2018-10-01 00:00:10  116.34  39.90  116.34  39.90\n",
       "397272   756507  171074.0  2018-10-01 00:00:11  116.58  39.92  116.27  40.00\n",
       "193575   739221  141511.0  2018-10-01 00:00:22  116.50  40.03  116.42  39.84\n",
       "153511   776916  142228.0  2018-10-01 00:00:46  116.51  39.87  116.39  39.91\n",
       "469812   762813  106323.0  2018-10-01 00:00:47  116.35  39.98  116.35  39.98\n",
       "356571   767905  108389.0  2018-10-01 00:00:50  116.43  39.97  116.39  39.91\n",
       "275749   734837  102535.0  2018-10-01 00:00:55  116.57  40.01  116.39  39.91\n",
       "279000   735700  207027.0  2018-10-01 00:01:47  116.25  39.92  116.00  40.35\n",
       "354178   782126       NaN  2018-10-01 00:02:04  116.33  39.92  116.43  39.94\n",
       "341136   773765  172900.0  2018-10-01 00:02:23  116.26  39.89  116.39  39.90\n",
       "354      756028  192310.0  2018-10-01 00:02:57  116.59  40.08  116.47  39.93\n",
       "103801   739814  180300.0  2018-10-01 00:03:04  116.37  39.89  116.39  39.79\n",
       "439317   748870  141919.0  2018-10-01 00:03:36  116.03  39.77  116.44  39.93\n",
       "102364   757156       NaN  2018-10-01 00:03:37  116.42  39.85  116.47  39.90\n",
       "269669   751300       NaN  2018-10-01 00:03:41  116.34  39.98  116.39  39.91\n",
       "311274   776790       NaN  2018-10-01 00:04:06  116.54  40.08  116.54  40.08\n",
       "39791    769961  198462.0  2018-10-01 00:04:07  116.31  39.89  116.37  39.86\n",
       "131928   744494  130307.0  2018-10-01 00:04:35  116.23  40.21  116.40  39.88\n",
       "285678   723719       NaN  2018-10-01 00:04:35  116.27  40.16  116.61  40.07\n",
       "474679   743080  176012.0  2018-10-01 00:05:34  116.32  39.73  116.38  40.00\n",
       "52470    724369  160040.0  2018-10-01 00:05:59  116.56  40.10  116.38  39.84\n",
       "322150   771205  181683.0  2018-10-01 00:06:18  116.66  39.93  116.42  39.98\n",
       "126903   743051  126394.0  2018-10-01 00:06:26  116.44  39.88  116.39  39.90\n",
       "360131   780009  158290.0  2018-10-01 00:06:36  116.45  39.94  116.45  39.93\n",
       "477490   766981       NaN  2018-10-01 00:06:53  116.31  40.09  116.60  40.08\n",
       "117283   771578  134873.0  2018-10-01 00:07:00  116.28  40.03  116.32  39.89\n",
       "155292   731678       NaN  2018-10-01 00:07:02  116.18  39.73  116.34  39.82\n",
       "380137   773420       NaN  2018-10-01 00:07:49  116.56  39.92  115.99  40.35\n",
       "389060   746936  127399.0  2018-10-01 00:08:03  116.26  40.05  116.39  39.90\n",
       "432052   752149  123303.0  2018-10-01 00:08:58  116.32  40.06  116.39  39.91\n",
       "...         ...       ...                  ...     ...    ...     ...    ...\n",
       "452295  2428505       NaN  2018-11-30 23:45:43  116.46  39.92  116.41  39.96\n",
       "263596  2473888  203167.0  2018-11-30 23:45:52  116.33  39.89  116.20  39.83\n",
       "74387   2469502       NaN  2018-11-30 23:46:05  116.43  39.90  116.41  39.90\n",
       "237692  2439999  129567.0  2018-11-30 23:46:14  116.40  39.91  116.28  40.15\n",
       "99387   2473531       NaN  2018-11-30 23:46:34  116.28  39.83  116.33  39.85\n",
       "40844   2456703  154006.0  2018-11-30 23:47:58  116.39  39.97  116.50  39.98\n",
       "271623  2443785       NaN  2018-11-30 23:50:35  116.46  40.00  116.32  40.00\n",
       "8834    2438961       NaN  2018-11-30 23:51:17  116.29  40.14  116.49  39.98\n",
       "135663  2449122  126694.0  2018-11-30 23:52:09  116.16  39.76  116.16  39.76\n",
       "463898  2445995  202427.0  2018-11-30 23:52:34  116.14  40.25  116.28  40.10\n",
       "189304  2437440  159340.0  2018-11-30 23:53:30  116.47  39.91  116.41  39.91\n",
       "1159    2427689  109311.0  2018-11-30 23:53:31  116.31  39.94  116.36  39.89\n",
       "226698  2450422  211214.0  2018-11-30 23:54:18  116.53  39.78  116.37  39.86\n",
       "495476  2465027       NaN  2018-11-30 23:54:25  116.47  39.88  116.37  39.86\n",
       "12960   2431063  203718.0  2018-11-30 23:55:05  116.64  39.90  116.43  39.92\n",
       "213593  2427692  109311.0  2018-11-30 23:55:15  116.31  39.94  116.30  39.94\n",
       "252960  2459373       NaN  2018-11-30 23:55:21  116.51  39.89  116.65  40.13\n",
       "72257   2471134  206313.0  2018-11-30 23:55:22  116.44  39.92  116.43  39.98\n",
       "417152  2427225  120344.0  2018-11-30 23:55:56  116.21  40.06  116.47  39.91\n",
       "310585  2446716  207242.0  2018-11-30 23:56:20  116.34  39.92  116.31  39.91\n",
       "277177  2454292       NaN  2018-11-30 23:57:13  116.30  40.04  116.37  39.91\n",
       "277531  2459161  112983.0  2018-11-30 23:57:29  116.46  39.84  116.61  40.07\n",
       "97311   2442116       NaN  2018-11-30 23:57:50  116.08  39.68  116.09  39.66\n",
       "230108  2436699  203732.0  2018-11-30 23:57:51  116.59  39.91  116.54  39.88\n",
       "330612  2449642  169607.0  2018-11-30 23:58:04  116.30  40.11  116.11  40.09\n",
       "56656   2471152  108678.0  2018-11-30 23:58:07  116.46  39.89  116.47  39.96\n",
       "200965  2446240  157196.0  2018-11-30 23:58:45  116.30  39.94  116.61  40.05\n",
       "491195  2452228       NaN  2018-11-30 23:59:11  116.61  39.92  116.68  39.93\n",
       "262279  2436054  158949.0  2018-11-30 23:59:16  116.55  40.00  116.47  39.93\n",
       "373295  2454528       NaN  2018-11-30 23:59:17  116.30  40.04  116.37  39.91\n",
       "\n",
       "[500000 rows x 7 columns]"
      ]
     },
     "execution_count": 11,
     "metadata": {},
     "output_type": "execute_result"
    }
   ],
   "source": [
    "df_queries.sort_values('req_time')"
   ]
  },
  {
   "cell_type": "code",
   "execution_count": 8,
   "metadata": {},
   "outputs": [],
   "source": [
    "df_queries['req_time'] = pd.to_datetime(df_queries['req_time'])\n",
    "df_queries['day_of_week'] = df_queries['req_time'].dt.day_name()\n",
    "df_queries['req_date'] = df_queries['req_time'].dt.strftime('%m-%d')\n",
    "df_queries['req_hour'] = df_queries['req_time'].dt.hour\n",
    "df_queries['req_minute'] = df_queries['req_time'].dt.minute"
   ]
  },
  {
   "cell_type": "code",
   "execution_count": 9,
   "metadata": {},
   "outputs": [
    {
     "data": {
      "text/html": [
       "<div>\n",
       "<style scoped>\n",
       "    .dataframe tbody tr th:only-of-type {\n",
       "        vertical-align: middle;\n",
       "    }\n",
       "\n",
       "    .dataframe tbody tr th {\n",
       "        vertical-align: top;\n",
       "    }\n",
       "\n",
       "    .dataframe thead th {\n",
       "        text-align: right;\n",
       "    }\n",
       "</style>\n",
       "<table border=\"1\" class=\"dataframe\">\n",
       "  <thead>\n",
       "    <tr style=\"text-align: right;\">\n",
       "      <th></th>\n",
       "      <th>sid</th>\n",
       "      <th>pid</th>\n",
       "      <th>req_time</th>\n",
       "      <th>ox</th>\n",
       "      <th>oy</th>\n",
       "      <th>dx</th>\n",
       "      <th>dy</th>\n",
       "      <th>day_of_week</th>\n",
       "      <th>req_date</th>\n",
       "      <th>req_hour</th>\n",
       "      <th>req_minute</th>\n",
       "    </tr>\n",
       "  </thead>\n",
       "  <tbody>\n",
       "    <tr>\n",
       "      <th>314521</th>\n",
       "      <td>2163093</td>\n",
       "      <td>100266.0</td>\n",
       "      <td>2018-10-19 16:16:45</td>\n",
       "      <td>116.61</td>\n",
       "      <td>39.92</td>\n",
       "      <td>116.61</td>\n",
       "      <td>39.92</td>\n",
       "      <td>Friday</td>\n",
       "      <td>10-19</td>\n",
       "      <td>16</td>\n",
       "      <td>16</td>\n",
       "    </tr>\n",
       "    <tr>\n",
       "      <th>197699</th>\n",
       "      <td>1082862</td>\n",
       "      <td>NaN</td>\n",
       "      <td>2018-11-08 15:30:39</td>\n",
       "      <td>116.09</td>\n",
       "      <td>39.94</td>\n",
       "      <td>116.17</td>\n",
       "      <td>39.92</td>\n",
       "      <td>Thursday</td>\n",
       "      <td>11-08</td>\n",
       "      <td>15</td>\n",
       "      <td>30</td>\n",
       "    </tr>\n",
       "    <tr>\n",
       "      <th>302766</th>\n",
       "      <td>1640820</td>\n",
       "      <td>161001.0</td>\n",
       "      <td>2018-10-03 13:44:00</td>\n",
       "      <td>116.37</td>\n",
       "      <td>39.91</td>\n",
       "      <td>116.39</td>\n",
       "      <td>39.91</td>\n",
       "      <td>Wednesday</td>\n",
       "      <td>10-03</td>\n",
       "      <td>13</td>\n",
       "      <td>44</td>\n",
       "    </tr>\n",
       "    <tr>\n",
       "      <th>325118</th>\n",
       "      <td>2767249</td>\n",
       "      <td>NaN</td>\n",
       "      <td>2018-10-18 16:33:25</td>\n",
       "      <td>116.37</td>\n",
       "      <td>39.86</td>\n",
       "      <td>116.35</td>\n",
       "      <td>39.87</td>\n",
       "      <td>Thursday</td>\n",
       "      <td>10-18</td>\n",
       "      <td>16</td>\n",
       "      <td>33</td>\n",
       "    </tr>\n",
       "    <tr>\n",
       "      <th>364749</th>\n",
       "      <td>1607562</td>\n",
       "      <td>166088.0</td>\n",
       "      <td>2018-10-03 11:33:17</td>\n",
       "      <td>116.31</td>\n",
       "      <td>39.89</td>\n",
       "      <td>116.33</td>\n",
       "      <td>39.94</td>\n",
       "      <td>Wednesday</td>\n",
       "      <td>10-03</td>\n",
       "      <td>11</td>\n",
       "      <td>33</td>\n",
       "    </tr>\n",
       "  </tbody>\n",
       "</table>\n",
       "</div>"
      ],
      "text/plain": [
       "            sid       pid            req_time      ox     oy      dx     dy  \\\n",
       "314521  2163093  100266.0 2018-10-19 16:16:45  116.61  39.92  116.61  39.92   \n",
       "197699  1082862       NaN 2018-11-08 15:30:39  116.09  39.94  116.17  39.92   \n",
       "302766  1640820  161001.0 2018-10-03 13:44:00  116.37  39.91  116.39  39.91   \n",
       "325118  2767249       NaN 2018-10-18 16:33:25  116.37  39.86  116.35  39.87   \n",
       "364749  1607562  166088.0 2018-10-03 11:33:17  116.31  39.89  116.33  39.94   \n",
       "\n",
       "       day_of_week req_date  req_hour  req_minute  \n",
       "314521      Friday    10-19        16          16  \n",
       "197699    Thursday    11-08        15          30  \n",
       "302766   Wednesday    10-03        13          44  \n",
       "325118    Thursday    10-18        16          33  \n",
       "364749   Wednesday    10-03        11          33  "
      ]
     },
     "execution_count": 9,
     "metadata": {},
     "output_type": "execute_result"
    }
   ],
   "source": [
    "df_queries.sample(5)"
   ]
  },
  {
   "cell_type": "code",
   "execution_count": null,
   "metadata": {},
   "outputs": [],
   "source": []
  },
  {
   "cell_type": "code",
   "execution_count": 8,
   "metadata": {},
   "outputs": [],
   "source": [
    "reg_day = re.compile(\"-(\\d\\d) \")\n",
    "reg_month = re.compile(\"-(\\d\\d)-\")\n",
    "def preprocess_time(row):\n",
    "    day = int(reg_day.search(row.req_time).group(1))\n",
    "    month = int(reg_month.search(row.req_time).group(1))\n",
    "    if month > firstmonth:\n",
    "        day += 30*(month - firstmonth)\n",
    "    return day"
   ]
  },
  {
   "cell_type": "code",
   "execution_count": 9,
   "metadata": {},
   "outputs": [],
   "source": [
    "firstmonth = 10\n",
    "df_queries['req_time'] = df_queries.apply(preprocess_time, axis=1)"
   ]
  },
  {
   "cell_type": "code",
   "execution_count": 10,
   "metadata": {},
   "outputs": [
    {
     "data": {
      "text/html": [
       "<div>\n",
       "<style scoped>\n",
       "    .dataframe tbody tr th:only-of-type {\n",
       "        vertical-align: middle;\n",
       "    }\n",
       "\n",
       "    .dataframe tbody tr th {\n",
       "        vertical-align: top;\n",
       "    }\n",
       "\n",
       "    .dataframe thead th {\n",
       "        text-align: right;\n",
       "    }\n",
       "</style>\n",
       "<table border=\"1\" class=\"dataframe\">\n",
       "  <thead>\n",
       "    <tr style=\"text-align: right;\">\n",
       "      <th></th>\n",
       "      <th>sid</th>\n",
       "      <th>pid</th>\n",
       "      <th>req_time</th>\n",
       "      <th>o</th>\n",
       "      <th>d</th>\n",
       "    </tr>\n",
       "  </thead>\n",
       "  <tbody>\n",
       "    <tr>\n",
       "      <th>208854</th>\n",
       "      <td>2026521</td>\n",
       "      <td>125147.0</td>\n",
       "      <td>14</td>\n",
       "      <td>116.28,39.96</td>\n",
       "      <td>116.26,39.94</td>\n",
       "    </tr>\n",
       "    <tr>\n",
       "      <th>216348</th>\n",
       "      <td>597374</td>\n",
       "      <td>NaN</td>\n",
       "      <td>41</td>\n",
       "      <td>116.45,39.96</td>\n",
       "      <td>116.38,39.97</td>\n",
       "    </tr>\n",
       "    <tr>\n",
       "      <th>493203</th>\n",
       "      <td>2531445</td>\n",
       "      <td>162208.0</td>\n",
       "      <td>49</td>\n",
       "      <td>116.43,39.85</td>\n",
       "      <td>116.44,39.87</td>\n",
       "    </tr>\n",
       "    <tr>\n",
       "      <th>365066</th>\n",
       "      <td>1960594</td>\n",
       "      <td>117394.0</td>\n",
       "      <td>11</td>\n",
       "      <td>116.35,39.98</td>\n",
       "      <td>116.36,39.99</td>\n",
       "    </tr>\n",
       "    <tr>\n",
       "      <th>122042</th>\n",
       "      <td>1826345</td>\n",
       "      <td>NaN</td>\n",
       "      <td>59</td>\n",
       "      <td>116.45,39.88</td>\n",
       "      <td>116.45,39.87</td>\n",
       "    </tr>\n",
       "  </tbody>\n",
       "</table>\n",
       "</div>"
      ],
      "text/plain": [
       "            sid       pid  req_time             o             d\n",
       "208854  2026521  125147.0        14  116.28,39.96  116.26,39.94\n",
       "216348   597374       NaN        41  116.45,39.96  116.38,39.97\n",
       "493203  2531445  162208.0        49  116.43,39.85  116.44,39.87\n",
       "365066  1960594  117394.0        11  116.35,39.98  116.36,39.99\n",
       "122042  1826345       NaN        59  116.45,39.88  116.45,39.87"
      ]
     },
     "execution_count": 10,
     "metadata": {},
     "output_type": "execute_result"
    }
   ],
   "source": [
    "df_sorted = df_queries.sort_values('req_time')\n",
    "df_sorted.sample(5)"
   ]
  },
  {
   "cell_type": "code",
   "execution_count": 15,
   "metadata": {},
   "outputs": [
    {
     "data": {
      "text/plain": [
       "<matplotlib.axes._subplots.AxesSubplot at 0x2305d8348d0>"
      ]
     },
     "execution_count": 15,
     "metadata": {},
     "output_type": "execute_result"
    },
    {
     "data": {
      "image/png": "[encoded data removed]",
      "text/plain": [
       "<Figure size 432x288 with 1 Axes>"
      ]
     },
     "metadata": {
      "needs_background": "light"
     },
     "output_type": "display_data"
    }
   ],
   "source": [
    "sns.countplot(df_queries.req_time)"
   ]
  },
  {
   "cell_type": "markdown",
   "metadata": {},
   "source": [
    "#### Queries per day of the week\n",
    "\n",
    "Right now we have queries per day, let's get some number for average queries every day of the week"
   ]
  },
  {
   "cell_type": "code",
   "execution_count": 18,
   "metadata": {},
   "outputs": [],
   "source": [
    "queries_day = df_queries.groupby(['req_time']).size()"
   ]
  },
  {
   "cell_type": "code",
   "execution_count": 31,
   "metadata": {},
   "outputs": [
    {
     "data": {
      "text/plain": [
       "[816, 907, 825, 695, 1224, 1129, 941]"
      ]
     },
     "execution_count": 31,
     "metadata": {},
     "output_type": "execute_result"
    }
   ],
   "source": [
    "queries_weekday = [0]*7\n",
    "num_queries_weekday = [0]*7\n",
    "\n",
    "for i, v in queries_day.items():\n",
    "    queries_weekday[(i-1) % 7] = v\n",
    "    num_queries_weekday[(i-1) % 7] += 1\n",
    "    \n",
    "for i in range(7):\n",
    "    queries_weekday[i] //= num_queries_weekday[i]\n",
    "\n",
    "queries_weekday"
   ]
  },
  {
   "cell_type": "code",
   "execution_count": 35,
   "metadata": {},
   "outputs": [
    {
     "data": {
      "text/plain": [
       "[<matplotlib.lines.Line2D at 0x1e75914a470>]"
      ]
     },
     "execution_count": 35,
     "metadata": {},
     "output_type": "execute_result"
    },
    {
     "data": {
      "image/png": "[encoded data removed]",
      "text/plain": [
       "<Figure size 432x288 with 1 Axes>"
      ]
     },
     "metadata": {
      "needs_background": "light"
     },
     "output_type": "display_data"
    }
   ],
   "source": [
    "plt.plot(queries_weekday)"
   ]
  },
  {
   "cell_type": "markdown",
   "metadata": {},
   "source": [
    "#### Statistics of df_queries\n",
    "\n",
    "More info in `reports/EDA.md`"
   ]
  },
  {
   "cell_type": "code",
   "execution_count": 16,
   "metadata": {},
   "outputs": [
    {
     "data": {
      "text/html": [
       "<div>\n",
       "<style scoped>\n",
       "    .dataframe tbody tr th:only-of-type {\n",
       "        vertical-align: middle;\n",
       "    }\n",
       "\n",
       "    .dataframe tbody tr th {\n",
       "        vertical-align: top;\n",
       "    }\n",
       "\n",
       "    .dataframe thead th {\n",
       "        text-align: right;\n",
       "    }\n",
       "</style>\n",
       "<table border=\"1\" class=\"dataframe\">\n",
       "  <thead>\n",
       "    <tr style=\"text-align: right;\">\n",
       "      <th></th>\n",
       "      <th>sid</th>\n",
       "      <th>pid</th>\n",
       "      <th>req_time</th>\n",
       "      <th>ox</th>\n",
       "      <th>oy</th>\n",
       "      <th>dx</th>\n",
       "      <th>dy</th>\n",
       "    </tr>\n",
       "  </thead>\n",
       "  <tbody>\n",
       "    <tr>\n",
       "      <th>count</th>\n",
       "      <td>5.000000e+05</td>\n",
       "      <td>336021.000000</td>\n",
       "      <td>500000.000000</td>\n",
       "      <td>500000.000000</td>\n",
       "      <td>500000.000000</td>\n",
       "      <td>500000.000000</td>\n",
       "      <td>500000.000000</td>\n",
       "    </tr>\n",
       "    <tr>\n",
       "      <th>mean</th>\n",
       "      <td>1.762560e+06</td>\n",
       "      <td>158240.721684</td>\n",
       "      <td>29.085754</td>\n",
       "      <td>116.387939</td>\n",
       "      <td>39.940147</td>\n",
       "      <td>116.384527</td>\n",
       "      <td>39.944149</td>\n",
       "    </tr>\n",
       "    <tr>\n",
       "      <th>std</th>\n",
       "      <td>1.015331e+06</td>\n",
       "      <td>33720.115235</td>\n",
       "      <td>17.464828</td>\n",
       "      <td>0.116205</td>\n",
       "      <td>0.102066</td>\n",
       "      <td>0.124920</td>\n",
       "      <td>0.109880</td>\n",
       "    </tr>\n",
       "    <tr>\n",
       "      <th>min</th>\n",
       "      <td>2.000000e+00</td>\n",
       "      <td>100000.000000</td>\n",
       "      <td>1.000000</td>\n",
       "      <td>115.470000</td>\n",
       "      <td>39.460000</td>\n",
       "      <td>115.440000</td>\n",
       "      <td>39.460000</td>\n",
       "    </tr>\n",
       "    <tr>\n",
       "      <th>25%</th>\n",
       "      <td>8.122398e+05</td>\n",
       "      <td>127774.000000</td>\n",
       "      <td>14.000000</td>\n",
       "      <td>116.320000</td>\n",
       "      <td>39.890000</td>\n",
       "      <td>116.320000</td>\n",
       "      <td>39.890000</td>\n",
       "    </tr>\n",
       "    <tr>\n",
       "      <th>50%</th>\n",
       "      <td>1.848410e+06</td>\n",
       "      <td>161617.000000</td>\n",
       "      <td>28.000000</td>\n",
       "      <td>116.380000</td>\n",
       "      <td>39.920000</td>\n",
       "      <td>116.390000</td>\n",
       "      <td>39.920000</td>\n",
       "    </tr>\n",
       "    <tr>\n",
       "      <th>75%</th>\n",
       "      <td>2.662461e+06</td>\n",
       "      <td>187360.000000</td>\n",
       "      <td>44.000000</td>\n",
       "      <td>116.440000</td>\n",
       "      <td>39.990000</td>\n",
       "      <td>116.440000</td>\n",
       "      <td>39.990000</td>\n",
       "    </tr>\n",
       "    <tr>\n",
       "      <th>max</th>\n",
       "      <td>3.396588e+06</td>\n",
       "      <td>216977.000000</td>\n",
       "      <td>60.000000</td>\n",
       "      <td>117.290000</td>\n",
       "      <td>40.970000</td>\n",
       "      <td>117.370000</td>\n",
       "      <td>40.960000</td>\n",
       "    </tr>\n",
       "  </tbody>\n",
       "</table>\n",
       "</div>"
      ],
      "text/plain": [
       "                sid            pid       req_time             ox  \\\n",
       "count  5.000000e+05  336021.000000  500000.000000  500000.000000   \n",
       "mean   1.762560e+06  158240.721684      29.085754     116.387939   \n",
       "std    1.015331e+06   33720.115235      17.464828       0.116205   \n",
       "min    2.000000e+00  100000.000000       1.000000     115.470000   \n",
       "25%    8.122398e+05  127774.000000      14.000000     116.320000   \n",
       "50%    1.848410e+06  161617.000000      28.000000     116.380000   \n",
       "75%    2.662461e+06  187360.000000      44.000000     116.440000   \n",
       "max    3.396588e+06  216977.000000      60.000000     117.290000   \n",
       "\n",
       "                  oy             dx             dy  \n",
       "count  500000.000000  500000.000000  500000.000000  \n",
       "mean       39.940147     116.384527      39.944149  \n",
       "std         0.102066       0.124920       0.109880  \n",
       "min        39.460000     115.440000      39.460000  \n",
       "25%        39.890000     116.320000      39.890000  \n",
       "50%        39.920000     116.390000      39.920000  \n",
       "75%        39.990000     116.440000      39.990000  \n",
       "max        40.970000     117.370000      40.960000  "
      ]
     },
     "execution_count": 16,
     "metadata": {},
     "output_type": "execute_result"
    }
   ],
   "source": [
    "df_queries.describe()"
   ]
  },
  {
   "cell_type": "markdown",
   "metadata": {},
   "source": [
    "#### User analysis\n",
    "\n",
    "Analyze queries made by each user"
   ]
  },
  {
   "cell_type": "code",
   "execution_count": 38,
   "metadata": {},
   "outputs": [],
   "source": [
    "df_most_pop_users = df_queries['pid'].value_counts()"
   ]
  },
  {
   "cell_type": "code",
   "execution_count": 39,
   "metadata": {},
   "outputs": [
    {
     "data": {
      "text/plain": [
       "(46191,)"
      ]
     },
     "execution_count": 39,
     "metadata": {},
     "output_type": "execute_result"
    }
   ],
   "source": [
    "# there are 46k users\n",
    "df_most_pop_users.shape"
   ]
  },
  {
   "cell_type": "code",
   "execution_count": 40,
   "metadata": {},
   "outputs": [
    {
     "data": {
      "text/plain": [
       "count    46191.000000\n",
       "mean         7.274599\n",
       "std         54.686020\n",
       "min          1.000000\n",
       "25%          1.000000\n",
       "50%          2.000000\n",
       "75%          5.000000\n",
       "max       6094.000000\n",
       "Name: pid, dtype: float64"
      ]
     },
     "execution_count": 40,
     "metadata": {},
     "output_type": "execute_result"
    }
   ],
   "source": [
    "df_most_pop_users.describe()"
   ]
  },
  {
   "cell_type": "code",
   "execution_count": 19,
   "metadata": {},
   "outputs": [
    {
     "data": {
      "image/png": "[encoded data removed]",
      "text/plain": [
       "<Figure size 432x288 with 1 Axes>"
      ]
     },
     "metadata": {
      "needs_background": "light"
     },
     "output_type": "display_data"
    }
   ],
   "source": [
    "df_most_pop_users.head(50).plot(kind='bar',x='user IDs',y='# queries',color='red')\n",
    "plt.show()"
   ]
  },
  {
   "cell_type": "code",
   "execution_count": 43,
   "metadata": {},
   "outputs": [
    {
     "data": {
      "text/plain": [
       "46191"
      ]
     },
     "execution_count": 43,
     "metadata": {},
     "output_type": "execute_result"
    }
   ],
   "source": [
    "# number of profiles with one or two queries\n",
    "df_most_pop_users[df_most_pop_users < 5].count()"
   ]
  },
  {
   "cell_type": "markdown",
   "metadata": {},
   "source": [
    "### Clicks DF"
   ]
  },
  {
   "cell_type": "code",
   "execution_count": 51,
   "metadata": {},
   "outputs": [],
   "source": [
    "df_clicks = pd.read_csv(\"../data/raw/data_set_phase1/train_clicks.csv\")"
   ]
  },
  {
   "cell_type": "code",
   "execution_count": 52,
   "metadata": {},
   "outputs": [
    {
     "data": {
      "text/plain": [
       "sid           0\n",
       "click_time    0\n",
       "click_mode    0\n",
       "dtype: int64"
      ]
     },
     "execution_count": 52,
     "metadata": {},
     "output_type": "execute_result"
    }
   ],
   "source": [
    "df_clicks.isnull().sum()"
   ]
  },
  {
   "cell_type": "code",
   "execution_count": 53,
   "metadata": {},
   "outputs": [
    {
     "data": {
      "text/plain": [
       "(453336, 3)"
      ]
     },
     "execution_count": 53,
     "metadata": {},
     "output_type": "execute_result"
    }
   ],
   "source": [
    "df_clicks.shape"
   ]
  },
  {
   "cell_type": "code",
   "execution_count": 55,
   "metadata": {},
   "outputs": [
    {
     "data": {
      "text/html": [
       "<div>\n",
       "<style scoped>\n",
       "    .dataframe tbody tr th:only-of-type {\n",
       "        vertical-align: middle;\n",
       "    }\n",
       "\n",
       "    .dataframe tbody tr th {\n",
       "        vertical-align: top;\n",
       "    }\n",
       "\n",
       "    .dataframe thead th {\n",
       "        text-align: right;\n",
       "    }\n",
       "</style>\n",
       "<table border=\"1\" class=\"dataframe\">\n",
       "  <thead>\n",
       "    <tr style=\"text-align: right;\">\n",
       "      <th></th>\n",
       "      <th>sid</th>\n",
       "      <th>click_time</th>\n",
       "      <th>click_mode</th>\n",
       "    </tr>\n",
       "  </thead>\n",
       "  <tbody>\n",
       "    <tr>\n",
       "      <th>189493</th>\n",
       "      <td>475347</td>\n",
       "      <td>2018-11-09 10:21:24</td>\n",
       "      <td>2</td>\n",
       "    </tr>\n",
       "    <tr>\n",
       "      <th>364951</th>\n",
       "      <td>130367</td>\n",
       "      <td>2018-10-08 18:01:04</td>\n",
       "      <td>9</td>\n",
       "    </tr>\n",
       "    <tr>\n",
       "      <th>224640</th>\n",
       "      <td>787738</td>\n",
       "      <td>2018-10-01 13:10:26</td>\n",
       "      <td>7</td>\n",
       "    </tr>\n",
       "    <tr>\n",
       "      <th>308882</th>\n",
       "      <td>1552263</td>\n",
       "      <td>2018-11-28 22:08:52</td>\n",
       "      <td>11</td>\n",
       "    </tr>\n",
       "    <tr>\n",
       "      <th>209797</th>\n",
       "      <td>41066</td>\n",
       "      <td>2018-11-10 20:12:30</td>\n",
       "      <td>7</td>\n",
       "    </tr>\n",
       "  </tbody>\n",
       "</table>\n",
       "</div>"
      ],
      "text/plain": [
       "            sid           click_time  click_mode\n",
       "189493   475347  2018-11-09 10:21:24           2\n",
       "364951   130367  2018-10-08 18:01:04           9\n",
       "224640   787738  2018-10-01 13:10:26           7\n",
       "308882  1552263  2018-11-28 22:08:52          11\n",
       "209797    41066  2018-11-10 20:12:30           7"
      ]
     },
     "execution_count": 55,
     "metadata": {},
     "output_type": "execute_result"
    }
   ],
   "source": [
    "df_clicks.sample(5)"
   ]
  },
  {
   "cell_type": "code",
   "execution_count": 56,
   "metadata": {},
   "outputs": [
    {
     "data": {
      "text/plain": [
       "<matplotlib.axes._subplots.AxesSubplot at 0x2300d04c6d8>"
      ]
     },
     "execution_count": 56,
     "metadata": {},
     "output_type": "execute_result"
    },
    {
     "data": {
      "image/png": "[encoded data removed]",
      "text/plain": [
       "<Figure size 432x288 with 1 Axes>"
      ]
     },
     "metadata": {
      "needs_background": "light"
     },
     "output_type": "display_data"
    }
   ],
   "source": [
    "sns.countplot(df_clicks.click_mode)"
   ]
  },
  {
   "cell_type": "markdown",
   "metadata": {},
   "source": [
    "### Plans DF"
   ]
  },
  {
   "cell_type": "code",
   "execution_count": 57,
   "metadata": {},
   "outputs": [],
   "source": [
    "df_plans = pd.read_csv(\"../data/raw/data_set_phase1/train_plans.csv\")"
   ]
  },
  {
   "cell_type": "code",
   "execution_count": 58,
   "metadata": {},
   "outputs": [
    {
     "data": {
      "text/plain": [
       "sid          0\n",
       "plan_time    0\n",
       "plans        0\n",
       "dtype: int64"
      ]
     },
     "execution_count": 58,
     "metadata": {},
     "output_type": "execute_result"
    }
   ],
   "source": [
    "df_plans.isnull().sum()"
   ]
  },
  {
   "cell_type": "code",
   "execution_count": 59,
   "metadata": {},
   "outputs": [
    {
     "data": {
      "text/html": [
       "<div>\n",
       "<style scoped>\n",
       "    .dataframe tbody tr th:only-of-type {\n",
       "        vertical-align: middle;\n",
       "    }\n",
       "\n",
       "    .dataframe tbody tr th {\n",
       "        vertical-align: top;\n",
       "    }\n",
       "\n",
       "    .dataframe thead th {\n",
       "        text-align: right;\n",
       "    }\n",
       "</style>\n",
       "<table border=\"1\" class=\"dataframe\">\n",
       "  <thead>\n",
       "    <tr style=\"text-align: right;\">\n",
       "      <th></th>\n",
       "      <th>sid</th>\n",
       "      <th>plan_time</th>\n",
       "      <th>plans</th>\n",
       "    </tr>\n",
       "  </thead>\n",
       "  <tbody>\n",
       "    <tr>\n",
       "      <th>291047</th>\n",
       "      <td>951921</td>\n",
       "      <td>2018-10-24 08:35:26</td>\n",
       "      <td>[{\"distance\": 22698, \"price\": 500, \"eta\": 5117...</td>\n",
       "    </tr>\n",
       "    <tr>\n",
       "      <th>9911</th>\n",
       "      <td>681035</td>\n",
       "      <td>2018-11-15 16:08:16</td>\n",
       "      <td>[{\"distance\": 5706, \"price\": 200, \"eta\": 3230,...</td>\n",
       "    </tr>\n",
       "    <tr>\n",
       "      <th>326355</th>\n",
       "      <td>175333</td>\n",
       "      <td>2018-10-20 11:18:42</td>\n",
       "      <td>[{\"distance\": 26594, \"price\": 700, \"eta\": 3604...</td>\n",
       "    </tr>\n",
       "    <tr>\n",
       "      <th>230471</th>\n",
       "      <td>1309499</td>\n",
       "      <td>2018-11-06 16:49:22</td>\n",
       "      <td>[{\"distance\": 39434, \"price\": 700, \"eta\": 6648...</td>\n",
       "    </tr>\n",
       "    <tr>\n",
       "      <th>74403</th>\n",
       "      <td>3141632</td>\n",
       "      <td>2018-10-26 19:37:26</td>\n",
       "      <td>[{\"distance\": 23809, \"price\": 700, \"eta\": 4003...</td>\n",
       "    </tr>\n",
       "  </tbody>\n",
       "</table>\n",
       "</div>"
      ],
      "text/plain": [
       "            sid            plan_time  \\\n",
       "291047   951921  2018-10-24 08:35:26   \n",
       "9911     681035  2018-11-15 16:08:16   \n",
       "326355   175333  2018-10-20 11:18:42   \n",
       "230471  1309499  2018-11-06 16:49:22   \n",
       "74403   3141632  2018-10-26 19:37:26   \n",
       "\n",
       "                                                    plans  \n",
       "291047  [{\"distance\": 22698, \"price\": 500, \"eta\": 5117...  \n",
       "9911    [{\"distance\": 5706, \"price\": 200, \"eta\": 3230,...  \n",
       "326355  [{\"distance\": 26594, \"price\": 700, \"eta\": 3604...  \n",
       "230471  [{\"distance\": 39434, \"price\": 700, \"eta\": 6648...  \n",
       "74403   [{\"distance\": 23809, \"price\": 700, \"eta\": 4003...  "
      ]
     },
     "execution_count": 59,
     "metadata": {},
     "output_type": "execute_result"
    }
   ],
   "source": [
    "df_plans.sample(5)"
   ]
  },
  {
   "cell_type": "code",
   "execution_count": 60,
   "metadata": {},
   "outputs": [
    {
     "data": {
      "text/plain": [
       "(491054, 3)"
      ]
     },
     "execution_count": 60,
     "metadata": {},
     "output_type": "execute_result"
    }
   ],
   "source": [
    "df_plans.shape"
   ]
  },
  {
   "cell_type": "code",
   "execution_count": null,
   "metadata": {},
   "outputs": [],
   "source": []
  }
 ],
 "metadata": {
  "kernelspec": {
   "display_name": "Python 3",
   "language": "python",
   "name": "python3"
  },
  "language_info": {
   "codemirror_mode": {
    "name": "ipython",
    "version": 3
   },
   "file_extension": ".py",
   "mimetype": "text/x-python",
   "name": "python",
   "nbconvert_exporter": "python",
   "pygments_lexer": "ipython3",
   "version": "3.7.3"
  }
 },
 "nbformat": 4,
 "nbformat_minor": 2
}
