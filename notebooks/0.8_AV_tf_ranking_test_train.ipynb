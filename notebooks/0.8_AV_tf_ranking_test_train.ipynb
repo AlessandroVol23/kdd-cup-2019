{
 "cells": [
  {
   "cell_type": "code",
   "execution_count": 156,
   "metadata": {},
   "outputs": [],
   "source": [
    "import pandas as pd\n",
    "import numpy as np"
   ]
  },
  {
   "cell_type": "code",
   "execution_count": 157,
   "metadata": {},
   "outputs": [
    {
     "name": "stdout",
     "output_type": "stream",
     "text": [
      "df_test.pickle\tdf_train.pickle\r\n"
     ]
    }
   ],
   "source": [
    "!ls ../data/processed"
   ]
  },
  {
   "cell_type": "code",
   "execution_count": 158,
   "metadata": {},
   "outputs": [],
   "source": [
    "df_train = pd.read_pickle('../data/processed/df_train.pickle')"
   ]
  },
  {
   "cell_type": "code",
   "execution_count": 159,
   "metadata": {},
   "outputs": [],
   "source": [
    "df_test = pd.read_pickle('../data/processed/df_test.pickle')"
   ]
  },
  {
   "cell_type": "code",
   "execution_count": 160,
   "metadata": {},
   "outputs": [
    {
     "data": {
      "text/plain": [
       "(2101060, 15)"
      ]
     },
     "execution_count": 160,
     "metadata": {},
     "output_type": "execute_result"
    }
   ],
   "source": [
    "df_train.shape"
   ]
  },
  {
   "cell_type": "code",
   "execution_count": 161,
   "metadata": {},
   "outputs": [
    {
     "data": {
      "text/html": [
       "<div>\n",
       "<style scoped>\n",
       "    .dataframe tbody tr th:only-of-type {\n",
       "        vertical-align: middle;\n",
       "    }\n",
       "\n",
       "    .dataframe tbody tr th {\n",
       "        vertical-align: top;\n",
       "    }\n",
       "\n",
       "    .dataframe thead th {\n",
       "        text-align: right;\n",
       "    }\n",
       "</style>\n",
       "<table border=\"1\" class=\"dataframe\">\n",
       "  <thead>\n",
       "    <tr style=\"text-align: right;\">\n",
       "      <th></th>\n",
       "      <th>sid</th>\n",
       "      <th>click_time</th>\n",
       "      <th>click_mode</th>\n",
       "      <th>distance_plan</th>\n",
       "      <th>eta</th>\n",
       "      <th>price</th>\n",
       "      <th>transport_mode</th>\n",
       "      <th>plan_time</th>\n",
       "      <th>pid</th>\n",
       "      <th>req_time</th>\n",
       "      <th>o_long</th>\n",
       "      <th>o_lat</th>\n",
       "      <th>d_long</th>\n",
       "      <th>d_lat</th>\n",
       "      <th>distance_query</th>\n",
       "    </tr>\n",
       "  </thead>\n",
       "  <tbody>\n",
       "    <tr>\n",
       "      <th>0</th>\n",
       "      <td>2848914</td>\n",
       "      <td>2018-11-17 18:42:17</td>\n",
       "      <td>1</td>\n",
       "      <td>53156</td>\n",
       "      <td>6456</td>\n",
       "      <td>700.0</td>\n",
       "      <td>1</td>\n",
       "      <td>2018-11-17 12:56:15</td>\n",
       "      <td>101804.0</td>\n",
       "      <td>2018-11-17 12:56:15</td>\n",
       "      <td>116.36</td>\n",
       "      <td>40.07</td>\n",
       "      <td>116.00</td>\n",
       "      <td>40.35</td>\n",
       "      <td>43.656570</td>\n",
       "    </tr>\n",
       "    <tr>\n",
       "      <th>1</th>\n",
       "      <td>2848914</td>\n",
       "      <td>2018-11-17 18:42:17</td>\n",
       "      <td>1</td>\n",
       "      <td>48112</td>\n",
       "      <td>3535</td>\n",
       "      <td>700.0</td>\n",
       "      <td>3</td>\n",
       "      <td>2018-11-17 12:56:15</td>\n",
       "      <td>101804.0</td>\n",
       "      <td>2018-11-17 12:56:15</td>\n",
       "      <td>116.36</td>\n",
       "      <td>40.07</td>\n",
       "      <td>116.00</td>\n",
       "      <td>40.35</td>\n",
       "      <td>43.656570</td>\n",
       "    </tr>\n",
       "    <tr>\n",
       "      <th>2</th>\n",
       "      <td>2848914</td>\n",
       "      <td>2018-11-17 18:42:17</td>\n",
       "      <td>1</td>\n",
       "      <td>48112</td>\n",
       "      <td>3655</td>\n",
       "      <td>16500.0</td>\n",
       "      <td>4</td>\n",
       "      <td>2018-11-17 12:56:15</td>\n",
       "      <td>101804.0</td>\n",
       "      <td>2018-11-17 12:56:15</td>\n",
       "      <td>116.36</td>\n",
       "      <td>40.07</td>\n",
       "      <td>116.00</td>\n",
       "      <td>40.35</td>\n",
       "      <td>43.656570</td>\n",
       "    </tr>\n",
       "    <tr>\n",
       "      <th>3</th>\n",
       "      <td>2848914</td>\n",
       "      <td>2018-11-17 18:42:17</td>\n",
       "      <td>1</td>\n",
       "      <td>51641</td>\n",
       "      <td>8871</td>\n",
       "      <td>1200.0</td>\n",
       "      <td>1</td>\n",
       "      <td>2018-11-17 12:56:15</td>\n",
       "      <td>101804.0</td>\n",
       "      <td>2018-11-17 12:56:15</td>\n",
       "      <td>116.36</td>\n",
       "      <td>40.07</td>\n",
       "      <td>116.00</td>\n",
       "      <td>40.35</td>\n",
       "      <td>43.656570</td>\n",
       "    </tr>\n",
       "    <tr>\n",
       "      <th>4</th>\n",
       "      <td>2629085</td>\n",
       "      <td>2018-10-12 16:28:13</td>\n",
       "      <td>3</td>\n",
       "      <td>13207</td>\n",
       "      <td>2790</td>\n",
       "      <td>400.0</td>\n",
       "      <td>9</td>\n",
       "      <td>2018-10-12 16:27:55</td>\n",
       "      <td>203797.0</td>\n",
       "      <td>2018-10-12 16:27:55</td>\n",
       "      <td>116.35</td>\n",
       "      <td>40.08</td>\n",
       "      <td>116.33</td>\n",
       "      <td>40.03</td>\n",
       "      <td>5.808139</td>\n",
       "    </tr>\n",
       "  </tbody>\n",
       "</table>\n",
       "</div>"
      ],
      "text/plain": [
       "       sid           click_time  click_mode  distance_plan   eta    price  \\\n",
       "0  2848914  2018-11-17 18:42:17           1          53156  6456    700.0   \n",
       "1  2848914  2018-11-17 18:42:17           1          48112  3535    700.0   \n",
       "2  2848914  2018-11-17 18:42:17           1          48112  3655  16500.0   \n",
       "3  2848914  2018-11-17 18:42:17           1          51641  8871   1200.0   \n",
       "4  2629085  2018-10-12 16:28:13           3          13207  2790    400.0   \n",
       "\n",
       "   transport_mode            plan_time       pid             req_time  o_long  \\\n",
       "0               1  2018-11-17 12:56:15  101804.0  2018-11-17 12:56:15  116.36   \n",
       "1               3  2018-11-17 12:56:15  101804.0  2018-11-17 12:56:15  116.36   \n",
       "2               4  2018-11-17 12:56:15  101804.0  2018-11-17 12:56:15  116.36   \n",
       "3               1  2018-11-17 12:56:15  101804.0  2018-11-17 12:56:15  116.36   \n",
       "4               9  2018-10-12 16:27:55  203797.0  2018-10-12 16:27:55  116.35   \n",
       "\n",
       "   o_lat  d_long  d_lat  distance_query  \n",
       "0  40.07  116.00  40.35       43.656570  \n",
       "1  40.07  116.00  40.35       43.656570  \n",
       "2  40.07  116.00  40.35       43.656570  \n",
       "3  40.07  116.00  40.35       43.656570  \n",
       "4  40.08  116.33  40.03        5.808139  "
      ]
     },
     "execution_count": 161,
     "metadata": {},
     "output_type": "execute_result"
    }
   ],
   "source": [
    "df_train.head()"
   ]
  },
  {
   "cell_type": "code",
   "execution_count": 117,
   "metadata": {},
   "outputs": [],
   "source": [
    "df_train = df_train.assign(target = df_train.apply(lambda x: 1 if x.click_mode == x.transport_mode else 0, axis=1))"
   ]
  },
  {
   "cell_type": "code",
   "execution_count": 118,
   "metadata": {},
   "outputs": [
    {
     "data": {
      "text/html": [
       "<div>\n",
       "<style scoped>\n",
       "    .dataframe tbody tr th:only-of-type {\n",
       "        vertical-align: middle;\n",
       "    }\n",
       "\n",
       "    .dataframe tbody tr th {\n",
       "        vertical-align: top;\n",
       "    }\n",
       "\n",
       "    .dataframe thead th {\n",
       "        text-align: right;\n",
       "    }\n",
       "</style>\n",
       "<table border=\"1\" class=\"dataframe\">\n",
       "  <thead>\n",
       "    <tr style=\"text-align: right;\">\n",
       "      <th></th>\n",
       "      <th>sid</th>\n",
       "      <th>click_time</th>\n",
       "      <th>click_mode</th>\n",
       "      <th>distance_plan</th>\n",
       "      <th>eta</th>\n",
       "      <th>price</th>\n",
       "      <th>transport_mode</th>\n",
       "      <th>plan_time</th>\n",
       "      <th>pid</th>\n",
       "      <th>req_time</th>\n",
       "      <th>o_long</th>\n",
       "      <th>o_lat</th>\n",
       "      <th>d_long</th>\n",
       "      <th>d_lat</th>\n",
       "      <th>distance_query</th>\n",
       "      <th>target</th>\n",
       "    </tr>\n",
       "  </thead>\n",
       "  <tbody>\n",
       "    <tr>\n",
       "      <th>0</th>\n",
       "      <td>2848914</td>\n",
       "      <td>2018-11-17 18:42:17</td>\n",
       "      <td>1</td>\n",
       "      <td>53156</td>\n",
       "      <td>6456</td>\n",
       "      <td>700.0</td>\n",
       "      <td>1</td>\n",
       "      <td>2018-11-17 12:56:15</td>\n",
       "      <td>101804.0</td>\n",
       "      <td>2018-11-17 12:56:15</td>\n",
       "      <td>116.36</td>\n",
       "      <td>40.07</td>\n",
       "      <td>116.00</td>\n",
       "      <td>40.35</td>\n",
       "      <td>43.656570</td>\n",
       "      <td>1</td>\n",
       "    </tr>\n",
       "    <tr>\n",
       "      <th>1</th>\n",
       "      <td>2848914</td>\n",
       "      <td>2018-11-17 18:42:17</td>\n",
       "      <td>1</td>\n",
       "      <td>48112</td>\n",
       "      <td>3535</td>\n",
       "      <td>700.0</td>\n",
       "      <td>3</td>\n",
       "      <td>2018-11-17 12:56:15</td>\n",
       "      <td>101804.0</td>\n",
       "      <td>2018-11-17 12:56:15</td>\n",
       "      <td>116.36</td>\n",
       "      <td>40.07</td>\n",
       "      <td>116.00</td>\n",
       "      <td>40.35</td>\n",
       "      <td>43.656570</td>\n",
       "      <td>0</td>\n",
       "    </tr>\n",
       "    <tr>\n",
       "      <th>2</th>\n",
       "      <td>2848914</td>\n",
       "      <td>2018-11-17 18:42:17</td>\n",
       "      <td>1</td>\n",
       "      <td>48112</td>\n",
       "      <td>3655</td>\n",
       "      <td>16500.0</td>\n",
       "      <td>4</td>\n",
       "      <td>2018-11-17 12:56:15</td>\n",
       "      <td>101804.0</td>\n",
       "      <td>2018-11-17 12:56:15</td>\n",
       "      <td>116.36</td>\n",
       "      <td>40.07</td>\n",
       "      <td>116.00</td>\n",
       "      <td>40.35</td>\n",
       "      <td>43.656570</td>\n",
       "      <td>0</td>\n",
       "    </tr>\n",
       "    <tr>\n",
       "      <th>3</th>\n",
       "      <td>2848914</td>\n",
       "      <td>2018-11-17 18:42:17</td>\n",
       "      <td>1</td>\n",
       "      <td>51641</td>\n",
       "      <td>8871</td>\n",
       "      <td>1200.0</td>\n",
       "      <td>1</td>\n",
       "      <td>2018-11-17 12:56:15</td>\n",
       "      <td>101804.0</td>\n",
       "      <td>2018-11-17 12:56:15</td>\n",
       "      <td>116.36</td>\n",
       "      <td>40.07</td>\n",
       "      <td>116.00</td>\n",
       "      <td>40.35</td>\n",
       "      <td>43.656570</td>\n",
       "      <td>1</td>\n",
       "    </tr>\n",
       "    <tr>\n",
       "      <th>4</th>\n",
       "      <td>2629085</td>\n",
       "      <td>2018-10-12 16:28:13</td>\n",
       "      <td>3</td>\n",
       "      <td>13207</td>\n",
       "      <td>2790</td>\n",
       "      <td>400.0</td>\n",
       "      <td>9</td>\n",
       "      <td>2018-10-12 16:27:55</td>\n",
       "      <td>203797.0</td>\n",
       "      <td>2018-10-12 16:27:55</td>\n",
       "      <td>116.35</td>\n",
       "      <td>40.08</td>\n",
       "      <td>116.33</td>\n",
       "      <td>40.03</td>\n",
       "      <td>5.808139</td>\n",
       "      <td>0</td>\n",
       "    </tr>\n",
       "  </tbody>\n",
       "</table>\n",
       "</div>"
      ],
      "text/plain": [
       "       sid           click_time  click_mode  distance_plan   eta    price  \\\n",
       "0  2848914  2018-11-17 18:42:17           1          53156  6456    700.0   \n",
       "1  2848914  2018-11-17 18:42:17           1          48112  3535    700.0   \n",
       "2  2848914  2018-11-17 18:42:17           1          48112  3655  16500.0   \n",
       "3  2848914  2018-11-17 18:42:17           1          51641  8871   1200.0   \n",
       "4  2629085  2018-10-12 16:28:13           3          13207  2790    400.0   \n",
       "\n",
       "   transport_mode            plan_time       pid             req_time  o_long  \\\n",
       "0               1  2018-11-17 12:56:15  101804.0  2018-11-17 12:56:15  116.36   \n",
       "1               3  2018-11-17 12:56:15  101804.0  2018-11-17 12:56:15  116.36   \n",
       "2               4  2018-11-17 12:56:15  101804.0  2018-11-17 12:56:15  116.36   \n",
       "3               1  2018-11-17 12:56:15  101804.0  2018-11-17 12:56:15  116.36   \n",
       "4               9  2018-10-12 16:27:55  203797.0  2018-10-12 16:27:55  116.35   \n",
       "\n",
       "   o_lat  d_long  d_lat  distance_query  target  \n",
       "0  40.07  116.00  40.35       43.656570       1  \n",
       "1  40.07  116.00  40.35       43.656570       0  \n",
       "2  40.07  116.00  40.35       43.656570       0  \n",
       "3  40.07  116.00  40.35       43.656570       1  \n",
       "4  40.08  116.33  40.03        5.808139       0  "
      ]
     },
     "execution_count": 118,
     "metadata": {},
     "output_type": "execute_result"
    }
   ],
   "source": [
    "df_train.head()"
   ]
  },
  {
   "cell_type": "code",
   "execution_count": 119,
   "metadata": {},
   "outputs": [],
   "source": [
    "df_X = df_train[[\"sid\", \"target\", \"distance_plan\", \"eta\", \"price\", \"transport_mode\"]]"
   ]
  },
  {
   "cell_type": "code",
   "execution_count": 120,
   "metadata": {},
   "outputs": [],
   "source": [
    "df_test_X = df_train[[\"sid\", \"distance_plan\", \"eta\", \"price\", \"transport_mode\"]]"
   ]
  },
  {
   "cell_type": "code",
   "execution_count": 56,
   "metadata": {},
   "outputs": [
    {
     "name": "stderr",
     "output_type": "stream",
     "text": [
      "/home/sandro/anaconda3/envs/tf_ranking/lib/python3.7/site-packages/ipykernel_launcher.py:1: SettingWithCopyWarning: \n",
      "A value is trying to be set on a copy of a slice from a DataFrame\n",
      "\n",
      "See the caveats in the documentation: http://pandas.pydata.org/pandas-docs/stable/indexing.html#indexing-view-versus-copy\n",
      "  \"\"\"Entry point for launching an IPython kernel.\n"
     ]
    }
   ],
   "source": [
    "df_test_X.sort_values(\"sid\", inplace=True)"
   ]
  },
  {
   "cell_type": "code",
   "execution_count": 57,
   "metadata": {},
   "outputs": [
    {
     "data": {
      "text/html": [
       "<div>\n",
       "<style scoped>\n",
       "    .dataframe tbody tr th:only-of-type {\n",
       "        vertical-align: middle;\n",
       "    }\n",
       "\n",
       "    .dataframe tbody tr th {\n",
       "        vertical-align: top;\n",
       "    }\n",
       "\n",
       "    .dataframe thead th {\n",
       "        text-align: right;\n",
       "    }\n",
       "</style>\n",
       "<table border=\"1\" class=\"dataframe\">\n",
       "  <thead>\n",
       "    <tr style=\"text-align: right;\">\n",
       "      <th></th>\n",
       "      <th>sid</th>\n",
       "      <th>distance_plan</th>\n",
       "      <th>eta</th>\n",
       "      <th>price</th>\n",
       "    </tr>\n",
       "  </thead>\n",
       "  <tbody>\n",
       "    <tr>\n",
       "      <th>1714840</th>\n",
       "      <td>10</td>\n",
       "      <td>47429</td>\n",
       "      <td>4604</td>\n",
       "      <td>700.0</td>\n",
       "    </tr>\n",
       "    <tr>\n",
       "      <th>1714841</th>\n",
       "      <td>10</td>\n",
       "      <td>47429</td>\n",
       "      <td>4604</td>\n",
       "      <td>14100.0</td>\n",
       "    </tr>\n",
       "    <tr>\n",
       "      <th>1714842</th>\n",
       "      <td>10</td>\n",
       "      <td>49758</td>\n",
       "      <td>6878</td>\n",
       "      <td>5500.0</td>\n",
       "    </tr>\n",
       "    <tr>\n",
       "      <th>1714843</th>\n",
       "      <td>10</td>\n",
       "      <td>47796</td>\n",
       "      <td>7234</td>\n",
       "      <td>3000.0</td>\n",
       "    </tr>\n",
       "    <tr>\n",
       "      <th>1714844</th>\n",
       "      <td>10</td>\n",
       "      <td>48995</td>\n",
       "      <td>7396</td>\n",
       "      <td>3200.0</td>\n",
       "    </tr>\n",
       "  </tbody>\n",
       "</table>\n",
       "</div>"
      ],
      "text/plain": [
       "         sid  distance_plan   eta    price\n",
       "1714840   10          47429  4604    700.0\n",
       "1714841   10          47429  4604  14100.0\n",
       "1714842   10          49758  6878   5500.0\n",
       "1714843   10          47796  7234   3000.0\n",
       "1714844   10          48995  7396   3200.0"
      ]
     },
     "execution_count": 57,
     "metadata": {},
     "output_type": "execute_result"
    }
   ],
   "source": [
    "df_test_X.head()"
   ]
  },
  {
   "cell_type": "code",
   "execution_count": 46,
   "metadata": {},
   "outputs": [
    {
     "name": "stderr",
     "output_type": "stream",
     "text": [
      "/home/sandro/anaconda3/envs/tf_ranking/lib/python3.7/site-packages/ipykernel_launcher.py:1: SettingWithCopyWarning: \n",
      "A value is trying to be set on a copy of a slice from a DataFrame\n",
      "\n",
      "See the caveats in the documentation: http://pandas.pydata.org/pandas-docs/stable/indexing.html#indexing-view-versus-copy\n",
      "  \"\"\"Entry point for launching an IPython kernel.\n"
     ]
    }
   ],
   "source": [
    "df_X.sort_values(\"sid\", inplace=True)"
   ]
  },
  {
   "cell_type": "markdown",
   "metadata": {},
   "source": [
    "## Target = 1 when clicked / 0 when not clicked"
   ]
  },
  {
   "cell_type": "code",
   "execution_count": 47,
   "metadata": {},
   "outputs": [
    {
     "data": {
      "text/html": [
       "<div>\n",
       "<style scoped>\n",
       "    .dataframe tbody tr th:only-of-type {\n",
       "        vertical-align: middle;\n",
       "    }\n",
       "\n",
       "    .dataframe tbody tr th {\n",
       "        vertical-align: top;\n",
       "    }\n",
       "\n",
       "    .dataframe thead th {\n",
       "        text-align: right;\n",
       "    }\n",
       "</style>\n",
       "<table border=\"1\" class=\"dataframe\">\n",
       "  <thead>\n",
       "    <tr style=\"text-align: right;\">\n",
       "      <th></th>\n",
       "      <th>sid</th>\n",
       "      <th>target</th>\n",
       "      <th>distance_plan</th>\n",
       "      <th>eta</th>\n",
       "      <th>price</th>\n",
       "    </tr>\n",
       "  </thead>\n",
       "  <tbody>\n",
       "    <tr>\n",
       "      <th>1714840</th>\n",
       "      <td>10</td>\n",
       "      <td>0</td>\n",
       "      <td>47429</td>\n",
       "      <td>4604</td>\n",
       "      <td>700.0</td>\n",
       "    </tr>\n",
       "    <tr>\n",
       "      <th>1714841</th>\n",
       "      <td>10</td>\n",
       "      <td>0</td>\n",
       "      <td>47429</td>\n",
       "      <td>4604</td>\n",
       "      <td>14100.0</td>\n",
       "    </tr>\n",
       "    <tr>\n",
       "      <th>1714842</th>\n",
       "      <td>10</td>\n",
       "      <td>0</td>\n",
       "      <td>49758</td>\n",
       "      <td>6878</td>\n",
       "      <td>5500.0</td>\n",
       "    </tr>\n",
       "    <tr>\n",
       "      <th>1714843</th>\n",
       "      <td>10</td>\n",
       "      <td>0</td>\n",
       "      <td>47796</td>\n",
       "      <td>7234</td>\n",
       "      <td>3000.0</td>\n",
       "    </tr>\n",
       "    <tr>\n",
       "      <th>1714844</th>\n",
       "      <td>10</td>\n",
       "      <td>1</td>\n",
       "      <td>48995</td>\n",
       "      <td>7396</td>\n",
       "      <td>3200.0</td>\n",
       "    </tr>\n",
       "    <tr>\n",
       "      <th>1714839</th>\n",
       "      <td>10</td>\n",
       "      <td>0</td>\n",
       "      <td>49067</td>\n",
       "      <td>6345</td>\n",
       "      <td>3100.0</td>\n",
       "    </tr>\n",
       "    <tr>\n",
       "      <th>1897613</th>\n",
       "      <td>21</td>\n",
       "      <td>0</td>\n",
       "      <td>7667</td>\n",
       "      <td>1229</td>\n",
       "      <td>2100.0</td>\n",
       "    </tr>\n",
       "    <tr>\n",
       "      <th>1897612</th>\n",
       "      <td>21</td>\n",
       "      <td>0</td>\n",
       "      <td>7667</td>\n",
       "      <td>929</td>\n",
       "      <td>700.0</td>\n",
       "    </tr>\n",
       "    <tr>\n",
       "      <th>1897611</th>\n",
       "      <td>21</td>\n",
       "      <td>1</td>\n",
       "      <td>6157</td>\n",
       "      <td>1289</td>\n",
       "      <td>300.0</td>\n",
       "    </tr>\n",
       "    <tr>\n",
       "      <th>1657105</th>\n",
       "      <td>25</td>\n",
       "      <td>1</td>\n",
       "      <td>3006</td>\n",
       "      <td>2419</td>\n",
       "      <td>200.0</td>\n",
       "    </tr>\n",
       "    <tr>\n",
       "      <th>1657107</th>\n",
       "      <td>25</td>\n",
       "      <td>0</td>\n",
       "      <td>3898</td>\n",
       "      <td>669</td>\n",
       "      <td>1300.0</td>\n",
       "    </tr>\n",
       "    <tr>\n",
       "      <th>1657108</th>\n",
       "      <td>25</td>\n",
       "      <td>0</td>\n",
       "      <td>3521</td>\n",
       "      <td>1063</td>\n",
       "      <td>700.0</td>\n",
       "    </tr>\n",
       "    <tr>\n",
       "      <th>1657109</th>\n",
       "      <td>25</td>\n",
       "      <td>1</td>\n",
       "      <td>3014</td>\n",
       "      <td>2432</td>\n",
       "      <td>200.0</td>\n",
       "    </tr>\n",
       "    <tr>\n",
       "      <th>1657110</th>\n",
       "      <td>25</td>\n",
       "      <td>0</td>\n",
       "      <td>2714</td>\n",
       "      <td>2434</td>\n",
       "      <td>700.0</td>\n",
       "    </tr>\n",
       "    <tr>\n",
       "      <th>1657106</th>\n",
       "      <td>25</td>\n",
       "      <td>0</td>\n",
       "      <td>3898</td>\n",
       "      <td>429</td>\n",
       "      <td>700.0</td>\n",
       "    </tr>\n",
       "    <tr>\n",
       "      <th>850175</th>\n",
       "      <td>34</td>\n",
       "      <td>0</td>\n",
       "      <td>24642</td>\n",
       "      <td>3530</td>\n",
       "      <td>9200.0</td>\n",
       "    </tr>\n",
       "    <tr>\n",
       "      <th>850176</th>\n",
       "      <td>34</td>\n",
       "      <td>0</td>\n",
       "      <td>33507</td>\n",
       "      <td>5470</td>\n",
       "      <td>1000.0</td>\n",
       "    </tr>\n",
       "    <tr>\n",
       "      <th>850174</th>\n",
       "      <td>34</td>\n",
       "      <td>0</td>\n",
       "      <td>24642</td>\n",
       "      <td>3410</td>\n",
       "      <td>700.0</td>\n",
       "    </tr>\n",
       "    <tr>\n",
       "      <th>850173</th>\n",
       "      <td>34</td>\n",
       "      <td>1</td>\n",
       "      <td>26039</td>\n",
       "      <td>4411</td>\n",
       "      <td>600.0</td>\n",
       "    </tr>\n",
       "    <tr>\n",
       "      <th>850177</th>\n",
       "      <td>34</td>\n",
       "      <td>0</td>\n",
       "      <td>25925</td>\n",
       "      <td>5663</td>\n",
       "      <td>600.0</td>\n",
       "    </tr>\n",
       "  </tbody>\n",
       "</table>\n",
       "</div>"
      ],
      "text/plain": [
       "         sid  target  distance_plan   eta    price\n",
       "1714840   10       0          47429  4604    700.0\n",
       "1714841   10       0          47429  4604  14100.0\n",
       "1714842   10       0          49758  6878   5500.0\n",
       "1714843   10       0          47796  7234   3000.0\n",
       "1714844   10       1          48995  7396   3200.0\n",
       "1714839   10       0          49067  6345   3100.0\n",
       "1897613   21       0           7667  1229   2100.0\n",
       "1897612   21       0           7667   929    700.0\n",
       "1897611   21       1           6157  1289    300.0\n",
       "1657105   25       1           3006  2419    200.0\n",
       "1657107   25       0           3898   669   1300.0\n",
       "1657108   25       0           3521  1063    700.0\n",
       "1657109   25       1           3014  2432    200.0\n",
       "1657110   25       0           2714  2434    700.0\n",
       "1657106   25       0           3898   429    700.0\n",
       "850175    34       0          24642  3530   9200.0\n",
       "850176    34       0          33507  5470   1000.0\n",
       "850174    34       0          24642  3410    700.0\n",
       "850173    34       1          26039  4411    600.0\n",
       "850177    34       0          25925  5663    600.0"
      ]
     },
     "execution_count": 47,
     "metadata": {},
     "output_type": "execute_result"
    }
   ],
   "source": [
    "df_X.head(20)"
   ]
  },
  {
   "cell_type": "code",
   "execution_count": 48,
   "metadata": {},
   "outputs": [],
   "source": [
    "split_index = int(len(df_X) * 0.8)\n",
    "train = df_X.iloc[:split_index]\n",
    "val = df_X.iloc[split_index+1:]\n",
    "test = "
   ]
  },
  {
   "cell_type": "code",
   "execution_count": 87,
   "metadata": {},
   "outputs": [
    {
     "data": {
      "text/plain": [
       "(2101060, 5)"
      ]
     },
     "execution_count": 87,
     "metadata": {},
     "output_type": "execute_result"
    }
   ],
   "source": [
    "df_X.shape"
   ]
  },
  {
   "cell_type": "code",
   "execution_count": 88,
   "metadata": {},
   "outputs": [],
   "source": [
    "train = df_X.iloc[:1500000]\n",
    "val = df_X.iloc[1500000 +1:2000000]\n",
    "test = df_X.iloc[2000000+1:]"
   ]
  },
  {
   "cell_type": "code",
   "execution_count": 90,
   "metadata": {},
   "outputs": [],
   "source": [
    "train_X=train[[\"distance_plan\", \"eta\", \"price\"]]\n",
    "train_y=train[\"target\"]\n",
    "\n",
    "val_X=val[[\"distance_plan\", \"eta\", \"price\"]]\n",
    "val_y=val[\"target\"]\n",
    "\n",
    "test_X=test[[\"distance_plan\", \"eta\", \"price\"]]\n",
    "test_y=test[\"target\"]\n",
    "\n",
    "query_id_train = train.sid\n",
    "query_id_val = val.sid\n",
    "query_id_test = test.sid"
   ]
  },
  {
   "cell_type": "code",
   "execution_count": 107,
   "metadata": {
    "scrolled": true
   },
   "outputs": [],
   "source": [
    "from sklearn.datasets import dump_svmlight_file\n",
    "\n",
    "\n",
    "path_train=\"../data/interim/train_libsvm_1.txt\"\n",
    "path_val=\"../data/interim/val_libsvm_1.txt\"\n",
    "path_test=\"../data/interim/test_libsvm_1.txt\""
   ]
  },
  {
   "cell_type": "code",
   "execution_count": 101,
   "metadata": {},
   "outputs": [],
   "source": [
    "dump_svmlight_file(X=train_X, y=train_y, f=path_train, query_id=query_id_train, zero_based=False)\n"
   ]
  },
  {
   "cell_type": "code",
   "execution_count": 102,
   "metadata": {},
   "outputs": [],
   "source": [
    "dump_svmlight_file(X=val_X, y=val_y, f=path_val, query_id=query_id_val, zero_based=False)\n"
   ]
  },
  {
   "cell_type": "code",
   "execution_count": 103,
   "metadata": {},
   "outputs": [],
   "source": [
    "dump_svmlight_file(X=test_X, y=test_y, f=path_test, query_id=query_id_test, zero_based=False)"
   ]
  },
  {
   "cell_type": "code",
   "execution_count": 109,
   "metadata": {},
   "outputs": [],
   "source": [
    "test_X_10 = test_X[:10]\n",
    "test_y_10 = test_y[:10]\n",
    "path_test_10=\"../data/interim/test_libsvm_10.txt\"\n",
    "query_id_test_10 = test[:10].sid"
   ]
  },
  {
   "cell_type": "code",
   "execution_count": 130,
   "metadata": {},
   "outputs": [],
   "source": [
    "query_id_test_10.to_pickle(\"../data/interim/query.pickle\")"
   ]
  },
  {
   "cell_type": "code",
   "execution_count": 123,
   "metadata": {},
   "outputs": [],
   "source": [
    "test_X.to_pickle(\"../data/interim/test_X.pickle\")"
   ]
  },
  {
   "cell_type": "code",
   "execution_count": 110,
   "metadata": {},
   "outputs": [],
   "source": [
    "dump_svmlight_file(X=test_X_10, y=test_y_10, f=path_test_10, query_id=query_id_test_10, zero_based=False)"
   ]
  },
  {
   "cell_type": "code",
   "execution_count": 165,
   "metadata": {},
   "outputs": [],
   "source": [
    "def create_svm_file(df, features_X, path):\n",
    "    \"\"\"\n",
    "    This function saves the dataframe as lib svm file.\n",
    "    \"\"\"\n",
    "    df.sort_values(\"sid\", inplace=True)\n",
    "    \n",
    "    # Create ranking target\n",
    "    if 'click_mode' in df.columns:\n",
    "        df = df.assign(target = df.apply(lambda x: 1 if x.click_mode == x.transport_mode else 0, axis=1))\n",
    "    else:\n",
    "        df = df.assign(target = 0)\n",
    "    \n",
    "    X = df[features_X]\n",
    "    y = df[\"target\"]\n",
    "    query_id = df.sid\n",
    "    \n",
    "    # Dump SVM file\n",
    "    dump_svmlight_file(X=X, y=y, f=path, query_id=query_id, zero_based=False)\n",
    "    return X, y\n",
    "    \n",
    "    "
   ]
  },
  {
   "cell_type": "code",
   "execution_count": 135,
   "metadata": {},
   "outputs": [
    {
     "data": {
      "text/html": [
       "<div>\n",
       "<style scoped>\n",
       "    .dataframe tbody tr th:only-of-type {\n",
       "        vertical-align: middle;\n",
       "    }\n",
       "\n",
       "    .dataframe tbody tr th {\n",
       "        vertical-align: top;\n",
       "    }\n",
       "\n",
       "    .dataframe thead th {\n",
       "        text-align: right;\n",
       "    }\n",
       "</style>\n",
       "<table border=\"1\" class=\"dataframe\">\n",
       "  <thead>\n",
       "    <tr style=\"text-align: right;\">\n",
       "      <th></th>\n",
       "      <th>sid</th>\n",
       "      <th>click_time</th>\n",
       "      <th>click_mode</th>\n",
       "      <th>distance_plan</th>\n",
       "      <th>eta</th>\n",
       "      <th>price</th>\n",
       "      <th>transport_mode</th>\n",
       "      <th>plan_time</th>\n",
       "      <th>pid</th>\n",
       "      <th>req_time</th>\n",
       "      <th>o_long</th>\n",
       "      <th>o_lat</th>\n",
       "      <th>d_long</th>\n",
       "      <th>d_lat</th>\n",
       "      <th>distance_query</th>\n",
       "      <th>target</th>\n",
       "    </tr>\n",
       "  </thead>\n",
       "  <tbody>\n",
       "    <tr>\n",
       "      <th>0</th>\n",
       "      <td>2848914</td>\n",
       "      <td>2018-11-17 18:42:17</td>\n",
       "      <td>1</td>\n",
       "      <td>53156</td>\n",
       "      <td>6456</td>\n",
       "      <td>700.0</td>\n",
       "      <td>1</td>\n",
       "      <td>2018-11-17 12:56:15</td>\n",
       "      <td>101804.0</td>\n",
       "      <td>2018-11-17 12:56:15</td>\n",
       "      <td>116.36</td>\n",
       "      <td>40.07</td>\n",
       "      <td>116.00</td>\n",
       "      <td>40.35</td>\n",
       "      <td>43.656570</td>\n",
       "      <td>1</td>\n",
       "    </tr>\n",
       "    <tr>\n",
       "      <th>1</th>\n",
       "      <td>2848914</td>\n",
       "      <td>2018-11-17 18:42:17</td>\n",
       "      <td>1</td>\n",
       "      <td>48112</td>\n",
       "      <td>3535</td>\n",
       "      <td>700.0</td>\n",
       "      <td>3</td>\n",
       "      <td>2018-11-17 12:56:15</td>\n",
       "      <td>101804.0</td>\n",
       "      <td>2018-11-17 12:56:15</td>\n",
       "      <td>116.36</td>\n",
       "      <td>40.07</td>\n",
       "      <td>116.00</td>\n",
       "      <td>40.35</td>\n",
       "      <td>43.656570</td>\n",
       "      <td>0</td>\n",
       "    </tr>\n",
       "    <tr>\n",
       "      <th>2</th>\n",
       "      <td>2848914</td>\n",
       "      <td>2018-11-17 18:42:17</td>\n",
       "      <td>1</td>\n",
       "      <td>48112</td>\n",
       "      <td>3655</td>\n",
       "      <td>16500.0</td>\n",
       "      <td>4</td>\n",
       "      <td>2018-11-17 12:56:15</td>\n",
       "      <td>101804.0</td>\n",
       "      <td>2018-11-17 12:56:15</td>\n",
       "      <td>116.36</td>\n",
       "      <td>40.07</td>\n",
       "      <td>116.00</td>\n",
       "      <td>40.35</td>\n",
       "      <td>43.656570</td>\n",
       "      <td>0</td>\n",
       "    </tr>\n",
       "    <tr>\n",
       "      <th>3</th>\n",
       "      <td>2848914</td>\n",
       "      <td>2018-11-17 18:42:17</td>\n",
       "      <td>1</td>\n",
       "      <td>51641</td>\n",
       "      <td>8871</td>\n",
       "      <td>1200.0</td>\n",
       "      <td>1</td>\n",
       "      <td>2018-11-17 12:56:15</td>\n",
       "      <td>101804.0</td>\n",
       "      <td>2018-11-17 12:56:15</td>\n",
       "      <td>116.36</td>\n",
       "      <td>40.07</td>\n",
       "      <td>116.00</td>\n",
       "      <td>40.35</td>\n",
       "      <td>43.656570</td>\n",
       "      <td>1</td>\n",
       "    </tr>\n",
       "    <tr>\n",
       "      <th>4</th>\n",
       "      <td>2629085</td>\n",
       "      <td>2018-10-12 16:28:13</td>\n",
       "      <td>3</td>\n",
       "      <td>13207</td>\n",
       "      <td>2790</td>\n",
       "      <td>400.0</td>\n",
       "      <td>9</td>\n",
       "      <td>2018-10-12 16:27:55</td>\n",
       "      <td>203797.0</td>\n",
       "      <td>2018-10-12 16:27:55</td>\n",
       "      <td>116.35</td>\n",
       "      <td>40.08</td>\n",
       "      <td>116.33</td>\n",
       "      <td>40.03</td>\n",
       "      <td>5.808139</td>\n",
       "      <td>0</td>\n",
       "    </tr>\n",
       "  </tbody>\n",
       "</table>\n",
       "</div>"
      ],
      "text/plain": [
       "       sid           click_time  click_mode  distance_plan   eta    price  \\\n",
       "0  2848914  2018-11-17 18:42:17           1          53156  6456    700.0   \n",
       "1  2848914  2018-11-17 18:42:17           1          48112  3535    700.0   \n",
       "2  2848914  2018-11-17 18:42:17           1          48112  3655  16500.0   \n",
       "3  2848914  2018-11-17 18:42:17           1          51641  8871   1200.0   \n",
       "4  2629085  2018-10-12 16:28:13           3          13207  2790    400.0   \n",
       "\n",
       "   transport_mode            plan_time       pid             req_time  o_long  \\\n",
       "0               1  2018-11-17 12:56:15  101804.0  2018-11-17 12:56:15  116.36   \n",
       "1               3  2018-11-17 12:56:15  101804.0  2018-11-17 12:56:15  116.36   \n",
       "2               4  2018-11-17 12:56:15  101804.0  2018-11-17 12:56:15  116.36   \n",
       "3               1  2018-11-17 12:56:15  101804.0  2018-11-17 12:56:15  116.36   \n",
       "4               9  2018-10-12 16:27:55  203797.0  2018-10-12 16:27:55  116.35   \n",
       "\n",
       "   o_lat  d_long  d_lat  distance_query  target  \n",
       "0  40.07  116.00  40.35       43.656570       1  \n",
       "1  40.07  116.00  40.35       43.656570       0  \n",
       "2  40.07  116.00  40.35       43.656570       0  \n",
       "3  40.07  116.00  40.35       43.656570       1  \n",
       "4  40.08  116.33  40.03        5.808139       0  "
      ]
     },
     "execution_count": 135,
     "metadata": {},
     "output_type": "execute_result"
    }
   ],
   "source": [
    "df_train.head()"
   ]
  },
  {
   "cell_type": "code",
   "execution_count": 136,
   "metadata": {},
   "outputs": [
    {
     "data": {
      "text/plain": [
       "Index(['sid', 'click_time', 'click_mode', 'distance_plan', 'eta', 'price',\n",
       "       'transport_mode', 'plan_time', 'pid', 'req_time', 'o_long', 'o_lat',\n",
       "       'd_long', 'd_lat', 'distance_query', 'target'],\n",
       "      dtype='object')"
      ]
     },
     "execution_count": 136,
     "metadata": {},
     "output_type": "execute_result"
    }
   ],
   "source": [
    "df_train.columns"
   ]
  },
  {
   "cell_type": "code",
   "execution_count": 137,
   "metadata": {},
   "outputs": [],
   "source": [
    "test_10 = df_train[:10]"
   ]
  },
  {
   "cell_type": "code",
   "execution_count": 167,
   "metadata": {},
   "outputs": [
    {
     "data": {
      "text/plain": [
       "2101060"
      ]
     },
     "execution_count": 167,
     "metadata": {},
     "output_type": "execute_result"
    }
   ],
   "source": [
    "len(df_train)"
   ]
  },
  {
   "cell_type": "code",
   "execution_count": 168,
   "metadata": {},
   "outputs": [],
   "source": [
    "df_train_train = df_train[:1500000]"
   ]
  },
  {
   "cell_type": "code",
   "execution_count": 169,
   "metadata": {},
   "outputs": [],
   "source": [
    "df_train_test = df_train[1500001:]"
   ]
  },
  {
   "cell_type": "code",
   "execution_count": 152,
   "metadata": {},
   "outputs": [],
   "source": [
    "features = [\n",
    "    'transport_mode',\n",
    "    'distance_plan',\n",
    "    'eta', \n",
    "    'price'\n",
    "]"
   ]
  },
  {
   "cell_type": "code",
   "execution_count": 140,
   "metadata": {},
   "outputs": [
    {
     "data": {
      "text/html": [
       "<div>\n",
       "<style scoped>\n",
       "    .dataframe tbody tr th:only-of-type {\n",
       "        vertical-align: middle;\n",
       "    }\n",
       "\n",
       "    .dataframe tbody tr th {\n",
       "        vertical-align: top;\n",
       "    }\n",
       "\n",
       "    .dataframe thead th {\n",
       "        text-align: right;\n",
       "    }\n",
       "</style>\n",
       "<table border=\"1\" class=\"dataframe\">\n",
       "  <thead>\n",
       "    <tr style=\"text-align: right;\">\n",
       "      <th></th>\n",
       "      <th>click_mode</th>\n",
       "      <th>distance_plan</th>\n",
       "      <th>eta</th>\n",
       "      <th>price</th>\n",
       "    </tr>\n",
       "  </thead>\n",
       "  <tbody>\n",
       "    <tr>\n",
       "      <th>0</th>\n",
       "      <td>1</td>\n",
       "      <td>53156</td>\n",
       "      <td>6456</td>\n",
       "      <td>700.0</td>\n",
       "    </tr>\n",
       "    <tr>\n",
       "      <th>1</th>\n",
       "      <td>1</td>\n",
       "      <td>48112</td>\n",
       "      <td>3535</td>\n",
       "      <td>700.0</td>\n",
       "    </tr>\n",
       "    <tr>\n",
       "      <th>2</th>\n",
       "      <td>1</td>\n",
       "      <td>48112</td>\n",
       "      <td>3655</td>\n",
       "      <td>16500.0</td>\n",
       "    </tr>\n",
       "    <tr>\n",
       "      <th>3</th>\n",
       "      <td>1</td>\n",
       "      <td>51641</td>\n",
       "      <td>8871</td>\n",
       "      <td>1200.0</td>\n",
       "    </tr>\n",
       "    <tr>\n",
       "      <th>4</th>\n",
       "      <td>3</td>\n",
       "      <td>13207</td>\n",
       "      <td>2790</td>\n",
       "      <td>400.0</td>\n",
       "    </tr>\n",
       "    <tr>\n",
       "      <th>5</th>\n",
       "      <td>3</td>\n",
       "      <td>8175</td>\n",
       "      <td>1656</td>\n",
       "      <td>700.0</td>\n",
       "    </tr>\n",
       "    <tr>\n",
       "      <th>6</th>\n",
       "      <td>3</td>\n",
       "      <td>8175</td>\n",
       "      <td>1776</td>\n",
       "      <td>2700.0</td>\n",
       "    </tr>\n",
       "    <tr>\n",
       "      <th>7</th>\n",
       "      <td>3</td>\n",
       "      <td>9620</td>\n",
       "      <td>2424</td>\n",
       "      <td>1600.0</td>\n",
       "    </tr>\n",
       "    <tr>\n",
       "      <th>8</th>\n",
       "      <td>3</td>\n",
       "      <td>8079</td>\n",
       "      <td>2443</td>\n",
       "      <td>700.0</td>\n",
       "    </tr>\n",
       "    <tr>\n",
       "      <th>9</th>\n",
       "      <td>3</td>\n",
       "      <td>13428</td>\n",
       "      <td>3777</td>\n",
       "      <td>800.0</td>\n",
       "    </tr>\n",
       "  </tbody>\n",
       "</table>\n",
       "</div>"
      ],
      "text/plain": [
       "   click_mode  distance_plan   eta    price\n",
       "0           1          53156  6456    700.0\n",
       "1           1          48112  3535    700.0\n",
       "2           1          48112  3655  16500.0\n",
       "3           1          51641  8871   1200.0\n",
       "4           3          13207  2790    400.0\n",
       "5           3           8175  1656    700.0\n",
       "6           3           8175  1776   2700.0\n",
       "7           3           9620  2424   1600.0\n",
       "8           3           8079  2443    700.0\n",
       "9           3          13428  3777    800.0"
      ]
     },
     "execution_count": 140,
     "metadata": {},
     "output_type": "execute_result"
    }
   ],
   "source": [
    "test_10[features]"
   ]
  },
  {
   "cell_type": "code",
   "execution_count": 153,
   "metadata": {
    "scrolled": true
   },
   "outputs": [
    {
     "name": "stderr",
     "output_type": "stream",
     "text": [
      "/home/sandro/anaconda3/envs/tf_ranking/lib/python3.7/site-packages/ipykernel_launcher.py:5: SettingWithCopyWarning: \n",
      "A value is trying to be set on a copy of a slice from a DataFrame\n",
      "\n",
      "See the caveats in the documentation: http://pandas.pydata.org/pandas-docs/stable/indexing.html#indexing-view-versus-copy\n",
      "  \"\"\"\n"
     ]
    }
   ],
   "source": [
    "X, y = create_svm_file(test_10, features, \"../data/interim/test_10.libsvm\")"
   ]
  },
  {
   "cell_type": "code",
   "execution_count": 154,
   "metadata": {},
   "outputs": [],
   "source": [
    "X.to_pickle(\"../data/interim/X_10.pickle\")"
   ]
  },
  {
   "cell_type": "code",
   "execution_count": 155,
   "metadata": {},
   "outputs": [],
   "source": [
    "test_10.to_pickle(\"../data/interim/test_10.pickle\")"
   ]
  },
  {
   "cell_type": "code",
   "execution_count": 144,
   "metadata": {},
   "outputs": [
    {
     "name": "stdout",
     "output_type": "stream",
     "text": [
      "0 qid:2629085 1:3 2:13207 3:2790 4:400\n",
      "\n",
      "1 qid:2629085 1:3 2:8175 3:1656 4:700\n",
      "\n",
      "0 qid:2629085 1:3 2:8175 3:1776 4:2700\n",
      "\n",
      "0 qid:2629085 1:3 2:9620 3:2424 4:1600\n",
      "\n",
      "0 qid:2629085 1:3 2:8079 3:2443 4:700\n",
      "\n",
      "0 qid:2629085 1:3 2:13428 3:3777 4:800\n",
      "\n",
      "1 qid:2848914 1:1 2:53156 3:6456 4:700\n",
      "\n",
      "0 qid:2848914 1:1 2:48112 3:3535 4:700\n",
      "\n",
      "0 qid:2848914 1:1 2:48112 3:3655 4:16500\n",
      "\n",
      "1 qid:2848914 1:1 2:51641 3:8871 4:1200\n",
      "\n"
     ]
    }
   ],
   "source": [
    "fo = open('../data/interim/test_10.libsvm')\n",
    "\n",
    "for i in fo:\n",
    "    print(i)"
   ]
  },
  {
   "cell_type": "code",
   "execution_count": 162,
   "metadata": {},
   "outputs": [
    {
     "data": {
      "text/plain": [
       "['transport_mode', 'distance_plan', 'eta', 'price']"
      ]
     },
     "execution_count": 162,
     "metadata": {},
     "output_type": "execute_result"
    }
   ],
   "source": [
    "features"
   ]
  },
  {
   "cell_type": "code",
   "execution_count": 163,
   "metadata": {},
   "outputs": [],
   "source": [
    "x, y = create_svm_file(df_train, features, '../data/interim/train_final.libsvm')"
   ]
  },
  {
   "cell_type": "code",
   "execution_count": 166,
   "metadata": {},
   "outputs": [],
   "source": [
    "x, y = create_svm_file(df_test, features, '../data/interim/test_final.libsvm')"
   ]
  },
  {
   "cell_type": "code",
   "execution_count": 170,
   "metadata": {},
   "outputs": [
    {
     "name": "stderr",
     "output_type": "stream",
     "text": [
      "/home/sandro/anaconda3/envs/tf_ranking/lib/python3.7/site-packages/ipykernel_launcher.py:5: SettingWithCopyWarning: \n",
      "A value is trying to be set on a copy of a slice from a DataFrame\n",
      "\n",
      "See the caveats in the documentation: http://pandas.pydata.org/pandas-docs/stable/indexing.html#indexing-view-versus-copy\n",
      "  \"\"\"\n"
     ]
    }
   ],
   "source": [
    "x, y = create_svm_file(df_train_train, features, '../data/interim/df_train_train.libsvm')"
   ]
  },
  {
   "cell_type": "code",
   "execution_count": 171,
   "metadata": {},
   "outputs": [
    {
     "name": "stderr",
     "output_type": "stream",
     "text": [
      "/home/sandro/anaconda3/envs/tf_ranking/lib/python3.7/site-packages/ipykernel_launcher.py:5: SettingWithCopyWarning: \n",
      "A value is trying to be set on a copy of a slice from a DataFrame\n",
      "\n",
      "See the caveats in the documentation: http://pandas.pydata.org/pandas-docs/stable/indexing.html#indexing-view-versus-copy\n",
      "  \"\"\"\n"
     ]
    }
   ],
   "source": [
    "x, y = create_svm_file(df_train_test, features, '../data/interim/df_train_test.libsvm')"
   ]
  },
  {
   "cell_type": "code",
   "execution_count": 175,
   "metadata": {},
   "outputs": [],
   "source": [
    "df_train_test.to_pickle(\"../data/interim/df_train_test.pickle\")"
   ]
  },
  {
   "cell_type": "markdown",
   "metadata": {},
   "source": [
    "## Save with pids"
   ]
  },
  {
   "cell_type": "code",
   "execution_count": null,
   "metadata": {},
   "outputs": [],
   "source": []
  }
 ],
 "metadata": {
  "kernelspec": {
   "display_name": "Python 3",
   "language": "python",
   "name": "python3"
  },
  "language_info": {
   "codemirror_mode": {
    "name": "ipython",
    "version": 3
   },
   "file_extension": ".py",
   "mimetype": "text/x-python",
   "name": "python",
   "nbconvert_exporter": "python",
   "pygments_lexer": "ipython3",
   "version": "3.7.3"
  }
 },
 "nbformat": 4,
 "nbformat_minor": 2
}
