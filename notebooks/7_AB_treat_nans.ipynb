{
 "cells": [
  {
   "cell_type": "code",
   "execution_count": 14,
   "metadata": {},
   "outputs": [],
   "source": [
    "import pandas as pd\n",
    "import numpy as np"
   ]
  },
  {
   "cell_type": "code",
   "execution_count": 15,
   "metadata": {},
   "outputs": [],
   "source": [
    "dftype = 'all'"
   ]
  },
  {
   "cell_type": "code",
   "execution_count": 16,
   "metadata": {},
   "outputs": [],
   "source": [
    "traindf = pd.read_pickle(\"../data/processed_\"+dftype+\"/train_\"+dftype+\"_first.pickle\")\n",
    "testdf = pd.read_pickle(\"../data/processed_\"+dftype+\"/test_\"+dftype+\"_first.pickle\")"
   ]
  },
  {
   "cell_type": "code",
   "execution_count": 17,
   "metadata": {},
   "outputs": [],
   "source": [
    "traindf[\"max_temp\"] = pd.to_numeric(traindf[\"max_temp\"])\n",
    "traindf[\"min_temp\"] = pd.to_numeric(traindf[\"min_temp\"])\n",
    "traindf[\"wind\"]     = pd.to_numeric(traindf[\"wind\"])\n",
    "\n",
    "testdf[\"max_temp\"] = pd.to_numeric(testdf[\"max_temp\"])\n",
    "testdf[\"min_temp\"] = pd.to_numeric(testdf[\"min_temp\"])\n",
    "testdf[\"wind\"]     = pd.to_numeric(testdf[\"wind\"])"
   ]
  },
  {
   "cell_type": "code",
   "execution_count": 18,
   "metadata": {},
   "outputs": [],
   "source": [
    "traindf.to_pickle('../data/processed_'+dftype+'/train_'+dftype+'_first.pickle')\n",
    "testdf.to_pickle('../data/processed_'+dftype+'/test_'+dftype+'_first.pickle')"
   ]
  },
  {
   "cell_type": "code",
   "execution_count": 19,
   "metadata": {},
   "outputs": [],
   "source": [
    "traindf = pd.read_pickle('../data/processed_'+dftype+'/train_'+dftype+'_last.pickle')\n",
    "testdf = pd.read_pickle('../data/processed_'+dftype+'/test_'+dftype+'_last.pickle')"
   ]
  },
  {
   "cell_type": "code",
   "execution_count": 20,
   "metadata": {},
   "outputs": [],
   "source": [
    "traindf[\"max_temp\"] = pd.to_numeric(traindf[\"max_temp\"])\n",
    "traindf[\"min_temp\"] = pd.to_numeric(traindf[\"min_temp\"])\n",
    "traindf[\"wind\"]     = pd.to_numeric(traindf[\"wind\"])\n",
    "\n",
    "testdf[\"max_temp\"] = pd.to_numeric(testdf[\"max_temp\"])\n",
    "testdf[\"min_temp\"] = pd.to_numeric(testdf[\"min_temp\"])\n",
    "testdf[\"wind\"]     = pd.to_numeric(testdf[\"wind\"])"
   ]
  },
  {
   "cell_type": "code",
   "execution_count": 21,
   "metadata": {},
   "outputs": [],
   "source": [
    "traindf.to_pickle('../data/processed_'+dftype+'/train_'+dftype+'_last.pickle')\n",
    "testdf.to_pickle('../data/processed_'+dftype+'/test_'+dftype+'_last.pickle')"
   ]
  },
  {
   "cell_type": "code",
   "execution_count": null,
   "metadata": {},
   "outputs": [],
   "source": [
    "traindf = pd.read_pickle('../data/processed_'+dftype+'/train_'+dftype+'_row.pickle')\n",
    "testdf = pd.read_pickle('../data/processed_'+dftype+'/test_'+dftype+'_row.pickle')"
   ]
  },
  {
   "cell_type": "code",
   "execution_count": null,
   "metadata": {},
   "outputs": [],
   "source": [
    "traindf[\"max_temp\"] = pd.to_numeric(traindf[\"max_temp\"])\n",
    "traindf[\"min_temp\"] = pd.to_numeric(traindf[\"min_temp\"])\n",
    "traindf[\"wind\"]     = pd.to_numeric(traindf[\"wind\"])\n",
    "\n",
    "testdf[\"max_temp\"] = pd.to_numeric(testdf[\"max_temp\"])\n",
    "testdf[\"min_temp\"] = pd.to_numeric(testdf[\"min_temp\"])\n",
    "testdf[\"wind\"]     = pd.to_numeric(testdf[\"wind\"])"
   ]
  },
  {
   "cell_type": "code",
   "execution_count": null,
   "metadata": {},
   "outputs": [],
   "source": [
    "traindf.to_pickle('../data/processed_'+dftype+'/train_'+dftype+'_row.pickle')\n",
    "testdf.to_pickle('../data/processed_'+dftype+'/test_'+dftype+'_row.pickle')"
   ]
  },
  {
   "cell_type": "code",
   "execution_count": null,
   "metadata": {},
   "outputs": [],
   "source": []
  }
 ],
 "metadata": {
  "kernelspec": {
   "display_name": "Python 3",
   "language": "python",
   "name": "python3"
  },
  "language_info": {
   "codemirror_mode": {
    "name": "ipython",
    "version": 3
   },
   "file_extension": ".py",
   "mimetype": "text/x-python",
   "name": "python",
   "nbconvert_exporter": "python",
   "pygments_lexer": "ipython3",
   "version": "3.7.3"
  }
 },
 "nbformat": 4,
 "nbformat_minor": 2
}
