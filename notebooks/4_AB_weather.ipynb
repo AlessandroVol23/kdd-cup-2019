{
 "cells": [
  {
   "cell_type": "code",
   "execution_count": 7,
   "metadata": {},
   "outputs": [],
   "source": [
    "import pandas as pd\n",
    "import json"
   ]
  },
  {
   "cell_type": "code",
   "execution_count": 14,
   "metadata": {},
   "outputs": [],
   "source": [
    "df_train = pd.read_csv('../data/raw/data_set_phase1/train_queries.csv')"
   ]
  },
  {
   "cell_type": "code",
   "execution_count": 8,
   "metadata": {
    "scrolled": true
   },
   "outputs": [],
   "source": [
    "with open(\"../data/external/weather.json\", 'r') as f:\n",
    "    weather_dict = json.load(f)"
   ]
  },
  {
   "cell_type": "code",
   "execution_count": 29,
   "metadata": {},
   "outputs": [
    {
     "data": {
      "text/plain": [
       "({'q': 25, 'dy': 23, 'dyq': 10, 'qdy': 9, 'xq': 1, 'xydy': 2},\n",
       " {'45': 5, '12': 40, '34': 6, '2': 6, '1': 10, '3': 3})"
      ]
     },
     "execution_count": 29,
     "metadata": {},
     "output_type": "execute_result"
    }
   ],
   "source": [
    "weather_types = {}\n",
    "wind_types = {}\n",
    "for i, el in weather_dict.items():\n",
    "    if el['weather'] not in weather_types:\n",
    "        weather_types[el['weather']] = 1\n",
    "    else:\n",
    "        weather_types[el['weather']] += 1\n",
    "    if el['wind'] not in wind_types:\n",
    "        wind_types[el['wind']] = 1\n",
    "    else:\n",
    "        wind_types[el['wind']] += 1\n",
    "    \n",
    "weather_types, wind_types"
   ]
  },
  {
   "cell_type": "code",
   "execution_count": 15,
   "metadata": {},
   "outputs": [
    {
     "data": {
      "text/html": [
       "<div>\n",
       "<style scoped>\n",
       "    .dataframe tbody tr th:only-of-type {\n",
       "        vertical-align: middle;\n",
       "    }\n",
       "\n",
       "    .dataframe tbody tr th {\n",
       "        vertical-align: top;\n",
       "    }\n",
       "\n",
       "    .dataframe thead th {\n",
       "        text-align: right;\n",
       "    }\n",
       "</style>\n",
       "<table border=\"1\" class=\"dataframe\">\n",
       "  <thead>\n",
       "    <tr style=\"text-align: right;\">\n",
       "      <th></th>\n",
       "      <th>sid</th>\n",
       "      <th>pid</th>\n",
       "      <th>req_time</th>\n",
       "      <th>o</th>\n",
       "      <th>d</th>\n",
       "    </tr>\n",
       "  </thead>\n",
       "  <tbody>\n",
       "    <tr>\n",
       "      <th>283203</th>\n",
       "      <td>2511340</td>\n",
       "      <td>116244.0</td>\n",
       "      <td>2018-10-07 11:27:12</td>\n",
       "      <td>116.38,39.91</td>\n",
       "      <td>116.37,39.86</td>\n",
       "    </tr>\n",
       "    <tr>\n",
       "      <th>10925</th>\n",
       "      <td>2880572</td>\n",
       "      <td>104143.0</td>\n",
       "      <td>2018-11-17 14:40:58</td>\n",
       "      <td>116.53,39.92</td>\n",
       "      <td>116.13,39.72</td>\n",
       "    </tr>\n",
       "    <tr>\n",
       "      <th>335904</th>\n",
       "      <td>3324688</td>\n",
       "      <td>NaN</td>\n",
       "      <td>2018-10-16 08:22:54</td>\n",
       "      <td>116.40,39.90</td>\n",
       "      <td>116.39,39.92</td>\n",
       "    </tr>\n",
       "    <tr>\n",
       "      <th>46208</th>\n",
       "      <td>2554325</td>\n",
       "      <td>NaN</td>\n",
       "      <td>2018-11-19 15:11:20</td>\n",
       "      <td>116.35,39.91</td>\n",
       "      <td>116.39,39.89</td>\n",
       "    </tr>\n",
       "    <tr>\n",
       "      <th>162044</th>\n",
       "      <td>1216978</td>\n",
       "      <td>150532.0</td>\n",
       "      <td>2018-11-22 07:44:40</td>\n",
       "      <td>116.45,39.86</td>\n",
       "      <td>116.43,39.91</td>\n",
       "    </tr>\n",
       "  </tbody>\n",
       "</table>\n",
       "</div>"
      ],
      "text/plain": [
       "            sid       pid             req_time             o             d\n",
       "283203  2511340  116244.0  2018-10-07 11:27:12  116.38,39.91  116.37,39.86\n",
       "10925   2880572  104143.0  2018-11-17 14:40:58  116.53,39.92  116.13,39.72\n",
       "335904  3324688       NaN  2018-10-16 08:22:54  116.40,39.90  116.39,39.92\n",
       "46208   2554325       NaN  2018-11-19 15:11:20  116.35,39.91  116.39,39.89\n",
       "162044  1216978  150532.0  2018-11-22 07:44:40  116.45,39.86  116.43,39.91"
      ]
     },
     "execution_count": 15,
     "metadata": {},
     "output_type": "execute_result"
    }
   ],
   "source": [
    "df_train.sample(5)"
   ]
  },
  {
   "cell_type": "code",
   "execution_count": 16,
   "metadata": {},
   "outputs": [],
   "source": [
    "df_train['req_time'] = pd.to_datetime(df_train['req_time'])"
   ]
  },
  {
   "cell_type": "code",
   "execution_count": 17,
   "metadata": {},
   "outputs": [],
   "source": [
    "df_train['req_date'] = df_train['req_time'].dt.strftime('%m-%d')"
   ]
  },
  {
   "cell_type": "code",
   "execution_count": 18,
   "metadata": {},
   "outputs": [
    {
     "data": {
      "text/html": [
       "<div>\n",
       "<style scoped>\n",
       "    .dataframe tbody tr th:only-of-type {\n",
       "        vertical-align: middle;\n",
       "    }\n",
       "\n",
       "    .dataframe tbody tr th {\n",
       "        vertical-align: top;\n",
       "    }\n",
       "\n",
       "    .dataframe thead th {\n",
       "        text-align: right;\n",
       "    }\n",
       "</style>\n",
       "<table border=\"1\" class=\"dataframe\">\n",
       "  <thead>\n",
       "    <tr style=\"text-align: right;\">\n",
       "      <th></th>\n",
       "      <th>sid</th>\n",
       "      <th>pid</th>\n",
       "      <th>req_time</th>\n",
       "      <th>o</th>\n",
       "      <th>d</th>\n",
       "      <th>req_date</th>\n",
       "    </tr>\n",
       "  </thead>\n",
       "  <tbody>\n",
       "    <tr>\n",
       "      <th>172865</th>\n",
       "      <td>1941626</td>\n",
       "      <td>214416.0</td>\n",
       "      <td>2018-10-11 09:16:52</td>\n",
       "      <td>116.25,40.07</td>\n",
       "      <td>116.32,39.89</td>\n",
       "      <td>10-11</td>\n",
       "    </tr>\n",
       "    <tr>\n",
       "      <th>300179</th>\n",
       "      <td>63314</td>\n",
       "      <td>NaN</td>\n",
       "      <td>2018-10-31 18:27:48</td>\n",
       "      <td>116.29,39.96</td>\n",
       "      <td>116.45,39.93</td>\n",
       "      <td>10-31</td>\n",
       "    </tr>\n",
       "    <tr>\n",
       "      <th>288081</th>\n",
       "      <td>1531986</td>\n",
       "      <td>NaN</td>\n",
       "      <td>2018-11-28 10:35:55</td>\n",
       "      <td>116.66,39.89</td>\n",
       "      <td>116.44,39.91</td>\n",
       "      <td>11-28</td>\n",
       "    </tr>\n",
       "    <tr>\n",
       "      <th>456486</th>\n",
       "      <td>2840818</td>\n",
       "      <td>144374.0</td>\n",
       "      <td>2018-11-17 20:40:40</td>\n",
       "      <td>116.51,39.94</td>\n",
       "      <td>116.39,39.91</td>\n",
       "      <td>11-17</td>\n",
       "    </tr>\n",
       "    <tr>\n",
       "      <th>282455</th>\n",
       "      <td>1834471</td>\n",
       "      <td>112198.0</td>\n",
       "      <td>2018-11-03 00:12:39</td>\n",
       "      <td>116.65,39.87</td>\n",
       "      <td>116.32,39.89</td>\n",
       "      <td>11-03</td>\n",
       "    </tr>\n",
       "  </tbody>\n",
       "</table>\n",
       "</div>"
      ],
      "text/plain": [
       "            sid       pid            req_time             o             d  \\\n",
       "172865  1941626  214416.0 2018-10-11 09:16:52  116.25,40.07  116.32,39.89   \n",
       "300179    63314       NaN 2018-10-31 18:27:48  116.29,39.96  116.45,39.93   \n",
       "288081  1531986       NaN 2018-11-28 10:35:55  116.66,39.89  116.44,39.91   \n",
       "456486  2840818  144374.0 2018-11-17 20:40:40  116.51,39.94  116.39,39.91   \n",
       "282455  1834471  112198.0 2018-11-03 00:12:39  116.65,39.87  116.32,39.89   \n",
       "\n",
       "       req_date  \n",
       "172865    10-11  \n",
       "300179    10-31  \n",
       "288081    11-28  \n",
       "456486    11-17  \n",
       "282455    11-03  "
      ]
     },
     "execution_count": 18,
     "metadata": {},
     "output_type": "execute_result"
    }
   ],
   "source": [
    "df_train.sample(5)"
   ]
  },
  {
   "cell_type": "code",
   "execution_count": 21,
   "metadata": {},
   "outputs": [],
   "source": [
    "df_train['max_temp'] = df_train['req_date'].apply(lambda r: weather_dict[r]['max_temp'])\n",
    "df_train['min_temp'] = df_train['req_date'].apply(lambda r: weather_dict[r]['min_temp'])\n",
    "df_train['weather'] = df_train['req_date'].apply(lambda r: weather_dict[r]['weather'])\n",
    "df_train['wind'] = df_train['req_date'].apply(lambda r: weather_dict[r]['wind'])"
   ]
  },
  {
   "cell_type": "code",
   "execution_count": 22,
   "metadata": {},
   "outputs": [
    {
     "data": {
      "text/html": [
       "<div>\n",
       "<style scoped>\n",
       "    .dataframe tbody tr th:only-of-type {\n",
       "        vertical-align: middle;\n",
       "    }\n",
       "\n",
       "    .dataframe tbody tr th {\n",
       "        vertical-align: top;\n",
       "    }\n",
       "\n",
       "    .dataframe thead th {\n",
       "        text-align: right;\n",
       "    }\n",
       "</style>\n",
       "<table border=\"1\" class=\"dataframe\">\n",
       "  <thead>\n",
       "    <tr style=\"text-align: right;\">\n",
       "      <th></th>\n",
       "      <th>sid</th>\n",
       "      <th>pid</th>\n",
       "      <th>req_time</th>\n",
       "      <th>o</th>\n",
       "      <th>d</th>\n",
       "      <th>req_date</th>\n",
       "      <th>max_temp</th>\n",
       "      <th>min_temp</th>\n",
       "      <th>weather</th>\n",
       "      <th>wind</th>\n",
       "    </tr>\n",
       "  </thead>\n",
       "  <tbody>\n",
       "    <tr>\n",
       "      <th>334720</th>\n",
       "      <td>967496</td>\n",
       "      <td>NaN</td>\n",
       "      <td>2018-10-24 18:26:34</td>\n",
       "      <td>116.38,39.94</td>\n",
       "      <td>116.45,39.87</td>\n",
       "      <td>10-24</td>\n",
       "      <td>20</td>\n",
       "      <td>6</td>\n",
       "      <td>qdy</td>\n",
       "      <td>12</td>\n",
       "    </tr>\n",
       "    <tr>\n",
       "      <th>449627</th>\n",
       "      <td>3074310</td>\n",
       "      <td>NaN</td>\n",
       "      <td>2018-11-16 16:50:27</td>\n",
       "      <td>116.36,39.84</td>\n",
       "      <td>116.38,39.89</td>\n",
       "      <td>11-16</td>\n",
       "      <td>8</td>\n",
       "      <td>-1</td>\n",
       "      <td>q</td>\n",
       "      <td>12</td>\n",
       "    </tr>\n",
       "    <tr>\n",
       "      <th>93394</th>\n",
       "      <td>2992468</td>\n",
       "      <td>129567.0</td>\n",
       "      <td>2018-11-02 01:03:21</td>\n",
       "      <td>116.56,40.13</td>\n",
       "      <td>116.40,39.90</td>\n",
       "      <td>11-02</td>\n",
       "      <td>18</td>\n",
       "      <td>4</td>\n",
       "      <td>q</td>\n",
       "      <td>12</td>\n",
       "    </tr>\n",
       "    <tr>\n",
       "      <th>365664</th>\n",
       "      <td>2753880</td>\n",
       "      <td>109311.0</td>\n",
       "      <td>2018-10-18 14:55:45</td>\n",
       "      <td>116.27,39.90</td>\n",
       "      <td>116.47,39.91</td>\n",
       "      <td>10-18</td>\n",
       "      <td>18</td>\n",
       "      <td>5</td>\n",
       "      <td>q</td>\n",
       "      <td>12</td>\n",
       "    </tr>\n",
       "    <tr>\n",
       "      <th>159999</th>\n",
       "      <td>2088306</td>\n",
       "      <td>NaN</td>\n",
       "      <td>2018-11-18 18:03:04</td>\n",
       "      <td>116.48,39.99</td>\n",
       "      <td>116.45,39.92</td>\n",
       "      <td>11-18</td>\n",
       "      <td>11</td>\n",
       "      <td>-3</td>\n",
       "      <td>q</td>\n",
       "      <td>34</td>\n",
       "    </tr>\n",
       "  </tbody>\n",
       "</table>\n",
       "</div>"
      ],
      "text/plain": [
       "            sid       pid            req_time             o             d  \\\n",
       "334720   967496       NaN 2018-10-24 18:26:34  116.38,39.94  116.45,39.87   \n",
       "449627  3074310       NaN 2018-11-16 16:50:27  116.36,39.84  116.38,39.89   \n",
       "93394   2992468  129567.0 2018-11-02 01:03:21  116.56,40.13  116.40,39.90   \n",
       "365664  2753880  109311.0 2018-10-18 14:55:45  116.27,39.90  116.47,39.91   \n",
       "159999  2088306       NaN 2018-11-18 18:03:04  116.48,39.99  116.45,39.92   \n",
       "\n",
       "       req_date max_temp min_temp weather wind  \n",
       "334720    10-24       20        6     qdy   12  \n",
       "449627    11-16        8       -1       q   12  \n",
       "93394     11-02       18        4       q   12  \n",
       "365664    10-18       18        5       q   12  \n",
       "159999    11-18       11       -3       q   34  "
      ]
     },
     "execution_count": 22,
     "metadata": {},
     "output_type": "execute_result"
    }
   ],
   "source": [
    "df_train.sample(5)"
   ]
  },
  {
   "cell_type": "code",
   "execution_count": null,
   "metadata": {},
   "outputs": [],
   "source": []
  }
 ],
 "metadata": {
  "kernelspec": {
   "display_name": "Python 3",
   "language": "python",
   "name": "python3"
  },
  "language_info": {
   "codemirror_mode": {
    "name": "ipython",
    "version": 3
   },
   "file_extension": ".py",
   "mimetype": "text/x-python",
   "name": "python",
   "nbconvert_exporter": "python",
   "pygments_lexer": "ipython3",
   "version": "3.7.3"
  }
 },
 "nbformat": 4,
 "nbformat_minor": 2
}
